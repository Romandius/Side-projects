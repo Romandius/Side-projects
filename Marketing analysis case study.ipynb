{
 "cells": [
  {
   "cell_type": "markdown",
   "id": "99ef5da7",
   "metadata": {},
   "source": [
    "# Pepper.com case study\n"
   ]
  },
  {
   "cell_type": "markdown",
   "id": "e30d42dc",
   "metadata": {},
   "source": [
    "### task"
   ]
  },
  {
   "cell_type": "markdown",
   "id": "4f6fc3e0",
   "metadata": {},
   "source": [
    "1. General Marketing analytics questions.\n",
    "\n",
    "  a. What could be, in your opinion, the top 3 reasons why Pepper users churn?\n",
    "  \n",
    "  b. How would you proceed to verify this hypothesis? Please explain your steps, the tools you would use, and what you would do with your conclusion.\n",
    "  \n",
    "  c. The Head of Marketing asks you for help: he needs to assign the marketing budget for the next year and would like to make a data-informed decision. What would be your process to answer his question? What data would you need to give him solid recommendations? How would you set priorities?\n",
    "\n",
    "\n",
    "2. Please have a look at the attached data sample. It shows you the paid user (users we acquired through paid campaigns) activity on our app over 7 days. Write a SQL query to generate user cohorts from this table. What conclusions can you draw from these cohorts?\n"
   ]
  },
  {
   "cell_type": "code",
   "execution_count": 1,
   "id": "08e1087a",
   "metadata": {},
   "outputs": [],
   "source": [
    "import pandas as pd\n",
    "import seaborn as sns\n",
    "from matplotlib import pyplot as plt\n",
    "import numpy as np\n",
    "import math\n",
    "from scipy import stats as st\n",
    "from IPython.display import Markdown as md\n",
    "import warnings\n",
    "warnings.simplefilter(\"ignore\")"
   ]
  },
  {
   "cell_type": "markdown",
   "id": "62c1b42a",
   "metadata": {},
   "source": [
    "## Data preparation "
   ]
  },
  {
   "cell_type": "code",
   "execution_count": 2,
   "id": "8b58ca73",
   "metadata": {},
   "outputs": [],
   "source": [
    "df = pd.read_excel('Case study for Marketing Data Analyst - Data sample.xlsx')"
   ]
  },
  {
   "cell_type": "code",
   "execution_count": 3,
   "id": "b8dd0a75",
   "metadata": {},
   "outputs": [
    {
     "data": {
      "text/html": [
       "<div>\n",
       "<style scoped>\n",
       "    .dataframe tbody tr th:only-of-type {\n",
       "        vertical-align: middle;\n",
       "    }\n",
       "\n",
       "    .dataframe tbody tr th {\n",
       "        vertical-align: top;\n",
       "    }\n",
       "\n",
       "    .dataframe thead th {\n",
       "        text-align: right;\n",
       "    }\n",
       "</style>\n",
       "<table border=\"1\" class=\"dataframe\">\n",
       "  <thead>\n",
       "    <tr style=\"text-align: right;\">\n",
       "      <th></th>\n",
       "      <th>activity</th>\n",
       "      <th>network</th>\n",
       "      <th>event_date</th>\n",
       "      <th>installed_at</th>\n",
       "      <th>device</th>\n",
       "    </tr>\n",
       "  </thead>\n",
       "  <tbody>\n",
       "    <tr>\n",
       "      <th>0</th>\n",
       "      <td>session</td>\n",
       "      <td>Google Ads ACI</td>\n",
       "      <td>2022-03-24</td>\n",
       "      <td>2022-03-22 09:58:00</td>\n",
       "      <td>id_232</td>\n",
       "    </tr>\n",
       "    <tr>\n",
       "      <th>1</th>\n",
       "      <td>session</td>\n",
       "      <td>Google Ads ACI</td>\n",
       "      <td>2022-03-24</td>\n",
       "      <td>2022-03-18 12:43:15</td>\n",
       "      <td>id_053</td>\n",
       "    </tr>\n",
       "    <tr>\n",
       "      <th>2</th>\n",
       "      <td>install</td>\n",
       "      <td>Google Ads ACI</td>\n",
       "      <td>2022-03-24</td>\n",
       "      <td>2022-03-23 23:20:10</td>\n",
       "      <td>id_093</td>\n",
       "    </tr>\n",
       "    <tr>\n",
       "      <th>3</th>\n",
       "      <td>install</td>\n",
       "      <td>Facebook</td>\n",
       "      <td>2022-03-24</td>\n",
       "      <td>2022-03-23 23:26:14</td>\n",
       "      <td>id_357</td>\n",
       "    </tr>\n",
       "    <tr>\n",
       "      <th>4</th>\n",
       "      <td>session</td>\n",
       "      <td>Google Ads ACI</td>\n",
       "      <td>2022-03-24</td>\n",
       "      <td>2022-03-21 18:03:13</td>\n",
       "      <td>id_427</td>\n",
       "    </tr>\n",
       "  </tbody>\n",
       "</table>\n",
       "</div>"
      ],
      "text/plain": [
       "  activity         network event_date        installed_at  device\n",
       "0  session  Google Ads ACI 2022-03-24 2022-03-22 09:58:00  id_232\n",
       "1  session  Google Ads ACI 2022-03-24 2022-03-18 12:43:15  id_053\n",
       "2  install  Google Ads ACI 2022-03-24 2022-03-23 23:20:10  id_093\n",
       "3  install        Facebook 2022-03-24 2022-03-23 23:26:14  id_357\n",
       "4  session  Google Ads ACI 2022-03-24 2022-03-21 18:03:13  id_427"
      ]
     },
     "execution_count": 3,
     "metadata": {},
     "output_type": "execute_result"
    }
   ],
   "source": [
    "df.head()"
   ]
  },
  {
   "cell_type": "code",
   "execution_count": 4,
   "id": "e5020fbb",
   "metadata": {},
   "outputs": [
    {
     "name": "stdout",
     "output_type": "stream",
     "text": [
      "<class 'pandas.core.frame.DataFrame'>\n",
      "RangeIndex: 611 entries, 0 to 610\n",
      "Data columns (total 5 columns):\n",
      " #   Column        Non-Null Count  Dtype         \n",
      "---  ------        --------------  -----         \n",
      " 0   activity      611 non-null    object        \n",
      " 1   network       611 non-null    object        \n",
      " 2   event_date    611 non-null    datetime64[ns]\n",
      " 3   installed_at  611 non-null    datetime64[ns]\n",
      " 4   device        611 non-null    object        \n",
      "dtypes: datetime64[ns](2), object(3)\n",
      "memory usage: 24.0+ KB\n"
     ]
    }
   ],
   "source": [
    "df.info()"
   ]
  },
  {
   "cell_type": "markdown",
   "id": "4756aa56",
   "metadata": {},
   "source": [
    "probably no missies, all data is in rught format, the only thing that can be done is to check the way of prononciation of unique words in cells to see if they create an overlap."
   ]
  },
  {
   "cell_type": "markdown",
   "id": "c97db8c9",
   "metadata": {},
   "source": [
    "for that i am going to use a loop, checking unique values in all columns."
   ]
  },
  {
   "cell_type": "code",
   "execution_count": 52,
   "id": "dc594423",
   "metadata": {},
   "outputs": [],
   "source": [
    "list_of_columns = ['activity',\n",
    " 'network',\n",
    " 'event_date']"
   ]
  },
  {
   "cell_type": "code",
   "execution_count": 53,
   "id": "3982e923",
   "metadata": {},
   "outputs": [
    {
     "name": "stdout",
     "output_type": "stream",
     "text": [
      "activity\n",
      "['session' 'install']\n",
      "--------------------------------------------------\n",
      "\n",
      "network\n",
      "['Google Ads ACI' 'Facebook' 'TikTok']\n",
      "--------------------------------------------------\n",
      "\n",
      "event_date\n",
      "['2022-03-24' '2022-03-23' '2022-03-22' '2022-03-21' '2022-03-20'\n",
      " '2022-03-19' '2022-03-18']\n",
      "--------------------------------------------------\n",
      "\n"
     ]
    }
   ],
   "source": [
    "for j in list_of_columns:\n",
    "    print(j)\n",
    "    print(df[j].unique())\n",
    "    print('--------------------------------------------------')\n",
    "    print('')"
   ]
  },
  {
   "cell_type": "code",
   "execution_count": 6,
   "id": "7a418235",
   "metadata": {},
   "outputs": [],
   "source": [
    "df = df.drop_duplicates()"
   ]
  },
  {
   "cell_type": "markdown",
   "id": "47d9b068",
   "metadata": {},
   "source": [
    "Seems like everything is just fine"
   ]
  },
  {
   "cell_type": "markdown",
   "id": "2b88272a",
   "metadata": {},
   "source": [
    "## Analysis"
   ]
  },
  {
   "cell_type": "markdown",
   "id": "e03af01a",
   "metadata": {},
   "source": [
    "Let's try to answer first question: **What could be, in your opinion, the top 3 reasons why Pepper users churn?**\n",
    "\n"
   ]
  },
  {
   "cell_type": "code",
   "execution_count": 7,
   "id": "ec299637",
   "metadata": {},
   "outputs": [],
   "source": [
    "first_activity_date = df.groupby('device')['event_date'].min()\n",
    "first_activity_date.name = 'first_activity_date'\n",
    "df = df.join(first_activity_date,on='device')"
   ]
  },
  {
   "cell_type": "code",
   "execution_count": 8,
   "id": "2f72992a",
   "metadata": {},
   "outputs": [
    {
     "data": {
      "text/plain": [
       "572"
      ]
     },
     "execution_count": 8,
     "metadata": {},
     "output_type": "execute_result"
    }
   ],
   "source": [
    "df['device'].nunique()"
   ]
  },
  {
   "cell_type": "code",
   "execution_count": 9,
   "id": "c42e6b0f",
   "metadata": {},
   "outputs": [],
   "source": [
    "ratio = (len(df['device'])  - df['device'].nunique())/len(df['device']) "
   ]
  },
  {
   "cell_type": "code",
   "execution_count": 10,
   "id": "538ce84c",
   "metadata": {},
   "outputs": [
    {
     "data": {
      "text/markdown": [
       "Retention is 6% "
      ],
      "text/plain": [
       "<IPython.core.display.Markdown object>"
      ]
     },
     "execution_count": 10,
     "metadata": {},
     "output_type": "execute_result"
    }
   ],
   "source": [
    "md(\"Retention is {} \".format((\"{:.0%}\".format(ratio))))"
   ]
  },
  {
   "cell_type": "markdown",
   "id": "7bb6d084",
   "metadata": {},
   "source": [
    "Here we have 572 unique device id's out of 611 records in the table"
   ]
  },
  {
   "cell_type": "code",
   "execution_count": 11,
   "id": "1b0dffec",
   "metadata": {},
   "outputs": [],
   "source": [
    "converted = df.groupby('device')['installed_at'].count()\n",
    "converted.name = 'number_of_uses'\n",
    "df = df.join(converted , on='device')"
   ]
  },
  {
   "cell_type": "code",
   "execution_count": 12,
   "id": "2aeba802",
   "metadata": {},
   "outputs": [],
   "source": [
    "df_converted = df[df['number_of_uses'] != 1]"
   ]
  },
  {
   "cell_type": "code",
   "execution_count": 13,
   "id": "6a617ae3",
   "metadata": {},
   "outputs": [
    {
     "data": {
      "text/html": [
       "<div>\n",
       "<style scoped>\n",
       "    .dataframe tbody tr th:only-of-type {\n",
       "        vertical-align: middle;\n",
       "    }\n",
       "\n",
       "    .dataframe tbody tr th {\n",
       "        vertical-align: top;\n",
       "    }\n",
       "\n",
       "    .dataframe thead th {\n",
       "        text-align: right;\n",
       "    }\n",
       "</style>\n",
       "<table border=\"1\" class=\"dataframe\">\n",
       "  <thead>\n",
       "    <tr style=\"text-align: right;\">\n",
       "      <th></th>\n",
       "      <th>activity</th>\n",
       "      <th>network</th>\n",
       "      <th>event_date</th>\n",
       "      <th>installed_at</th>\n",
       "      <th>device</th>\n",
       "      <th>first_activity_date</th>\n",
       "      <th>number_of_uses</th>\n",
       "    </tr>\n",
       "  </thead>\n",
       "  <tbody>\n",
       "    <tr>\n",
       "      <th>277</th>\n",
       "      <td>session</td>\n",
       "      <td>Google Ads ACI</td>\n",
       "      <td>2022-03-22</td>\n",
       "      <td>2022-03-20 00:38:21</td>\n",
       "      <td>id_553</td>\n",
       "      <td>2022-03-22</td>\n",
       "      <td>2</td>\n",
       "    </tr>\n",
       "    <tr>\n",
       "      <th>211</th>\n",
       "      <td>session</td>\n",
       "      <td>Google Ads ACI</td>\n",
       "      <td>2022-03-23</td>\n",
       "      <td>2022-03-20 00:38:21</td>\n",
       "      <td>id_553</td>\n",
       "      <td>2022-03-22</td>\n",
       "      <td>2</td>\n",
       "    </tr>\n",
       "  </tbody>\n",
       "</table>\n",
       "</div>"
      ],
      "text/plain": [
       "    activity         network event_date        installed_at  device  \\\n",
       "277  session  Google Ads ACI 2022-03-22 2022-03-20 00:38:21  id_553   \n",
       "211  session  Google Ads ACI 2022-03-23 2022-03-20 00:38:21  id_553   \n",
       "\n",
       "    first_activity_date  number_of_uses  \n",
       "277          2022-03-22               2  \n",
       "211          2022-03-22               2  "
      ]
     },
     "execution_count": 13,
     "metadata": {},
     "output_type": "execute_result"
    }
   ],
   "source": [
    "random_id = df_converted['device'].sample().values[0]\n",
    "df_converted.query(\"device == @random_id\").sort_values(by='event_date', ascending=True)"
   ]
  },
  {
   "cell_type": "markdown",
   "id": "6fd026f4",
   "metadata": {},
   "source": [
    "This is an axample of one of those several times mentioned device, just to check if everything works fine"
   ]
  },
  {
   "cell_type": "markdown",
   "id": "04b27491",
   "metadata": {},
   "source": [
    "as first installation date and first event date do not match each other, i wont to check if it works in a same way for the activity type \"install\""
   ]
  },
  {
   "cell_type": "code",
   "execution_count": 14,
   "id": "b482dfc3",
   "metadata": {},
   "outputs": [],
   "source": [
    "df['retention'] = (df['number_of_uses'] > 1)\n",
    "df = df[['activity', 'network', 'event_date', 'installed_at', 'first_activity_date', 'device', 'retention']]"
   ]
  },
  {
   "cell_type": "code",
   "execution_count": 15,
   "id": "bcb15fcd",
   "metadata": {},
   "outputs": [
    {
     "data": {
      "text/html": [
       "<div>\n",
       "<style scoped>\n",
       "    .dataframe tbody tr th:only-of-type {\n",
       "        vertical-align: middle;\n",
       "    }\n",
       "\n",
       "    .dataframe tbody tr th {\n",
       "        vertical-align: top;\n",
       "    }\n",
       "\n",
       "    .dataframe thead th {\n",
       "        text-align: right;\n",
       "    }\n",
       "</style>\n",
       "<table border=\"1\" class=\"dataframe\">\n",
       "  <thead>\n",
       "    <tr style=\"text-align: right;\">\n",
       "      <th></th>\n",
       "      <th>activity</th>\n",
       "      <th>network</th>\n",
       "      <th>event_date</th>\n",
       "      <th>installed_at</th>\n",
       "      <th>first_activity_date</th>\n",
       "      <th>device</th>\n",
       "      <th>retention</th>\n",
       "    </tr>\n",
       "  </thead>\n",
       "  <tbody>\n",
       "    <tr>\n",
       "      <th>2</th>\n",
       "      <td>install</td>\n",
       "      <td>Google Ads ACI</td>\n",
       "      <td>2022-03-24</td>\n",
       "      <td>2022-03-23 23:20:10</td>\n",
       "      <td>2022-03-24</td>\n",
       "      <td>id_093</td>\n",
       "      <td>False</td>\n",
       "    </tr>\n",
       "    <tr>\n",
       "      <th>3</th>\n",
       "      <td>install</td>\n",
       "      <td>Facebook</td>\n",
       "      <td>2022-03-24</td>\n",
       "      <td>2022-03-23 23:26:14</td>\n",
       "      <td>2022-03-24</td>\n",
       "      <td>id_357</td>\n",
       "      <td>False</td>\n",
       "    </tr>\n",
       "    <tr>\n",
       "      <th>5</th>\n",
       "      <td>install</td>\n",
       "      <td>Facebook</td>\n",
       "      <td>2022-03-24</td>\n",
       "      <td>2022-03-23 23:23:38</td>\n",
       "      <td>2022-03-24</td>\n",
       "      <td>id_309</td>\n",
       "      <td>False</td>\n",
       "    </tr>\n",
       "    <tr>\n",
       "      <th>6</th>\n",
       "      <td>install</td>\n",
       "      <td>TikTok</td>\n",
       "      <td>2022-03-24</td>\n",
       "      <td>2022-03-23 23:18:02</td>\n",
       "      <td>2022-03-24</td>\n",
       "      <td>id_022</td>\n",
       "      <td>False</td>\n",
       "    </tr>\n",
       "    <tr>\n",
       "      <th>7</th>\n",
       "      <td>install</td>\n",
       "      <td>Google Ads ACI</td>\n",
       "      <td>2022-03-24</td>\n",
       "      <td>2022-03-23 23:57:00</td>\n",
       "      <td>2022-03-24</td>\n",
       "      <td>id_359</td>\n",
       "      <td>False</td>\n",
       "    </tr>\n",
       "    <tr>\n",
       "      <th>...</th>\n",
       "      <td>...</td>\n",
       "      <td>...</td>\n",
       "      <td>...</td>\n",
       "      <td>...</td>\n",
       "      <td>...</td>\n",
       "      <td>...</td>\n",
       "      <td>...</td>\n",
       "    </tr>\n",
       "    <tr>\n",
       "      <th>601</th>\n",
       "      <td>install</td>\n",
       "      <td>Google Ads ACI</td>\n",
       "      <td>2022-03-18</td>\n",
       "      <td>2022-03-17 23:48:09</td>\n",
       "      <td>2022-03-18</td>\n",
       "      <td>id_014</td>\n",
       "      <td>False</td>\n",
       "    </tr>\n",
       "    <tr>\n",
       "      <th>603</th>\n",
       "      <td>install</td>\n",
       "      <td>Google Ads ACI</td>\n",
       "      <td>2022-03-18</td>\n",
       "      <td>2022-03-17 23:21:04</td>\n",
       "      <td>2022-03-18</td>\n",
       "      <td>id_204</td>\n",
       "      <td>False</td>\n",
       "    </tr>\n",
       "    <tr>\n",
       "      <th>605</th>\n",
       "      <td>install</td>\n",
       "      <td>Google Ads ACI</td>\n",
       "      <td>2022-03-18</td>\n",
       "      <td>2022-03-17 23:12:30</td>\n",
       "      <td>2022-03-18</td>\n",
       "      <td>id_086</td>\n",
       "      <td>False</td>\n",
       "    </tr>\n",
       "    <tr>\n",
       "      <th>609</th>\n",
       "      <td>install</td>\n",
       "      <td>Facebook</td>\n",
       "      <td>2022-03-18</td>\n",
       "      <td>2022-03-17 23:36:14</td>\n",
       "      <td>2022-03-18</td>\n",
       "      <td>id_307</td>\n",
       "      <td>False</td>\n",
       "    </tr>\n",
       "    <tr>\n",
       "      <th>610</th>\n",
       "      <td>install</td>\n",
       "      <td>Google Ads ACI</td>\n",
       "      <td>2022-03-18</td>\n",
       "      <td>2022-03-17 23:08:49</td>\n",
       "      <td>2022-03-18</td>\n",
       "      <td>id_276</td>\n",
       "      <td>False</td>\n",
       "    </tr>\n",
       "  </tbody>\n",
       "</table>\n",
       "<p>351 rows × 7 columns</p>\n",
       "</div>"
      ],
      "text/plain": [
       "    activity         network event_date        installed_at  \\\n",
       "2    install  Google Ads ACI 2022-03-24 2022-03-23 23:20:10   \n",
       "3    install        Facebook 2022-03-24 2022-03-23 23:26:14   \n",
       "5    install        Facebook 2022-03-24 2022-03-23 23:23:38   \n",
       "6    install          TikTok 2022-03-24 2022-03-23 23:18:02   \n",
       "7    install  Google Ads ACI 2022-03-24 2022-03-23 23:57:00   \n",
       "..       ...             ...        ...                 ...   \n",
       "601  install  Google Ads ACI 2022-03-18 2022-03-17 23:48:09   \n",
       "603  install  Google Ads ACI 2022-03-18 2022-03-17 23:21:04   \n",
       "605  install  Google Ads ACI 2022-03-18 2022-03-17 23:12:30   \n",
       "609  install        Facebook 2022-03-18 2022-03-17 23:36:14   \n",
       "610  install  Google Ads ACI 2022-03-18 2022-03-17 23:08:49   \n",
       "\n",
       "    first_activity_date  device  retention  \n",
       "2            2022-03-24  id_093      False  \n",
       "3            2022-03-24  id_357      False  \n",
       "5            2022-03-24  id_309      False  \n",
       "6            2022-03-24  id_022      False  \n",
       "7            2022-03-24  id_359      False  \n",
       "..                  ...     ...        ...  \n",
       "601          2022-03-18  id_014      False  \n",
       "603          2022-03-18  id_204      False  \n",
       "605          2022-03-18  id_086      False  \n",
       "609          2022-03-18  id_307      False  \n",
       "610          2022-03-18  id_276      False  \n",
       "\n",
       "[351 rows x 7 columns]"
      ]
     },
     "execution_count": 15,
     "metadata": {},
     "output_type": "execute_result"
    }
   ],
   "source": [
    "df[df['activity'] == \"install\"]"
   ]
  },
  {
   "cell_type": "code",
   "execution_count": 16,
   "id": "e835f429",
   "metadata": {},
   "outputs": [],
   "source": [
    "df['time_diff_hour'] = ( df['installed_at'] - df['first_activity_date'] ) / np.timedelta64(1, 'h')"
   ]
  },
  {
   "cell_type": "code",
   "execution_count": 17,
   "id": "d6cd1ada",
   "metadata": {},
   "outputs": [
    {
     "data": {
      "text/plain": [
       "<AxesSubplot:>"
      ]
     },
     "execution_count": 17,
     "metadata": {},
     "output_type": "execute_result"
    },
    {
     "data": {
      "image/png": "[encoded data removed]",
      "text/plain": [
       "<Figure size 432x288 with 1 Axes>"
      ]
     },
     "metadata": {
      "needs_background": "light"
     },
     "output_type": "display_data"
    }
   ],
   "source": [
    "df['time_diff_hour'].hist(bins=5)"
   ]
  },
  {
   "cell_type": "code",
   "execution_count": 18,
   "id": "532fe4c5",
   "metadata": {},
   "outputs": [
    {
     "data": {
      "text/plain": [
       "-0.9044444444444445"
      ]
     },
     "execution_count": 18,
     "metadata": {},
     "output_type": "execute_result"
    }
   ],
   "source": [
    "df['time_diff_hour'].median()"
   ]
  },
  {
   "cell_type": "code",
   "execution_count": 19,
   "id": "7a46ac5c",
   "metadata": {},
   "outputs": [
    {
     "data": {
      "text/html": [
       "<div>\n",
       "<style scoped>\n",
       "    .dataframe tbody tr th:only-of-type {\n",
       "        vertical-align: middle;\n",
       "    }\n",
       "\n",
       "    .dataframe tbody tr th {\n",
       "        vertical-align: top;\n",
       "    }\n",
       "\n",
       "    .dataframe thead th {\n",
       "        text-align: right;\n",
       "    }\n",
       "</style>\n",
       "<table border=\"1\" class=\"dataframe\">\n",
       "  <thead>\n",
       "    <tr style=\"text-align: right;\">\n",
       "      <th></th>\n",
       "      <th>activity</th>\n",
       "      <th>network</th>\n",
       "      <th>event_date</th>\n",
       "      <th>installed_at</th>\n",
       "      <th>first_activity_date</th>\n",
       "      <th>device</th>\n",
       "      <th>retention</th>\n",
       "      <th>time_diff_hour</th>\n",
       "    </tr>\n",
       "  </thead>\n",
       "  <tbody>\n",
       "  </tbody>\n",
       "</table>\n",
       "</div>"
      ],
      "text/plain": [
       "Empty DataFrame\n",
       "Columns: [activity, network, event_date, installed_at, first_activity_date, device, retention, time_diff_hour]\n",
       "Index: []"
      ]
     },
     "execution_count": 19,
     "metadata": {},
     "output_type": "execute_result"
    }
   ],
   "source": [
    "df[df['time_diff_hour'] > 0]"
   ]
  },
  {
   "cell_type": "code",
   "execution_count": 20,
   "id": "af7a5a6d",
   "metadata": {},
   "outputs": [
    {
     "data": {
      "text/html": [
       "<div>\n",
       "<style scoped>\n",
       "    .dataframe tbody tr th:only-of-type {\n",
       "        vertical-align: middle;\n",
       "    }\n",
       "\n",
       "    .dataframe tbody tr th {\n",
       "        vertical-align: top;\n",
       "    }\n",
       "\n",
       "    .dataframe thead th {\n",
       "        text-align: right;\n",
       "    }\n",
       "</style>\n",
       "<table border=\"1\" class=\"dataframe\">\n",
       "  <thead>\n",
       "    <tr style=\"text-align: right;\">\n",
       "      <th></th>\n",
       "      <th>activity</th>\n",
       "      <th>network</th>\n",
       "      <th>event_date</th>\n",
       "      <th>installed_at</th>\n",
       "      <th>first_activity_date</th>\n",
       "      <th>device</th>\n",
       "      <th>retention</th>\n",
       "      <th>time_diff_hour</th>\n",
       "    </tr>\n",
       "  </thead>\n",
       "  <tbody>\n",
       "    <tr>\n",
       "      <th>0</th>\n",
       "      <td>session</td>\n",
       "      <td>Google Ads ACI</td>\n",
       "      <td>2022-03-24</td>\n",
       "      <td>2022-03-22 09:58:00</td>\n",
       "      <td>2022-03-24</td>\n",
       "      <td>id_232</td>\n",
       "      <td>False</td>\n",
       "      <td>-38.033333</td>\n",
       "    </tr>\n",
       "    <tr>\n",
       "      <th>1</th>\n",
       "      <td>session</td>\n",
       "      <td>Google Ads ACI</td>\n",
       "      <td>2022-03-24</td>\n",
       "      <td>2022-03-18 12:43:15</td>\n",
       "      <td>2022-03-24</td>\n",
       "      <td>id_053</td>\n",
       "      <td>False</td>\n",
       "      <td>-131.279167</td>\n",
       "    </tr>\n",
       "    <tr>\n",
       "      <th>2</th>\n",
       "      <td>install</td>\n",
       "      <td>Google Ads ACI</td>\n",
       "      <td>2022-03-24</td>\n",
       "      <td>2022-03-23 23:20:10</td>\n",
       "      <td>2022-03-24</td>\n",
       "      <td>id_093</td>\n",
       "      <td>False</td>\n",
       "      <td>-0.663889</td>\n",
       "    </tr>\n",
       "    <tr>\n",
       "      <th>3</th>\n",
       "      <td>install</td>\n",
       "      <td>Facebook</td>\n",
       "      <td>2022-03-24</td>\n",
       "      <td>2022-03-23 23:26:14</td>\n",
       "      <td>2022-03-24</td>\n",
       "      <td>id_357</td>\n",
       "      <td>False</td>\n",
       "      <td>-0.562778</td>\n",
       "    </tr>\n",
       "    <tr>\n",
       "      <th>4</th>\n",
       "      <td>session</td>\n",
       "      <td>Google Ads ACI</td>\n",
       "      <td>2022-03-24</td>\n",
       "      <td>2022-03-21 18:03:13</td>\n",
       "      <td>2022-03-24</td>\n",
       "      <td>id_427</td>\n",
       "      <td>False</td>\n",
       "      <td>-53.946389</td>\n",
       "    </tr>\n",
       "    <tr>\n",
       "      <th>...</th>\n",
       "      <td>...</td>\n",
       "      <td>...</td>\n",
       "      <td>...</td>\n",
       "      <td>...</td>\n",
       "      <td>...</td>\n",
       "      <td>...</td>\n",
       "      <td>...</td>\n",
       "      <td>...</td>\n",
       "    </tr>\n",
       "    <tr>\n",
       "      <th>606</th>\n",
       "      <td>session</td>\n",
       "      <td>Google Ads ACI</td>\n",
       "      <td>2022-03-18</td>\n",
       "      <td>2022-03-17 10:20:20</td>\n",
       "      <td>2022-03-18</td>\n",
       "      <td>id_243</td>\n",
       "      <td>False</td>\n",
       "      <td>-13.661111</td>\n",
       "    </tr>\n",
       "    <tr>\n",
       "      <th>607</th>\n",
       "      <td>session</td>\n",
       "      <td>Google Ads ACI</td>\n",
       "      <td>2022-03-18</td>\n",
       "      <td>2022-03-17 19:21:23</td>\n",
       "      <td>2022-03-18</td>\n",
       "      <td>id_385</td>\n",
       "      <td>True</td>\n",
       "      <td>-4.643611</td>\n",
       "    </tr>\n",
       "    <tr>\n",
       "      <th>608</th>\n",
       "      <td>session</td>\n",
       "      <td>Google Ads ACI</td>\n",
       "      <td>2022-03-18</td>\n",
       "      <td>2022-03-17 12:18:12</td>\n",
       "      <td>2022-03-18</td>\n",
       "      <td>id_329</td>\n",
       "      <td>True</td>\n",
       "      <td>-11.696667</td>\n",
       "    </tr>\n",
       "    <tr>\n",
       "      <th>609</th>\n",
       "      <td>install</td>\n",
       "      <td>Facebook</td>\n",
       "      <td>2022-03-18</td>\n",
       "      <td>2022-03-17 23:36:14</td>\n",
       "      <td>2022-03-18</td>\n",
       "      <td>id_307</td>\n",
       "      <td>False</td>\n",
       "      <td>-0.396111</td>\n",
       "    </tr>\n",
       "    <tr>\n",
       "      <th>610</th>\n",
       "      <td>install</td>\n",
       "      <td>Google Ads ACI</td>\n",
       "      <td>2022-03-18</td>\n",
       "      <td>2022-03-17 23:08:49</td>\n",
       "      <td>2022-03-18</td>\n",
       "      <td>id_276</td>\n",
       "      <td>False</td>\n",
       "      <td>-0.853056</td>\n",
       "    </tr>\n",
       "  </tbody>\n",
       "</table>\n",
       "<p>609 rows × 8 columns</p>\n",
       "</div>"
      ],
      "text/plain": [
       "    activity         network event_date        installed_at  \\\n",
       "0    session  Google Ads ACI 2022-03-24 2022-03-22 09:58:00   \n",
       "1    session  Google Ads ACI 2022-03-24 2022-03-18 12:43:15   \n",
       "2    install  Google Ads ACI 2022-03-24 2022-03-23 23:20:10   \n",
       "3    install        Facebook 2022-03-24 2022-03-23 23:26:14   \n",
       "4    session  Google Ads ACI 2022-03-24 2022-03-21 18:03:13   \n",
       "..       ...             ...        ...                 ...   \n",
       "606  session  Google Ads ACI 2022-03-18 2022-03-17 10:20:20   \n",
       "607  session  Google Ads ACI 2022-03-18 2022-03-17 19:21:23   \n",
       "608  session  Google Ads ACI 2022-03-18 2022-03-17 12:18:12   \n",
       "609  install        Facebook 2022-03-18 2022-03-17 23:36:14   \n",
       "610  install  Google Ads ACI 2022-03-18 2022-03-17 23:08:49   \n",
       "\n",
       "    first_activity_date  device  retention  time_diff_hour  \n",
       "0            2022-03-24  id_232      False      -38.033333  \n",
       "1            2022-03-24  id_053      False     -131.279167  \n",
       "2            2022-03-24  id_093      False       -0.663889  \n",
       "3            2022-03-24  id_357      False       -0.562778  \n",
       "4            2022-03-24  id_427      False      -53.946389  \n",
       "..                  ...     ...        ...             ...  \n",
       "606          2022-03-18  id_243      False      -13.661111  \n",
       "607          2022-03-18  id_385       True       -4.643611  \n",
       "608          2022-03-18  id_329       True      -11.696667  \n",
       "609          2022-03-18  id_307      False       -0.396111  \n",
       "610          2022-03-18  id_276      False       -0.853056  \n",
       "\n",
       "[609 rows x 8 columns]"
      ]
     },
     "execution_count": 20,
     "metadata": {},
     "output_type": "execute_result"
    }
   ],
   "source": [
    "df[df['time_diff_hour'] < 0]"
   ]
  },
  {
   "cell_type": "markdown",
   "id": "8a6cc09f",
   "metadata": {},
   "source": [
    "As we can see, the problem is somehow covered under delay of installation time and first event time. And this causes some obstacles, because it doesn't provide me a robust idea of what really is the first time of interaction with the web-page or either app. And all the records have this bias"
   ]
  },
  {
   "cell_type": "code",
   "execution_count": 21,
   "id": "395a81b3",
   "metadata": {},
   "outputs": [
    {
     "data": {
      "text/plain": [
       "7"
      ]
     },
     "execution_count": 21,
     "metadata": {},
     "output_type": "execute_result"
    }
   ],
   "source": [
    "df['event_date'].nunique()"
   ]
  },
  {
   "cell_type": "markdown",
   "id": "0ca4d122",
   "metadata": {},
   "source": [
    "Here we have only 7 unique dates recording events, so it doesn't give us a lot of sapce to create cohorts, but i assume, the idea here is to show, how many people are going to return after first activity, which probably should not be an installation"
   ]
  },
  {
   "cell_type": "markdown",
   "id": "eec42b7a",
   "metadata": {},
   "source": [
    "If we want to receive some interesting figures abour source of churn or on the other side retention, we need to exclude from data all repetative records."
   ]
  },
  {
   "cell_type": "code",
   "execution_count": 22,
   "id": "c7bb8a1e",
   "metadata": {},
   "outputs": [],
   "source": [
    "df_limited = df[df['first_activity_date'] == df['event_date']]"
   ]
  },
  {
   "cell_type": "code",
   "execution_count": 23,
   "id": "c0e6bb61",
   "metadata": {},
   "outputs": [
    {
     "data": {
      "text/plain": [
       "572"
      ]
     },
     "execution_count": 23,
     "metadata": {},
     "output_type": "execute_result"
    }
   ],
   "source": [
    "len(df_limited)"
   ]
  },
  {
   "cell_type": "markdown",
   "id": "5d8e6a8c",
   "metadata": {},
   "source": [
    "this is what we need, now let's dig a little bit further, as all records with two or more sessions are assigned to one network, we dont't lose any important information"
   ]
  },
  {
   "cell_type": "code",
   "execution_count": 24,
   "id": "c8b2c378",
   "metadata": {},
   "outputs": [
    {
     "data": {
      "text/html": [
       "<div>\n",
       "<style scoped>\n",
       "    .dataframe tbody tr th:only-of-type {\n",
       "        vertical-align: middle;\n",
       "    }\n",
       "\n",
       "    .dataframe tbody tr th {\n",
       "        vertical-align: top;\n",
       "    }\n",
       "\n",
       "    .dataframe thead th {\n",
       "        text-align: right;\n",
       "    }\n",
       "</style>\n",
       "<table border=\"1\" class=\"dataframe\">\n",
       "  <thead>\n",
       "    <tr style=\"text-align: right;\">\n",
       "      <th></th>\n",
       "      <th>retention</th>\n",
       "      <th>device</th>\n",
       "    </tr>\n",
       "    <tr>\n",
       "      <th>network</th>\n",
       "      <th></th>\n",
       "      <th></th>\n",
       "    </tr>\n",
       "  </thead>\n",
       "  <tbody>\n",
       "    <tr>\n",
       "      <th>Facebook</th>\n",
       "      <td>0.069444</td>\n",
       "      <td>72</td>\n",
       "    </tr>\n",
       "    <tr>\n",
       "      <th>Google Ads ACI</th>\n",
       "      <td>0.058315</td>\n",
       "      <td>463</td>\n",
       "    </tr>\n",
       "    <tr>\n",
       "      <th>TikTok</th>\n",
       "      <td>0.000000</td>\n",
       "      <td>37</td>\n",
       "    </tr>\n",
       "  </tbody>\n",
       "</table>\n",
       "</div>"
      ],
      "text/plain": [
       "                retention  device\n",
       "network                          \n",
       "Facebook         0.069444      72\n",
       "Google Ads ACI   0.058315     463\n",
       "TikTok           0.000000      37"
      ]
     },
     "execution_count": 24,
     "metadata": {},
     "output_type": "execute_result"
    }
   ],
   "source": [
    "df_limited.groupby('network').agg({'retention': 'mean', 'device': 'nunique'})"
   ]
  },
  {
   "cell_type": "markdown",
   "id": "67445300",
   "metadata": {},
   "source": [
    "So, what we see: Facebook provides 6.9% of retention (on 72 persons), Google Ads - 5.8 (on 463 persons), Tiktok - none (despite the fact is has 37 people in its bag) "
   ]
  },
  {
   "cell_type": "code",
   "execution_count": 25,
   "id": "f9dcb76c",
   "metadata": {},
   "outputs": [],
   "source": [
    "retention_Facebook =  df_limited.query(\"network == 'Facebook'\")['retention']\n",
    "retention_Google_Ads_ACI =  df_limited.query(\"network == 'Google Ads ACI'\")['retention']\n",
    "retention_TikTok =  df_limited.query(\"network == 'TikTok'\")['retention']"
   ]
  },
  {
   "cell_type": "code",
   "execution_count": 26,
   "id": "d36c9e13",
   "metadata": {},
   "outputs": [],
   "source": [
    "def Welchs_t_test(data1, data2):\n",
    "    alpha = 0.05  # critical level of statistical significance\n",
    "\n",
    "    results = st.ttest_ind(data1, data2, equal_var = False)\n",
    "\n",
    "    print('p-value: ', results.pvalue)\n",
    "\n",
    "    if results.pvalue < alpha:\n",
    "        print('We reject the null hypothesis: the difference is statistically significant')\n",
    "    else:\n",
    "        print(\n",
    "            'Cannot reject null hypothesis, no difference can be made'\n",
    "        ) "
   ]
  },
  {
   "cell_type": "markdown",
   "id": "a2833a05",
   "metadata": {},
   "source": [
    "To check if the difference between our samples (based on network) is statistically significant, i decided to use Welsh's test, because it is evoid problems of different sample sizes, which is a big point now "
   ]
  },
  {
   "cell_type": "code",
   "execution_count": 27,
   "id": "0a060619",
   "metadata": {},
   "outputs": [
    {
     "name": "stdout",
     "output_type": "stream",
     "text": [
      "p-value:  0.7294465431613948\n",
      "Cannot reject null hypothesis, no difference can be made\n"
     ]
    }
   ],
   "source": [
    "Welchs_t_test(retention_Facebook, retention_Google_Ads_ACI)"
   ]
  },
  {
   "cell_type": "code",
   "execution_count": 28,
   "id": "a2f17c4b",
   "metadata": {},
   "outputs": [
    {
     "name": "stdout",
     "output_type": "stream",
     "text": [
      "p-value:  0.024280622219628678\n",
      "We reject the null hypothesis: the difference is statistically significant\n"
     ]
    }
   ],
   "source": [
    "Welchs_t_test(retention_Facebook, retention_TikTok)"
   ]
  },
  {
   "cell_type": "code",
   "execution_count": 29,
   "id": "5febc7a4",
   "metadata": {},
   "outputs": [
    {
     "name": "stdout",
     "output_type": "stream",
     "text": [
      "p-value:  1.3953276739283862e-07\n",
      "We reject the null hypothesis: the difference is statistically significant\n"
     ]
    }
   ],
   "source": [
    "Welchs_t_test(retention_Google_Ads_ACI, retention_TikTok)"
   ]
  },
  {
   "cell_type": "markdown",
   "id": "6539814a",
   "metadata": {},
   "source": [
    "It is interesting, that Google and Facebook are close to each other, TikTok obviously is in another league "
   ]
  },
  {
   "cell_type": "code",
   "execution_count": 30,
   "id": "14dd44cc",
   "metadata": {},
   "outputs": [
    {
     "data": {
      "text/html": [
       "<div>\n",
       "<style scoped>\n",
       "    .dataframe tbody tr th:only-of-type {\n",
       "        vertical-align: middle;\n",
       "    }\n",
       "\n",
       "    .dataframe tbody tr th {\n",
       "        vertical-align: top;\n",
       "    }\n",
       "\n",
       "    .dataframe thead th {\n",
       "        text-align: right;\n",
       "    }\n",
       "</style>\n",
       "<table border=\"1\" class=\"dataframe\">\n",
       "  <thead>\n",
       "    <tr style=\"text-align: right;\">\n",
       "      <th></th>\n",
       "      <th>retention</th>\n",
       "      <th>device</th>\n",
       "    </tr>\n",
       "    <tr>\n",
       "      <th>activity</th>\n",
       "      <th></th>\n",
       "      <th></th>\n",
       "    </tr>\n",
       "  </thead>\n",
       "  <tbody>\n",
       "    <tr>\n",
       "      <th>install</th>\n",
       "      <td>0.028490</td>\n",
       "      <td>351</td>\n",
       "    </tr>\n",
       "    <tr>\n",
       "      <th>session</th>\n",
       "      <td>0.099548</td>\n",
       "      <td>221</td>\n",
       "    </tr>\n",
       "  </tbody>\n",
       "</table>\n",
       "</div>"
      ],
      "text/plain": [
       "          retention  device\n",
       "activity                   \n",
       "install    0.028490     351\n",
       "session    0.099548     221"
      ]
     },
     "execution_count": 30,
     "metadata": {},
     "output_type": "execute_result"
    }
   ],
   "source": [
    "df_limited.groupby('activity').agg({'retention': 'mean', 'device': 'nunique'})"
   ]
  },
  {
   "cell_type": "markdown",
   "id": "dbd49208",
   "metadata": {},
   "source": [
    "Assuming that activity install means in this case using of mobile app and session means visiting web page, we can see normally web page is more suitable for returning back, providing almost 10% of retention, while app only 351.  "
   ]
  },
  {
   "cell_type": "code",
   "execution_count": 31,
   "id": "c3bd1cf8",
   "metadata": {},
   "outputs": [],
   "source": [
    "retention_install =  df_limited.query(\"activity == 'install'\")['retention']\n",
    "retention_session =  df_limited.query(\"activity == 'session'\")['retention']"
   ]
  },
  {
   "cell_type": "code",
   "execution_count": 32,
   "id": "50327e01",
   "metadata": {},
   "outputs": [
    {
     "name": "stdout",
     "output_type": "stream",
     "text": [
      "p-value:  0.0014123907159237115\n",
      "We reject the null hypothesis: the difference is statistically significant\n"
     ]
    }
   ],
   "source": [
    "Welchs_t_test(retention_install, retention_session)"
   ]
  },
  {
   "cell_type": "markdown",
   "id": "99845b26",
   "metadata": {},
   "source": [
    "Different activity types provide significantly different results in retention - that's also interesting. "
   ]
  },
  {
   "cell_type": "code",
   "execution_count": 33,
   "id": "2052288f",
   "metadata": {},
   "outputs": [
    {
     "data": {
      "text/html": [
       "<div>\n",
       "<style scoped>\n",
       "    .dataframe tbody tr th:only-of-type {\n",
       "        vertical-align: middle;\n",
       "    }\n",
       "\n",
       "    .dataframe tbody tr th {\n",
       "        vertical-align: top;\n",
       "    }\n",
       "\n",
       "    .dataframe thead th {\n",
       "        text-align: right;\n",
       "    }\n",
       "</style>\n",
       "<table border=\"1\" class=\"dataframe\">\n",
       "  <thead>\n",
       "    <tr style=\"text-align: right;\">\n",
       "      <th></th>\n",
       "      <th>retention</th>\n",
       "      <th>device</th>\n",
       "    </tr>\n",
       "    <tr>\n",
       "      <th>first_activity_date</th>\n",
       "      <th></th>\n",
       "      <th></th>\n",
       "    </tr>\n",
       "  </thead>\n",
       "  <tbody>\n",
       "    <tr>\n",
       "      <th>2022-03-18</th>\n",
       "      <td>0.130435</td>\n",
       "      <td>46</td>\n",
       "    </tr>\n",
       "    <tr>\n",
       "      <th>2022-03-19</th>\n",
       "      <td>0.084337</td>\n",
       "      <td>83</td>\n",
       "    </tr>\n",
       "    <tr>\n",
       "      <th>2022-03-20</th>\n",
       "      <td>0.090000</td>\n",
       "      <td>100</td>\n",
       "    </tr>\n",
       "    <tr>\n",
       "      <th>2022-03-21</th>\n",
       "      <td>0.022222</td>\n",
       "      <td>90</td>\n",
       "    </tr>\n",
       "    <tr>\n",
       "      <th>2022-03-22</th>\n",
       "      <td>0.127660</td>\n",
       "      <td>47</td>\n",
       "    </tr>\n",
       "    <tr>\n",
       "      <th>2022-03-23</th>\n",
       "      <td>0.023810</td>\n",
       "      <td>84</td>\n",
       "    </tr>\n",
       "    <tr>\n",
       "      <th>2022-03-24</th>\n",
       "      <td>0.000000</td>\n",
       "      <td>122</td>\n",
       "    </tr>\n",
       "  </tbody>\n",
       "</table>\n",
       "</div>"
      ],
      "text/plain": [
       "                     retention  device\n",
       "first_activity_date                   \n",
       "2022-03-18            0.130435      46\n",
       "2022-03-19            0.084337      83\n",
       "2022-03-20            0.090000     100\n",
       "2022-03-21            0.022222      90\n",
       "2022-03-22            0.127660      47\n",
       "2022-03-23            0.023810      84\n",
       "2022-03-24            0.000000     122"
      ]
     },
     "execution_count": 33,
     "metadata": {},
     "output_type": "execute_result"
    }
   ],
   "source": [
    "df_limited.groupby('first_activity_date').agg({'retention': 'mean', 'device': 'nunique'})"
   ]
  },
  {
   "cell_type": "markdown",
   "id": "9a7b834a",
   "metadata": {},
   "source": [
    "very hard to say somethin particular about dates, but what is outstanding is that people whos first event date was on 21 of march and on on 23 of march showed very low figures for retention."
   ]
  },
  {
   "cell_type": "markdown",
   "id": "ce213647",
   "metadata": {},
   "source": [
    "### Conclusion "
   ]
  },
  {
   "cell_type": "markdown",
   "id": "7c32e9c5",
   "metadata": {},
   "source": [
    "a. What could be, in your opinion, the top 3 reasons why Pepper users churn?\n",
    "\n",
    "  1. i see as core feature/problem of your product - probabaly person came once to find answers for the needed item in the market, in other words, your product is not that all of people will use regularly. Even based on my experince, i need something like that maximum 2-3 times per year and more rich group of people is less concentrated on sales and others opinian, because they practically can afford much more without regrets of buying something non-relevant for them. \n",
    "  2. To return to product you need use it frequintly, trying not to forget about it, if your product helped once to the customer, it doesn't mean that it will help in future, as i believe there are no deals for everything there. So it is basically about amount of deals and reviews. \n",
    "  3. Other options on the market, which may better fit the requirements of a customer\n",
    "  \n",
    "b. How would you proceed to verify this hypothesis? Please explain your steps, the tools you would use, and what you would do with your conclusion.\n",
    "\n",
    " 1. I guess, this a very typical task of product analysis. It is already presented above as some option or a view from myself. but going line by line: for the first hypothesis - it is possible to analyse the mean or median bill size, it will show the overall buying ability of your customers, then to check segments or groups of products that are highly evaluated by customers and which the but more frequintly. For second one the same, it is needed to make a focus on specific segments of products and try to improove more exactly those ones (for example gaming devices). Analyse number of deals, number of reviews, number of leads to the pages with deals, overall how effective is this some sort of advertising.\n",
    " 2. My steps are: gathering all the data (no matter which type of hypothesis is going to be tested), then we should discuss with stakeholders, what are the desired outcomes of analysis, so i can focus on t=something important without adding a lot of water into report, toools depend on desired outcome (for visuialisation - Power BI, Tableau), for preparation of data - Python. Conclusion is the matter of discussion with stkaeholders: i need to provide an information, which may become a crucial point in future development or changes inside companies, so it needed to be as objective as it is only possible, without any extra connatation, but should at the same time provide clear idea of what is happening.   \n",
    "  \n",
    "c. The Head of Marketing asks you for help: he needs to assign the marketing budget for the next year and would like to make a data-informed decision. What would be your process to answer his question? What data would you need to give him solid recommendations? How would you set priorities?\n",
    "\n",
    " 1. apart from what i've already seen in attached file (retention rate can be discovered their), i need spends on different types of advertising as well how much money does particular customer brought through parter programs, so i can calculate LTV, CAC and other metrics. Once again, it can be cohort analysis, add as many importabt product metrics as it possible, and so on. I gave a very broad discription of what is needed, but i guess, it should provide the direction of movement towards finding the best solution.  "
   ]
  },
  {
   "cell_type": "markdown",
   "id": "3f32dbff",
   "metadata": {},
   "source": [
    "### Second Task"
   ]
  },
  {
   "cell_type": "markdown",
   "id": "74b9a0b5",
   "metadata": {},
   "source": [
    "Please have a look at the attached data sample. It shows you the paid user (users we acquired through paid campaigns) activity on our app over 7 days. Write a SQL query to generate user cohorts from this table. What conclusions can you draw from these cohorts?"
   ]
  },
  {
   "cell_type": "markdown",
   "id": "07081b9d",
   "metadata": {},
   "source": [
    "As i mentioned above, it is not the best idea doing cohorts, when you have only 7 dates"
   ]
  },
  {
   "cell_type": "markdown",
   "id": "c7f8bc0f",
   "metadata": {},
   "source": [
    "So, if we want to make an sql query, providing us an information about cohort (in this case based on first date (day)), than we need to do following"
   ]
  },
  {
   "cell_type": "markdown",
   "id": "6e690a4c",
   "metadata": {},
   "source": [
    "**SELECT** \n",
    "    \n",
    "    DATEDIFF(day, event_date, first_activity_date) as  difference_in_days,\n",
    "    device as device, \n",
    "    COUNT(DISTINCT event_date) as Count_of_sessions\n",
    "\n",
    "**from** \n",
    "    \n",
    "    (SELECT \n",
    "        activity as activity, \n",
    "        network as network, \n",
    "        event_date as event_date, \n",
    "        installed_at as installed_at, \n",
    "        device as device, \n",
    "        min(event_date) over (PARTITION by device) as first_activity_date\n",
    "    from Case study for Marketing Data Analyst - Data sample.xlsx)   \n",
    "\n",
    "\n",
    "**group by** difference_in_days, device"
   ]
  },
  {
   "cell_type": "markdown",
   "id": "540310e6",
   "metadata": {},
   "source": [
    "probably, that should work, but i dont have SQL server to put their a table and to make this query, so i will do the same with python here "
   ]
  },
  {
   "cell_type": "code",
   "execution_count": 34,
   "id": "e818e71d",
   "metadata": {},
   "outputs": [
    {
     "data": {
      "text/html": [
       "<div>\n",
       "<style scoped>\n",
       "    .dataframe tbody tr th:only-of-type {\n",
       "        vertical-align: middle;\n",
       "    }\n",
       "\n",
       "    .dataframe tbody tr th {\n",
       "        vertical-align: top;\n",
       "    }\n",
       "\n",
       "    .dataframe thead th {\n",
       "        text-align: right;\n",
       "    }\n",
       "</style>\n",
       "<table border=\"1\" class=\"dataframe\">\n",
       "  <thead>\n",
       "    <tr style=\"text-align: right;\">\n",
       "      <th></th>\n",
       "      <th>activity</th>\n",
       "      <th>network</th>\n",
       "      <th>event_date</th>\n",
       "      <th>installed_at</th>\n",
       "      <th>first_activity_date</th>\n",
       "      <th>device</th>\n",
       "      <th>retention</th>\n",
       "      <th>time_diff_hour</th>\n",
       "    </tr>\n",
       "  </thead>\n",
       "  <tbody>\n",
       "    <tr>\n",
       "      <th>0</th>\n",
       "      <td>session</td>\n",
       "      <td>Google Ads ACI</td>\n",
       "      <td>2022-03-24</td>\n",
       "      <td>2022-03-22 09:58:00</td>\n",
       "      <td>2022-03-24</td>\n",
       "      <td>id_232</td>\n",
       "      <td>False</td>\n",
       "      <td>-38.033333</td>\n",
       "    </tr>\n",
       "    <tr>\n",
       "      <th>1</th>\n",
       "      <td>session</td>\n",
       "      <td>Google Ads ACI</td>\n",
       "      <td>2022-03-24</td>\n",
       "      <td>2022-03-18 12:43:15</td>\n",
       "      <td>2022-03-24</td>\n",
       "      <td>id_053</td>\n",
       "      <td>False</td>\n",
       "      <td>-131.279167</td>\n",
       "    </tr>\n",
       "    <tr>\n",
       "      <th>2</th>\n",
       "      <td>install</td>\n",
       "      <td>Google Ads ACI</td>\n",
       "      <td>2022-03-24</td>\n",
       "      <td>2022-03-23 23:20:10</td>\n",
       "      <td>2022-03-24</td>\n",
       "      <td>id_093</td>\n",
       "      <td>False</td>\n",
       "      <td>-0.663889</td>\n",
       "    </tr>\n",
       "    <tr>\n",
       "      <th>3</th>\n",
       "      <td>install</td>\n",
       "      <td>Facebook</td>\n",
       "      <td>2022-03-24</td>\n",
       "      <td>2022-03-23 23:26:14</td>\n",
       "      <td>2022-03-24</td>\n",
       "      <td>id_357</td>\n",
       "      <td>False</td>\n",
       "      <td>-0.562778</td>\n",
       "    </tr>\n",
       "    <tr>\n",
       "      <th>4</th>\n",
       "      <td>session</td>\n",
       "      <td>Google Ads ACI</td>\n",
       "      <td>2022-03-24</td>\n",
       "      <td>2022-03-21 18:03:13</td>\n",
       "      <td>2022-03-24</td>\n",
       "      <td>id_427</td>\n",
       "      <td>False</td>\n",
       "      <td>-53.946389</td>\n",
       "    </tr>\n",
       "  </tbody>\n",
       "</table>\n",
       "</div>"
      ],
      "text/plain": [
       "  activity         network event_date        installed_at first_activity_date  \\\n",
       "0  session  Google Ads ACI 2022-03-24 2022-03-22 09:58:00          2022-03-24   \n",
       "1  session  Google Ads ACI 2022-03-24 2022-03-18 12:43:15          2022-03-24   \n",
       "2  install  Google Ads ACI 2022-03-24 2022-03-23 23:20:10          2022-03-24   \n",
       "3  install        Facebook 2022-03-24 2022-03-23 23:26:14          2022-03-24   \n",
       "4  session  Google Ads ACI 2022-03-24 2022-03-21 18:03:13          2022-03-24   \n",
       "\n",
       "   device  retention  time_diff_hour  \n",
       "0  id_232      False      -38.033333  \n",
       "1  id_053      False     -131.279167  \n",
       "2  id_093      False       -0.663889  \n",
       "3  id_357      False       -0.562778  \n",
       "4  id_427      False      -53.946389  "
      ]
     },
     "execution_count": 34,
     "metadata": {},
     "output_type": "execute_result"
    }
   ],
   "source": [
    "df.head()"
   ]
  },
  {
   "cell_type": "code",
   "execution_count": 35,
   "id": "39a43f5e",
   "metadata": {},
   "outputs": [],
   "source": [
    "df['lifetime'] = df['event_date'] - df['first_activity_date']\n",
    "df['lifetime'] = df['lifetime'] / np.timedelta64(1,'D')\n",
    "df['lifetime'] = df['lifetime'].round().astype('int')"
   ]
  },
  {
   "cell_type": "code",
   "execution_count": 36,
   "id": "dfbd205f",
   "metadata": {},
   "outputs": [],
   "source": [
    "df['event_date'] = pd.to_datetime(df['event_date'])\n",
    "df['first_activity_date'] = pd.to_datetime(df['first_activity_date'])\n",
    "df['event_date'] = df['event_date'].dt.strftime('%Y-%m-%d')\n",
    "df['first_activity_date'] = df['first_activity_date'].dt.strftime('%Y-%m-%d')\n",
    "cohorts = df.groupby(['first_activity_date','lifetime']).agg({'device':'nunique'}).reset_index() "
   ]
  },
  {
   "cell_type": "code",
   "execution_count": 37,
   "id": "c45ccdc0",
   "metadata": {},
   "outputs": [],
   "source": [
    "initial_users_count = cohorts[cohorts['lifetime'] == 0][['first_activity_date','device']]\n",
    "initial_users_count = initial_users_count.rename(columns={'device':'cohort_users'})\n",
    "cohorts = cohorts.merge(initial_users_count,on='first_activity_date')\n",
    "cohorts['retention'] = cohorts['device']/cohorts['cohort_users']"
   ]
  },
  {
   "cell_type": "code",
   "execution_count": 38,
   "id": "2a3d1c96",
   "metadata": {},
   "outputs": [],
   "source": [
    "retention_pivot = cohorts.pivot_table(index='first_activity_date',columns='lifetime',values='retention',aggfunc='sum')"
   ]
  },
  {
   "cell_type": "code",
   "execution_count": 39,
   "id": "54b4eecc",
   "metadata": {},
   "outputs": [
    {
     "data": {
      "text/html": [
       "<div>\n",
       "<style scoped>\n",
       "    .dataframe tbody tr th:only-of-type {\n",
       "        vertical-align: middle;\n",
       "    }\n",
       "\n",
       "    .dataframe tbody tr th {\n",
       "        vertical-align: top;\n",
       "    }\n",
       "\n",
       "    .dataframe thead th {\n",
       "        text-align: right;\n",
       "    }\n",
       "</style>\n",
       "<table border=\"1\" class=\"dataframe\">\n",
       "  <thead>\n",
       "    <tr style=\"text-align: right;\">\n",
       "      <th>lifetime</th>\n",
       "      <th>0</th>\n",
       "      <th>1</th>\n",
       "      <th>2</th>\n",
       "      <th>3</th>\n",
       "      <th>4</th>\n",
       "      <th>5</th>\n",
       "      <th>6</th>\n",
       "    </tr>\n",
       "    <tr>\n",
       "      <th>first_activity_date</th>\n",
       "      <th></th>\n",
       "      <th></th>\n",
       "      <th></th>\n",
       "      <th></th>\n",
       "      <th></th>\n",
       "      <th></th>\n",
       "      <th></th>\n",
       "    </tr>\n",
       "  </thead>\n",
       "  <tbody>\n",
       "    <tr>\n",
       "      <th>2022-03-18</th>\n",
       "      <td>1.0</td>\n",
       "      <td>0.065217</td>\n",
       "      <td>0.043478</td>\n",
       "      <td>NaN</td>\n",
       "      <td>NaN</td>\n",
       "      <td>NaN</td>\n",
       "      <td>0.043478</td>\n",
       "    </tr>\n",
       "    <tr>\n",
       "      <th>2022-03-19</th>\n",
       "      <td>1.0</td>\n",
       "      <td>0.012048</td>\n",
       "      <td>0.036145</td>\n",
       "      <td>0.036145</td>\n",
       "      <td>NaN</td>\n",
       "      <td>0.012048</td>\n",
       "      <td>NaN</td>\n",
       "    </tr>\n",
       "    <tr>\n",
       "      <th>2022-03-20</th>\n",
       "      <td>1.0</td>\n",
       "      <td>0.020000</td>\n",
       "      <td>0.040000</td>\n",
       "      <td>0.030000</td>\n",
       "      <td>0.03</td>\n",
       "      <td>NaN</td>\n",
       "      <td>NaN</td>\n",
       "    </tr>\n",
       "    <tr>\n",
       "      <th>2022-03-21</th>\n",
       "      <td>1.0</td>\n",
       "      <td>0.011111</td>\n",
       "      <td>0.011111</td>\n",
       "      <td>NaN</td>\n",
       "      <td>NaN</td>\n",
       "      <td>NaN</td>\n",
       "      <td>NaN</td>\n",
       "    </tr>\n",
       "    <tr>\n",
       "      <th>2022-03-22</th>\n",
       "      <td>1.0</td>\n",
       "      <td>0.085106</td>\n",
       "      <td>0.042553</td>\n",
       "      <td>NaN</td>\n",
       "      <td>NaN</td>\n",
       "      <td>NaN</td>\n",
       "      <td>NaN</td>\n",
       "    </tr>\n",
       "    <tr>\n",
       "      <th>2022-03-23</th>\n",
       "      <td>1.0</td>\n",
       "      <td>0.023810</td>\n",
       "      <td>NaN</td>\n",
       "      <td>NaN</td>\n",
       "      <td>NaN</td>\n",
       "      <td>NaN</td>\n",
       "      <td>NaN</td>\n",
       "    </tr>\n",
       "    <tr>\n",
       "      <th>2022-03-24</th>\n",
       "      <td>1.0</td>\n",
       "      <td>NaN</td>\n",
       "      <td>NaN</td>\n",
       "      <td>NaN</td>\n",
       "      <td>NaN</td>\n",
       "      <td>NaN</td>\n",
       "      <td>NaN</td>\n",
       "    </tr>\n",
       "  </tbody>\n",
       "</table>\n",
       "</div>"
      ],
      "text/plain": [
       "lifetime               0         1         2         3     4         5  \\\n",
       "first_activity_date                                                      \n",
       "2022-03-18           1.0  0.065217  0.043478       NaN   NaN       NaN   \n",
       "2022-03-19           1.0  0.012048  0.036145  0.036145   NaN  0.012048   \n",
       "2022-03-20           1.0  0.020000  0.040000  0.030000  0.03       NaN   \n",
       "2022-03-21           1.0  0.011111  0.011111       NaN   NaN       NaN   \n",
       "2022-03-22           1.0  0.085106  0.042553       NaN   NaN       NaN   \n",
       "2022-03-23           1.0  0.023810       NaN       NaN   NaN       NaN   \n",
       "2022-03-24           1.0       NaN       NaN       NaN   NaN       NaN   \n",
       "\n",
       "lifetime                    6  \n",
       "first_activity_date            \n",
       "2022-03-18           0.043478  \n",
       "2022-03-19                NaN  \n",
       "2022-03-20                NaN  \n",
       "2022-03-21                NaN  \n",
       "2022-03-22                NaN  \n",
       "2022-03-23                NaN  \n",
       "2022-03-24                NaN  "
      ]
     },
     "metadata": {},
     "output_type": "display_data"
    }
   ],
   "source": [
    "display(retention_pivot)"
   ]
  },
  {
   "cell_type": "code",
   "execution_count": 40,
   "id": "faf38dd6",
   "metadata": {},
   "outputs": [],
   "source": [
    "retention_pivot_from_1 = retention_pivot.drop(0, 1)"
   ]
  },
  {
   "cell_type": "code",
   "execution_count": 41,
   "id": "05e54ecb",
   "metadata": {},
   "outputs": [
    {
     "data": {
      "text/plain": [
       "<AxesSubplot:title={'center':'Cohorts: User Retention'}, xlabel='lifetime', ylabel='first_activity_date'>"
      ]
     },
     "execution_count": 41,
     "metadata": {},
     "output_type": "execute_result"
    },
    {
     "data": {
      "image/png": "[encoded data removed]",
      "text/plain": [
       "<Figure size 936x648 with 2 Axes>"
      ]
     },
     "metadata": {},
     "output_type": "display_data"
    }
   ],
   "source": [
    "sns.set(style='white')\n",
    "plt.figure(figsize=(13, 9))\n",
    "plt.title('Cohorts: User Retention')\n",
    "sns.heatmap(retention_pivot_from_1, annot=True, fmt='.1%', linewidths=1, linecolor='gray', vmin=0, vmax=0.15, cmap='magma')"
   ]
  },
  {
   "cell_type": "markdown",
   "id": "ba57f397",
   "metadata": {},
   "source": [
    "so here you can clearly see, why such a short period of time is not suitable for making a cohort analysis, becayse it is mostly a mess\n",
    "\n",
    "- not enough time to build a proper customer path, retention rate is not representative"
   ]
  },
  {
   "cell_type": "raw",
   "id": "262ac287",
   "metadata": {},
   "source": [
    "pip install nbconvert"
   ]
  },
  {
   "cell_type": "code",
   "execution_count": null,
   "id": "b69fc060",
   "metadata": {},
   "outputs": [],
   "source": []
  }
 ],
 "metadata": {
  "kernelspec": {
   "display_name": "Python 3",
   "language": "python",
   "name": "python3"
  },
  "language_info": {
   "codemirror_mode": {
    "name": "ipython",
    "version": 3
   },
   "file_extension": ".py",
   "mimetype": "text/x-python",
   "name": "python",
   "nbconvert_exporter": "python",
   "pygments_lexer": "ipython3",
   "version": "3.8.8"
  }
 },
 "nbformat": 4,
 "nbformat_minor": 5
}
