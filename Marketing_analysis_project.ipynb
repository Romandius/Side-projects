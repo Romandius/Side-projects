{
 "cells": [
  {
   "cell_type": "markdown",
   "id": "3bbf6c92",
   "metadata": {},
   "source": [
    "# Trivago case study"
   ]
  },
  {
   "cell_type": "markdown",
   "id": "a3ae88d7",
   "metadata": {},
   "source": [
    "## case description"
   ]
  },
  {
   "cell_type": "markdown",
   "id": "7984da70",
   "metadata": {},
   "source": [
    "### Task 1"
   ]
  },
  {
   "cell_type": "markdown",
   "id": "95adb1aa",
   "metadata": {},
   "source": [
    "**Data exploration and visualization**\n",
    "\n",
    "\n",
    "An essential part of this Data analyst role is to have a strong understanding of our ETL\n",
    "pipelines and data coming from our partners. With this initial task we would like you to show \n",
    "us your analytical skills and ability to transform data into actionable insights that can be used \n",
    "by our strategy and leadership team.\n",
    "For this task we have provided two datasets \n",
    "coming from our Whitelabel implementations. \n",
    "These implementations allow third parties to use \n",
    "trivago’s infrastructure to offer accomodation \n",
    "searches in their pages. One example you can \n",
    "test by yourself can be found in \n",
    "www.bandsintown.com while you search for \n",
    "concerts. \n"
   ]
  },
  {
   "cell_type": "markdown",
   "id": "3895370e",
   "metadata": {},
   "source": [
    "The first of the mentioned datasets contains clickouts/referrals information coming from these \n",
    "implementations while the second has booking confirmations. Note that we earn certain \n",
    "revenue per each clickout sent from our partners and we agreed to split the revenue \n",
    "depending on the quality of traffic our partner sends us. The less quality the partner send us, \n",
    "then their revenue share is smaller. \n",
    "For this task, we want you to transform the mentioned datasets in a report/dashboard that \n",
    "answers the following questions: \n",
    "\n",
    "\n",
    "1. What is the quality of traffic we are getting from these whitelabel implementations? It is up to you to define what is “quality traffic” in this case but make sure you explain your decision. \n",
    "\n",
    "2. What campaigns/partners are performing better in terms of clickouts, bookings, traffic quality and total value?\n",
    "\n",
    "3. Is there any difference in the performance by device type? Why is this important for trivago and our partners?\n",
    "\n",
    "4. What suggestions would you have to improve the performance of our whitelabel implementations\n",
    "\n",
    "\n",
    "The expected output for this task 1 should be in the form of a report/dashboard (in pdf or \n",
    "similar formats) with our leadership/strategic team being the target audience"
   ]
  },
  {
   "cell_type": "markdown",
   "id": "06960cbf",
   "metadata": {},
   "source": [
    "### data_set description"
   ]
  },
  {
   "cell_type": "markdown",
   "id": "5cee5a62",
   "metadata": {},
   "source": [
    "**wl_Clickout_Sample** \n",
    "\n",
    "This file contains sample data attributed to the user clickouts done in our Whitelabel products. Note that each row of the sample is one clickout. The columns of this dataset are:\n",
    "\n",
    "•   WL_partner – trivago’s partner the click is attributed to.\n",
    "\n",
    "•   Locale – The geographical platform this click has come from (.co.uk = UK).\n",
    "\n",
    "•   session_id – The ID given to each user’s unique session.\n",
    "\n",
    "•   hotel_id – The ID given to the hotel that was clicked on by the user.\n",
    "\n",
    "•   device_id – The id of the user’s device.\n",
    "\n",
    "•   departure_days – Days left until the date of departure that was selected by the user.\n",
    "\n",
    "•   arrival_days – Days left until the date of arrival that was selected by the user.\n",
    "\n",
    "•   revenue – The amount of revenue attributed to the click.\n",
    "\n",
    "•   click_id – The unique id of each click.\n",
    "\n",
    "•   period – The period of time in which the click was made.\n",
    "\n",
    "\n",
    "----------------------------------------------------------------------------------------------------------------------"
   ]
  },
  {
   "cell_type": "markdown",
   "id": "b9e44bd2",
   "metadata": {},
   "source": [
    "**WL_Booking_Sample**\n",
    "\n",
    "This file contains sample data of the bookings done by users that used our Whitelabel products. Note that each row of the sample is one booking. The columns of this dataset are:\n",
    "\n",
    "•\ttransaction_value – The amount of money (in euros) that the booking is worth.\n",
    "\n",
    "•\tclick_id – The unique id of each click from which the booking was made.\n",
    "\n",
    "•\tproperty_type – The type of property that has been booked.\n",
    "\n",
    "•\tperiod – The period of time in which the booking was made.\n"
   ]
  },
  {
   "cell_type": "markdown",
   "id": "a65a7b58",
   "metadata": {},
   "source": [
    "## Data preparation"
   ]
  },
  {
   "cell_type": "code",
   "execution_count": 1,
   "id": "fca07c3b",
   "metadata": {},
   "outputs": [],
   "source": [
    "import pandas as pd"
   ]
  },
  {
   "cell_type": "code",
   "execution_count": 2,
   "id": "a51d1af7",
   "metadata": {},
   "outputs": [],
   "source": [
    "clickout = pd.read_csv('wl_clickout_sample.csv')"
   ]
  },
  {
   "cell_type": "code",
   "execution_count": 3,
   "id": "2d46efdd",
   "metadata": {},
   "outputs": [],
   "source": [
    "booking  = pd.read_csv('wl_booking_sample.csv')"
   ]
  },
  {
   "cell_type": "code",
   "execution_count": 4,
   "id": "c8ddf9d4",
   "metadata": {},
   "outputs": [
    {
     "data": {
      "text/html": [
       "<div>\n",
       "<style scoped>\n",
       "    .dataframe tbody tr th:only-of-type {\n",
       "        vertical-align: middle;\n",
       "    }\n",
       "\n",
       "    .dataframe tbody tr th {\n",
       "        vertical-align: top;\n",
       "    }\n",
       "\n",
       "    .dataframe thead th {\n",
       "        text-align: right;\n",
       "    }\n",
       "</style>\n",
       "<table border=\"1\" class=\"dataframe\">\n",
       "  <thead>\n",
       "    <tr style=\"text-align: right;\">\n",
       "      <th></th>\n",
       "      <th>WL_partner</th>\n",
       "      <th>locale</th>\n",
       "      <th>session_id</th>\n",
       "      <th>hotel_id</th>\n",
       "      <th>device_id</th>\n",
       "      <th>departure_days</th>\n",
       "      <th>arrival_days</th>\n",
       "      <th>revenue</th>\n",
       "      <th>click_id</th>\n",
       "      <th>period</th>\n",
       "    </tr>\n",
       "  </thead>\n",
       "  <tbody>\n",
       "    <tr>\n",
       "      <th>0</th>\n",
       "      <td>A</td>\n",
       "      <td>US</td>\n",
       "      <td>2021112922610036461</td>\n",
       "      <td>222240</td>\n",
       "      <td>3</td>\n",
       "      <td>283</td>\n",
       "      <td>282</td>\n",
       "      <td>31.70</td>\n",
       "      <td>0cf74b91-8601-47f4-a7d7-e72ba56de031</td>\n",
       "      <td>period-6</td>\n",
       "    </tr>\n",
       "    <tr>\n",
       "      <th>1</th>\n",
       "      <td>A</td>\n",
       "      <td>US</td>\n",
       "      <td>2021112902030026666</td>\n",
       "      <td>4118624</td>\n",
       "      <td>27</td>\n",
       "      <td>19</td>\n",
       "      <td>18</td>\n",
       "      <td>47.70</td>\n",
       "      <td>09cbb121-32d3-4e64-ab40-63399d525b00</td>\n",
       "      <td>period-6</td>\n",
       "    </tr>\n",
       "    <tr>\n",
       "      <th>2</th>\n",
       "      <td>A</td>\n",
       "      <td>DE</td>\n",
       "      <td>2021112902090036586</td>\n",
       "      <td>48544592</td>\n",
       "      <td>42</td>\n",
       "      <td>36</td>\n",
       "      <td>27</td>\n",
       "      <td>21.20</td>\n",
       "      <td>2c1bddc6-284f-40d7-a54d-1a697d178499</td>\n",
       "      <td>period-6</td>\n",
       "    </tr>\n",
       "    <tr>\n",
       "      <th>3</th>\n",
       "      <td>A</td>\n",
       "      <td>UK</td>\n",
       "      <td>2021112919730105838</td>\n",
       "      <td>3681740</td>\n",
       "      <td>30</td>\n",
       "      <td>32</td>\n",
       "      <td>31</td>\n",
       "      <td>9.95</td>\n",
       "      <td>c08aff24-e634-4ad5-a9a4-6bc2dba5fb92</td>\n",
       "      <td>period-6</td>\n",
       "    </tr>\n",
       "    <tr>\n",
       "      <th>4</th>\n",
       "      <td>A</td>\n",
       "      <td>UK</td>\n",
       "      <td>2021112919730105838</td>\n",
       "      <td>27251384</td>\n",
       "      <td>30</td>\n",
       "      <td>32</td>\n",
       "      <td>31</td>\n",
       "      <td>27.95</td>\n",
       "      <td>87eca29d-3e06-4a85-8fac-3d66b594a221</td>\n",
       "      <td>period-6</td>\n",
       "    </tr>\n",
       "  </tbody>\n",
       "</table>\n",
       "</div>"
      ],
      "text/plain": [
       "  WL_partner locale           session_id  hotel_id  device_id  departure_days  \\\n",
       "0          A     US  2021112922610036461    222240          3             283   \n",
       "1          A     US  2021112902030026666   4118624         27              19   \n",
       "2          A     DE  2021112902090036586  48544592         42              36   \n",
       "3          A     UK  2021112919730105838   3681740         30              32   \n",
       "4          A     UK  2021112919730105838  27251384         30              32   \n",
       "\n",
       "   arrival_days  revenue                              click_id   period   \n",
       "0           282    31.70  0cf74b91-8601-47f4-a7d7-e72ba56de031  period-6  \n",
       "1            18    47.70  09cbb121-32d3-4e64-ab40-63399d525b00  period-6  \n",
       "2            27    21.20  2c1bddc6-284f-40d7-a54d-1a697d178499  period-6  \n",
       "3            31     9.95  c08aff24-e634-4ad5-a9a4-6bc2dba5fb92  period-6  \n",
       "4            31    27.95  87eca29d-3e06-4a85-8fac-3d66b594a221  period-6  "
      ]
     },
     "execution_count": 4,
     "metadata": {},
     "output_type": "execute_result"
    }
   ],
   "source": [
    "clickout.head()"
   ]
  },
  {
   "cell_type": "code",
   "execution_count": 5,
   "id": "6faee630",
   "metadata": {},
   "outputs": [
    {
     "name": "stdout",
     "output_type": "stream",
     "text": [
      "<class 'pandas.core.frame.DataFrame'>\n",
      "RangeIndex: 834256 entries, 0 to 834255\n",
      "Data columns (total 10 columns):\n",
      " #   Column          Non-Null Count   Dtype  \n",
      "---  ------          --------------   -----  \n",
      " 0   WL_partner      834256 non-null  object \n",
      " 1   locale          834256 non-null  object \n",
      " 2   session_id      834256 non-null  int64  \n",
      " 3   hotel_id        834256 non-null  int64  \n",
      " 4   device_id       834256 non-null  int64  \n",
      " 5   departure_days  834256 non-null  int64  \n",
      " 6   arrival_days    834256 non-null  int64  \n",
      " 7   revenue         834256 non-null  float64\n",
      " 8   click_id        834256 non-null  object \n",
      " 9   period          834256 non-null  object \n",
      "dtypes: float64(1), int64(5), object(4)\n",
      "memory usage: 63.6+ MB\n"
     ]
    }
   ],
   "source": [
    "clickout.info()"
   ]
  },
  {
   "cell_type": "markdown",
   "id": "724c5d76",
   "metadata": {},
   "source": [
    "seems like their no missings in this dataset, at the same time he formats of columns are also seem to be correct "
   ]
  },
  {
   "cell_type": "code",
   "execution_count": 6,
   "id": "825bcc40",
   "metadata": {},
   "outputs": [
    {
     "data": {
      "text/html": [
       "<div>\n",
       "<style scoped>\n",
       "    .dataframe tbody tr th:only-of-type {\n",
       "        vertical-align: middle;\n",
       "    }\n",
       "\n",
       "    .dataframe tbody tr th {\n",
       "        vertical-align: top;\n",
       "    }\n",
       "\n",
       "    .dataframe thead th {\n",
       "        text-align: right;\n",
       "    }\n",
       "</style>\n",
       "<table border=\"1\" class=\"dataframe\">\n",
       "  <thead>\n",
       "    <tr style=\"text-align: right;\">\n",
       "      <th></th>\n",
       "      <th>transaction_value</th>\n",
       "      <th>period</th>\n",
       "      <th>property_type</th>\n",
       "      <th>click_id</th>\n",
       "    </tr>\n",
       "  </thead>\n",
       "  <tbody>\n",
       "    <tr>\n",
       "      <th>0</th>\n",
       "      <td>102.55</td>\n",
       "      <td>period-6</td>\n",
       "      <td>alternative accomodation</td>\n",
       "      <td>324a9f0f-79b4-4e70-8e7f-da7b7680090f</td>\n",
       "    </tr>\n",
       "    <tr>\n",
       "      <th>1</th>\n",
       "      <td>188.90</td>\n",
       "      <td>period-6</td>\n",
       "      <td>hotel</td>\n",
       "      <td>dd17ca00-2cd2-4112-b994-42377ec5b05a</td>\n",
       "    </tr>\n",
       "    <tr>\n",
       "      <th>2</th>\n",
       "      <td>161.93</td>\n",
       "      <td>period-6</td>\n",
       "      <td>hotel</td>\n",
       "      <td>97692de6-614e-4934-a83d-f65a03b95922</td>\n",
       "    </tr>\n",
       "    <tr>\n",
       "      <th>3</th>\n",
       "      <td>683.66</td>\n",
       "      <td>period-6</td>\n",
       "      <td>alternative accomodation</td>\n",
       "      <td>970d7c0c-bc2e-4198-98f6-7ee617459b49</td>\n",
       "    </tr>\n",
       "    <tr>\n",
       "      <th>4</th>\n",
       "      <td>333.21</td>\n",
       "      <td>period-6</td>\n",
       "      <td>hotel</td>\n",
       "      <td>a0b5a803-5ad6-46d4-b100-2384a8b6ad6b</td>\n",
       "    </tr>\n",
       "  </tbody>\n",
       "</table>\n",
       "</div>"
      ],
      "text/plain": [
       "   transaction_value    period             property_type  \\\n",
       "0             102.55  period-6  alternative accomodation   \n",
       "1             188.90  period-6                     hotel   \n",
       "2             161.93  period-6                     hotel   \n",
       "3             683.66  period-6  alternative accomodation   \n",
       "4             333.21  period-6                     hotel   \n",
       "\n",
       "                               click_id  \n",
       "0  324a9f0f-79b4-4e70-8e7f-da7b7680090f  \n",
       "1  dd17ca00-2cd2-4112-b994-42377ec5b05a  \n",
       "2  97692de6-614e-4934-a83d-f65a03b95922  \n",
       "3  970d7c0c-bc2e-4198-98f6-7ee617459b49  \n",
       "4  a0b5a803-5ad6-46d4-b100-2384a8b6ad6b  "
      ]
     },
     "execution_count": 6,
     "metadata": {},
     "output_type": "execute_result"
    }
   ],
   "source": [
    "booking.head()"
   ]
  },
  {
   "cell_type": "code",
   "execution_count": 7,
   "id": "9a376205",
   "metadata": {},
   "outputs": [
    {
     "name": "stdout",
     "output_type": "stream",
     "text": [
      "<class 'pandas.core.frame.DataFrame'>\n",
      "RangeIndex: 3471 entries, 0 to 3470\n",
      "Data columns (total 4 columns):\n",
      " #   Column             Non-Null Count  Dtype  \n",
      "---  ------             --------------  -----  \n",
      " 0   transaction_value  3471 non-null   float64\n",
      " 1   period             3471 non-null   object \n",
      " 2   property_type      3471 non-null   object \n",
      " 3   click_id           3471 non-null   object \n",
      "dtypes: float64(1), object(3)\n",
      "memory usage: 108.6+ KB\n"
     ]
    }
   ],
   "source": [
    "booking.info()"
   ]
  },
  {
   "cell_type": "code",
   "execution_count": 8,
   "id": "a74e0a06",
   "metadata": {},
   "outputs": [
    {
     "data": {
      "text/plain": [
       "3280"
      ]
     },
     "execution_count": 8,
     "metadata": {},
     "output_type": "execute_result"
    }
   ],
   "source": [
    "booking['click_id'].nunique()"
   ]
  },
  {
   "cell_type": "markdown",
   "id": "1e562c6e",
   "metadata": {},
   "source": [
    "So, not every record in WL_Booking_Sample is unique, the question is - how many are their duplicates or maybe it is jyst multiply booking per one click "
   ]
  },
  {
   "cell_type": "code",
   "execution_count": 9,
   "id": "4c5c8ca5",
   "metadata": {},
   "outputs": [
    {
     "data": {
      "text/plain": [
       "28"
      ]
     },
     "execution_count": 9,
     "metadata": {},
     "output_type": "execute_result"
    }
   ],
   "source": [
    "booking.duplicated().sum()"
   ]
  },
  {
   "cell_type": "code",
   "execution_count": 10,
   "id": "d21f94ba",
   "metadata": {},
   "outputs": [
    {
     "data": {
      "text/html": [
       "<div>\n",
       "<style scoped>\n",
       "    .dataframe tbody tr th:only-of-type {\n",
       "        vertical-align: middle;\n",
       "    }\n",
       "\n",
       "    .dataframe tbody tr th {\n",
       "        vertical-align: top;\n",
       "    }\n",
       "\n",
       "    .dataframe thead th {\n",
       "        text-align: right;\n",
       "    }\n",
       "</style>\n",
       "<table border=\"1\" class=\"dataframe\">\n",
       "  <thead>\n",
       "    <tr style=\"text-align: right;\">\n",
       "      <th></th>\n",
       "      <th>transaction_value</th>\n",
       "      <th>period</th>\n",
       "      <th>property_type</th>\n",
       "      <th>click_id</th>\n",
       "    </tr>\n",
       "  </thead>\n",
       "  <tbody>\n",
       "    <tr>\n",
       "      <th>19</th>\n",
       "      <td>351.62</td>\n",
       "      <td>period-6</td>\n",
       "      <td>hotel</td>\n",
       "      <td>847246ae-0ae9-4390-87a5-540f4e7c08d5</td>\n",
       "    </tr>\n",
       "    <tr>\n",
       "      <th>20</th>\n",
       "      <td>351.62</td>\n",
       "      <td>period-6</td>\n",
       "      <td>hotel</td>\n",
       "      <td>847246ae-0ae9-4390-87a5-540f4e7c08d5</td>\n",
       "    </tr>\n",
       "    <tr>\n",
       "      <th>146</th>\n",
       "      <td>238.34</td>\n",
       "      <td>period-4</td>\n",
       "      <td>alternative accomodation</td>\n",
       "      <td>9406e687-751e-42c1-a351-4d16e3bdac67</td>\n",
       "    </tr>\n",
       "    <tr>\n",
       "      <th>147</th>\n",
       "      <td>238.34</td>\n",
       "      <td>period-4</td>\n",
       "      <td>alternative accomodation</td>\n",
       "      <td>9406e687-751e-42c1-a351-4d16e3bdac67</td>\n",
       "    </tr>\n",
       "    <tr>\n",
       "      <th>219</th>\n",
       "      <td>391.45</td>\n",
       "      <td>period-4</td>\n",
       "      <td>hotel</td>\n",
       "      <td>9726881c-b200-4aed-80ba-e9997148e79b</td>\n",
       "    </tr>\n",
       "    <tr>\n",
       "      <th>220</th>\n",
       "      <td>391.45</td>\n",
       "      <td>period-4</td>\n",
       "      <td>hotel</td>\n",
       "      <td>9726881c-b200-4aed-80ba-e9997148e79b</td>\n",
       "    </tr>\n",
       "    <tr>\n",
       "      <th>306</th>\n",
       "      <td>211.50</td>\n",
       "      <td>period-4</td>\n",
       "      <td>hotel</td>\n",
       "      <td>b88ba1c2-7355-472c-8289-7cee07188c38</td>\n",
       "    </tr>\n",
       "    <tr>\n",
       "      <th>307</th>\n",
       "      <td>211.50</td>\n",
       "      <td>period-4</td>\n",
       "      <td>hotel</td>\n",
       "      <td>b88ba1c2-7355-472c-8289-7cee07188c38</td>\n",
       "    </tr>\n",
       "    <tr>\n",
       "      <th>387</th>\n",
       "      <td>154.77</td>\n",
       "      <td>period-4</td>\n",
       "      <td>other</td>\n",
       "      <td>8b295257-821c-4242-a756-9d4621342178</td>\n",
       "    </tr>\n",
       "    <tr>\n",
       "      <th>388</th>\n",
       "      <td>154.77</td>\n",
       "      <td>period-4</td>\n",
       "      <td>other</td>\n",
       "      <td>8b295257-821c-4242-a756-9d4621342178</td>\n",
       "    </tr>\n",
       "    <tr>\n",
       "      <th>389</th>\n",
       "      <td>154.77</td>\n",
       "      <td>period-4</td>\n",
       "      <td>other</td>\n",
       "      <td>8b295257-821c-4242-a756-9d4621342178</td>\n",
       "    </tr>\n",
       "    <tr>\n",
       "      <th>447</th>\n",
       "      <td>137.53</td>\n",
       "      <td>period-6</td>\n",
       "      <td>hotel</td>\n",
       "      <td>8dc713be-48df-4746-837e-2a240bb60540</td>\n",
       "    </tr>\n",
       "    <tr>\n",
       "      <th>656</th>\n",
       "      <td>104.56</td>\n",
       "      <td>period-4</td>\n",
       "      <td>hotel</td>\n",
       "      <td>130a8422-7095-4752-accb-36b97f91b4c8</td>\n",
       "    </tr>\n",
       "    <tr>\n",
       "      <th>657</th>\n",
       "      <td>104.56</td>\n",
       "      <td>period-4</td>\n",
       "      <td>hotel</td>\n",
       "      <td>130a8422-7095-4752-accb-36b97f91b4c8</td>\n",
       "    </tr>\n",
       "    <tr>\n",
       "      <th>658</th>\n",
       "      <td>104.56</td>\n",
       "      <td>period-4</td>\n",
       "      <td>hotel</td>\n",
       "      <td>130a8422-7095-4752-accb-36b97f91b4c8</td>\n",
       "    </tr>\n",
       "    <tr>\n",
       "      <th>703</th>\n",
       "      <td>186.72</td>\n",
       "      <td>period-5</td>\n",
       "      <td>hotel</td>\n",
       "      <td>3d23a2a4-0ce6-4cf5-8eb5-3c58a723b183</td>\n",
       "    </tr>\n",
       "    <tr>\n",
       "      <th>705</th>\n",
       "      <td>186.72</td>\n",
       "      <td>period-5</td>\n",
       "      <td>hotel</td>\n",
       "      <td>3d23a2a4-0ce6-4cf5-8eb5-3c58a723b183</td>\n",
       "    </tr>\n",
       "    <tr>\n",
       "      <th>734</th>\n",
       "      <td>105.68</td>\n",
       "      <td>period-5</td>\n",
       "      <td>hotel</td>\n",
       "      <td>f329c52f-d919-4e51-a0fc-024c0a50a537</td>\n",
       "    </tr>\n",
       "    <tr>\n",
       "      <th>735</th>\n",
       "      <td>105.68</td>\n",
       "      <td>period-5</td>\n",
       "      <td>hotel</td>\n",
       "      <td>f329c52f-d919-4e51-a0fc-024c0a50a537</td>\n",
       "    </tr>\n",
       "    <tr>\n",
       "      <th>1019</th>\n",
       "      <td>652.87</td>\n",
       "      <td>period-4</td>\n",
       "      <td>hotel</td>\n",
       "      <td>05343901-fba3-4419-bde0-207d6982b293</td>\n",
       "    </tr>\n",
       "    <tr>\n",
       "      <th>1020</th>\n",
       "      <td>652.87</td>\n",
       "      <td>period-4</td>\n",
       "      <td>hotel</td>\n",
       "      <td>05343901-fba3-4419-bde0-207d6982b293</td>\n",
       "    </tr>\n",
       "    <tr>\n",
       "      <th>1021</th>\n",
       "      <td>652.87</td>\n",
       "      <td>period-4</td>\n",
       "      <td>hotel</td>\n",
       "      <td>05343901-fba3-4419-bde0-207d6982b293</td>\n",
       "    </tr>\n",
       "    <tr>\n",
       "      <th>1069</th>\n",
       "      <td>152.64</td>\n",
       "      <td>period-5</td>\n",
       "      <td>alternative accomodation</td>\n",
       "      <td>488bc5f5-ec57-4cc5-9190-dbf4b9187c9b</td>\n",
       "    </tr>\n",
       "    <tr>\n",
       "      <th>1070</th>\n",
       "      <td>152.64</td>\n",
       "      <td>period-5</td>\n",
       "      <td>alternative accomodation</td>\n",
       "      <td>488bc5f5-ec57-4cc5-9190-dbf4b9187c9b</td>\n",
       "    </tr>\n",
       "    <tr>\n",
       "      <th>1259</th>\n",
       "      <td>137.53</td>\n",
       "      <td>period-6</td>\n",
       "      <td>hotel</td>\n",
       "      <td>8dc713be-48df-4746-837e-2a240bb60540</td>\n",
       "    </tr>\n",
       "    <tr>\n",
       "      <th>1310</th>\n",
       "      <td>510.43</td>\n",
       "      <td>period-6</td>\n",
       "      <td>hotel</td>\n",
       "      <td>ba1cd169-c612-4728-8d8c-4bce3e450845</td>\n",
       "    </tr>\n",
       "    <tr>\n",
       "      <th>1311</th>\n",
       "      <td>510.43</td>\n",
       "      <td>period-6</td>\n",
       "      <td>hotel</td>\n",
       "      <td>ba1cd169-c612-4728-8d8c-4bce3e450845</td>\n",
       "    </tr>\n",
       "    <tr>\n",
       "      <th>1312</th>\n",
       "      <td>510.43</td>\n",
       "      <td>period-6</td>\n",
       "      <td>hotel</td>\n",
       "      <td>ba1cd169-c612-4728-8d8c-4bce3e450845</td>\n",
       "    </tr>\n",
       "    <tr>\n",
       "      <th>1383</th>\n",
       "      <td>341.47</td>\n",
       "      <td>period-4</td>\n",
       "      <td>hotel</td>\n",
       "      <td>83c55dfb-3753-4d2e-836b-c815db3939fb</td>\n",
       "    </tr>\n",
       "    <tr>\n",
       "      <th>1384</th>\n",
       "      <td>341.47</td>\n",
       "      <td>period-4</td>\n",
       "      <td>hotel</td>\n",
       "      <td>83c55dfb-3753-4d2e-836b-c815db3939fb</td>\n",
       "    </tr>\n",
       "    <tr>\n",
       "      <th>1440</th>\n",
       "      <td>569.26</td>\n",
       "      <td>period-6</td>\n",
       "      <td>hotel</td>\n",
       "      <td>86f52e5d-d893-435c-9c5d-2e8529443bea</td>\n",
       "    </tr>\n",
       "    <tr>\n",
       "      <th>1441</th>\n",
       "      <td>569.26</td>\n",
       "      <td>period-6</td>\n",
       "      <td>hotel</td>\n",
       "      <td>86f52e5d-d893-435c-9c5d-2e8529443bea</td>\n",
       "    </tr>\n",
       "    <tr>\n",
       "      <th>1705</th>\n",
       "      <td>1232.45</td>\n",
       "      <td>period-4</td>\n",
       "      <td>hotel</td>\n",
       "      <td>2268ed20-1812-4f71-9a20-b2d4c508ddc5</td>\n",
       "    </tr>\n",
       "    <tr>\n",
       "      <th>1706</th>\n",
       "      <td>1232.45</td>\n",
       "      <td>period-4</td>\n",
       "      <td>hotel</td>\n",
       "      <td>2268ed20-1812-4f71-9a20-b2d4c508ddc5</td>\n",
       "    </tr>\n",
       "    <tr>\n",
       "      <th>2272</th>\n",
       "      <td>136.46</td>\n",
       "      <td>period-3</td>\n",
       "      <td>hotel</td>\n",
       "      <td>bad7bb94-0149-49e5-96b0-97c4451d5bb3</td>\n",
       "    </tr>\n",
       "    <tr>\n",
       "      <th>2308</th>\n",
       "      <td>282.95</td>\n",
       "      <td>period-3</td>\n",
       "      <td>hotel</td>\n",
       "      <td>a429ece3-8428-40fd-8bc4-f85faab048d4</td>\n",
       "    </tr>\n",
       "    <tr>\n",
       "      <th>2309</th>\n",
       "      <td>282.95</td>\n",
       "      <td>period-3</td>\n",
       "      <td>hotel</td>\n",
       "      <td>a429ece3-8428-40fd-8bc4-f85faab048d4</td>\n",
       "    </tr>\n",
       "    <tr>\n",
       "      <th>2622</th>\n",
       "      <td>454.10</td>\n",
       "      <td>period-3</td>\n",
       "      <td>alternative accomodation</td>\n",
       "      <td>3daba9d7-797f-4f26-9906-cffd8b899433</td>\n",
       "    </tr>\n",
       "    <tr>\n",
       "      <th>2623</th>\n",
       "      <td>454.10</td>\n",
       "      <td>period-3</td>\n",
       "      <td>alternative accomodation</td>\n",
       "      <td>3daba9d7-797f-4f26-9906-cffd8b899433</td>\n",
       "    </tr>\n",
       "    <tr>\n",
       "      <th>2774</th>\n",
       "      <td>387.73</td>\n",
       "      <td>period-2</td>\n",
       "      <td>alternative accomodation</td>\n",
       "      <td>d836c984-fff8-4bcd-8520-15c5650ac24b</td>\n",
       "    </tr>\n",
       "    <tr>\n",
       "      <th>2775</th>\n",
       "      <td>387.73</td>\n",
       "      <td>period-2</td>\n",
       "      <td>alternative accomodation</td>\n",
       "      <td>d836c984-fff8-4bcd-8520-15c5650ac24b</td>\n",
       "    </tr>\n",
       "    <tr>\n",
       "      <th>2813</th>\n",
       "      <td>125.49</td>\n",
       "      <td>period-3</td>\n",
       "      <td>hotel</td>\n",
       "      <td>f53c62ce-a5c9-4a70-9ac4-59046dea1e9a</td>\n",
       "    </tr>\n",
       "    <tr>\n",
       "      <th>2814</th>\n",
       "      <td>125.49</td>\n",
       "      <td>period-3</td>\n",
       "      <td>hotel</td>\n",
       "      <td>f53c62ce-a5c9-4a70-9ac4-59046dea1e9a</td>\n",
       "    </tr>\n",
       "    <tr>\n",
       "      <th>2841</th>\n",
       "      <td>189.82</td>\n",
       "      <td>period-1</td>\n",
       "      <td>hotel</td>\n",
       "      <td>30de58c8-7127-4536-98a1-61f4f15702c2</td>\n",
       "    </tr>\n",
       "    <tr>\n",
       "      <th>3052</th>\n",
       "      <td>171.26</td>\n",
       "      <td>period-5</td>\n",
       "      <td>hotel</td>\n",
       "      <td>8b2ff99f-45f0-499c-8496-116063f47ed0</td>\n",
       "    </tr>\n",
       "    <tr>\n",
       "      <th>3054</th>\n",
       "      <td>171.26</td>\n",
       "      <td>period-5</td>\n",
       "      <td>hotel</td>\n",
       "      <td>8b2ff99f-45f0-499c-8496-116063f47ed0</td>\n",
       "    </tr>\n",
       "    <tr>\n",
       "      <th>3065</th>\n",
       "      <td>2177.85</td>\n",
       "      <td>period-1</td>\n",
       "      <td>hotel</td>\n",
       "      <td>f6aa7e7b-3e2e-48ab-9f4e-677afc4fb3d6</td>\n",
       "    </tr>\n",
       "    <tr>\n",
       "      <th>3067</th>\n",
       "      <td>2177.85</td>\n",
       "      <td>period-1</td>\n",
       "      <td>hotel</td>\n",
       "      <td>f6aa7e7b-3e2e-48ab-9f4e-677afc4fb3d6</td>\n",
       "    </tr>\n",
       "    <tr>\n",
       "      <th>3151</th>\n",
       "      <td>136.46</td>\n",
       "      <td>period-3</td>\n",
       "      <td>hotel</td>\n",
       "      <td>bad7bb94-0149-49e5-96b0-97c4451d5bb3</td>\n",
       "    </tr>\n",
       "    <tr>\n",
       "      <th>3242</th>\n",
       "      <td>609.11</td>\n",
       "      <td>period-1</td>\n",
       "      <td>hotel</td>\n",
       "      <td>ae50bb42-8c2c-4873-a822-7b56715b7979</td>\n",
       "    </tr>\n",
       "    <tr>\n",
       "      <th>3243</th>\n",
       "      <td>609.11</td>\n",
       "      <td>period-1</td>\n",
       "      <td>hotel</td>\n",
       "      <td>ae50bb42-8c2c-4873-a822-7b56715b7979</td>\n",
       "    </tr>\n",
       "    <tr>\n",
       "      <th>3317</th>\n",
       "      <td>189.82</td>\n",
       "      <td>period-1</td>\n",
       "      <td>hotel</td>\n",
       "      <td>30de58c8-7127-4536-98a1-61f4f15702c2</td>\n",
       "    </tr>\n",
       "  </tbody>\n",
       "</table>\n",
       "</div>"
      ],
      "text/plain": [
       "      transaction_value    period             property_type  \\\n",
       "19               351.62  period-6                     hotel   \n",
       "20               351.62  period-6                     hotel   \n",
       "146              238.34  period-4  alternative accomodation   \n",
       "147              238.34  period-4  alternative accomodation   \n",
       "219              391.45  period-4                     hotel   \n",
       "220              391.45  period-4                     hotel   \n",
       "306              211.50  period-4                     hotel   \n",
       "307              211.50  period-4                     hotel   \n",
       "387              154.77  period-4                     other   \n",
       "388              154.77  period-4                     other   \n",
       "389              154.77  period-4                     other   \n",
       "447              137.53  period-6                     hotel   \n",
       "656              104.56  period-4                     hotel   \n",
       "657              104.56  period-4                     hotel   \n",
       "658              104.56  period-4                     hotel   \n",
       "703              186.72  period-5                     hotel   \n",
       "705              186.72  period-5                     hotel   \n",
       "734              105.68  period-5                     hotel   \n",
       "735              105.68  period-5                     hotel   \n",
       "1019             652.87  period-4                     hotel   \n",
       "1020             652.87  period-4                     hotel   \n",
       "1021             652.87  period-4                     hotel   \n",
       "1069             152.64  period-5  alternative accomodation   \n",
       "1070             152.64  period-5  alternative accomodation   \n",
       "1259             137.53  period-6                     hotel   \n",
       "1310             510.43  period-6                     hotel   \n",
       "1311             510.43  period-6                     hotel   \n",
       "1312             510.43  period-6                     hotel   \n",
       "1383             341.47  period-4                     hotel   \n",
       "1384             341.47  period-4                     hotel   \n",
       "1440             569.26  period-6                     hotel   \n",
       "1441             569.26  period-6                     hotel   \n",
       "1705            1232.45  period-4                     hotel   \n",
       "1706            1232.45  period-4                     hotel   \n",
       "2272             136.46  period-3                     hotel   \n",
       "2308             282.95  period-3                     hotel   \n",
       "2309             282.95  period-3                     hotel   \n",
       "2622             454.10  period-3  alternative accomodation   \n",
       "2623             454.10  period-3  alternative accomodation   \n",
       "2774             387.73  period-2  alternative accomodation   \n",
       "2775             387.73  period-2  alternative accomodation   \n",
       "2813             125.49  period-3                     hotel   \n",
       "2814             125.49  period-3                     hotel   \n",
       "2841             189.82  period-1                     hotel   \n",
       "3052             171.26  period-5                     hotel   \n",
       "3054             171.26  period-5                     hotel   \n",
       "3065            2177.85  period-1                     hotel   \n",
       "3067            2177.85  period-1                     hotel   \n",
       "3151             136.46  period-3                     hotel   \n",
       "3242             609.11  period-1                     hotel   \n",
       "3243             609.11  period-1                     hotel   \n",
       "3317             189.82  period-1                     hotel   \n",
       "\n",
       "                                  click_id  \n",
       "19    847246ae-0ae9-4390-87a5-540f4e7c08d5  \n",
       "20    847246ae-0ae9-4390-87a5-540f4e7c08d5  \n",
       "146   9406e687-751e-42c1-a351-4d16e3bdac67  \n",
       "147   9406e687-751e-42c1-a351-4d16e3bdac67  \n",
       "219   9726881c-b200-4aed-80ba-e9997148e79b  \n",
       "220   9726881c-b200-4aed-80ba-e9997148e79b  \n",
       "306   b88ba1c2-7355-472c-8289-7cee07188c38  \n",
       "307   b88ba1c2-7355-472c-8289-7cee07188c38  \n",
       "387   8b295257-821c-4242-a756-9d4621342178  \n",
       "388   8b295257-821c-4242-a756-9d4621342178  \n",
       "389   8b295257-821c-4242-a756-9d4621342178  \n",
       "447   8dc713be-48df-4746-837e-2a240bb60540  \n",
       "656   130a8422-7095-4752-accb-36b97f91b4c8  \n",
       "657   130a8422-7095-4752-accb-36b97f91b4c8  \n",
       "658   130a8422-7095-4752-accb-36b97f91b4c8  \n",
       "703   3d23a2a4-0ce6-4cf5-8eb5-3c58a723b183  \n",
       "705   3d23a2a4-0ce6-4cf5-8eb5-3c58a723b183  \n",
       "734   f329c52f-d919-4e51-a0fc-024c0a50a537  \n",
       "735   f329c52f-d919-4e51-a0fc-024c0a50a537  \n",
       "1019  05343901-fba3-4419-bde0-207d6982b293  \n",
       "1020  05343901-fba3-4419-bde0-207d6982b293  \n",
       "1021  05343901-fba3-4419-bde0-207d6982b293  \n",
       "1069  488bc5f5-ec57-4cc5-9190-dbf4b9187c9b  \n",
       "1070  488bc5f5-ec57-4cc5-9190-dbf4b9187c9b  \n",
       "1259  8dc713be-48df-4746-837e-2a240bb60540  \n",
       "1310  ba1cd169-c612-4728-8d8c-4bce3e450845  \n",
       "1311  ba1cd169-c612-4728-8d8c-4bce3e450845  \n",
       "1312  ba1cd169-c612-4728-8d8c-4bce3e450845  \n",
       "1383  83c55dfb-3753-4d2e-836b-c815db3939fb  \n",
       "1384  83c55dfb-3753-4d2e-836b-c815db3939fb  \n",
       "1440  86f52e5d-d893-435c-9c5d-2e8529443bea  \n",
       "1441  86f52e5d-d893-435c-9c5d-2e8529443bea  \n",
       "1705  2268ed20-1812-4f71-9a20-b2d4c508ddc5  \n",
       "1706  2268ed20-1812-4f71-9a20-b2d4c508ddc5  \n",
       "2272  bad7bb94-0149-49e5-96b0-97c4451d5bb3  \n",
       "2308  a429ece3-8428-40fd-8bc4-f85faab048d4  \n",
       "2309  a429ece3-8428-40fd-8bc4-f85faab048d4  \n",
       "2622  3daba9d7-797f-4f26-9906-cffd8b899433  \n",
       "2623  3daba9d7-797f-4f26-9906-cffd8b899433  \n",
       "2774  d836c984-fff8-4bcd-8520-15c5650ac24b  \n",
       "2775  d836c984-fff8-4bcd-8520-15c5650ac24b  \n",
       "2813  f53c62ce-a5c9-4a70-9ac4-59046dea1e9a  \n",
       "2814  f53c62ce-a5c9-4a70-9ac4-59046dea1e9a  \n",
       "2841  30de58c8-7127-4536-98a1-61f4f15702c2  \n",
       "3052  8b2ff99f-45f0-499c-8496-116063f47ed0  \n",
       "3054  8b2ff99f-45f0-499c-8496-116063f47ed0  \n",
       "3065  f6aa7e7b-3e2e-48ab-9f4e-677afc4fb3d6  \n",
       "3067  f6aa7e7b-3e2e-48ab-9f4e-677afc4fb3d6  \n",
       "3151  bad7bb94-0149-49e5-96b0-97c4451d5bb3  \n",
       "3242  ae50bb42-8c2c-4873-a822-7b56715b7979  \n",
       "3243  ae50bb42-8c2c-4873-a822-7b56715b7979  \n",
       "3317  30de58c8-7127-4536-98a1-61f4f15702c2  "
      ]
     },
     "execution_count": 10,
     "metadata": {},
     "output_type": "execute_result"
    }
   ],
   "source": [
    "booking[booking.duplicated(keep=False)]"
   ]
  },
  {
   "cell_type": "markdown",
   "id": "1c948729",
   "metadata": {},
   "source": [
    "I think it could be a mistake, when person makes a booking, then returns back and make it once again, so i feel free to drop them "
   ]
  },
  {
   "cell_type": "code",
   "execution_count": 11,
   "id": "ad09fd9d",
   "metadata": {},
   "outputs": [],
   "source": [
    "booking = booking.drop_duplicates(keep='first')"
   ]
  },
  {
   "cell_type": "code",
   "execution_count": 12,
   "id": "1e8d657e",
   "metadata": {},
   "outputs": [
    {
     "data": {
      "text/plain": [
       "0"
      ]
     },
     "execution_count": 12,
     "metadata": {},
     "output_type": "execute_result"
    }
   ],
   "source": [
    "booking.duplicated().sum()"
   ]
  },
  {
   "cell_type": "code",
   "execution_count": 13,
   "id": "2143c01b",
   "metadata": {},
   "outputs": [],
   "source": [
    "ratio = round(len(booking)/len(clickout) * 100, 3)"
   ]
  },
  {
   "cell_type": "code",
   "execution_count": 14,
   "id": "d48c35b1",
   "metadata": {},
   "outputs": [
    {
     "name": "stdout",
     "output_type": "stream",
     "text": [
      "The % of booking from all clickouts is 0.413\n"
     ]
    }
   ],
   "source": [
    "print(\"The % of booking from all clickouts is {}\".format(ratio))"
   ]
  },
  {
   "cell_type": "markdown",
   "id": "40a53d24",
   "metadata": {},
   "source": [
    "## data analysis"
   ]
  },
  {
   "cell_type": "markdown",
   "id": "f2a2dfe4",
   "metadata": {},
   "source": [
    "1. I assume that quality of traffic in this case should describe the convertion of clickouts to bookings. \n",
    "why? - here is the simplest explanation: wrong or low-quality traffic often means, that the people who are brought to the web page (in this case with booking option) usually have another interests. For example - i am quit often redirected to such pages after trying to buy a ticket for a plane. Normally, it is going very close to each other, but in my case i have a place to stay in many destinations, so i don't need any accomodation. "
   ]
  },
  {
   "cell_type": "markdown",
   "id": "66fd248c",
   "metadata": {},
   "source": [
    "so here is an easy task - try to understand which of WL_partners brought the comany more bookings. "
   ]
  },
  {
   "cell_type": "code",
   "execution_count": 15,
   "id": "6dd9f1c4",
   "metadata": {},
   "outputs": [],
   "source": [
    "check_of_crossings = pd.merge(booking,clickout,on='click_id')"
   ]
  },
  {
   "cell_type": "code",
   "execution_count": 16,
   "id": "1afd1a00",
   "metadata": {},
   "outputs": [
    {
     "name": "stdout",
     "output_type": "stream",
     "text": [
      "<class 'pandas.core.frame.DataFrame'>\n",
      "Int64Index: 3169 entries, 0 to 3168\n",
      "Data columns (total 13 columns):\n",
      " #   Column             Non-Null Count  Dtype  \n",
      "---  ------             --------------  -----  \n",
      " 0   transaction_value  3169 non-null   float64\n",
      " 1   period             3169 non-null   object \n",
      " 2   property_type      3169 non-null   object \n",
      " 3   click_id           3169 non-null   object \n",
      " 4   WL_partner         3169 non-null   object \n",
      " 5   locale             3169 non-null   object \n",
      " 6   session_id         3169 non-null   int64  \n",
      " 7   hotel_id           3169 non-null   int64  \n",
      " 8   device_id          3169 non-null   int64  \n",
      " 9   departure_days     3169 non-null   int64  \n",
      " 10  arrival_days       3169 non-null   int64  \n",
      " 11  revenue            3169 non-null   float64\n",
      " 12  period             3169 non-null   object \n",
      "dtypes: float64(2), int64(5), object(6)\n",
      "memory usage: 346.6+ KB\n"
     ]
    }
   ],
   "source": [
    "check_of_crossings.info()"
   ]
  },
  {
   "cell_type": "markdown",
   "id": "7c081efb",
   "metadata": {},
   "source": [
    "There are indeed crossings between two tables, so we can assume, that clickout in one table signals about some bookings"
   ]
  },
  {
   "cell_type": "code",
   "execution_count": 17,
   "id": "440813b7",
   "metadata": {},
   "outputs": [],
   "source": [
    "list_of_bookings_clicks = check_of_crossings['click_id'].to_list()"
   ]
  },
  {
   "cell_type": "code",
   "execution_count": 18,
   "id": "4f6ebb8f",
   "metadata": {},
   "outputs": [],
   "source": [
    "clickout['success'] = booking['click_id'].isin(list_of_bookings_clicks)"
   ]
  },
  {
   "cell_type": "code",
   "execution_count": 19,
   "id": "6b9f1114",
   "metadata": {},
   "outputs": [
    {
     "data": {
      "text/html": [
       "<div>\n",
       "<style scoped>\n",
       "    .dataframe tbody tr th:only-of-type {\n",
       "        vertical-align: middle;\n",
       "    }\n",
       "\n",
       "    .dataframe tbody tr th {\n",
       "        vertical-align: top;\n",
       "    }\n",
       "\n",
       "    .dataframe thead th {\n",
       "        text-align: right;\n",
       "    }\n",
       "</style>\n",
       "<table border=\"1\" class=\"dataframe\">\n",
       "  <thead>\n",
       "    <tr style=\"text-align: right;\">\n",
       "      <th></th>\n",
       "      <th>WL_partner</th>\n",
       "      <th>locale</th>\n",
       "      <th>session_id</th>\n",
       "      <th>hotel_id</th>\n",
       "      <th>device_id</th>\n",
       "      <th>departure_days</th>\n",
       "      <th>arrival_days</th>\n",
       "      <th>revenue</th>\n",
       "      <th>click_id</th>\n",
       "      <th>period</th>\n",
       "      <th>success</th>\n",
       "    </tr>\n",
       "  </thead>\n",
       "  <tbody>\n",
       "    <tr>\n",
       "      <th>0</th>\n",
       "      <td>A</td>\n",
       "      <td>US</td>\n",
       "      <td>2021112922610036461</td>\n",
       "      <td>222240</td>\n",
       "      <td>3</td>\n",
       "      <td>283</td>\n",
       "      <td>282</td>\n",
       "      <td>31.70</td>\n",
       "      <td>0cf74b91-8601-47f4-a7d7-e72ba56de031</td>\n",
       "      <td>period-6</td>\n",
       "      <td>True</td>\n",
       "    </tr>\n",
       "    <tr>\n",
       "      <th>1</th>\n",
       "      <td>A</td>\n",
       "      <td>US</td>\n",
       "      <td>2021112902030026666</td>\n",
       "      <td>4118624</td>\n",
       "      <td>27</td>\n",
       "      <td>19</td>\n",
       "      <td>18</td>\n",
       "      <td>47.70</td>\n",
       "      <td>09cbb121-32d3-4e64-ab40-63399d525b00</td>\n",
       "      <td>period-6</td>\n",
       "      <td>True</td>\n",
       "    </tr>\n",
       "    <tr>\n",
       "      <th>2</th>\n",
       "      <td>A</td>\n",
       "      <td>DE</td>\n",
       "      <td>2021112902090036586</td>\n",
       "      <td>48544592</td>\n",
       "      <td>42</td>\n",
       "      <td>36</td>\n",
       "      <td>27</td>\n",
       "      <td>21.20</td>\n",
       "      <td>2c1bddc6-284f-40d7-a54d-1a697d178499</td>\n",
       "      <td>period-6</td>\n",
       "      <td>True</td>\n",
       "    </tr>\n",
       "    <tr>\n",
       "      <th>3</th>\n",
       "      <td>A</td>\n",
       "      <td>UK</td>\n",
       "      <td>2021112919730105838</td>\n",
       "      <td>3681740</td>\n",
       "      <td>30</td>\n",
       "      <td>32</td>\n",
       "      <td>31</td>\n",
       "      <td>9.95</td>\n",
       "      <td>c08aff24-e634-4ad5-a9a4-6bc2dba5fb92</td>\n",
       "      <td>period-6</td>\n",
       "      <td>False</td>\n",
       "    </tr>\n",
       "    <tr>\n",
       "      <th>4</th>\n",
       "      <td>A</td>\n",
       "      <td>UK</td>\n",
       "      <td>2021112919730105838</td>\n",
       "      <td>27251384</td>\n",
       "      <td>30</td>\n",
       "      <td>32</td>\n",
       "      <td>31</td>\n",
       "      <td>27.95</td>\n",
       "      <td>87eca29d-3e06-4a85-8fac-3d66b594a221</td>\n",
       "      <td>period-6</td>\n",
       "      <td>True</td>\n",
       "    </tr>\n",
       "  </tbody>\n",
       "</table>\n",
       "</div>"
      ],
      "text/plain": [
       "  WL_partner locale           session_id  hotel_id  device_id  departure_days  \\\n",
       "0          A     US  2021112922610036461    222240          3             283   \n",
       "1          A     US  2021112902030026666   4118624         27              19   \n",
       "2          A     DE  2021112902090036586  48544592         42              36   \n",
       "3          A     UK  2021112919730105838   3681740         30              32   \n",
       "4          A     UK  2021112919730105838  27251384         30              32   \n",
       "\n",
       "   arrival_days  revenue                              click_id   period   \\\n",
       "0           282    31.70  0cf74b91-8601-47f4-a7d7-e72ba56de031  period-6   \n",
       "1            18    47.70  09cbb121-32d3-4e64-ab40-63399d525b00  period-6   \n",
       "2            27    21.20  2c1bddc6-284f-40d7-a54d-1a697d178499  period-6   \n",
       "3            31     9.95  c08aff24-e634-4ad5-a9a4-6bc2dba5fb92  period-6   \n",
       "4            31    27.95  87eca29d-3e06-4a85-8fac-3d66b594a221  period-6   \n",
       "\n",
       "  success  \n",
       "0    True  \n",
       "1    True  \n",
       "2    True  \n",
       "3   False  \n",
       "4    True  "
      ]
     },
     "execution_count": 19,
     "metadata": {},
     "output_type": "execute_result"
    }
   ],
   "source": [
    "clickout.head()"
   ]
  },
  {
   "cell_type": "code",
   "execution_count": 20,
   "id": "14ba913c",
   "metadata": {},
   "outputs": [],
   "source": [
    "pivot_table_success = clickout.groupby('WL_partner').agg({'success': 'sum', 'click_id': 'count', 'revenue': 'sum'}).reset_index()"
   ]
  },
  {
   "cell_type": "code",
   "execution_count": 21,
   "id": "b256c7ed",
   "metadata": {},
   "outputs": [],
   "source": [
    "pivot_table_success['ratio'] = pivot_table_success['success'] / pivot_table_success['click_id']"
   ]
  },
  {
   "cell_type": "code",
   "execution_count": 22,
   "id": "ea24a6b8",
   "metadata": {},
   "outputs": [],
   "source": [
    "pivot_table_success['RPC'] = pivot_table_success['revenue'] / pivot_table_success['click_id']"
   ]
  },
  {
   "cell_type": "code",
   "execution_count": 23,
   "id": "94909383",
   "metadata": {},
   "outputs": [],
   "source": [
    "pd.options.display.float_format = '{:.5f}'.format"
   ]
  },
  {
   "cell_type": "code",
   "execution_count": 24,
   "id": "95fe96b5",
   "metadata": {},
   "outputs": [
    {
     "data": {
      "text/html": [
       "<div>\n",
       "<style scoped>\n",
       "    .dataframe tbody tr th:only-of-type {\n",
       "        vertical-align: middle;\n",
       "    }\n",
       "\n",
       "    .dataframe tbody tr th {\n",
       "        vertical-align: top;\n",
       "    }\n",
       "\n",
       "    .dataframe thead th {\n",
       "        text-align: right;\n",
       "    }\n",
       "</style>\n",
       "<table border=\"1\" class=\"dataframe\">\n",
       "  <thead>\n",
       "    <tr style=\"text-align: right;\">\n",
       "      <th></th>\n",
       "      <th>WL_partner</th>\n",
       "      <th>success</th>\n",
       "      <th>click_id</th>\n",
       "      <th>revenue</th>\n",
       "      <th>ratio</th>\n",
       "      <th>RPC</th>\n",
       "    </tr>\n",
       "  </thead>\n",
       "  <tbody>\n",
       "    <tr>\n",
       "      <th>0</th>\n",
       "      <td>A</td>\n",
       "      <td>2210</td>\n",
       "      <td>432640</td>\n",
       "      <td>13852894.49991</td>\n",
       "      <td>0.00511</td>\n",
       "      <td>32.01945</td>\n",
       "    </tr>\n",
       "    <tr>\n",
       "      <th>3</th>\n",
       "      <td>D</td>\n",
       "      <td>640</td>\n",
       "      <td>195755</td>\n",
       "      <td>5887062.50002</td>\n",
       "      <td>0.00327</td>\n",
       "      <td>30.07363</td>\n",
       "    </tr>\n",
       "    <tr>\n",
       "      <th>1</th>\n",
       "      <td>B</td>\n",
       "      <td>319</td>\n",
       "      <td>102859</td>\n",
       "      <td>3243805.55001</td>\n",
       "      <td>0.00310</td>\n",
       "      <td>31.53643</td>\n",
       "    </tr>\n",
       "    <tr>\n",
       "      <th>2</th>\n",
       "      <td>C</td>\n",
       "      <td>0</td>\n",
       "      <td>103002</td>\n",
       "      <td>3105475.40001</td>\n",
       "      <td>0.00000</td>\n",
       "      <td>30.14966</td>\n",
       "    </tr>\n",
       "  </tbody>\n",
       "</table>\n",
       "</div>"
      ],
      "text/plain": [
       "  WL_partner  success  click_id        revenue   ratio      RPC\n",
       "0          A     2210    432640 13852894.49991 0.00511 32.01945\n",
       "3          D      640    195755  5887062.50002 0.00327 30.07363\n",
       "1          B      319    102859  3243805.55001 0.00310 31.53643\n",
       "2          C        0    103002  3105475.40001 0.00000 30.14966"
      ]
     },
     "execution_count": 24,
     "metadata": {},
     "output_type": "execute_result"
    }
   ],
   "source": [
    "pivot_table_success.sort_values('ratio', ascending = False)"
   ]
  },
  {
   "cell_type": "markdown",
   "id": "b362eea2",
   "metadata": {},
   "source": [
    "So, what we can see here - the highest number of succesfull bookings are brought by parther A - 2210. Also the ratio of overall clicks and successfull booking is the highest for partner A. The RPC (revenue per click) is also highest for prtner A The wickest partner with low quality traffic is partner C - just 0 bookings from 100 000 views - terrible. "
   ]
  },
  {
   "cell_type": "code",
   "execution_count": 25,
   "id": "e6cc2fcf",
   "metadata": {},
   "outputs": [],
   "source": [
    "import seaborn as sns\n",
    "from matplotlib import pyplot as plt"
   ]
  },
  {
   "cell_type": "code",
   "execution_count": 26,
   "id": "88cd905e",
   "metadata": {},
   "outputs": [
    {
     "data": {
      "image/png": "[encoded data removed]",
      "text/plain": [
       "<Figure size 1080x720 with 1 Axes>"
      ]
     },
     "metadata": {},
     "output_type": "display_data"
    }
   ],
   "source": [
    "sns.set_theme(style=\"whitegrid\")\n",
    "plt.figure(figsize=(15,10))\n",
    "ax = sns.barplot(x=\"WL_partner\", y=\"click_id\", data=pivot_table_success)\n",
    "plt.title('Clicks total by partner')\n",
    "plt.xlabel('partner')\n",
    "plt.ylabel('Clicks')\n",
    "plt.show()"
   ]
  },
  {
   "cell_type": "code",
   "execution_count": 27,
   "id": "82fa1775",
   "metadata": {},
   "outputs": [
    {
     "data": {
      "image/png": "[encoded data removed]",
      "text/plain": [
       "<Figure size 1080x720 with 1 Axes>"
      ]
     },
     "metadata": {},
     "output_type": "display_data"
    }
   ],
   "source": [
    "plt.figure(figsize=(15,10))\n",
    "ax = sns.barplot(x=\"WL_partner\", y=\"revenue\", data=pivot_table_success)\n",
    "plt.title('Revenue total by partner')\n",
    "plt.xlabel('partner')\n",
    "plt.ylabel('Revenue')\n",
    "plt.show()"
   ]
  },
  {
   "cell_type": "code",
   "execution_count": 28,
   "id": "26a48e02",
   "metadata": {},
   "outputs": [
    {
     "data": {
      "image/png": "[encoded data removed]",
      "text/plain": [
       "<Figure size 1080x720 with 1 Axes>"
      ]
     },
     "metadata": {},
     "output_type": "display_data"
    }
   ],
   "source": [
    "plt.figure(figsize=(15,10))\n",
    "ax = sns.barplot(x=\"WL_partner\", y=\"ratio\", data=pivot_table_success)\n",
    "plt.title('Quality by partner')\n",
    "plt.xlabel('partner')\n",
    "plt.ylabel('ratio')\n",
    "plt.show()"
   ]
  },
  {
   "cell_type": "markdown",
   "id": "9ae235a6",
   "metadata": {},
   "source": [
    "### more analysis"
   ]
  },
  {
   "cell_type": "code",
   "execution_count": 29,
   "id": "c7161ae5",
   "metadata": {},
   "outputs": [
    {
     "data": {
      "text/html": [
       "<div>\n",
       "<style scoped>\n",
       "    .dataframe tbody tr th:only-of-type {\n",
       "        vertical-align: middle;\n",
       "    }\n",
       "\n",
       "    .dataframe tbody tr th {\n",
       "        vertical-align: top;\n",
       "    }\n",
       "\n",
       "    .dataframe thead th {\n",
       "        text-align: right;\n",
       "    }\n",
       "</style>\n",
       "<table border=\"1\" class=\"dataframe\">\n",
       "  <thead>\n",
       "    <tr style=\"text-align: right;\">\n",
       "      <th></th>\n",
       "      <th>transaction_value</th>\n",
       "      <th>period</th>\n",
       "      <th>property_type</th>\n",
       "      <th>click_id</th>\n",
       "    </tr>\n",
       "  </thead>\n",
       "  <tbody>\n",
       "    <tr>\n",
       "      <th>0</th>\n",
       "      <td>102.55000</td>\n",
       "      <td>period-6</td>\n",
       "      <td>alternative accomodation</td>\n",
       "      <td>324a9f0f-79b4-4e70-8e7f-da7b7680090f</td>\n",
       "    </tr>\n",
       "    <tr>\n",
       "      <th>1</th>\n",
       "      <td>188.90000</td>\n",
       "      <td>period-6</td>\n",
       "      <td>hotel</td>\n",
       "      <td>dd17ca00-2cd2-4112-b994-42377ec5b05a</td>\n",
       "    </tr>\n",
       "    <tr>\n",
       "      <th>2</th>\n",
       "      <td>161.93000</td>\n",
       "      <td>period-6</td>\n",
       "      <td>hotel</td>\n",
       "      <td>97692de6-614e-4934-a83d-f65a03b95922</td>\n",
       "    </tr>\n",
       "    <tr>\n",
       "      <th>3</th>\n",
       "      <td>683.66000</td>\n",
       "      <td>period-6</td>\n",
       "      <td>alternative accomodation</td>\n",
       "      <td>970d7c0c-bc2e-4198-98f6-7ee617459b49</td>\n",
       "    </tr>\n",
       "    <tr>\n",
       "      <th>4</th>\n",
       "      <td>333.21000</td>\n",
       "      <td>period-6</td>\n",
       "      <td>hotel</td>\n",
       "      <td>a0b5a803-5ad6-46d4-b100-2384a8b6ad6b</td>\n",
       "    </tr>\n",
       "  </tbody>\n",
       "</table>\n",
       "</div>"
      ],
      "text/plain": [
       "   transaction_value    period             property_type  \\\n",
       "0          102.55000  period-6  alternative accomodation   \n",
       "1          188.90000  period-6                     hotel   \n",
       "2          161.93000  period-6                     hotel   \n",
       "3          683.66000  period-6  alternative accomodation   \n",
       "4          333.21000  period-6                     hotel   \n",
       "\n",
       "                               click_id  \n",
       "0  324a9f0f-79b4-4e70-8e7f-da7b7680090f  \n",
       "1  dd17ca00-2cd2-4112-b994-42377ec5b05a  \n",
       "2  97692de6-614e-4934-a83d-f65a03b95922  \n",
       "3  970d7c0c-bc2e-4198-98f6-7ee617459b49  \n",
       "4  a0b5a803-5ad6-46d4-b100-2384a8b6ad6b  "
      ]
     },
     "execution_count": 29,
     "metadata": {},
     "output_type": "execute_result"
    }
   ],
   "source": [
    "booking.head()"
   ]
  },
  {
   "cell_type": "code",
   "execution_count": 30,
   "id": "f30172ae",
   "metadata": {},
   "outputs": [],
   "source": [
    "booking_info = booking.groupby('property_type').agg({'transaction_value': 'sum', 'click_id': 'count'}).reset_index()"
   ]
  },
  {
   "cell_type": "code",
   "execution_count": 31,
   "id": "f7b4e754",
   "metadata": {},
   "outputs": [],
   "source": [
    "check_of_crossings = pd.merge(clickout,booking, how = 'outer',  on='click_id')"
   ]
  },
  {
   "cell_type": "code",
   "execution_count": 32,
   "id": "ed5431cb",
   "metadata": {},
   "outputs": [
    {
     "name": "stdout",
     "output_type": "stream",
     "text": [
      "<class 'pandas.core.frame.DataFrame'>\n",
      "Int64Index: 834675 entries, 0 to 834674\n",
      "Data columns (total 14 columns):\n",
      " #   Column             Non-Null Count   Dtype  \n",
      "---  ------             --------------   -----  \n",
      " 0   WL_partner         834401 non-null  object \n",
      " 1   locale             834401 non-null  object \n",
      " 2   session_id         834401 non-null  float64\n",
      " 3   hotel_id           834401 non-null  float64\n",
      " 4   device_id          834401 non-null  float64\n",
      " 5   departure_days     834401 non-null  float64\n",
      " 6   arrival_days       834401 non-null  float64\n",
      " 7   revenue            834401 non-null  float64\n",
      " 8   click_id           834675 non-null  object \n",
      " 9   period             834401 non-null  object \n",
      " 10  success            3444 non-null    object \n",
      " 11  transaction_value  3443 non-null    float64\n",
      " 12  period             3443 non-null    object \n",
      " 13  property_type      3443 non-null    object \n",
      "dtypes: float64(7), object(7)\n",
      "memory usage: 95.5+ MB\n"
     ]
    }
   ],
   "source": [
    "check_of_crossings.info()"
   ]
  },
  {
   "cell_type": "code",
   "execution_count": 33,
   "id": "ae3f2eb6",
   "metadata": {},
   "outputs": [
    {
     "data": {
      "text/html": [
       "<div>\n",
       "<style scoped>\n",
       "    .dataframe tbody tr th:only-of-type {\n",
       "        vertical-align: middle;\n",
       "    }\n",
       "\n",
       "    .dataframe tbody tr th {\n",
       "        vertical-align: top;\n",
       "    }\n",
       "\n",
       "    .dataframe thead th {\n",
       "        text-align: right;\n",
       "    }\n",
       "</style>\n",
       "<table border=\"1\" class=\"dataframe\">\n",
       "  <thead>\n",
       "    <tr style=\"text-align: right;\">\n",
       "      <th></th>\n",
       "      <th>WL_partner</th>\n",
       "      <th>locale</th>\n",
       "      <th>session_id</th>\n",
       "      <th>hotel_id</th>\n",
       "      <th>device_id</th>\n",
       "      <th>departure_days</th>\n",
       "      <th>arrival_days</th>\n",
       "      <th>revenue</th>\n",
       "      <th>click_id</th>\n",
       "      <th>period</th>\n",
       "      <th>success</th>\n",
       "      <th>transaction_value</th>\n",
       "      <th>period</th>\n",
       "      <th>property_type</th>\n",
       "    </tr>\n",
       "  </thead>\n",
       "  <tbody>\n",
       "    <tr>\n",
       "      <th>0</th>\n",
       "      <td>A</td>\n",
       "      <td>US</td>\n",
       "      <td>2021112922610036480.00000</td>\n",
       "      <td>222240.00000</td>\n",
       "      <td>3.00000</td>\n",
       "      <td>283.00000</td>\n",
       "      <td>282.00000</td>\n",
       "      <td>31.70000</td>\n",
       "      <td>0cf74b91-8601-47f4-a7d7-e72ba56de031</td>\n",
       "      <td>period-6</td>\n",
       "      <td>True</td>\n",
       "      <td>NaN</td>\n",
       "      <td>NaN</td>\n",
       "      <td>NaN</td>\n",
       "    </tr>\n",
       "    <tr>\n",
       "      <th>1</th>\n",
       "      <td>A</td>\n",
       "      <td>US</td>\n",
       "      <td>2021112902030026752.00000</td>\n",
       "      <td>4118624.00000</td>\n",
       "      <td>27.00000</td>\n",
       "      <td>19.00000</td>\n",
       "      <td>18.00000</td>\n",
       "      <td>47.70000</td>\n",
       "      <td>09cbb121-32d3-4e64-ab40-63399d525b00</td>\n",
       "      <td>period-6</td>\n",
       "      <td>True</td>\n",
       "      <td>NaN</td>\n",
       "      <td>NaN</td>\n",
       "      <td>NaN</td>\n",
       "    </tr>\n",
       "    <tr>\n",
       "      <th>2</th>\n",
       "      <td>A</td>\n",
       "      <td>DE</td>\n",
       "      <td>2021112902090036480.00000</td>\n",
       "      <td>48544592.00000</td>\n",
       "      <td>42.00000</td>\n",
       "      <td>36.00000</td>\n",
       "      <td>27.00000</td>\n",
       "      <td>21.20000</td>\n",
       "      <td>2c1bddc6-284f-40d7-a54d-1a697d178499</td>\n",
       "      <td>period-6</td>\n",
       "      <td>True</td>\n",
       "      <td>NaN</td>\n",
       "      <td>NaN</td>\n",
       "      <td>NaN</td>\n",
       "    </tr>\n",
       "    <tr>\n",
       "      <th>3</th>\n",
       "      <td>A</td>\n",
       "      <td>UK</td>\n",
       "      <td>2021112919730105856.00000</td>\n",
       "      <td>3681740.00000</td>\n",
       "      <td>30.00000</td>\n",
       "      <td>32.00000</td>\n",
       "      <td>31.00000</td>\n",
       "      <td>9.95000</td>\n",
       "      <td>c08aff24-e634-4ad5-a9a4-6bc2dba5fb92</td>\n",
       "      <td>period-6</td>\n",
       "      <td>False</td>\n",
       "      <td>NaN</td>\n",
       "      <td>NaN</td>\n",
       "      <td>NaN</td>\n",
       "    </tr>\n",
       "    <tr>\n",
       "      <th>4</th>\n",
       "      <td>A</td>\n",
       "      <td>UK</td>\n",
       "      <td>2021112919730105856.00000</td>\n",
       "      <td>27251384.00000</td>\n",
       "      <td>30.00000</td>\n",
       "      <td>32.00000</td>\n",
       "      <td>31.00000</td>\n",
       "      <td>27.95000</td>\n",
       "      <td>87eca29d-3e06-4a85-8fac-3d66b594a221</td>\n",
       "      <td>period-6</td>\n",
       "      <td>True</td>\n",
       "      <td>NaN</td>\n",
       "      <td>NaN</td>\n",
       "      <td>NaN</td>\n",
       "    </tr>\n",
       "  </tbody>\n",
       "</table>\n",
       "</div>"
      ],
      "text/plain": [
       "  WL_partner locale                session_id       hotel_id  device_id  \\\n",
       "0          A     US 2021112922610036480.00000   222240.00000    3.00000   \n",
       "1          A     US 2021112902030026752.00000  4118624.00000   27.00000   \n",
       "2          A     DE 2021112902090036480.00000 48544592.00000   42.00000   \n",
       "3          A     UK 2021112919730105856.00000  3681740.00000   30.00000   \n",
       "4          A     UK 2021112919730105856.00000 27251384.00000   30.00000   \n",
       "\n",
       "   departure_days  arrival_days  revenue  \\\n",
       "0       283.00000     282.00000 31.70000   \n",
       "1        19.00000      18.00000 47.70000   \n",
       "2        36.00000      27.00000 21.20000   \n",
       "3        32.00000      31.00000  9.95000   \n",
       "4        32.00000      31.00000 27.95000   \n",
       "\n",
       "                               click_id   period  success  transaction_value  \\\n",
       "0  0cf74b91-8601-47f4-a7d7-e72ba56de031  period-6    True                NaN   \n",
       "1  09cbb121-32d3-4e64-ab40-63399d525b00  period-6    True                NaN   \n",
       "2  2c1bddc6-284f-40d7-a54d-1a697d178499  period-6    True                NaN   \n",
       "3  c08aff24-e634-4ad5-a9a4-6bc2dba5fb92  period-6   False                NaN   \n",
       "4  87eca29d-3e06-4a85-8fac-3d66b594a221  period-6    True                NaN   \n",
       "\n",
       "  period property_type  \n",
       "0    NaN           NaN  \n",
       "1    NaN           NaN  \n",
       "2    NaN           NaN  \n",
       "3    NaN           NaN  \n",
       "4    NaN           NaN  "
      ]
     },
     "execution_count": 33,
     "metadata": {},
     "output_type": "execute_result"
    }
   ],
   "source": [
    "check_of_crossings.head()"
   ]
  },
  {
   "cell_type": "code",
   "execution_count": 34,
   "id": "08c24c34",
   "metadata": {},
   "outputs": [],
   "source": [
    "check_of_crossings['stay_duration'] = check_of_crossings['departure_days'] - check_of_crossings['arrival_days']"
   ]
  },
  {
   "cell_type": "code",
   "execution_count": 35,
   "id": "575220bb",
   "metadata": {},
   "outputs": [],
   "source": [
    "pivot = check_of_crossings.groupby('property_type').agg({'transaction_value': 'sum', 'click_id': 'count', 'stay_duration': 'mean'}).reset_index()"
   ]
  },
  {
   "cell_type": "code",
   "execution_count": 36,
   "id": "4943a505",
   "metadata": {},
   "outputs": [],
   "source": [
    "pivot['avg_spend'] = pivot['transaction_value'] / pivot['click_id'] \n",
    "pivot['spend_per_day'] = pivot['avg_spend'] / pivot['stay_duration'] "
   ]
  },
  {
   "cell_type": "code",
   "execution_count": 37,
   "id": "ac25e94c",
   "metadata": {},
   "outputs": [
    {
     "data": {
      "text/html": [
       "<div>\n",
       "<style scoped>\n",
       "    .dataframe tbody tr th:only-of-type {\n",
       "        vertical-align: middle;\n",
       "    }\n",
       "\n",
       "    .dataframe tbody tr th {\n",
       "        vertical-align: top;\n",
       "    }\n",
       "\n",
       "    .dataframe thead th {\n",
       "        text-align: right;\n",
       "    }\n",
       "</style>\n",
       "<table border=\"1\" class=\"dataframe\">\n",
       "  <thead>\n",
       "    <tr style=\"text-align: right;\">\n",
       "      <th></th>\n",
       "      <th>property_type</th>\n",
       "      <th>transaction_value</th>\n",
       "      <th>click_id</th>\n",
       "      <th>stay_duration</th>\n",
       "      <th>avg_spend</th>\n",
       "      <th>spend_per_day</th>\n",
       "    </tr>\n",
       "  </thead>\n",
       "  <tbody>\n",
       "    <tr>\n",
       "      <th>0</th>\n",
       "      <td>alternative accomodation</td>\n",
       "      <td>310532.06000</td>\n",
       "      <td>427</td>\n",
       "      <td>2.21809</td>\n",
       "      <td>727.24136</td>\n",
       "      <td>327.86901</td>\n",
       "    </tr>\n",
       "    <tr>\n",
       "      <th>1</th>\n",
       "      <td>hotel</td>\n",
       "      <td>895058.96000</td>\n",
       "      <td>2975</td>\n",
       "      <td>1.40790</td>\n",
       "      <td>300.86015</td>\n",
       "      <td>213.69361</td>\n",
       "    </tr>\n",
       "    <tr>\n",
       "      <th>2</th>\n",
       "      <td>other</td>\n",
       "      <td>39677.38000</td>\n",
       "      <td>41</td>\n",
       "      <td>2.11429</td>\n",
       "      <td>967.74098</td>\n",
       "      <td>457.71533</td>\n",
       "    </tr>\n",
       "  </tbody>\n",
       "</table>\n",
       "</div>"
      ],
      "text/plain": [
       "              property_type  transaction_value  click_id  stay_duration  \\\n",
       "0  alternative accomodation       310532.06000       427        2.21809   \n",
       "1                     hotel       895058.96000      2975        1.40790   \n",
       "2                     other        39677.38000        41        2.11429   \n",
       "\n",
       "   avg_spend  spend_per_day  \n",
       "0  727.24136      327.86901  \n",
       "1  300.86015      213.69361  \n",
       "2  967.74098      457.71533  "
      ]
     },
     "execution_count": 37,
     "metadata": {},
     "output_type": "execute_result"
    }
   ],
   "source": [
    "pivot"
   ]
  },
  {
   "cell_type": "markdown",
   "id": "63ec7c53",
   "metadata": {},
   "source": [
    "o, here we can see, that the biggest number of booking were made for hotels with least average spends per whole period of stay and the same for the daily average. Other category is the most expensive, as well as most rare. Stay duration is also lowest in hotel, while in alternative accomodation is longest. "
   ]
  },
  {
   "cell_type": "code",
   "execution_count": 38,
   "id": "95a0e8c1",
   "metadata": {},
   "outputs": [
    {
     "data": {
      "image/png": "[encoded data removed]",
      "text/plain": [
       "<Figure size 1080x720 with 1 Axes>"
      ]
     },
     "metadata": {},
     "output_type": "display_data"
    }
   ],
   "source": [
    "plt.figure(figsize=(15,10))\n",
    "ax = sns.barplot(x=\"property_type\", y=\"stay_duration\", data=pivot)\n",
    "plt.title('Average stay duration')\n",
    "plt.xlabel('property')\n",
    "plt.ylabel('duration')\n",
    "plt.show()"
   ]
  },
  {
   "cell_type": "code",
   "execution_count": 39,
   "id": "2b88a4d3",
   "metadata": {},
   "outputs": [
    {
     "data": {
      "image/png": "[encoded data removed]",
      "text/plain": [
       "<Figure size 1080x720 with 1 Axes>"
      ]
     },
     "metadata": {},
     "output_type": "display_data"
    }
   ],
   "source": [
    "plt.figure(figsize=(15,10))\n",
    "ax = sns.barplot(x=\"property_type\", y=\"click_id\", data=pivot)\n",
    "plt.title('Number of bookings')\n",
    "plt.xlabel('property')\n",
    "plt.ylabel('Amount')\n",
    "plt.show()"
   ]
  },
  {
   "cell_type": "code",
   "execution_count": 40,
   "id": "92eb1335",
   "metadata": {},
   "outputs": [
    {
     "data": {
      "image/png": "[encoded data removed]",
      "text/plain": [
       "<Figure size 1080x720 with 1 Axes>"
      ]
     },
     "metadata": {},
     "output_type": "display_data"
    }
   ],
   "source": [
    "plt.figure(figsize=(15,10))\n",
    "ax = sns.barplot(x=\"property_type\", y=\"spend_per_day\", data=pivot)\n",
    "plt.title('Average price per day')\n",
    "plt.xlabel('property')\n",
    "plt.ylabel('price')\n",
    "plt.show()"
   ]
  },
  {
   "cell_type": "markdown",
   "id": "c0e09157",
   "metadata": {},
   "source": [
    "Let's do the same for the devce types, where we have 13 of them"
   ]
  },
  {
   "cell_type": "code",
   "execution_count": 41,
   "id": "51ecbb8e",
   "metadata": {},
   "outputs": [
    {
     "data": {
      "text/plain": [
       "27.00000    316471\n",
       "3.00000     163513\n",
       "30.00000    152121\n",
       "21.00000     85028\n",
       "42.00000     36322\n",
       "6.00000      30034\n",
       "0.00000      24690\n",
       "24.00000     14311\n",
       "39.00000      6209\n",
       "33.00000      3888\n",
       "18.00000      1602\n",
       "36.00000       208\n",
       "9.00000          4\n",
       "Name: device_id, dtype: int64"
      ]
     },
     "execution_count": 41,
     "metadata": {},
     "output_type": "execute_result"
    }
   ],
   "source": [
    "check_of_crossings['device_id'].value_counts()"
   ]
  },
  {
   "cell_type": "code",
   "execution_count": 42,
   "id": "bdb8b104",
   "metadata": {},
   "outputs": [],
   "source": [
    "pivot_device = check_of_crossings.groupby('device_id').agg({'transaction_value': 'sum', 'click_id': 'count', 'stay_duration': 'mean', 'success': 'sum'}).reset_index()"
   ]
  },
  {
   "cell_type": "code",
   "execution_count": 43,
   "id": "b603e6e5",
   "metadata": {},
   "outputs": [],
   "source": [
    "pivot_device['avg_spend'] = pivot_device['transaction_value'] / pivot_device['click_id'] \n",
    "pivot_device['spend_per_day'] = pivot_device['avg_spend'] / pivot_device['stay_duration'] \n",
    "pivot_device['convertion'] = pivot_device['success'] / pivot_device['click_id'] \n"
   ]
  },
  {
   "cell_type": "code",
   "execution_count": 44,
   "id": "610a1ebc",
   "metadata": {},
   "outputs": [],
   "source": [
    "pivot_device = pivot_device.sort_values(['click_id', 'transaction_value'], ascending = False)"
   ]
  },
  {
   "cell_type": "code",
   "execution_count": 45,
   "id": "7aa596cf",
   "metadata": {},
   "outputs": [],
   "source": [
    "pivot_device = pivot_device.rename(columns={'transaction_value': 'total_sum', 'click_id': 'number_of_clicks'})"
   ]
  },
  {
   "cell_type": "code",
   "execution_count": 46,
   "id": "1816dd4f",
   "metadata": {},
   "outputs": [],
   "source": [
    "list_of_values = pivot_device.columns.to_list()[1:]"
   ]
  },
  {
   "cell_type": "code",
   "execution_count": 47,
   "id": "4997d4b4",
   "metadata": {},
   "outputs": [
    {
     "data": {
      "text/html": [
       "<div>\n",
       "<style scoped>\n",
       "    .dataframe tbody tr th:only-of-type {\n",
       "        vertical-align: middle;\n",
       "    }\n",
       "\n",
       "    .dataframe tbody tr th {\n",
       "        vertical-align: top;\n",
       "    }\n",
       "\n",
       "    .dataframe thead th {\n",
       "        text-align: right;\n",
       "    }\n",
       "</style>\n",
       "<table border=\"1\" class=\"dataframe\">\n",
       "  <thead>\n",
       "    <tr style=\"text-align: right;\">\n",
       "      <th></th>\n",
       "      <th>device_id</th>\n",
       "      <th>total_sum</th>\n",
       "      <th>number_of_clicks</th>\n",
       "      <th>stay_duration</th>\n",
       "      <th>success</th>\n",
       "      <th>avg_spend</th>\n",
       "      <th>spend_per_day</th>\n",
       "      <th>convertion</th>\n",
       "    </tr>\n",
       "  </thead>\n",
       "  <tbody>\n",
       "    <tr>\n",
       "      <th>7</th>\n",
       "      <td>27.00000</td>\n",
       "      <td>261135.24000</td>\n",
       "      <td>316471</td>\n",
       "      <td>1.54331</td>\n",
       "      <td>1071</td>\n",
       "      <td>0.82515</td>\n",
       "      <td>0.53466</td>\n",
       "      <td>0.00338</td>\n",
       "    </tr>\n",
       "    <tr>\n",
       "      <th>1</th>\n",
       "      <td>3.00000</td>\n",
       "      <td>319853.58000</td>\n",
       "      <td>163513</td>\n",
       "      <td>1.58904</td>\n",
       "      <td>667</td>\n",
       "      <td>1.95614</td>\n",
       "      <td>1.23102</td>\n",
       "      <td>0.00408</td>\n",
       "    </tr>\n",
       "    <tr>\n",
       "      <th>8</th>\n",
       "      <td>30.00000</td>\n",
       "      <td>130545.22000</td>\n",
       "      <td>152121</td>\n",
       "      <td>1.48017</td>\n",
       "      <td>611</td>\n",
       "      <td>0.85817</td>\n",
       "      <td>0.57978</td>\n",
       "      <td>0.00402</td>\n",
       "    </tr>\n",
       "    <tr>\n",
       "      <th>5</th>\n",
       "      <td>21.00000</td>\n",
       "      <td>115913.12000</td>\n",
       "      <td>85028</td>\n",
       "      <td>1.59558</td>\n",
       "      <td>342</td>\n",
       "      <td>1.36323</td>\n",
       "      <td>0.85438</td>\n",
       "      <td>0.00402</td>\n",
       "    </tr>\n",
       "    <tr>\n",
       "      <th>12</th>\n",
       "      <td>42.00000</td>\n",
       "      <td>97663.74000</td>\n",
       "      <td>36322</td>\n",
       "      <td>1.64974</td>\n",
       "      <td>160</td>\n",
       "      <td>2.68883</td>\n",
       "      <td>1.62985</td>\n",
       "      <td>0.00441</td>\n",
       "    </tr>\n",
       "    <tr>\n",
       "      <th>2</th>\n",
       "      <td>6.00000</td>\n",
       "      <td>26264.95000</td>\n",
       "      <td>30034</td>\n",
       "      <td>1.61930</td>\n",
       "      <td>118</td>\n",
       "      <td>0.87451</td>\n",
       "      <td>0.54005</td>\n",
       "      <td>0.00393</td>\n",
       "    </tr>\n",
       "    <tr>\n",
       "      <th>0</th>\n",
       "      <td>0.00000</td>\n",
       "      <td>148319.94000</td>\n",
       "      <td>24690</td>\n",
       "      <td>1.68141</td>\n",
       "      <td>119</td>\n",
       "      <td>6.00729</td>\n",
       "      <td>3.57277</td>\n",
       "      <td>0.00482</td>\n",
       "    </tr>\n",
       "    <tr>\n",
       "      <th>6</th>\n",
       "      <td>24.00000</td>\n",
       "      <td>12159.04000</td>\n",
       "      <td>14311</td>\n",
       "      <td>1.61044</td>\n",
       "      <td>44</td>\n",
       "      <td>0.84963</td>\n",
       "      <td>0.52758</td>\n",
       "      <td>0.00307</td>\n",
       "    </tr>\n",
       "    <tr>\n",
       "      <th>11</th>\n",
       "      <td>39.00000</td>\n",
       "      <td>5848.67000</td>\n",
       "      <td>6209</td>\n",
       "      <td>1.60139</td>\n",
       "      <td>26</td>\n",
       "      <td>0.94197</td>\n",
       "      <td>0.58822</td>\n",
       "      <td>0.00419</td>\n",
       "    </tr>\n",
       "    <tr>\n",
       "      <th>9</th>\n",
       "      <td>33.00000</td>\n",
       "      <td>1332.11000</td>\n",
       "      <td>3888</td>\n",
       "      <td>1.55607</td>\n",
       "      <td>11</td>\n",
       "      <td>0.34262</td>\n",
       "      <td>0.22018</td>\n",
       "      <td>0.00283</td>\n",
       "    </tr>\n",
       "    <tr>\n",
       "      <th>4</th>\n",
       "      <td>18.00000</td>\n",
       "      <td>0.00000</td>\n",
       "      <td>1602</td>\n",
       "      <td>1.87516</td>\n",
       "      <td>1</td>\n",
       "      <td>0.00000</td>\n",
       "      <td>0.00000</td>\n",
       "      <td>0.00062</td>\n",
       "    </tr>\n",
       "    <tr>\n",
       "      <th>10</th>\n",
       "      <td>36.00000</td>\n",
       "      <td>0.00000</td>\n",
       "      <td>208</td>\n",
       "      <td>1.46635</td>\n",
       "      <td>0</td>\n",
       "      <td>0.00000</td>\n",
       "      <td>0.00000</td>\n",
       "      <td>0.00000</td>\n",
       "    </tr>\n",
       "    <tr>\n",
       "      <th>3</th>\n",
       "      <td>9.00000</td>\n",
       "      <td>0.00000</td>\n",
       "      <td>4</td>\n",
       "      <td>1.50000</td>\n",
       "      <td>0</td>\n",
       "      <td>0.00000</td>\n",
       "      <td>0.00000</td>\n",
       "      <td>0.00000</td>\n",
       "    </tr>\n",
       "  </tbody>\n",
       "</table>\n",
       "</div>"
      ],
      "text/plain": [
       "    device_id    total_sum  number_of_clicks  stay_duration  success  \\\n",
       "7    27.00000 261135.24000            316471        1.54331     1071   \n",
       "1     3.00000 319853.58000            163513        1.58904      667   \n",
       "8    30.00000 130545.22000            152121        1.48017      611   \n",
       "5    21.00000 115913.12000             85028        1.59558      342   \n",
       "12   42.00000  97663.74000             36322        1.64974      160   \n",
       "2     6.00000  26264.95000             30034        1.61930      118   \n",
       "0     0.00000 148319.94000             24690        1.68141      119   \n",
       "6    24.00000  12159.04000             14311        1.61044       44   \n",
       "11   39.00000   5848.67000              6209        1.60139       26   \n",
       "9    33.00000   1332.11000              3888        1.55607       11   \n",
       "4    18.00000      0.00000              1602        1.87516        1   \n",
       "10   36.00000      0.00000               208        1.46635        0   \n",
       "3     9.00000      0.00000                 4        1.50000        0   \n",
       "\n",
       "    avg_spend  spend_per_day  convertion  \n",
       "7     0.82515        0.53466     0.00338  \n",
       "1     1.95614        1.23102     0.00408  \n",
       "8     0.85817        0.57978     0.00402  \n",
       "5     1.36323        0.85438     0.00402  \n",
       "12    2.68883        1.62985     0.00441  \n",
       "2     0.87451        0.54005     0.00393  \n",
       "0     6.00729        3.57277     0.00482  \n",
       "6     0.84963        0.52758     0.00307  \n",
       "11    0.94197        0.58822     0.00419  \n",
       "9     0.34262        0.22018     0.00283  \n",
       "4     0.00000        0.00000     0.00062  \n",
       "10    0.00000        0.00000     0.00000  \n",
       "3     0.00000        0.00000     0.00000  "
      ]
     },
     "execution_count": 47,
     "metadata": {},
     "output_type": "execute_result"
    }
   ],
   "source": [
    "pivot_device"
   ]
  },
  {
   "cell_type": "markdown",
   "id": "45291cc9",
   "metadata": {},
   "source": [
    "What we can notice is following: \n",
    "    \n",
    "    - device type 27 is the most popular and at the second place for total sum of all bookings and by far the best in number of bookings, but only on 10th place for the average duration of stay and and 9th for average spends and in the last part of convertion. \n",
    "    \n",
    "    - there is device number 0, which is on the 3rd place for overall sum of payments, in the middle of total number of clicks, is on top for average spends and best convertion from click to booking.\n",
    "    \n",
    "    - tottaly worst device type is 9, alomost worst in all metrics \n",
    "    \n",
    "    - device 42 is also showing pretty good metrics values. "
   ]
  },
  {
   "cell_type": "code",
   "execution_count": 48,
   "id": "99b6f711",
   "metadata": {
    "scrolled": true
   },
   "outputs": [
    {
     "data": {
      "image/png": "[encoded data removed]",
      "text/plain": [
       "<Figure size 864x216 with 1 Axes>"
      ]
     },
     "metadata": {},
     "output_type": "display_data"
    },
    {
     "data": {
      "image/png": "[encoded data removed]",
      "text/plain": [
       "<Figure size 864x216 with 1 Axes>"
      ]
     },
     "metadata": {},
     "output_type": "display_data"
    },
    {
     "data": {
      "image/png": "[encoded data removed]",
      "text/plain": [
       "<Figure size 864x216 with 1 Axes>"
      ]
     },
     "metadata": {},
     "output_type": "display_data"
    },
    {
     "data": {
      "image/png": "[encoded data removed]",
      "text/plain": [
       "<Figure size 864x216 with 1 Axes>"
      ]
     },
     "metadata": {},
     "output_type": "display_data"
    },
    {
     "data": {
      "image/png": "[encoded data removed]",
      "text/plain": [
       "<Figure size 864x216 with 1 Axes>"
      ]
     },
     "metadata": {},
     "output_type": "display_data"
    },
    {
     "data": {
      "image/png": "[encoded data removed]",
      "text/plain": [
       "<Figure size 864x216 with 1 Axes>"
      ]
     },
     "metadata": {},
     "output_type": "display_data"
    },
    {
     "data": {
      "image/png": "[encoded data removed]",
      "text/plain": [
       "<Figure size 864x216 with 1 Axes>"
      ]
     },
     "metadata": {},
     "output_type": "display_data"
    }
   ],
   "source": [
    "for i in list_of_values: \n",
    "    plt.figure(figsize=(12,3))\n",
    "    ax = sns.barplot(x=\"device_id\", y=i, data=pivot_device, order=pivot_device.sort_values(i, ascending=False).device_id)\n",
    "    plt.title('Plot of {}'.format(i))\n",
    "    plt.xlabel('device_id')\n",
    "    plt.ylabel('price')\n",
    "    plt.show()"
   ]
  },
  {
   "cell_type": "markdown",
   "id": "ac5b38b9",
   "metadata": {},
   "source": [
    "# Conclusion\n"
   ]
  },
  {
   "cell_type": "markdown",
   "id": "d9d9aa93",
   "metadata": {},
   "source": [
    "Why is this important for trivago and partners to search for a device perfomance?\n",
    "first of all to correctly prioritize targeting for the ads, but in this case - it may also signals about wrong or not very comfortable or correct implimentation into whitelabels. Wrong view, with not loading map or without clear explanation may prevent from clicking on the map with proposals. At the same time, if this proposition with map is very far from the focus of visitor, visitor may also miss it.    "
   ]
  },
  {
   "cell_type": "markdown",
   "id": "a301ab5a",
   "metadata": {},
   "source": [
    "So, in order to improve perfomance, it may need several test with the ouput on each device, whuck struggles comparing to others in perfomance. They should be compared to the best and taking into account the posiible layout on the device all the mistakes could be eleminated. "
   ]
  },
  {
   "cell_type": "markdown",
   "id": "b2dabd3a",
   "metadata": {},
   "source": [
    "### Partners\n"
   ]
  },
  {
   "cell_type": "markdown",
   "id": "dabe0563",
   "metadata": {},
   "source": [
    "The highest number of succesfull bookings are brought by parther A - 2210. Also the ratio of overall clicks and successfull booking is the highest for partner A. The RPC (revenue per click) is also highest for prtner A The wickest partner with low quality traffic is partner C - just 0 bookings from 100 000 views - terrible. "
   ]
  },
  {
   "cell_type": "markdown",
   "id": "2872738b",
   "metadata": {},
   "source": [
    "### Devices"
   ]
  },
  {
   "cell_type": "markdown",
   "id": "e13aada9",
   "metadata": {},
   "source": [
    "    \n",
    "   - device type 27 is the most popular and at the second place for total sum of all bookings and by far the best in number of bookings, but only on 10th place for the average duration of stay and and 9th for average spends and in the last part of convertion. \n",
    "    \n",
    "   - there is device number 0, which is on the 3rd place for overall sum of payments, in the middle of total number of clicks, is on top for average spends and best convertion from click to booking.\n",
    "    \n",
    "   - tottaly worst device type is 9, alomost worst in all metrics \n",
    "    \n",
    "   - device 42 is also showing pretty good metrics values. "
   ]
  },
  {
   "cell_type": "code",
   "execution_count": null,
   "id": "a44a5e8f",
   "metadata": {},
   "outputs": [],
   "source": []
  }
 ],
 "metadata": {
  "kernelspec": {
   "display_name": "Python 3",
   "language": "python",
   "name": "python3"
  },
  "language_info": {
   "codemirror_mode": {
    "name": "ipython",
    "version": 3
   },
   "file_extension": ".py",
   "mimetype": "text/x-python",
   "name": "python",
   "nbconvert_exporter": "python",
   "pygments_lexer": "ipython3",
   "version": "3.8.8"
  }
 },
 "nbformat": 4,
 "nbformat_minor": 5
}
