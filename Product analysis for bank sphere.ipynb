{
 "cells": [
  {
   "cell_type": "markdown",
   "id": "cc617601",
   "metadata": {},
   "source": [
    "# n26 assignment test"
   ]
  },
  {
   "cell_type": "markdown",
   "id": "8cfff8ed",
   "metadata": {},
   "source": [
    "### Instructions"
   ]
  },
  {
   "cell_type": "markdown",
   "id": "20a499b6",
   "metadata": {},
   "source": [
    "#### data description"
   ]
  },
  {
   "cell_type": "markdown",
   "id": "b1cdd400",
   "metadata": {},
   "source": [
    "You have been provided with two data files:\n",
    "\n",
    "    \n",
    "  **1. n26_funnel_steps.csv - Data extract of our on-boarding funnel, with one entry for\n",
    "each time a user successfully passes through a given funnel step.**\n",
    "\n",
    "\n",
    "  **2. n26_users.csv - Corresponding data on user level features such as market, age\n",
    "etc.**\n",
    "\n",
    "*Please be aware that the data has not fully cleaned so you should watch out for\n",
    "inconsistencies and treat them appropriately.*"
   ]
  },
  {
   "cell_type": "markdown",
   "id": "ef0b0bae",
   "metadata": {},
   "source": [
    "#### Tasks"
   ]
  },
  {
   "cell_type": "markdown",
   "id": "6cc79be8",
   "metadata": {},
   "source": [
    "Choose 2 KPI's which you think are the most important for measuring the success of our\n",
    "funnel.\n",
    "For each:\n",
    "\n",
    "\n",
    "a. Provide a summary of N26's performance against this KPI across our different\n",
    "user groups.\n",
    "\n",
    "\n",
    "b. Given what you know about N26 and using your analysis in part (a), provide\n",
    "some specific recommendations as to how we might improve this metric.\n"
   ]
  },
  {
   "cell_type": "markdown",
   "id": "50e5b2c5",
   "metadata": {},
   "source": [
    "### Libraries"
   ]
  },
  {
   "cell_type": "code",
   "execution_count": 1,
   "id": "d28784a1",
   "metadata": {},
   "outputs": [],
   "source": [
    "import pandas as pd\n",
    "import seaborn as sns\n",
    "from matplotlib import pyplot as plt\n",
    "from plotly import graph_objects as go \n",
    "import plotly.express as px\n",
    "import numpy as np\n",
    "import math\n",
    "from scipy import stats as st\n",
    "import plotly.io as pio"
   ]
  },
  {
   "cell_type": "code",
   "execution_count": 2,
   "id": "6a4a3724",
   "metadata": {},
   "outputs": [],
   "source": [
    "import warnings\n",
    "warnings.simplefilter(\"ignore\")"
   ]
  },
  {
   "cell_type": "markdown",
   "id": "b3eef280",
   "metadata": {},
   "source": [
    "### Data uploading"
   ]
  },
  {
   "cell_type": "code",
   "execution_count": 3,
   "id": "50dc4f1d",
   "metadata": {},
   "outputs": [],
   "source": [
    "n26_funnel_steps = pd.read_csv('n26_funnel_steps.csv')"
   ]
  },
  {
   "cell_type": "code",
   "execution_count": 4,
   "id": "d919b5e0",
   "metadata": {},
   "outputs": [],
   "source": [
    "n26_users = pd.read_csv('n26_users.csv')"
   ]
  },
  {
   "cell_type": "markdown",
   "id": "add9a4bf",
   "metadata": {},
   "source": [
    "### Data validation and cleaning"
   ]
  },
  {
   "cell_type": "code",
   "execution_count": 5,
   "id": "dc041270",
   "metadata": {},
   "outputs": [
    {
     "data": {
      "text/html": [
       "<div>\n",
       "<style scoped>\n",
       "    .dataframe tbody tr th:only-of-type {\n",
       "        vertical-align: middle;\n",
       "    }\n",
       "\n",
       "    .dataframe tbody tr th {\n",
       "        vertical-align: top;\n",
       "    }\n",
       "\n",
       "    .dataframe thead th {\n",
       "        text-align: right;\n",
       "    }\n",
       "</style>\n",
       "<table border=\"1\" class=\"dataframe\">\n",
       "  <thead>\n",
       "    <tr style=\"text-align: right;\">\n",
       "      <th></th>\n",
       "      <th>user_id</th>\n",
       "      <th>funnel_step</th>\n",
       "      <th>timestamp</th>\n",
       "    </tr>\n",
       "  </thead>\n",
       "  <tbody>\n",
       "    <tr>\n",
       "      <th>0</th>\n",
       "      <td>b64caac4-c6a8-4b85-b504-2bbd3e28e175</td>\n",
       "      <td>sign_up_initiated</td>\n",
       "      <td>2019-01-05 23:00:00</td>\n",
       "    </tr>\n",
       "    <tr>\n",
       "      <th>1</th>\n",
       "      <td>77d7332a-3220-49e2-bd86-780a421926ac</td>\n",
       "      <td>sign_up_initiated</td>\n",
       "      <td>2019-01-27 02:00:00</td>\n",
       "    </tr>\n",
       "    <tr>\n",
       "      <th>2</th>\n",
       "      <td>24fcc884-8938-49f1-ae3b-3d33ed3a9c53</td>\n",
       "      <td>sign_up_initiated</td>\n",
       "      <td>2019-01-30 02:00:00</td>\n",
       "    </tr>\n",
       "    <tr>\n",
       "      <th>3</th>\n",
       "      <td>55b9ab0e-72b8-4751-8225-623014cb877f</td>\n",
       "      <td>sign_up_initiated</td>\n",
       "      <td>2019-01-28 14:00:00</td>\n",
       "    </tr>\n",
       "    <tr>\n",
       "      <th>4</th>\n",
       "      <td>11f32569-a4b1-4850-a90a-e535e6242168</td>\n",
       "      <td>sign_up_initiated</td>\n",
       "      <td>2019-01-02 04:00:00</td>\n",
       "    </tr>\n",
       "  </tbody>\n",
       "</table>\n",
       "</div>"
      ],
      "text/plain": [
       "                                user_id        funnel_step  \\\n",
       "0  b64caac4-c6a8-4b85-b504-2bbd3e28e175  sign_up_initiated   \n",
       "1  77d7332a-3220-49e2-bd86-780a421926ac  sign_up_initiated   \n",
       "2  24fcc884-8938-49f1-ae3b-3d33ed3a9c53  sign_up_initiated   \n",
       "3  55b9ab0e-72b8-4751-8225-623014cb877f  sign_up_initiated   \n",
       "4  11f32569-a4b1-4850-a90a-e535e6242168  sign_up_initiated   \n",
       "\n",
       "             timestamp  \n",
       "0  2019-01-05 23:00:00  \n",
       "1  2019-01-27 02:00:00  \n",
       "2  2019-01-30 02:00:00  \n",
       "3  2019-01-28 14:00:00  \n",
       "4  2019-01-02 04:00:00  "
      ]
     },
     "execution_count": 5,
     "metadata": {},
     "output_type": "execute_result"
    }
   ],
   "source": [
    "n26_funnel_steps.head()"
   ]
  },
  {
   "cell_type": "code",
   "execution_count": 6,
   "id": "f0c30724",
   "metadata": {},
   "outputs": [
    {
     "data": {
      "text/html": [
       "<div>\n",
       "<style scoped>\n",
       "    .dataframe tbody tr th:only-of-type {\n",
       "        vertical-align: middle;\n",
       "    }\n",
       "\n",
       "    .dataframe tbody tr th {\n",
       "        vertical-align: top;\n",
       "    }\n",
       "\n",
       "    .dataframe thead th {\n",
       "        text-align: right;\n",
       "    }\n",
       "</style>\n",
       "<table border=\"1\" class=\"dataframe\">\n",
       "  <thead>\n",
       "    <tr style=\"text-align: right;\">\n",
       "      <th></th>\n",
       "      <th>user_id</th>\n",
       "      <th>channel</th>\n",
       "      <th>market</th>\n",
       "      <th>platform</th>\n",
       "      <th>age</th>\n",
       "    </tr>\n",
       "  </thead>\n",
       "  <tbody>\n",
       "    <tr>\n",
       "      <th>0</th>\n",
       "      <td>b64caac4-c6a8-4b85-b504-2bbd3e28e175</td>\n",
       "      <td>organic</td>\n",
       "      <td>FRA</td>\n",
       "      <td>ios</td>\n",
       "      <td>35</td>\n",
       "    </tr>\n",
       "    <tr>\n",
       "      <th>1</th>\n",
       "      <td>77d7332a-3220-49e2-bd86-780a421926ac</td>\n",
       "      <td>organic</td>\n",
       "      <td>FRA</td>\n",
       "      <td>ios</td>\n",
       "      <td>20</td>\n",
       "    </tr>\n",
       "    <tr>\n",
       "      <th>2</th>\n",
       "      <td>24fcc884-8938-49f1-ae3b-3d33ed3a9c53</td>\n",
       "      <td>paid_social</td>\n",
       "      <td>FRA</td>\n",
       "      <td>ios</td>\n",
       "      <td>25</td>\n",
       "    </tr>\n",
       "    <tr>\n",
       "      <th>3</th>\n",
       "      <td>55b9ab0e-72b8-4751-8225-623014cb877f</td>\n",
       "      <td>affiliate</td>\n",
       "      <td>FRA</td>\n",
       "      <td>ios</td>\n",
       "      <td>24</td>\n",
       "    </tr>\n",
       "    <tr>\n",
       "      <th>4</th>\n",
       "      <td>11f32569-a4b1-4850-a90a-e535e6242168</td>\n",
       "      <td>organic</td>\n",
       "      <td>FRA</td>\n",
       "      <td>ios</td>\n",
       "      <td>23</td>\n",
       "    </tr>\n",
       "  </tbody>\n",
       "</table>\n",
       "</div>"
      ],
      "text/plain": [
       "                                user_id      channel market platform  age\n",
       "0  b64caac4-c6a8-4b85-b504-2bbd3e28e175      organic    FRA      ios   35\n",
       "1  77d7332a-3220-49e2-bd86-780a421926ac      organic    FRA      ios   20\n",
       "2  24fcc884-8938-49f1-ae3b-3d33ed3a9c53  paid_social    FRA      ios   25\n",
       "3  55b9ab0e-72b8-4751-8225-623014cb877f    affiliate    FRA      ios   24\n",
       "4  11f32569-a4b1-4850-a90a-e535e6242168      organic    FRA      ios   23"
      ]
     },
     "execution_count": 6,
     "metadata": {},
     "output_type": "execute_result"
    }
   ],
   "source": [
    "n26_users.head()"
   ]
  },
  {
   "cell_type": "markdown",
   "id": "ad800757",
   "metadata": {},
   "source": [
    "**n26_funnel_steps validation**"
   ]
  },
  {
   "cell_type": "code",
   "execution_count": 7,
   "id": "85c095e7",
   "metadata": {},
   "outputs": [
    {
     "name": "stdout",
     "output_type": "stream",
     "text": [
      "<class 'pandas.core.frame.DataFrame'>\n",
      "RangeIndex: 52412 entries, 0 to 52411\n",
      "Data columns (total 3 columns):\n",
      " #   Column       Non-Null Count  Dtype \n",
      "---  ------       --------------  ----- \n",
      " 0   user_id      52412 non-null  object\n",
      " 1   funnel_step  52412 non-null  object\n",
      " 2   timestamp    52412 non-null  object\n",
      "dtypes: object(3)\n",
      "memory usage: 1.2+ MB\n"
     ]
    }
   ],
   "source": [
    "n26_funnel_steps.info()"
   ]
  },
  {
   "cell_type": "markdown",
   "id": "8521a21f",
   "metadata": {},
   "source": [
    "at this moment it is obvious that timestamp has wrong format, which is needed to be changed \n",
    "\n",
    "there are no any misses in dataframe, at least i can't see them now"
   ]
  },
  {
   "cell_type": "code",
   "execution_count": 8,
   "id": "45904703",
   "metadata": {},
   "outputs": [],
   "source": [
    "n26_funnel_steps['timestamp'] = pd.to_datetime(n26_funnel_steps['timestamp'])"
   ]
  },
  {
   "cell_type": "markdown",
   "id": "274c7bac",
   "metadata": {},
   "source": [
    "lets check duplicates"
   ]
  },
  {
   "cell_type": "code",
   "execution_count": 9,
   "id": "20e6175f",
   "metadata": {},
   "outputs": [
    {
     "data": {
      "text/plain": [
       "0"
      ]
     },
     "execution_count": 9,
     "metadata": {},
     "output_type": "execute_result"
    }
   ],
   "source": [
    "n26_funnel_steps.duplicated().sum()"
   ]
  },
  {
   "cell_type": "markdown",
   "id": "5c692b48",
   "metadata": {},
   "source": [
    "There are no duplicated rows"
   ]
  },
  {
   "cell_type": "markdown",
   "id": "d7f99f87",
   "metadata": {},
   "source": [
    "**n26_users validation**"
   ]
  },
  {
   "cell_type": "code",
   "execution_count": 10,
   "id": "556454f2",
   "metadata": {},
   "outputs": [
    {
     "name": "stdout",
     "output_type": "stream",
     "text": [
      "<class 'pandas.core.frame.DataFrame'>\n",
      "RangeIndex: 21229 entries, 0 to 21228\n",
      "Data columns (total 5 columns):\n",
      " #   Column    Non-Null Count  Dtype \n",
      "---  ------    --------------  ----- \n",
      " 0   user_id   21229 non-null  object\n",
      " 1   channel   21229 non-null  object\n",
      " 2   market    21229 non-null  object\n",
      " 3   platform  21229 non-null  object\n",
      " 4   age       21229 non-null  int64 \n",
      "dtypes: int64(1), object(4)\n",
      "memory usage: 829.4+ KB\n"
     ]
    }
   ],
   "source": [
    "n26_users.info()"
   ]
  },
  {
   "cell_type": "code",
   "execution_count": 11,
   "id": "afbfad36",
   "metadata": {},
   "outputs": [
    {
     "data": {
      "text/plain": [
       "0"
      ]
     },
     "execution_count": 11,
     "metadata": {},
     "output_type": "execute_result"
    }
   ],
   "source": [
    "n26_users.duplicated().sum()"
   ]
  },
  {
   "cell_type": "markdown",
   "id": "a0401010",
   "metadata": {},
   "source": [
    "Seems like everything is fine with **n26_users**"
   ]
  },
  {
   "cell_type": "markdown",
   "id": "c35cdd1c",
   "metadata": {},
   "source": [
    "#### lets check some random errors in recording data"
   ]
  },
  {
   "cell_type": "code",
   "execution_count": 12,
   "id": "672482ba",
   "metadata": {},
   "outputs": [],
   "source": [
    "list_of_df = [n26_funnel_steps, n26_users]"
   ]
  },
  {
   "cell_type": "code",
   "execution_count": 13,
   "id": "198a97c6",
   "metadata": {},
   "outputs": [
    {
     "name": "stdout",
     "output_type": "stream",
     "text": [
      "user_id\n",
      "['b64caac4-c6a8-4b85-b504-2bbd3e28e175'\n",
      " '77d7332a-3220-49e2-bd86-780a421926ac'\n",
      " '24fcc884-8938-49f1-ae3b-3d33ed3a9c53' ...\n",
      " 'e0169fb0-8771-4add-b400-c72f83c44e07'\n",
      " '23c5a66e-0996-42ce-84c3-f659679703fd'\n",
      " '6c549723-fb04-45a4-86c3-df11d575d96c']\n",
      "--------------------------------------------------\n",
      "funnel_step\n",
      "['sign_up_initiated' 'sign_up_completed' 'kyc_completed' 'first_deposit']\n",
      "--------------------------------------------------\n",
      "timestamp\n",
      "['2019-01-05T23:00:00.000000000' '2019-01-27T02:00:00.000000000'\n",
      " '2019-01-30T02:00:00.000000000' ... '2019-03-09T11:00:00.000000000'\n",
      " '2019-03-15T02:00:00.000000000' '2019-03-06T04:00:00.000000000']\n",
      "--------------------------------------------------\n",
      "\n",
      "\n",
      "next dataframe\n",
      "\n",
      "user_id\n",
      "['b64caac4-c6a8-4b85-b504-2bbd3e28e175'\n",
      " '77d7332a-3220-49e2-bd86-780a421926ac'\n",
      " '24fcc884-8938-49f1-ae3b-3d33ed3a9c53' ...\n",
      " '782d139b-3f48-429b-87d9-84910e5f3baf'\n",
      " 'c376d4dd-bcee-4ae3-9ca5-1bab74b911fc'\n",
      " '3b3c2430-2517-4a72-b84e-5166382fbc30']\n",
      "--------------------------------------------------\n",
      "channel\n",
      "['organic' 'paid_social' 'affiliate' 'paid_search']\n",
      "--------------------------------------------------\n",
      "market\n",
      "['FRA' 'DEU' 'AUT' 'GBR' 'ESP']\n",
      "--------------------------------------------------\n",
      "platform\n",
      "['ios' 'android']\n",
      "--------------------------------------------------\n",
      "age\n",
      "[35 20 25 24 23 19 45 28 26 39 77 34 29 21 22 32 62 59 31 71 36 30 53 27\n",
      " 18 33 67 64 66 68 37 69 47 43 46 65 73 52 60 55 72 76 41 78 40 57 56 80\n",
      " 79 42 38 54 51 58 49 44 48 70 50 63 74 61 75]\n",
      "--------------------------------------------------\n",
      "\n"
     ]
    }
   ],
   "source": [
    "counter = 0\n",
    "for i in list_of_df:\n",
    "    list_of_columns = i.columns.tolist()\n",
    "    for j in list_of_columns:\n",
    "        print(j)\n",
    "        print(i[j].unique())\n",
    "        print('--------------------------------------------------')\n",
    "    print('')\n",
    "    counter += 1\n",
    "    if counter != 2:\n",
    "        print('')\n",
    "        print('next dataframe')\n",
    "        print('')"
   ]
  },
  {
   "cell_type": "markdown",
   "id": "9f697038",
   "metadata": {},
   "source": [
    "Seems like all text columns don't have any critical errors causing duplication or misunderstanding"
   ]
  },
  {
   "cell_type": "markdown",
   "id": "b7ff8e47",
   "metadata": {},
   "source": [
    "### Analysis"
   ]
  },
  {
   "cell_type": "markdown",
   "id": "08f92eb5",
   "metadata": {},
   "source": [
    "At first glance, funnel direction is pretty easy to understand \n",
    "\n",
    "sign_up_initiated - sign_up_completed - kyc_completed  - first_deposit "
   ]
  },
  {
   "cell_type": "code",
   "execution_count": 14,
   "id": "302835d8",
   "metadata": {},
   "outputs": [],
   "source": [
    "df_funnel = n26_funnel_steps"
   ]
  },
  {
   "cell_type": "code",
   "execution_count": 15,
   "id": "bf54e8de",
   "metadata": {},
   "outputs": [],
   "source": [
    "df_funnel['num_of_step'] = n26_funnel_steps.sort_values(['timestamp','funnel_step'], ascending=[True,False]) \\\n",
    "             .groupby(['user_id']) \\\n",
    "             .cumcount() + 1"
   ]
  },
  {
   "cell_type": "code",
   "execution_count": 16,
   "id": "00d28412",
   "metadata": {},
   "outputs": [
    {
     "data": {
      "text/html": [
       "<div>\n",
       "<style scoped>\n",
       "    .dataframe tbody tr th:only-of-type {\n",
       "        vertical-align: middle;\n",
       "    }\n",
       "\n",
       "    .dataframe tbody tr th {\n",
       "        vertical-align: top;\n",
       "    }\n",
       "\n",
       "    .dataframe thead th {\n",
       "        text-align: right;\n",
       "    }\n",
       "</style>\n",
       "<table border=\"1\" class=\"dataframe\">\n",
       "  <thead>\n",
       "    <tr style=\"text-align: right;\">\n",
       "      <th></th>\n",
       "      <th>user_id</th>\n",
       "      <th>funnel_step</th>\n",
       "      <th>timestamp</th>\n",
       "      <th>num_of_step</th>\n",
       "    </tr>\n",
       "  </thead>\n",
       "  <tbody>\n",
       "    <tr>\n",
       "      <th>0</th>\n",
       "      <td>b64caac4-c6a8-4b85-b504-2bbd3e28e175</td>\n",
       "      <td>sign_up_initiated</td>\n",
       "      <td>2019-01-05 23:00:00</td>\n",
       "      <td>1</td>\n",
       "    </tr>\n",
       "    <tr>\n",
       "      <th>1</th>\n",
       "      <td>77d7332a-3220-49e2-bd86-780a421926ac</td>\n",
       "      <td>sign_up_initiated</td>\n",
       "      <td>2019-01-27 02:00:00</td>\n",
       "      <td>1</td>\n",
       "    </tr>\n",
       "    <tr>\n",
       "      <th>2</th>\n",
       "      <td>24fcc884-8938-49f1-ae3b-3d33ed3a9c53</td>\n",
       "      <td>sign_up_initiated</td>\n",
       "      <td>2019-01-30 02:00:00</td>\n",
       "      <td>1</td>\n",
       "    </tr>\n",
       "    <tr>\n",
       "      <th>3</th>\n",
       "      <td>55b9ab0e-72b8-4751-8225-623014cb877f</td>\n",
       "      <td>sign_up_initiated</td>\n",
       "      <td>2019-01-28 14:00:00</td>\n",
       "      <td>1</td>\n",
       "    </tr>\n",
       "    <tr>\n",
       "      <th>4</th>\n",
       "      <td>11f32569-a4b1-4850-a90a-e535e6242168</td>\n",
       "      <td>sign_up_initiated</td>\n",
       "      <td>2019-01-02 04:00:00</td>\n",
       "      <td>1</td>\n",
       "    </tr>\n",
       "    <tr>\n",
       "      <th>...</th>\n",
       "      <td>...</td>\n",
       "      <td>...</td>\n",
       "      <td>...</td>\n",
       "      <td>...</td>\n",
       "    </tr>\n",
       "    <tr>\n",
       "      <th>52407</th>\n",
       "      <td>51ea344a-6d4e-45fd-8ddd-4c245748272b</td>\n",
       "      <td>first_deposit</td>\n",
       "      <td>2019-02-13 11:00:00</td>\n",
       "      <td>4</td>\n",
       "    </tr>\n",
       "    <tr>\n",
       "      <th>52408</th>\n",
       "      <td>043cdc30-3664-4a1d-8698-ba62953e30ed</td>\n",
       "      <td>first_deposit</td>\n",
       "      <td>2019-02-04 16:00:00</td>\n",
       "      <td>4</td>\n",
       "    </tr>\n",
       "    <tr>\n",
       "      <th>52409</th>\n",
       "      <td>87ab9864-c8da-4264-9cc6-af70f9c1c550</td>\n",
       "      <td>first_deposit</td>\n",
       "      <td>2019-02-18 11:00:00</td>\n",
       "      <td>4</td>\n",
       "    </tr>\n",
       "    <tr>\n",
       "      <th>52410</th>\n",
       "      <td>4be6ddf2-ebd5-4cf8-9b30-115d9ebdf933</td>\n",
       "      <td>first_deposit</td>\n",
       "      <td>2019-01-26 18:00:00</td>\n",
       "      <td>4</td>\n",
       "    </tr>\n",
       "    <tr>\n",
       "      <th>52411</th>\n",
       "      <td>24ed6309-db3d-4c19-add4-7e9b3e043b64</td>\n",
       "      <td>first_deposit</td>\n",
       "      <td>2019-02-04 10:00:00</td>\n",
       "      <td>4</td>\n",
       "    </tr>\n",
       "  </tbody>\n",
       "</table>\n",
       "<p>52412 rows × 4 columns</p>\n",
       "</div>"
      ],
      "text/plain": [
       "                                    user_id        funnel_step  \\\n",
       "0      b64caac4-c6a8-4b85-b504-2bbd3e28e175  sign_up_initiated   \n",
       "1      77d7332a-3220-49e2-bd86-780a421926ac  sign_up_initiated   \n",
       "2      24fcc884-8938-49f1-ae3b-3d33ed3a9c53  sign_up_initiated   \n",
       "3      55b9ab0e-72b8-4751-8225-623014cb877f  sign_up_initiated   \n",
       "4      11f32569-a4b1-4850-a90a-e535e6242168  sign_up_initiated   \n",
       "...                                     ...                ...   \n",
       "52407  51ea344a-6d4e-45fd-8ddd-4c245748272b      first_deposit   \n",
       "52408  043cdc30-3664-4a1d-8698-ba62953e30ed      first_deposit   \n",
       "52409  87ab9864-c8da-4264-9cc6-af70f9c1c550      first_deposit   \n",
       "52410  4be6ddf2-ebd5-4cf8-9b30-115d9ebdf933      first_deposit   \n",
       "52411  24ed6309-db3d-4c19-add4-7e9b3e043b64      first_deposit   \n",
       "\n",
       "                timestamp  num_of_step  \n",
       "0     2019-01-05 23:00:00            1  \n",
       "1     2019-01-27 02:00:00            1  \n",
       "2     2019-01-30 02:00:00            1  \n",
       "3     2019-01-28 14:00:00            1  \n",
       "4     2019-01-02 04:00:00            1  \n",
       "...                   ...          ...  \n",
       "52407 2019-02-13 11:00:00            4  \n",
       "52408 2019-02-04 16:00:00            4  \n",
       "52409 2019-02-18 11:00:00            4  \n",
       "52410 2019-01-26 18:00:00            4  \n",
       "52411 2019-02-04 10:00:00            4  \n",
       "\n",
       "[52412 rows x 4 columns]"
      ]
     },
     "execution_count": 16,
     "metadata": {},
     "output_type": "execute_result"
    }
   ],
   "source": [
    "df_funnel"
   ]
  },
  {
   "cell_type": "markdown",
   "id": "ad6b4979",
   "metadata": {},
   "source": [
    "lets take random user_id, just to check if the hypothesis with direction of funnel is correct"
   ]
  },
  {
   "cell_type": "code",
   "execution_count": 17,
   "id": "2b3394fe",
   "metadata": {},
   "outputs": [],
   "source": [
    "random_id = df_funnel['user_id'].sample().values[0]"
   ]
  },
  {
   "cell_type": "code",
   "execution_count": 18,
   "id": "f3660b86",
   "metadata": {},
   "outputs": [
    {
     "data": {
      "text/plain": [
       "'a977dca0-f1dc-460e-aac3-8305889aacd2'"
      ]
     },
     "execution_count": 18,
     "metadata": {},
     "output_type": "execute_result"
    }
   ],
   "source": [
    "random_id"
   ]
  },
  {
   "cell_type": "code",
   "execution_count": 19,
   "id": "fb92f735",
   "metadata": {},
   "outputs": [
    {
     "data": {
      "text/html": [
       "<div>\n",
       "<style scoped>\n",
       "    .dataframe tbody tr th:only-of-type {\n",
       "        vertical-align: middle;\n",
       "    }\n",
       "\n",
       "    .dataframe tbody tr th {\n",
       "        vertical-align: top;\n",
       "    }\n",
       "\n",
       "    .dataframe thead th {\n",
       "        text-align: right;\n",
       "    }\n",
       "</style>\n",
       "<table border=\"1\" class=\"dataframe\">\n",
       "  <thead>\n",
       "    <tr style=\"text-align: right;\">\n",
       "      <th></th>\n",
       "      <th>user_id</th>\n",
       "      <th>funnel_step</th>\n",
       "      <th>timestamp</th>\n",
       "      <th>num_of_step</th>\n",
       "    </tr>\n",
       "  </thead>\n",
       "  <tbody>\n",
       "    <tr>\n",
       "      <th>17983</th>\n",
       "      <td>a977dca0-f1dc-460e-aac3-8305889aacd2</td>\n",
       "      <td>sign_up_initiated</td>\n",
       "      <td>2019-01-27 19:00:00</td>\n",
       "      <td>1</td>\n",
       "    </tr>\n",
       "    <tr>\n",
       "      <th>33781</th>\n",
       "      <td>a977dca0-f1dc-460e-aac3-8305889aacd2</td>\n",
       "      <td>sign_up_completed</td>\n",
       "      <td>2019-01-28 17:00:00</td>\n",
       "      <td>2</td>\n",
       "    </tr>\n",
       "  </tbody>\n",
       "</table>\n",
       "</div>"
      ],
      "text/plain": [
       "                                    user_id        funnel_step  \\\n",
       "17983  a977dca0-f1dc-460e-aac3-8305889aacd2  sign_up_initiated   \n",
       "33781  a977dca0-f1dc-460e-aac3-8305889aacd2  sign_up_completed   \n",
       "\n",
       "                timestamp  num_of_step  \n",
       "17983 2019-01-27 19:00:00            1  \n",
       "33781 2019-01-28 17:00:00            2  "
      ]
     },
     "execution_count": 19,
     "metadata": {},
     "output_type": "execute_result"
    }
   ],
   "source": [
    "df_funnel.query(\"user_id == @random_id\")"
   ]
  },
  {
   "cell_type": "markdown",
   "id": "e5776b3f",
   "metadata": {},
   "source": [
    "After doing this several times, guess of funnel direction is prooved"
   ]
  },
  {
   "cell_type": "code",
   "execution_count": 20,
   "id": "2ceafba3",
   "metadata": {},
   "outputs": [],
   "source": [
    "sum_of_actions = df_funnel['funnel_step'].value_counts()"
   ]
  },
  {
   "cell_type": "markdown",
   "id": "e2b5052f",
   "metadata": {},
   "source": [
    "Lets build a funnel graph"
   ]
  },
  {
   "cell_type": "code",
   "execution_count": 81,
   "id": "87aea0ba",
   "metadata": {},
   "outputs": [
    {
     "data": {
      "application/vnd.plotly.v1+json": {
       "config": {
        "plotlyServerURL": "https://plot.ly"
       },
       "data": [
        {
         "type": "funnel",
         "x": [
          21284,
          15067,
          9276,
          6785
         ],
         "y": [
          "sign_up_initiated",
          "sign_up_completed",
          "kyc_completed",
          "first_deposit"
         ]
        }
       ],
       "layout": {
        "paper_bgcolor": "#16B6B3",
        "plot_bgcolor": "#16B6B3",
        "template": {
         "data": {
          "bar": [
           {
            "error_x": {
             "color": "rgb(36,36,36)"
            },
            "error_y": {
             "color": "rgb(36,36,36)"
            },
            "marker": {
             "line": {
              "color": "rgb(234,234,242)",
              "width": 0.5
             },
             "pattern": {
              "fillmode": "overlay",
              "size": 10,
              "solidity": 0.2
             }
            },
            "type": "bar"
           }
          ],
          "barpolar": [
           {
            "marker": {
             "line": {
              "color": "rgb(234,234,242)",
              "width": 0.5
             },
             "pattern": {
              "fillmode": "overlay",
              "size": 10,
              "solidity": 0.2
             }
            },
            "type": "barpolar"
           }
          ],
          "carpet": [
           {
            "aaxis": {
             "endlinecolor": "rgb(36,36,36)",
             "gridcolor": "white",
             "linecolor": "white",
             "minorgridcolor": "white",
             "startlinecolor": "rgb(36,36,36)"
            },
            "baxis": {
             "endlinecolor": "rgb(36,36,36)",
             "gridcolor": "white",
             "linecolor": "white",
             "minorgridcolor": "white",
             "startlinecolor": "rgb(36,36,36)"
            },
            "type": "carpet"
           }
          ],
          "choropleth": [
           {
            "colorbar": {
             "outlinewidth": 0,
             "tickcolor": "rgb(36,36,36)",
             "ticklen": 8,
             "ticks": "outside",
             "tickwidth": 2
            },
            "type": "choropleth"
           }
          ],
          "contour": [
           {
            "colorbar": {
             "outlinewidth": 0,
             "tickcolor": "rgb(36,36,36)",
             "ticklen": 8,
             "ticks": "outside",
             "tickwidth": 2
            },
            "colorscale": [
             [
              0,
              "rgb(2,4,25)"
             ],
             [
              0.06274509803921569,
              "rgb(24,15,41)"
             ],
             [
              0.12549019607843137,
              "rgb(47,23,57)"
             ],
             [
              0.18823529411764706,
              "rgb(71,28,72)"
             ],
             [
              0.25098039215686274,
              "rgb(97,30,82)"
             ],
             [
              0.3137254901960784,
              "rgb(123,30,89)"
             ],
             [
              0.3764705882352941,
              "rgb(150,27,91)"
             ],
             [
              0.4392156862745098,
              "rgb(177,22,88)"
             ],
             [
              0.5019607843137255,
              "rgb(203,26,79)"
             ],
             [
              0.5647058823529412,
              "rgb(223,47,67)"
             ],
             [
              0.6274509803921569,
              "rgb(236,76,61)"
             ],
             [
              0.6901960784313725,
              "rgb(242,107,73)"
             ],
             [
              0.7529411764705882,
              "rgb(244,135,95)"
             ],
             [
              0.8156862745098039,
              "rgb(245,162,122)"
             ],
             [
              0.8784313725490196,
              "rgb(246,188,153)"
             ],
             [
              0.9411764705882353,
              "rgb(247,212,187)"
             ],
             [
              1,
              "rgb(250,234,220)"
             ]
            ],
            "type": "contour"
           }
          ],
          "contourcarpet": [
           {
            "colorbar": {
             "outlinewidth": 0,
             "tickcolor": "rgb(36,36,36)",
             "ticklen": 8,
             "ticks": "outside",
             "tickwidth": 2
            },
            "type": "contourcarpet"
           }
          ],
          "heatmap": [
           {
            "colorbar": {
             "outlinewidth": 0,
             "tickcolor": "rgb(36,36,36)",
             "ticklen": 8,
             "ticks": "outside",
             "tickwidth": 2
            },
            "colorscale": [
             [
              0,
              "rgb(2,4,25)"
             ],
             [
              0.06274509803921569,
              "rgb(24,15,41)"
             ],
             [
              0.12549019607843137,
              "rgb(47,23,57)"
             ],
             [
              0.18823529411764706,
              "rgb(71,28,72)"
             ],
             [
              0.25098039215686274,
              "rgb(97,30,82)"
             ],
             [
              0.3137254901960784,
              "rgb(123,30,89)"
             ],
             [
              0.3764705882352941,
              "rgb(150,27,91)"
             ],
             [
              0.4392156862745098,
              "rgb(177,22,88)"
             ],
             [
              0.5019607843137255,
              "rgb(203,26,79)"
             ],
             [
              0.5647058823529412,
              "rgb(223,47,67)"
             ],
             [
              0.6274509803921569,
              "rgb(236,76,61)"
             ],
             [
              0.6901960784313725,
              "rgb(242,107,73)"
             ],
             [
              0.7529411764705882,
              "rgb(244,135,95)"
             ],
             [
              0.8156862745098039,
              "rgb(245,162,122)"
             ],
             [
              0.8784313725490196,
              "rgb(246,188,153)"
             ],
             [
              0.9411764705882353,
              "rgb(247,212,187)"
             ],
             [
              1,
              "rgb(250,234,220)"
             ]
            ],
            "type": "heatmap"
           }
          ],
          "heatmapgl": [
           {
            "colorbar": {
             "outlinewidth": 0,
             "tickcolor": "rgb(36,36,36)",
             "ticklen": 8,
             "ticks": "outside",
             "tickwidth": 2
            },
            "colorscale": [
             [
              0,
              "rgb(2,4,25)"
             ],
             [
              0.06274509803921569,
              "rgb(24,15,41)"
             ],
             [
              0.12549019607843137,
              "rgb(47,23,57)"
             ],
             [
              0.18823529411764706,
              "rgb(71,28,72)"
             ],
             [
              0.25098039215686274,
              "rgb(97,30,82)"
             ],
             [
              0.3137254901960784,
              "rgb(123,30,89)"
             ],
             [
              0.3764705882352941,
              "rgb(150,27,91)"
             ],
             [
              0.4392156862745098,
              "rgb(177,22,88)"
             ],
             [
              0.5019607843137255,
              "rgb(203,26,79)"
             ],
             [
              0.5647058823529412,
              "rgb(223,47,67)"
             ],
             [
              0.6274509803921569,
              "rgb(236,76,61)"
             ],
             [
              0.6901960784313725,
              "rgb(242,107,73)"
             ],
             [
              0.7529411764705882,
              "rgb(244,135,95)"
             ],
             [
              0.8156862745098039,
              "rgb(245,162,122)"
             ],
             [
              0.8784313725490196,
              "rgb(246,188,153)"
             ],
             [
              0.9411764705882353,
              "rgb(247,212,187)"
             ],
             [
              1,
              "rgb(250,234,220)"
             ]
            ],
            "type": "heatmapgl"
           }
          ],
          "histogram": [
           {
            "marker": {
             "pattern": {
              "fillmode": "overlay",
              "size": 10,
              "solidity": 0.2
             }
            },
            "type": "histogram"
           }
          ],
          "histogram2d": [
           {
            "colorbar": {
             "outlinewidth": 0,
             "tickcolor": "rgb(36,36,36)",
             "ticklen": 8,
             "ticks": "outside",
             "tickwidth": 2
            },
            "colorscale": [
             [
              0,
              "rgb(2,4,25)"
             ],
             [
              0.06274509803921569,
              "rgb(24,15,41)"
             ],
             [
              0.12549019607843137,
              "rgb(47,23,57)"
             ],
             [
              0.18823529411764706,
              "rgb(71,28,72)"
             ],
             [
              0.25098039215686274,
              "rgb(97,30,82)"
             ],
             [
              0.3137254901960784,
              "rgb(123,30,89)"
             ],
             [
              0.3764705882352941,
              "rgb(150,27,91)"
             ],
             [
              0.4392156862745098,
              "rgb(177,22,88)"
             ],
             [
              0.5019607843137255,
              "rgb(203,26,79)"
             ],
             [
              0.5647058823529412,
              "rgb(223,47,67)"
             ],
             [
              0.6274509803921569,
              "rgb(236,76,61)"
             ],
             [
              0.6901960784313725,
              "rgb(242,107,73)"
             ],
             [
              0.7529411764705882,
              "rgb(244,135,95)"
             ],
             [
              0.8156862745098039,
              "rgb(245,162,122)"
             ],
             [
              0.8784313725490196,
              "rgb(246,188,153)"
             ],
             [
              0.9411764705882353,
              "rgb(247,212,187)"
             ],
             [
              1,
              "rgb(250,234,220)"
             ]
            ],
            "type": "histogram2d"
           }
          ],
          "histogram2dcontour": [
           {
            "colorbar": {
             "outlinewidth": 0,
             "tickcolor": "rgb(36,36,36)",
             "ticklen": 8,
             "ticks": "outside",
             "tickwidth": 2
            },
            "colorscale": [
             [
              0,
              "rgb(2,4,25)"
             ],
             [
              0.06274509803921569,
              "rgb(24,15,41)"
             ],
             [
              0.12549019607843137,
              "rgb(47,23,57)"
             ],
             [
              0.18823529411764706,
              "rgb(71,28,72)"
             ],
             [
              0.25098039215686274,
              "rgb(97,30,82)"
             ],
             [
              0.3137254901960784,
              "rgb(123,30,89)"
             ],
             [
              0.3764705882352941,
              "rgb(150,27,91)"
             ],
             [
              0.4392156862745098,
              "rgb(177,22,88)"
             ],
             [
              0.5019607843137255,
              "rgb(203,26,79)"
             ],
             [
              0.5647058823529412,
              "rgb(223,47,67)"
             ],
             [
              0.6274509803921569,
              "rgb(236,76,61)"
             ],
             [
              0.6901960784313725,
              "rgb(242,107,73)"
             ],
             [
              0.7529411764705882,
              "rgb(244,135,95)"
             ],
             [
              0.8156862745098039,
              "rgb(245,162,122)"
             ],
             [
              0.8784313725490196,
              "rgb(246,188,153)"
             ],
             [
              0.9411764705882353,
              "rgb(247,212,187)"
             ],
             [
              1,
              "rgb(250,234,220)"
             ]
            ],
            "type": "histogram2dcontour"
           }
          ],
          "mesh3d": [
           {
            "colorbar": {
             "outlinewidth": 0,
             "tickcolor": "rgb(36,36,36)",
             "ticklen": 8,
             "ticks": "outside",
             "tickwidth": 2
            },
            "type": "mesh3d"
           }
          ],
          "parcoords": [
           {
            "line": {
             "colorbar": {
              "outlinewidth": 0,
              "tickcolor": "rgb(36,36,36)",
              "ticklen": 8,
              "ticks": "outside",
              "tickwidth": 2
             }
            },
            "type": "parcoords"
           }
          ],
          "pie": [
           {
            "automargin": true,
            "type": "pie"
           }
          ],
          "scatter": [
           {
            "marker": {
             "colorbar": {
              "outlinewidth": 0,
              "tickcolor": "rgb(36,36,36)",
              "ticklen": 8,
              "ticks": "outside",
              "tickwidth": 2
             }
            },
            "type": "scatter"
           }
          ],
          "scatter3d": [
           {
            "line": {
             "colorbar": {
              "outlinewidth": 0,
              "tickcolor": "rgb(36,36,36)",
              "ticklen": 8,
              "ticks": "outside",
              "tickwidth": 2
             }
            },
            "marker": {
             "colorbar": {
              "outlinewidth": 0,
              "tickcolor": "rgb(36,36,36)",
              "ticklen": 8,
              "ticks": "outside",
              "tickwidth": 2
             }
            },
            "type": "scatter3d"
           }
          ],
          "scattercarpet": [
           {
            "marker": {
             "colorbar": {
              "outlinewidth": 0,
              "tickcolor": "rgb(36,36,36)",
              "ticklen": 8,
              "ticks": "outside",
              "tickwidth": 2
             }
            },
            "type": "scattercarpet"
           }
          ],
          "scattergeo": [
           {
            "marker": {
             "colorbar": {
              "outlinewidth": 0,
              "tickcolor": "rgb(36,36,36)",
              "ticklen": 8,
              "ticks": "outside",
              "tickwidth": 2
             }
            },
            "type": "scattergeo"
           }
          ],
          "scattergl": [
           {
            "marker": {
             "colorbar": {
              "outlinewidth": 0,
              "tickcolor": "rgb(36,36,36)",
              "ticklen": 8,
              "ticks": "outside",
              "tickwidth": 2
             }
            },
            "type": "scattergl"
           }
          ],
          "scattermapbox": [
           {
            "marker": {
             "colorbar": {
              "outlinewidth": 0,
              "tickcolor": "rgb(36,36,36)",
              "ticklen": 8,
              "ticks": "outside",
              "tickwidth": 2
             }
            },
            "type": "scattermapbox"
           }
          ],
          "scatterpolar": [
           {
            "marker": {
             "colorbar": {
              "outlinewidth": 0,
              "tickcolor": "rgb(36,36,36)",
              "ticklen": 8,
              "ticks": "outside",
              "tickwidth": 2
             }
            },
            "type": "scatterpolar"
           }
          ],
          "scatterpolargl": [
           {
            "marker": {
             "colorbar": {
              "outlinewidth": 0,
              "tickcolor": "rgb(36,36,36)",
              "ticklen": 8,
              "ticks": "outside",
              "tickwidth": 2
             }
            },
            "type": "scatterpolargl"
           }
          ],
          "scatterternary": [
           {
            "marker": {
             "colorbar": {
              "outlinewidth": 0,
              "tickcolor": "rgb(36,36,36)",
              "ticklen": 8,
              "ticks": "outside",
              "tickwidth": 2
             }
            },
            "type": "scatterternary"
           }
          ],
          "surface": [
           {
            "colorbar": {
             "outlinewidth": 0,
             "tickcolor": "rgb(36,36,36)",
             "ticklen": 8,
             "ticks": "outside",
             "tickwidth": 2
            },
            "colorscale": [
             [
              0,
              "rgb(2,4,25)"
             ],
             [
              0.06274509803921569,
              "rgb(24,15,41)"
             ],
             [
              0.12549019607843137,
              "rgb(47,23,57)"
             ],
             [
              0.18823529411764706,
              "rgb(71,28,72)"
             ],
             [
              0.25098039215686274,
              "rgb(97,30,82)"
             ],
             [
              0.3137254901960784,
              "rgb(123,30,89)"
             ],
             [
              0.3764705882352941,
              "rgb(150,27,91)"
             ],
             [
              0.4392156862745098,
              "rgb(177,22,88)"
             ],
             [
              0.5019607843137255,
              "rgb(203,26,79)"
             ],
             [
              0.5647058823529412,
              "rgb(223,47,67)"
             ],
             [
              0.6274509803921569,
              "rgb(236,76,61)"
             ],
             [
              0.6901960784313725,
              "rgb(242,107,73)"
             ],
             [
              0.7529411764705882,
              "rgb(244,135,95)"
             ],
             [
              0.8156862745098039,
              "rgb(245,162,122)"
             ],
             [
              0.8784313725490196,
              "rgb(246,188,153)"
             ],
             [
              0.9411764705882353,
              "rgb(247,212,187)"
             ],
             [
              1,
              "rgb(250,234,220)"
             ]
            ],
            "type": "surface"
           }
          ],
          "table": [
           {
            "cells": {
             "fill": {
              "color": "rgb(231,231,240)"
             },
             "line": {
              "color": "white"
             }
            },
            "header": {
             "fill": {
              "color": "rgb(183,183,191)"
             },
             "line": {
              "color": "white"
             }
            },
            "type": "table"
           }
          ]
         },
         "layout": {
          "annotationdefaults": {
           "arrowcolor": "rgb(67,103,167)"
          },
          "autotypenumbers": "strict",
          "coloraxis": {
           "colorbar": {
            "outlinewidth": 0,
            "tickcolor": "rgb(36,36,36)",
            "ticklen": 8,
            "ticks": "outside",
            "tickwidth": 2
           }
          },
          "colorscale": {
           "sequential": [
            [
             0,
             "rgb(2,4,25)"
            ],
            [
             0.06274509803921569,
             "rgb(24,15,41)"
            ],
            [
             0.12549019607843137,
             "rgb(47,23,57)"
            ],
            [
             0.18823529411764706,
             "rgb(71,28,72)"
            ],
            [
             0.25098039215686274,
             "rgb(97,30,82)"
            ],
            [
             0.3137254901960784,
             "rgb(123,30,89)"
            ],
            [
             0.3764705882352941,
             "rgb(150,27,91)"
            ],
            [
             0.4392156862745098,
             "rgb(177,22,88)"
            ],
            [
             0.5019607843137255,
             "rgb(203,26,79)"
            ],
            [
             0.5647058823529412,
             "rgb(223,47,67)"
            ],
            [
             0.6274509803921569,
             "rgb(236,76,61)"
            ],
            [
             0.6901960784313725,
             "rgb(242,107,73)"
            ],
            [
             0.7529411764705882,
             "rgb(244,135,95)"
            ],
            [
             0.8156862745098039,
             "rgb(245,162,122)"
            ],
            [
             0.8784313725490196,
             "rgb(246,188,153)"
            ],
            [
             0.9411764705882353,
             "rgb(247,212,187)"
            ],
            [
             1,
             "rgb(250,234,220)"
            ]
           ],
           "sequentialminus": [
            [
             0,
             "rgb(2,4,25)"
            ],
            [
             0.06274509803921569,
             "rgb(24,15,41)"
            ],
            [
             0.12549019607843137,
             "rgb(47,23,57)"
            ],
            [
             0.18823529411764706,
             "rgb(71,28,72)"
            ],
            [
             0.25098039215686274,
             "rgb(97,30,82)"
            ],
            [
             0.3137254901960784,
             "rgb(123,30,89)"
            ],
            [
             0.3764705882352941,
             "rgb(150,27,91)"
            ],
            [
             0.4392156862745098,
             "rgb(177,22,88)"
            ],
            [
             0.5019607843137255,
             "rgb(203,26,79)"
            ],
            [
             0.5647058823529412,
             "rgb(223,47,67)"
            ],
            [
             0.6274509803921569,
             "rgb(236,76,61)"
            ],
            [
             0.6901960784313725,
             "rgb(242,107,73)"
            ],
            [
             0.7529411764705882,
             "rgb(244,135,95)"
            ],
            [
             0.8156862745098039,
             "rgb(245,162,122)"
            ],
            [
             0.8784313725490196,
             "rgb(246,188,153)"
            ],
            [
             0.9411764705882353,
             "rgb(247,212,187)"
            ],
            [
             1,
             "rgb(250,234,220)"
            ]
           ]
          },
          "colorway": [
           "rgb(76,114,176)",
           "rgb(221,132,82)",
           "rgb(85,168,104)",
           "rgb(196,78,82)",
           "rgb(129,114,179)",
           "rgb(147,120,96)",
           "rgb(218,139,195)",
           "rgb(140,140,140)",
           "rgb(204,185,116)",
           "rgb(100,181,205)"
          ],
          "font": {
           "color": "rgb(36,36,36)"
          },
          "geo": {
           "bgcolor": "white",
           "lakecolor": "white",
           "landcolor": "rgb(234,234,242)",
           "showlakes": true,
           "showland": true,
           "subunitcolor": "white"
          },
          "hoverlabel": {
           "align": "left"
          },
          "hovermode": "closest",
          "paper_bgcolor": "white",
          "plot_bgcolor": "rgb(234,234,242)",
          "polar": {
           "angularaxis": {
            "gridcolor": "white",
            "linecolor": "white",
            "showgrid": true,
            "ticks": ""
           },
           "bgcolor": "rgb(234,234,242)",
           "radialaxis": {
            "gridcolor": "white",
            "linecolor": "white",
            "showgrid": true,
            "ticks": ""
           }
          },
          "scene": {
           "xaxis": {
            "backgroundcolor": "rgb(234,234,242)",
            "gridcolor": "white",
            "gridwidth": 2,
            "linecolor": "white",
            "showbackground": true,
            "showgrid": true,
            "ticks": "",
            "zerolinecolor": "white"
           },
           "yaxis": {
            "backgroundcolor": "rgb(234,234,242)",
            "gridcolor": "white",
            "gridwidth": 2,
            "linecolor": "white",
            "showbackground": true,
            "showgrid": true,
            "ticks": "",
            "zerolinecolor": "white"
           },
           "zaxis": {
            "backgroundcolor": "rgb(234,234,242)",
            "gridcolor": "white",
            "gridwidth": 2,
            "linecolor": "white",
            "showbackground": true,
            "showgrid": true,
            "ticks": "",
            "zerolinecolor": "white"
           }
          },
          "shapedefaults": {
           "fillcolor": "rgb(67,103,167)",
           "line": {
            "width": 0
           },
           "opacity": 0.5
          },
          "ternary": {
           "aaxis": {
            "gridcolor": "white",
            "linecolor": "white",
            "showgrid": true,
            "ticks": ""
           },
           "baxis": {
            "gridcolor": "white",
            "linecolor": "white",
            "showgrid": true,
            "ticks": ""
           },
           "bgcolor": "rgb(234,234,242)",
           "caxis": {
            "gridcolor": "white",
            "linecolor": "white",
            "showgrid": true,
            "ticks": ""
           }
          },
          "xaxis": {
           "automargin": true,
           "gridcolor": "white",
           "linecolor": "white",
           "showgrid": true,
           "ticks": "",
           "title": {
            "standoff": 15
           },
           "zerolinecolor": "white"
          },
          "yaxis": {
           "automargin": true,
           "gridcolor": "white",
           "linecolor": "white",
           "showgrid": true,
           "ticks": "",
           "title": {
            "standoff": 15
           },
           "zerolinecolor": "white"
          }
         }
        },
        "title": {
         "text": "N26 Funnel"
        }
       }
      },
      "text/html": [
       "<div>                            <div id=\"ecba232b-7c84-49cd-ab4f-ea320f44e9c3\" class=\"plotly-graph-div\" style=\"height:525px; width:100%;\"></div>            <script type=\"text/javascript\">                require([\"plotly\"], function(Plotly) {                    window.PLOTLYENV=window.PLOTLYENV || {};                                    if (document.getElementById(\"ecba232b-7c84-49cd-ab4f-ea320f44e9c3\")) {                    Plotly.newPlot(                        \"ecba232b-7c84-49cd-ab4f-ea320f44e9c3\",                        [{\"x\":[21284,15067,9276,6785],\"y\":[\"sign_up_initiated\",\"sign_up_completed\",\"kyc_completed\",\"first_deposit\"],\"type\":\"funnel\"}],                        {\"template\":{\"data\":{\"barpolar\":[{\"marker\":{\"line\":{\"color\":\"rgb(234,234,242)\",\"width\":0.5},\"pattern\":{\"fillmode\":\"overlay\",\"size\":10,\"solidity\":0.2}},\"type\":\"barpolar\"}],\"bar\":[{\"error_x\":{\"color\":\"rgb(36,36,36)\"},\"error_y\":{\"color\":\"rgb(36,36,36)\"},\"marker\":{\"line\":{\"color\":\"rgb(234,234,242)\",\"width\":0.5},\"pattern\":{\"fillmode\":\"overlay\",\"size\":10,\"solidity\":0.2}},\"type\":\"bar\"}],\"carpet\":[{\"aaxis\":{\"endlinecolor\":\"rgb(36,36,36)\",\"gridcolor\":\"white\",\"linecolor\":\"white\",\"minorgridcolor\":\"white\",\"startlinecolor\":\"rgb(36,36,36)\"},\"baxis\":{\"endlinecolor\":\"rgb(36,36,36)\",\"gridcolor\":\"white\",\"linecolor\":\"white\",\"minorgridcolor\":\"white\",\"startlinecolor\":\"rgb(36,36,36)\"},\"type\":\"carpet\"}],\"choropleth\":[{\"colorbar\":{\"outlinewidth\":0,\"tickcolor\":\"rgb(36,36,36)\",\"ticklen\":8,\"ticks\":\"outside\",\"tickwidth\":2},\"type\":\"choropleth\"}],\"contourcarpet\":[{\"colorbar\":{\"outlinewidth\":0,\"tickcolor\":\"rgb(36,36,36)\",\"ticklen\":8,\"ticks\":\"outside\",\"tickwidth\":2},\"type\":\"contourcarpet\"}],\"contour\":[{\"colorbar\":{\"outlinewidth\":0,\"tickcolor\":\"rgb(36,36,36)\",\"ticklen\":8,\"ticks\":\"outside\",\"tickwidth\":2},\"colorscale\":[[0.0,\"rgb(2,4,25)\"],[0.06274509803921569,\"rgb(24,15,41)\"],[0.12549019607843137,\"rgb(47,23,57)\"],[0.18823529411764706,\"rgb(71,28,72)\"],[0.25098039215686274,\"rgb(97,30,82)\"],[0.3137254901960784,\"rgb(123,30,89)\"],[0.3764705882352941,\"rgb(150,27,91)\"],[0.4392156862745098,\"rgb(177,22,88)\"],[0.5019607843137255,\"rgb(203,26,79)\"],[0.5647058823529412,\"rgb(223,47,67)\"],[0.6274509803921569,\"rgb(236,76,61)\"],[0.6901960784313725,\"rgb(242,107,73)\"],[0.7529411764705882,\"rgb(244,135,95)\"],[0.8156862745098039,\"rgb(245,162,122)\"],[0.8784313725490196,\"rgb(246,188,153)\"],[0.9411764705882353,\"rgb(247,212,187)\"],[1.0,\"rgb(250,234,220)\"]],\"type\":\"contour\"}],\"heatmapgl\":[{\"colorbar\":{\"outlinewidth\":0,\"tickcolor\":\"rgb(36,36,36)\",\"ticklen\":8,\"ticks\":\"outside\",\"tickwidth\":2},\"colorscale\":[[0.0,\"rgb(2,4,25)\"],[0.06274509803921569,\"rgb(24,15,41)\"],[0.12549019607843137,\"rgb(47,23,57)\"],[0.18823529411764706,\"rgb(71,28,72)\"],[0.25098039215686274,\"rgb(97,30,82)\"],[0.3137254901960784,\"rgb(123,30,89)\"],[0.3764705882352941,\"rgb(150,27,91)\"],[0.4392156862745098,\"rgb(177,22,88)\"],[0.5019607843137255,\"rgb(203,26,79)\"],[0.5647058823529412,\"rgb(223,47,67)\"],[0.6274509803921569,\"rgb(236,76,61)\"],[0.6901960784313725,\"rgb(242,107,73)\"],[0.7529411764705882,\"rgb(244,135,95)\"],[0.8156862745098039,\"rgb(245,162,122)\"],[0.8784313725490196,\"rgb(246,188,153)\"],[0.9411764705882353,\"rgb(247,212,187)\"],[1.0,\"rgb(250,234,220)\"]],\"type\":\"heatmapgl\"}],\"heatmap\":[{\"colorbar\":{\"outlinewidth\":0,\"tickcolor\":\"rgb(36,36,36)\",\"ticklen\":8,\"ticks\":\"outside\",\"tickwidth\":2},\"colorscale\":[[0.0,\"rgb(2,4,25)\"],[0.06274509803921569,\"rgb(24,15,41)\"],[0.12549019607843137,\"rgb(47,23,57)\"],[0.18823529411764706,\"rgb(71,28,72)\"],[0.25098039215686274,\"rgb(97,30,82)\"],[0.3137254901960784,\"rgb(123,30,89)\"],[0.3764705882352941,\"rgb(150,27,91)\"],[0.4392156862745098,\"rgb(177,22,88)\"],[0.5019607843137255,\"rgb(203,26,79)\"],[0.5647058823529412,\"rgb(223,47,67)\"],[0.6274509803921569,\"rgb(236,76,61)\"],[0.6901960784313725,\"rgb(242,107,73)\"],[0.7529411764705882,\"rgb(244,135,95)\"],[0.8156862745098039,\"rgb(245,162,122)\"],[0.8784313725490196,\"rgb(246,188,153)\"],[0.9411764705882353,\"rgb(247,212,187)\"],[1.0,\"rgb(250,234,220)\"]],\"type\":\"heatmap\"}],\"histogram2dcontour\":[{\"colorbar\":{\"outlinewidth\":0,\"tickcolor\":\"rgb(36,36,36)\",\"ticklen\":8,\"ticks\":\"outside\",\"tickwidth\":2},\"colorscale\":[[0.0,\"rgb(2,4,25)\"],[0.06274509803921569,\"rgb(24,15,41)\"],[0.12549019607843137,\"rgb(47,23,57)\"],[0.18823529411764706,\"rgb(71,28,72)\"],[0.25098039215686274,\"rgb(97,30,82)\"],[0.3137254901960784,\"rgb(123,30,89)\"],[0.3764705882352941,\"rgb(150,27,91)\"],[0.4392156862745098,\"rgb(177,22,88)\"],[0.5019607843137255,\"rgb(203,26,79)\"],[0.5647058823529412,\"rgb(223,47,67)\"],[0.6274509803921569,\"rgb(236,76,61)\"],[0.6901960784313725,\"rgb(242,107,73)\"],[0.7529411764705882,\"rgb(244,135,95)\"],[0.8156862745098039,\"rgb(245,162,122)\"],[0.8784313725490196,\"rgb(246,188,153)\"],[0.9411764705882353,\"rgb(247,212,187)\"],[1.0,\"rgb(250,234,220)\"]],\"type\":\"histogram2dcontour\"}],\"histogram2d\":[{\"colorbar\":{\"outlinewidth\":0,\"tickcolor\":\"rgb(36,36,36)\",\"ticklen\":8,\"ticks\":\"outside\",\"tickwidth\":2},\"colorscale\":[[0.0,\"rgb(2,4,25)\"],[0.06274509803921569,\"rgb(24,15,41)\"],[0.12549019607843137,\"rgb(47,23,57)\"],[0.18823529411764706,\"rgb(71,28,72)\"],[0.25098039215686274,\"rgb(97,30,82)\"],[0.3137254901960784,\"rgb(123,30,89)\"],[0.3764705882352941,\"rgb(150,27,91)\"],[0.4392156862745098,\"rgb(177,22,88)\"],[0.5019607843137255,\"rgb(203,26,79)\"],[0.5647058823529412,\"rgb(223,47,67)\"],[0.6274509803921569,\"rgb(236,76,61)\"],[0.6901960784313725,\"rgb(242,107,73)\"],[0.7529411764705882,\"rgb(244,135,95)\"],[0.8156862745098039,\"rgb(245,162,122)\"],[0.8784313725490196,\"rgb(246,188,153)\"],[0.9411764705882353,\"rgb(247,212,187)\"],[1.0,\"rgb(250,234,220)\"]],\"type\":\"histogram2d\"}],\"histogram\":[{\"marker\":{\"pattern\":{\"fillmode\":\"overlay\",\"size\":10,\"solidity\":0.2}},\"type\":\"histogram\"}],\"mesh3d\":[{\"colorbar\":{\"outlinewidth\":0,\"tickcolor\":\"rgb(36,36,36)\",\"ticklen\":8,\"ticks\":\"outside\",\"tickwidth\":2},\"type\":\"mesh3d\"}],\"parcoords\":[{\"line\":{\"colorbar\":{\"outlinewidth\":0,\"tickcolor\":\"rgb(36,36,36)\",\"ticklen\":8,\"ticks\":\"outside\",\"tickwidth\":2}},\"type\":\"parcoords\"}],\"pie\":[{\"automargin\":true,\"type\":\"pie\"}],\"scatter3d\":[{\"line\":{\"colorbar\":{\"outlinewidth\":0,\"tickcolor\":\"rgb(36,36,36)\",\"ticklen\":8,\"ticks\":\"outside\",\"tickwidth\":2}},\"marker\":{\"colorbar\":{\"outlinewidth\":0,\"tickcolor\":\"rgb(36,36,36)\",\"ticklen\":8,\"ticks\":\"outside\",\"tickwidth\":2}},\"type\":\"scatter3d\"}],\"scattercarpet\":[{\"marker\":{\"colorbar\":{\"outlinewidth\":0,\"tickcolor\":\"rgb(36,36,36)\",\"ticklen\":8,\"ticks\":\"outside\",\"tickwidth\":2}},\"type\":\"scattercarpet\"}],\"scattergeo\":[{\"marker\":{\"colorbar\":{\"outlinewidth\":0,\"tickcolor\":\"rgb(36,36,36)\",\"ticklen\":8,\"ticks\":\"outside\",\"tickwidth\":2}},\"type\":\"scattergeo\"}],\"scattergl\":[{\"marker\":{\"colorbar\":{\"outlinewidth\":0,\"tickcolor\":\"rgb(36,36,36)\",\"ticklen\":8,\"ticks\":\"outside\",\"tickwidth\":2}},\"type\":\"scattergl\"}],\"scattermapbox\":[{\"marker\":{\"colorbar\":{\"outlinewidth\":0,\"tickcolor\":\"rgb(36,36,36)\",\"ticklen\":8,\"ticks\":\"outside\",\"tickwidth\":2}},\"type\":\"scattermapbox\"}],\"scatterpolargl\":[{\"marker\":{\"colorbar\":{\"outlinewidth\":0,\"tickcolor\":\"rgb(36,36,36)\",\"ticklen\":8,\"ticks\":\"outside\",\"tickwidth\":2}},\"type\":\"scatterpolargl\"}],\"scatterpolar\":[{\"marker\":{\"colorbar\":{\"outlinewidth\":0,\"tickcolor\":\"rgb(36,36,36)\",\"ticklen\":8,\"ticks\":\"outside\",\"tickwidth\":2}},\"type\":\"scatterpolar\"}],\"scatter\":[{\"marker\":{\"colorbar\":{\"outlinewidth\":0,\"tickcolor\":\"rgb(36,36,36)\",\"ticklen\":8,\"ticks\":\"outside\",\"tickwidth\":2}},\"type\":\"scatter\"}],\"scatterternary\":[{\"marker\":{\"colorbar\":{\"outlinewidth\":0,\"tickcolor\":\"rgb(36,36,36)\",\"ticklen\":8,\"ticks\":\"outside\",\"tickwidth\":2}},\"type\":\"scatterternary\"}],\"surface\":[{\"colorbar\":{\"outlinewidth\":0,\"tickcolor\":\"rgb(36,36,36)\",\"ticklen\":8,\"ticks\":\"outside\",\"tickwidth\":2},\"colorscale\":[[0.0,\"rgb(2,4,25)\"],[0.06274509803921569,\"rgb(24,15,41)\"],[0.12549019607843137,\"rgb(47,23,57)\"],[0.18823529411764706,\"rgb(71,28,72)\"],[0.25098039215686274,\"rgb(97,30,82)\"],[0.3137254901960784,\"rgb(123,30,89)\"],[0.3764705882352941,\"rgb(150,27,91)\"],[0.4392156862745098,\"rgb(177,22,88)\"],[0.5019607843137255,\"rgb(203,26,79)\"],[0.5647058823529412,\"rgb(223,47,67)\"],[0.6274509803921569,\"rgb(236,76,61)\"],[0.6901960784313725,\"rgb(242,107,73)\"],[0.7529411764705882,\"rgb(244,135,95)\"],[0.8156862745098039,\"rgb(245,162,122)\"],[0.8784313725490196,\"rgb(246,188,153)\"],[0.9411764705882353,\"rgb(247,212,187)\"],[1.0,\"rgb(250,234,220)\"]],\"type\":\"surface\"}],\"table\":[{\"cells\":{\"fill\":{\"color\":\"rgb(231,231,240)\"},\"line\":{\"color\":\"white\"}},\"header\":{\"fill\":{\"color\":\"rgb(183,183,191)\"},\"line\":{\"color\":\"white\"}},\"type\":\"table\"}]},\"layout\":{\"annotationdefaults\":{\"arrowcolor\":\"rgb(67,103,167)\"},\"autotypenumbers\":\"strict\",\"coloraxis\":{\"colorbar\":{\"outlinewidth\":0,\"tickcolor\":\"rgb(36,36,36)\",\"ticklen\":8,\"ticks\":\"outside\",\"tickwidth\":2}},\"colorscale\":{\"sequential\":[[0.0,\"rgb(2,4,25)\"],[0.06274509803921569,\"rgb(24,15,41)\"],[0.12549019607843137,\"rgb(47,23,57)\"],[0.18823529411764706,\"rgb(71,28,72)\"],[0.25098039215686274,\"rgb(97,30,82)\"],[0.3137254901960784,\"rgb(123,30,89)\"],[0.3764705882352941,\"rgb(150,27,91)\"],[0.4392156862745098,\"rgb(177,22,88)\"],[0.5019607843137255,\"rgb(203,26,79)\"],[0.5647058823529412,\"rgb(223,47,67)\"],[0.6274509803921569,\"rgb(236,76,61)\"],[0.6901960784313725,\"rgb(242,107,73)\"],[0.7529411764705882,\"rgb(244,135,95)\"],[0.8156862745098039,\"rgb(245,162,122)\"],[0.8784313725490196,\"rgb(246,188,153)\"],[0.9411764705882353,\"rgb(247,212,187)\"],[1.0,\"rgb(250,234,220)\"]],\"sequentialminus\":[[0.0,\"rgb(2,4,25)\"],[0.06274509803921569,\"rgb(24,15,41)\"],[0.12549019607843137,\"rgb(47,23,57)\"],[0.18823529411764706,\"rgb(71,28,72)\"],[0.25098039215686274,\"rgb(97,30,82)\"],[0.3137254901960784,\"rgb(123,30,89)\"],[0.3764705882352941,\"rgb(150,27,91)\"],[0.4392156862745098,\"rgb(177,22,88)\"],[0.5019607843137255,\"rgb(203,26,79)\"],[0.5647058823529412,\"rgb(223,47,67)\"],[0.6274509803921569,\"rgb(236,76,61)\"],[0.6901960784313725,\"rgb(242,107,73)\"],[0.7529411764705882,\"rgb(244,135,95)\"],[0.8156862745098039,\"rgb(245,162,122)\"],[0.8784313725490196,\"rgb(246,188,153)\"],[0.9411764705882353,\"rgb(247,212,187)\"],[1.0,\"rgb(250,234,220)\"]]},\"colorway\":[\"rgb(76,114,176)\",\"rgb(221,132,82)\",\"rgb(85,168,104)\",\"rgb(196,78,82)\",\"rgb(129,114,179)\",\"rgb(147,120,96)\",\"rgb(218,139,195)\",\"rgb(140,140,140)\",\"rgb(204,185,116)\",\"rgb(100,181,205)\"],\"font\":{\"color\":\"rgb(36,36,36)\"},\"geo\":{\"bgcolor\":\"white\",\"lakecolor\":\"white\",\"landcolor\":\"rgb(234,234,242)\",\"showlakes\":true,\"showland\":true,\"subunitcolor\":\"white\"},\"hoverlabel\":{\"align\":\"left\"},\"hovermode\":\"closest\",\"paper_bgcolor\":\"white\",\"plot_bgcolor\":\"rgb(234,234,242)\",\"polar\":{\"angularaxis\":{\"gridcolor\":\"white\",\"linecolor\":\"white\",\"showgrid\":true,\"ticks\":\"\"},\"bgcolor\":\"rgb(234,234,242)\",\"radialaxis\":{\"gridcolor\":\"white\",\"linecolor\":\"white\",\"showgrid\":true,\"ticks\":\"\"}},\"scene\":{\"xaxis\":{\"backgroundcolor\":\"rgb(234,234,242)\",\"gridcolor\":\"white\",\"gridwidth\":2,\"linecolor\":\"white\",\"showbackground\":true,\"showgrid\":true,\"ticks\":\"\",\"zerolinecolor\":\"white\"},\"yaxis\":{\"backgroundcolor\":\"rgb(234,234,242)\",\"gridcolor\":\"white\",\"gridwidth\":2,\"linecolor\":\"white\",\"showbackground\":true,\"showgrid\":true,\"ticks\":\"\",\"zerolinecolor\":\"white\"},\"zaxis\":{\"backgroundcolor\":\"rgb(234,234,242)\",\"gridcolor\":\"white\",\"gridwidth\":2,\"linecolor\":\"white\",\"showbackground\":true,\"showgrid\":true,\"ticks\":\"\",\"zerolinecolor\":\"white\"}},\"shapedefaults\":{\"fillcolor\":\"rgb(67,103,167)\",\"line\":{\"width\":0},\"opacity\":0.5},\"ternary\":{\"aaxis\":{\"gridcolor\":\"white\",\"linecolor\":\"white\",\"showgrid\":true,\"ticks\":\"\"},\"baxis\":{\"gridcolor\":\"white\",\"linecolor\":\"white\",\"showgrid\":true,\"ticks\":\"\"},\"bgcolor\":\"rgb(234,234,242)\",\"caxis\":{\"gridcolor\":\"white\",\"linecolor\":\"white\",\"showgrid\":true,\"ticks\":\"\"}},\"xaxis\":{\"automargin\":true,\"gridcolor\":\"white\",\"linecolor\":\"white\",\"showgrid\":true,\"ticks\":\"\",\"title\":{\"standoff\":15},\"zerolinecolor\":\"white\"},\"yaxis\":{\"automargin\":true,\"gridcolor\":\"white\",\"linecolor\":\"white\",\"showgrid\":true,\"ticks\":\"\",\"title\":{\"standoff\":15},\"zerolinecolor\":\"white\"}}},\"title\":{\"text\":\"N26 Funnel\"},\"plot_bgcolor\":\"#16B6B3\",\"paper_bgcolor\":\"#16B6B3\"},                        {\"responsive\": true}                    ).then(function(){\n",
       "                            \n",
       "var gd = document.getElementById('ecba232b-7c84-49cd-ab4f-ea320f44e9c3');\n",
       "var x = new MutationObserver(function (mutations, observer) {{\n",
       "        var display = window.getComputedStyle(gd).display;\n",
       "        if (!display || display === 'none') {{\n",
       "            console.log([gd, 'removed!']);\n",
       "            Plotly.purge(gd);\n",
       "            observer.disconnect();\n",
       "        }}\n",
       "}});\n",
       "\n",
       "// Listen for the removal of the full notebook cells\n",
       "var notebookContainer = gd.closest('#notebook-container');\n",
       "if (notebookContainer) {{\n",
       "    x.observe(notebookContainer, {childList: true});\n",
       "}}\n",
       "\n",
       "// Listen for the clearing of the current output cell\n",
       "var outputEl = gd.closest('.output');\n",
       "if (outputEl) {{\n",
       "    x.observe(outputEl, {childList: true});\n",
       "}}\n",
       "\n",
       "                        })                };                });            </script>        </div>"
      ]
     },
     "metadata": {},
     "output_type": "display_data"
    }
   ],
   "source": [
    "\n",
    "fig = go.Figure(\n",
    "                \n",
    "    go.Funnel(\n",
    "        y=[\n",
    "            'sign_up_initiated',\n",
    "            'sign_up_completed',\n",
    "            'kyc_completed',\n",
    "            'first_deposit',\n",
    "        ],\n",
    "        x=[sum_of_actions[0], sum_of_actions[1], sum_of_actions[2], sum_of_actions[3]],\n",
    "        \n",
    "    )\n",
    ")\n",
    "\n",
    "fig.update_layout(template = 'seaborn',  title='N26 Funnel',  plot_bgcolor='#16B6B3', paper_bgcolor='#16B6B3',)\n",
    "    \n",
    "fig.show() "
   ]
  },
  {
   "cell_type": "markdown",
   "id": "73f61680",
   "metadata": {},
   "source": [
    "What do we have according to this visual:\n",
    "\n",
    "- the biggest decrease in amount of users going to the next step is happenng on a stage of *KYC*, if the other steps are keeping more then 70% of previous amount, *KYC* keeps only 61.6% \n",
    "\n",
    "- to the end stage (*First Deposit*) only 31.9% of initial amount comes\n",
    "\n",
    "- step, which keeps the biggest amount of users is *First Deposit*, it keeps 73.1%"
   ]
  },
  {
   "cell_type": "markdown",
   "id": "b7c421b2",
   "metadata": {},
   "source": [
    "##### Now, lets add categorization to the analysis"
   ]
  },
  {
   "cell_type": "code",
   "execution_count": 22,
   "id": "5697ad4f",
   "metadata": {},
   "outputs": [
    {
     "data": {
      "text/plain": [
       "21315"
      ]
     },
     "execution_count": 22,
     "metadata": {},
     "output_type": "execute_result"
    }
   ],
   "source": [
    "df_funnel['user_id'].nunique()"
   ]
  },
  {
   "cell_type": "code",
   "execution_count": 23,
   "id": "4d0c2d9f",
   "metadata": {},
   "outputs": [
    {
     "data": {
      "text/plain": [
       "21229"
      ]
     },
     "execution_count": 23,
     "metadata": {},
     "output_type": "execute_result"
    }
   ],
   "source": [
    "n26_users['user_id'].nunique()"
   ]
  },
  {
   "cell_type": "code",
   "execution_count": 24,
   "id": "72f70e39",
   "metadata": {},
   "outputs": [
    {
     "data": {
      "text/plain": [
       "21229"
      ]
     },
     "execution_count": 24,
     "metadata": {},
     "output_type": "execute_result"
    }
   ],
   "source": [
    "n26_users['user_id'].count()"
   ]
  },
  {
   "cell_type": "markdown",
   "id": "c167172b",
   "metadata": {},
   "source": [
    "All users in table **n26_users** are unique, so we can use left merge of **df_funnel** with **n26_users** to add more data "
   ]
  },
  {
   "cell_type": "code",
   "execution_count": 25,
   "id": "57181af1",
   "metadata": {},
   "outputs": [],
   "source": [
    "df_combined = pd.merge(df_funnel, n26_users, on='user_id', how='left')"
   ]
  },
  {
   "cell_type": "code",
   "execution_count": 26,
   "id": "93304760",
   "metadata": {},
   "outputs": [
    {
     "data": {
      "text/plain": [
       "52412"
      ]
     },
     "execution_count": 26,
     "metadata": {},
     "output_type": "execute_result"
    }
   ],
   "source": [
    "len(df_combined)"
   ]
  },
  {
   "cell_type": "code",
   "execution_count": 27,
   "id": "4655af90",
   "metadata": {},
   "outputs": [
    {
     "data": {
      "text/plain": [
       "52412"
      ]
     },
     "execution_count": 27,
     "metadata": {},
     "output_type": "execute_result"
    }
   ],
   "source": [
    "len(df_funnel)"
   ]
  },
  {
   "cell_type": "markdown",
   "id": "782ec80e",
   "metadata": {},
   "source": [
    "There are no dublication of data, so everything is fine in merge step"
   ]
  },
  {
   "cell_type": "code",
   "execution_count": 28,
   "id": "68fb230d",
   "metadata": {},
   "outputs": [
    {
     "data": {
      "text/html": [
       "<div>\n",
       "<style scoped>\n",
       "    .dataframe tbody tr th:only-of-type {\n",
       "        vertical-align: middle;\n",
       "    }\n",
       "\n",
       "    .dataframe tbody tr th {\n",
       "        vertical-align: top;\n",
       "    }\n",
       "\n",
       "    .dataframe thead th {\n",
       "        text-align: right;\n",
       "    }\n",
       "</style>\n",
       "<table border=\"1\" class=\"dataframe\">\n",
       "  <thead>\n",
       "    <tr style=\"text-align: right;\">\n",
       "      <th></th>\n",
       "      <th>user_id</th>\n",
       "      <th>funnel_step</th>\n",
       "      <th>timestamp</th>\n",
       "      <th>num_of_step</th>\n",
       "      <th>channel</th>\n",
       "      <th>market</th>\n",
       "      <th>platform</th>\n",
       "      <th>age</th>\n",
       "    </tr>\n",
       "  </thead>\n",
       "  <tbody>\n",
       "    <tr>\n",
       "      <th>0</th>\n",
       "      <td>b64caac4-c6a8-4b85-b504-2bbd3e28e175</td>\n",
       "      <td>sign_up_initiated</td>\n",
       "      <td>2019-01-05 23:00:00</td>\n",
       "      <td>1</td>\n",
       "      <td>organic</td>\n",
       "      <td>FRA</td>\n",
       "      <td>ios</td>\n",
       "      <td>35.0</td>\n",
       "    </tr>\n",
       "    <tr>\n",
       "      <th>1</th>\n",
       "      <td>77d7332a-3220-49e2-bd86-780a421926ac</td>\n",
       "      <td>sign_up_initiated</td>\n",
       "      <td>2019-01-27 02:00:00</td>\n",
       "      <td>1</td>\n",
       "      <td>organic</td>\n",
       "      <td>FRA</td>\n",
       "      <td>ios</td>\n",
       "      <td>20.0</td>\n",
       "    </tr>\n",
       "    <tr>\n",
       "      <th>2</th>\n",
       "      <td>24fcc884-8938-49f1-ae3b-3d33ed3a9c53</td>\n",
       "      <td>sign_up_initiated</td>\n",
       "      <td>2019-01-30 02:00:00</td>\n",
       "      <td>1</td>\n",
       "      <td>paid_social</td>\n",
       "      <td>FRA</td>\n",
       "      <td>ios</td>\n",
       "      <td>25.0</td>\n",
       "    </tr>\n",
       "    <tr>\n",
       "      <th>3</th>\n",
       "      <td>55b9ab0e-72b8-4751-8225-623014cb877f</td>\n",
       "      <td>sign_up_initiated</td>\n",
       "      <td>2019-01-28 14:00:00</td>\n",
       "      <td>1</td>\n",
       "      <td>affiliate</td>\n",
       "      <td>FRA</td>\n",
       "      <td>ios</td>\n",
       "      <td>24.0</td>\n",
       "    </tr>\n",
       "    <tr>\n",
       "      <th>4</th>\n",
       "      <td>11f32569-a4b1-4850-a90a-e535e6242168</td>\n",
       "      <td>sign_up_initiated</td>\n",
       "      <td>2019-01-02 04:00:00</td>\n",
       "      <td>1</td>\n",
       "      <td>organic</td>\n",
       "      <td>FRA</td>\n",
       "      <td>ios</td>\n",
       "      <td>23.0</td>\n",
       "    </tr>\n",
       "  </tbody>\n",
       "</table>\n",
       "</div>"
      ],
      "text/plain": [
       "                                user_id        funnel_step  \\\n",
       "0  b64caac4-c6a8-4b85-b504-2bbd3e28e175  sign_up_initiated   \n",
       "1  77d7332a-3220-49e2-bd86-780a421926ac  sign_up_initiated   \n",
       "2  24fcc884-8938-49f1-ae3b-3d33ed3a9c53  sign_up_initiated   \n",
       "3  55b9ab0e-72b8-4751-8225-623014cb877f  sign_up_initiated   \n",
       "4  11f32569-a4b1-4850-a90a-e535e6242168  sign_up_initiated   \n",
       "\n",
       "            timestamp  num_of_step      channel market platform   age  \n",
       "0 2019-01-05 23:00:00            1      organic    FRA      ios  35.0  \n",
       "1 2019-01-27 02:00:00            1      organic    FRA      ios  20.0  \n",
       "2 2019-01-30 02:00:00            1  paid_social    FRA      ios  25.0  \n",
       "3 2019-01-28 14:00:00            1    affiliate    FRA      ios  24.0  \n",
       "4 2019-01-02 04:00:00            1      organic    FRA      ios  23.0  "
      ]
     },
     "execution_count": 28,
     "metadata": {},
     "output_type": "execute_result"
    }
   ],
   "source": [
    "df_combined.head()"
   ]
  },
  {
   "cell_type": "code",
   "execution_count": 29,
   "id": "308127ee",
   "metadata": {},
   "outputs": [],
   "source": [
    "first_event_date = df_combined.groupby('user_id')['timestamp'].min()\n",
    "first_event_date.name = 'first_step_time'\n",
    "df_combined = df_combined.join(first_event_date,on='user_id')\n",
    "df_combined['time_diff_total'] = (df_combined['timestamp'] - df_combined['first_step_time']).astype('timedelta64[D]')\n",
    "df_combined['diff_from_last_step'] = df_combined.groupby('user_id')['timestamp'].diff() / np.timedelta64(1, 'h')\n",
    "df_combined['diff_from_last_step'] = df_combined['diff_from_last_step'].fillna(0)\n",
    "is_converted = df_combined.loc[df_combined['funnel_step'] == 'first_deposit']\n",
    "is_converted['fully_completed'] = True\n",
    "is_converted = is_converted[['user_id', 'fully_completed']]\n",
    "df_combined = pd.merge(df_combined, is_converted, on='user_id', how='left')\n",
    "df_combined['fully_completed'] = df_combined['fully_completed'].fillna(False)"
   ]
  },
  {
   "cell_type": "markdown",
   "id": "d0260fbe",
   "metadata": {},
   "source": [
    "Here i add time_diff column to understand, how many time is needed to pass to the next stage and info about achieving final stage"
   ]
  },
  {
   "cell_type": "code",
   "execution_count": 30,
   "id": "78973c4b",
   "metadata": {},
   "outputs": [
    {
     "data": {
      "text/html": [
       "<div>\n",
       "<style scoped>\n",
       "    .dataframe tbody tr th:only-of-type {\n",
       "        vertical-align: middle;\n",
       "    }\n",
       "\n",
       "    .dataframe tbody tr th {\n",
       "        vertical-align: top;\n",
       "    }\n",
       "\n",
       "    .dataframe thead th {\n",
       "        text-align: right;\n",
       "    }\n",
       "</style>\n",
       "<table border=\"1\" class=\"dataframe\">\n",
       "  <thead>\n",
       "    <tr style=\"text-align: right;\">\n",
       "      <th></th>\n",
       "      <th>user_id</th>\n",
       "      <th>funnel_step</th>\n",
       "      <th>timestamp</th>\n",
       "      <th>num_of_step</th>\n",
       "      <th>channel</th>\n",
       "      <th>market</th>\n",
       "      <th>platform</th>\n",
       "      <th>age</th>\n",
       "      <th>first_step_time</th>\n",
       "      <th>time_diff_total</th>\n",
       "      <th>diff_from_last_step</th>\n",
       "      <th>fully_completed</th>\n",
       "    </tr>\n",
       "  </thead>\n",
       "  <tbody>\n",
       "    <tr>\n",
       "      <th>6056</th>\n",
       "      <td>879fde80-f7a0-4cdd-9531-a860bcb540bf</td>\n",
       "      <td>sign_up_initiated</td>\n",
       "      <td>2019-01-30 11:00:00</td>\n",
       "      <td>1</td>\n",
       "      <td>organic</td>\n",
       "      <td>DEU</td>\n",
       "      <td>android</td>\n",
       "      <td>29.0</td>\n",
       "      <td>2019-01-30 11:00:00</td>\n",
       "      <td>0.0</td>\n",
       "      <td>0.0</td>\n",
       "      <td>False</td>\n",
       "    </tr>\n",
       "    <tr>\n",
       "      <th>25542</th>\n",
       "      <td>879fde80-f7a0-4cdd-9531-a860bcb540bf</td>\n",
       "      <td>sign_up_completed</td>\n",
       "      <td>2019-01-31 06:00:00</td>\n",
       "      <td>2</td>\n",
       "      <td>organic</td>\n",
       "      <td>DEU</td>\n",
       "      <td>android</td>\n",
       "      <td>29.0</td>\n",
       "      <td>2019-01-30 11:00:00</td>\n",
       "      <td>0.0</td>\n",
       "      <td>19.0</td>\n",
       "      <td>False</td>\n",
       "    </tr>\n",
       "  </tbody>\n",
       "</table>\n",
       "</div>"
      ],
      "text/plain": [
       "                                    user_id        funnel_step  \\\n",
       "6056   879fde80-f7a0-4cdd-9531-a860bcb540bf  sign_up_initiated   \n",
       "25542  879fde80-f7a0-4cdd-9531-a860bcb540bf  sign_up_completed   \n",
       "\n",
       "                timestamp  num_of_step  channel market platform   age  \\\n",
       "6056  2019-01-30 11:00:00            1  organic    DEU  android  29.0   \n",
       "25542 2019-01-31 06:00:00            2  organic    DEU  android  29.0   \n",
       "\n",
       "          first_step_time  time_diff_total  diff_from_last_step  \\\n",
       "6056  2019-01-30 11:00:00              0.0                  0.0   \n",
       "25542 2019-01-30 11:00:00              0.0                 19.0   \n",
       "\n",
       "       fully_completed  \n",
       "6056             False  \n",
       "25542            False  "
      ]
     },
     "execution_count": 30,
     "metadata": {},
     "output_type": "execute_result"
    }
   ],
   "source": [
    "random_id = df_combined['user_id'].sample().values[0]\n",
    "df_combined.query(\"user_id == @random_id\")"
   ]
  },
  {
   "cell_type": "markdown",
   "id": "50ca4f72",
   "metadata": {},
   "source": [
    "Random chosen ID works fine"
   ]
  },
  {
   "cell_type": "code",
   "execution_count": 31,
   "id": "ca060376",
   "metadata": {},
   "outputs": [
    {
     "data": {
      "text/html": [
       "<div>\n",
       "<style scoped>\n",
       "    .dataframe tbody tr th:only-of-type {\n",
       "        vertical-align: middle;\n",
       "    }\n",
       "\n",
       "    .dataframe tbody tr th {\n",
       "        vertical-align: top;\n",
       "    }\n",
       "\n",
       "    .dataframe thead th {\n",
       "        text-align: right;\n",
       "    }\n",
       "</style>\n",
       "<table border=\"1\" class=\"dataframe\">\n",
       "  <thead>\n",
       "    <tr style=\"text-align: right;\">\n",
       "      <th></th>\n",
       "      <th></th>\n",
       "      <th>user_id</th>\n",
       "      <th>age</th>\n",
       "      <th>time_diff_total</th>\n",
       "      <th>diff_from_last_step</th>\n",
       "      <th>fully_completed</th>\n",
       "    </tr>\n",
       "    <tr>\n",
       "      <th>funnel_step</th>\n",
       "      <th>platform</th>\n",
       "      <th></th>\n",
       "      <th></th>\n",
       "      <th></th>\n",
       "      <th></th>\n",
       "      <th></th>\n",
       "    </tr>\n",
       "  </thead>\n",
       "  <tbody>\n",
       "    <tr>\n",
       "      <th rowspan=\"2\" valign=\"top\">first_deposit</th>\n",
       "      <th>android</th>\n",
       "      <td>2574</td>\n",
       "      <td>30.879953</td>\n",
       "      <td>25.585082</td>\n",
       "      <td>352.093240</td>\n",
       "      <td>2574</td>\n",
       "    </tr>\n",
       "    <tr>\n",
       "      <th>ios</th>\n",
       "      <td>4180</td>\n",
       "      <td>31.028708</td>\n",
       "      <td>25.329187</td>\n",
       "      <td>348.086603</td>\n",
       "      <td>4180</td>\n",
       "    </tr>\n",
       "    <tr>\n",
       "      <th rowspan=\"2\" valign=\"top\">kyc_completed</th>\n",
       "      <th>android</th>\n",
       "      <td>3526</td>\n",
       "      <td>30.830686</td>\n",
       "      <td>10.172717</td>\n",
       "      <td>226.869541</td>\n",
       "      <td>2572</td>\n",
       "    </tr>\n",
       "    <tr>\n",
       "      <th>ios</th>\n",
       "      <td>5708</td>\n",
       "      <td>30.954975</td>\n",
       "      <td>10.081289</td>\n",
       "      <td>225.001927</td>\n",
       "      <td>4170</td>\n",
       "    </tr>\n",
       "    <tr>\n",
       "      <th rowspan=\"2\" valign=\"top\">sign_up_completed</th>\n",
       "      <th>android</th>\n",
       "      <td>5722</td>\n",
       "      <td>30.948095</td>\n",
       "      <td>0.682803</td>\n",
       "      <td>28.621811</td>\n",
       "      <td>2567</td>\n",
       "    </tr>\n",
       "    <tr>\n",
       "      <th>ios</th>\n",
       "      <td>9264</td>\n",
       "      <td>31.179080</td>\n",
       "      <td>0.685881</td>\n",
       "      <td>28.583225</td>\n",
       "      <td>4171</td>\n",
       "    </tr>\n",
       "    <tr>\n",
       "      <th rowspan=\"2\" valign=\"top\">sign_up_initiated</th>\n",
       "      <th>android</th>\n",
       "      <td>8096</td>\n",
       "      <td>30.982831</td>\n",
       "      <td>0.000000</td>\n",
       "      <td>0.000000</td>\n",
       "      <td>2567</td>\n",
       "    </tr>\n",
       "    <tr>\n",
       "      <th>ios</th>\n",
       "      <td>13088</td>\n",
       "      <td>31.101467</td>\n",
       "      <td>0.000000</td>\n",
       "      <td>0.000000</td>\n",
       "      <td>4169</td>\n",
       "    </tr>\n",
       "  </tbody>\n",
       "</table>\n",
       "</div>"
      ],
      "text/plain": [
       "                            user_id        age  time_diff_total  \\\n",
       "funnel_step       platform                                        \n",
       "first_deposit     android      2574  30.879953        25.585082   \n",
       "                  ios          4180  31.028708        25.329187   \n",
       "kyc_completed     android      3526  30.830686        10.172717   \n",
       "                  ios          5708  30.954975        10.081289   \n",
       "sign_up_completed android      5722  30.948095         0.682803   \n",
       "                  ios          9264  31.179080         0.685881   \n",
       "sign_up_initiated android      8096  30.982831         0.000000   \n",
       "                  ios         13088  31.101467         0.000000   \n",
       "\n",
       "                            diff_from_last_step  fully_completed  \n",
       "funnel_step       platform                                        \n",
       "first_deposit     android            352.093240             2574  \n",
       "                  ios                348.086603             4180  \n",
       "kyc_completed     android            226.869541             2572  \n",
       "                  ios                225.001927             4170  \n",
       "sign_up_completed android             28.621811             2567  \n",
       "                  ios                 28.583225             4171  \n",
       "sign_up_initiated android              0.000000             2567  \n",
       "                  ios                  0.000000             4169  "
      ]
     },
     "execution_count": 31,
     "metadata": {},
     "output_type": "execute_result"
    }
   ],
   "source": [
    "df_combined.groupby(['funnel_step', 'platform']).agg({'user_id': 'nunique','age': 'mean', 'time_diff_total': \"mean\", 'diff_from_last_step': \"mean\", 'fully_completed': 'sum'})"
   ]
  },
  {
   "cell_type": "markdown",
   "id": "89aeaa7b",
   "metadata": {},
   "source": [
    "here we can see, that there are a few records, which were understood as totally achieving the final stage not passing all the previous ones"
   ]
  },
  {
   "cell_type": "code",
   "execution_count": null,
   "id": "dde8d99a",
   "metadata": {},
   "outputs": [],
   "source": []
  },
  {
   "cell_type": "code",
   "execution_count": 32,
   "id": "8d321467",
   "metadata": {},
   "outputs": [
    {
     "name": "stdout",
     "output_type": "stream",
     "text": [
      "46\n"
     ]
    }
   ],
   "source": [
    "df_check = df_combined.loc[df_combined['fully_completed'] == True]\n",
    "df_check = df_check.groupby('user_id').agg({'num_of_step': 'count'}).reset_index()\n",
    "df_check = df_check.loc[df_check['num_of_step'] != 4]\n",
    "print(len(df_check))"
   ]
  },
  {
   "cell_type": "markdown",
   "id": "120e5a07",
   "metadata": {},
   "source": [
    "There are 46 records, that are beyond our scope of natural flow of customer through all stages, i prefer to delete them from dataframe, as it is not very massive group, but lies outside "
   ]
  },
  {
   "cell_type": "code",
   "execution_count": 33,
   "id": "23c8f8c1",
   "metadata": {},
   "outputs": [],
   "source": [
    "list_of_strange_id = df_check['user_id'].to_list()"
   ]
  },
  {
   "cell_type": "code",
   "execution_count": 34,
   "id": "9793ab08",
   "metadata": {},
   "outputs": [],
   "source": [
    "df_combined = df_combined[~df_combined['user_id'].isin(list_of_strange_id)]"
   ]
  },
  {
   "cell_type": "code",
   "execution_count": 35,
   "id": "7fc2e284",
   "metadata": {},
   "outputs": [],
   "source": [
    "platform = df_combined.groupby(['funnel_step', 'platform']).agg({'user_id': 'nunique','age': 'mean', 'time_diff_total': \"mean\", 'diff_from_last_step': \"mean\", 'fully_completed': 'sum'})"
   ]
  },
  {
   "cell_type": "markdown",
   "id": "4a0358ce",
   "metadata": {},
   "source": [
    "now everything is perfect"
   ]
  },
  {
   "cell_type": "markdown",
   "id": "08f45e7d",
   "metadata": {},
   "source": [
    "#### platform category"
   ]
  },
  {
   "cell_type": "code",
   "execution_count": 36,
   "id": "df8b3d1d",
   "metadata": {},
   "outputs": [],
   "source": [
    "platform['convertion'] = platform['fully_completed'] / platform['user_id']"
   ]
  },
  {
   "cell_type": "code",
   "execution_count": 37,
   "id": "949792da",
   "metadata": {},
   "outputs": [
    {
     "data": {
      "text/html": [
       "<div>\n",
       "<style scoped>\n",
       "    .dataframe tbody tr th:only-of-type {\n",
       "        vertical-align: middle;\n",
       "    }\n",
       "\n",
       "    .dataframe tbody tr th {\n",
       "        vertical-align: top;\n",
       "    }\n",
       "\n",
       "    .dataframe thead th {\n",
       "        text-align: right;\n",
       "    }\n",
       "</style>\n",
       "<table border=\"1\" class=\"dataframe\">\n",
       "  <thead>\n",
       "    <tr style=\"text-align: right;\">\n",
       "      <th></th>\n",
       "      <th></th>\n",
       "      <th>user_id</th>\n",
       "      <th>age</th>\n",
       "      <th>time_diff_total</th>\n",
       "      <th>diff_from_last_step</th>\n",
       "      <th>fully_completed</th>\n",
       "      <th>convertion</th>\n",
       "    </tr>\n",
       "    <tr>\n",
       "      <th>funnel_step</th>\n",
       "      <th>platform</th>\n",
       "      <th></th>\n",
       "      <th></th>\n",
       "      <th></th>\n",
       "      <th></th>\n",
       "      <th></th>\n",
       "      <th></th>\n",
       "    </tr>\n",
       "  </thead>\n",
       "  <tbody>\n",
       "    <tr>\n",
       "      <th rowspan=\"2\" valign=\"top\">sign_up_initiated</th>\n",
       "      <th>android</th>\n",
       "      <td>8087</td>\n",
       "      <td>30.988376</td>\n",
       "      <td>0.000000</td>\n",
       "      <td>0.000000</td>\n",
       "      <td>2558</td>\n",
       "      <td>0.316310</td>\n",
       "    </tr>\n",
       "    <tr>\n",
       "      <th>ios</th>\n",
       "      <td>13069</td>\n",
       "      <td>31.094804</td>\n",
       "      <td>0.000000</td>\n",
       "      <td>0.000000</td>\n",
       "      <td>4150</td>\n",
       "      <td>0.317545</td>\n",
       "    </tr>\n",
       "    <tr>\n",
       "      <th rowspan=\"2\" valign=\"top\">sign_up_completed</th>\n",
       "      <th>android</th>\n",
       "      <td>5713</td>\n",
       "      <td>30.958516</td>\n",
       "      <td>0.683529</td>\n",
       "      <td>28.654997</td>\n",
       "      <td>2558</td>\n",
       "      <td>0.447751</td>\n",
       "    </tr>\n",
       "    <tr>\n",
       "      <th>ios</th>\n",
       "      <td>9243</td>\n",
       "      <td>31.175376</td>\n",
       "      <td>0.687006</td>\n",
       "      <td>28.624256</td>\n",
       "      <td>4150</td>\n",
       "      <td>0.448988</td>\n",
       "    </tr>\n",
       "    <tr>\n",
       "      <th rowspan=\"2\" valign=\"top\">kyc_completed</th>\n",
       "      <th>android</th>\n",
       "      <td>3512</td>\n",
       "      <td>30.851367</td>\n",
       "      <td>10.171412</td>\n",
       "      <td>226.712130</td>\n",
       "      <td>2558</td>\n",
       "      <td>0.728360</td>\n",
       "    </tr>\n",
       "    <tr>\n",
       "      <th>ios</th>\n",
       "      <td>5688</td>\n",
       "      <td>30.939522</td>\n",
       "      <td>10.078411</td>\n",
       "      <td>224.831751</td>\n",
       "      <td>4150</td>\n",
       "      <td>0.729606</td>\n",
       "    </tr>\n",
       "    <tr>\n",
       "      <th rowspan=\"2\" valign=\"top\">first_deposit</th>\n",
       "      <th>android</th>\n",
       "      <td>2558</td>\n",
       "      <td>30.914386</td>\n",
       "      <td>25.582877</td>\n",
       "      <td>351.838546</td>\n",
       "      <td>2558</td>\n",
       "      <td>1.000000</td>\n",
       "    </tr>\n",
       "    <tr>\n",
       "      <th>ios</th>\n",
       "      <td>4150</td>\n",
       "      <td>31.003133</td>\n",
       "      <td>25.324819</td>\n",
       "      <td>347.403133</td>\n",
       "      <td>4150</td>\n",
       "      <td>1.000000</td>\n",
       "    </tr>\n",
       "  </tbody>\n",
       "</table>\n",
       "</div>"
      ],
      "text/plain": [
       "                            user_id        age  time_diff_total  \\\n",
       "funnel_step       platform                                        \n",
       "sign_up_initiated android      8087  30.988376         0.000000   \n",
       "                  ios         13069  31.094804         0.000000   \n",
       "sign_up_completed android      5713  30.958516         0.683529   \n",
       "                  ios          9243  31.175376         0.687006   \n",
       "kyc_completed     android      3512  30.851367        10.171412   \n",
       "                  ios          5688  30.939522        10.078411   \n",
       "first_deposit     android      2558  30.914386        25.582877   \n",
       "                  ios          4150  31.003133        25.324819   \n",
       "\n",
       "                            diff_from_last_step  fully_completed  convertion  \n",
       "funnel_step       platform                                                    \n",
       "sign_up_initiated android              0.000000             2558    0.316310  \n",
       "                  ios                  0.000000             4150    0.317545  \n",
       "sign_up_completed android             28.654997             2558    0.447751  \n",
       "                  ios                 28.624256             4150    0.448988  \n",
       "kyc_completed     android            226.712130             2558    0.728360  \n",
       "                  ios                224.831751             4150    0.729606  \n",
       "first_deposit     android            351.838546             2558    1.000000  \n",
       "                  ios                347.403133             4150    1.000000  "
      ]
     },
     "execution_count": 37,
     "metadata": {},
     "output_type": "execute_result"
    }
   ],
   "source": [
    "platform.sort_values(by = 'convertion', ascending=True)"
   ]
  },
  {
   "cell_type": "markdown",
   "id": "bc04baed",
   "metadata": {},
   "source": [
    "Values show approximately similar numbers of conversion to the final stage of **first_deposit** for both of kinds of devices: based od IOS and Android. \n",
    "\n",
    "- while the difference in samples of devices is significant, the diffrence in conversion for both of them is very close - around 31.6-31.8%\n",
    "\n",
    "- like already was mentioned, the situations with two platforms are very similar, it also can be referred to overall trends of going through stages with keeping the same amount of users (in %, of course) \n",
    "\n",
    "- even the age and required time is very similar, at least at first glance"
   ]
  },
  {
   "cell_type": "code",
   "execution_count": 38,
   "id": "78221932",
   "metadata": {},
   "outputs": [],
   "source": [
    "platform = platform.reset_index()"
   ]
  },
  {
   "cell_type": "code",
   "execution_count": 39,
   "id": "f5e2a3b8",
   "metadata": {},
   "outputs": [
    {
     "data": {
      "application/vnd.plotly.v1+json": {
       "config": {
        "plotlyServerURL": "https://plot.ly"
       },
       "data": [
        {
         "hovertemplate": "platform=android<br>user_id=%{x}<br>funnel_step=%{y}<extra></extra>",
         "legendgroup": "android",
         "marker": {
          "color": "#16B6B3"
         },
         "name": "android",
         "orientation": "h",
         "showlegend": true,
         "type": "funnel",
         "x": [
          2558,
          3512,
          5713,
          8087
         ],
         "xaxis": "x",
         "y": [
          "first_deposit",
          "kyc_completed",
          "sign_up_completed",
          "sign_up_initiated"
         ],
         "yaxis": "y"
        },
        {
         "hovertemplate": "platform=ios<br>user_id=%{x}<br>funnel_step=%{y}<extra></extra>",
         "legendgroup": "ios",
         "marker": {
          "color": "#2E282A"
         },
         "name": "ios",
         "orientation": "h",
         "showlegend": true,
         "type": "funnel",
         "x": [
          4150,
          5688,
          9243,
          13069
         ],
         "xaxis": "x",
         "y": [
          "first_deposit",
          "kyc_completed",
          "sign_up_completed",
          "sign_up_initiated"
         ],
         "yaxis": "y"
        }
       ],
       "layout": {
        "legend": {
         "title": {
          "text": "platform"
         },
         "tracegroupgap": 0
        },
        "margin": {
         "t": 60
        },
        "template": {
         "data": {
          "bar": [
           {
            "error_x": {
             "color": "#2a3f5f"
            },
            "error_y": {
             "color": "#2a3f5f"
            },
            "marker": {
             "line": {
              "color": "#E5ECF6",
              "width": 0.5
             },
             "pattern": {
              "fillmode": "overlay",
              "size": 10,
              "solidity": 0.2
             }
            },
            "type": "bar"
           }
          ],
          "barpolar": [
           {
            "marker": {
             "line": {
              "color": "#E5ECF6",
              "width": 0.5
             },
             "pattern": {
              "fillmode": "overlay",
              "size": 10,
              "solidity": 0.2
             }
            },
            "type": "barpolar"
           }
          ],
          "carpet": [
           {
            "aaxis": {
             "endlinecolor": "#2a3f5f",
             "gridcolor": "white",
             "linecolor": "white",
             "minorgridcolor": "white",
             "startlinecolor": "#2a3f5f"
            },
            "baxis": {
             "endlinecolor": "#2a3f5f",
             "gridcolor": "white",
             "linecolor": "white",
             "minorgridcolor": "white",
             "startlinecolor": "#2a3f5f"
            },
            "type": "carpet"
           }
          ],
          "choropleth": [
           {
            "colorbar": {
             "outlinewidth": 0,
             "ticks": ""
            },
            "type": "choropleth"
           }
          ],
          "contour": [
           {
            "colorbar": {
             "outlinewidth": 0,
             "ticks": ""
            },
            "colorscale": [
             [
              0,
              "#0d0887"
             ],
             [
              0.1111111111111111,
              "#46039f"
             ],
             [
              0.2222222222222222,
              "#7201a8"
             ],
             [
              0.3333333333333333,
              "#9c179e"
             ],
             [
              0.4444444444444444,
              "#bd3786"
             ],
             [
              0.5555555555555556,
              "#d8576b"
             ],
             [
              0.6666666666666666,
              "#ed7953"
             ],
             [
              0.7777777777777778,
              "#fb9f3a"
             ],
             [
              0.8888888888888888,
              "#fdca26"
             ],
             [
              1,
              "#f0f921"
             ]
            ],
            "type": "contour"
           }
          ],
          "contourcarpet": [
           {
            "colorbar": {
             "outlinewidth": 0,
             "ticks": ""
            },
            "type": "contourcarpet"
           }
          ],
          "heatmap": [
           {
            "colorbar": {
             "outlinewidth": 0,
             "ticks": ""
            },
            "colorscale": [
             [
              0,
              "#0d0887"
             ],
             [
              0.1111111111111111,
              "#46039f"
             ],
             [
              0.2222222222222222,
              "#7201a8"
             ],
             [
              0.3333333333333333,
              "#9c179e"
             ],
             [
              0.4444444444444444,
              "#bd3786"
             ],
             [
              0.5555555555555556,
              "#d8576b"
             ],
             [
              0.6666666666666666,
              "#ed7953"
             ],
             [
              0.7777777777777778,
              "#fb9f3a"
             ],
             [
              0.8888888888888888,
              "#fdca26"
             ],
             [
              1,
              "#f0f921"
             ]
            ],
            "type": "heatmap"
           }
          ],
          "heatmapgl": [
           {
            "colorbar": {
             "outlinewidth": 0,
             "ticks": ""
            },
            "colorscale": [
             [
              0,
              "#0d0887"
             ],
             [
              0.1111111111111111,
              "#46039f"
             ],
             [
              0.2222222222222222,
              "#7201a8"
             ],
             [
              0.3333333333333333,
              "#9c179e"
             ],
             [
              0.4444444444444444,
              "#bd3786"
             ],
             [
              0.5555555555555556,
              "#d8576b"
             ],
             [
              0.6666666666666666,
              "#ed7953"
             ],
             [
              0.7777777777777778,
              "#fb9f3a"
             ],
             [
              0.8888888888888888,
              "#fdca26"
             ],
             [
              1,
              "#f0f921"
             ]
            ],
            "type": "heatmapgl"
           }
          ],
          "histogram": [
           {
            "marker": {
             "pattern": {
              "fillmode": "overlay",
              "size": 10,
              "solidity": 0.2
             }
            },
            "type": "histogram"
           }
          ],
          "histogram2d": [
           {
            "colorbar": {
             "outlinewidth": 0,
             "ticks": ""
            },
            "colorscale": [
             [
              0,
              "#0d0887"
             ],
             [
              0.1111111111111111,
              "#46039f"
             ],
             [
              0.2222222222222222,
              "#7201a8"
             ],
             [
              0.3333333333333333,
              "#9c179e"
             ],
             [
              0.4444444444444444,
              "#bd3786"
             ],
             [
              0.5555555555555556,
              "#d8576b"
             ],
             [
              0.6666666666666666,
              "#ed7953"
             ],
             [
              0.7777777777777778,
              "#fb9f3a"
             ],
             [
              0.8888888888888888,
              "#fdca26"
             ],
             [
              1,
              "#f0f921"
             ]
            ],
            "type": "histogram2d"
           }
          ],
          "histogram2dcontour": [
           {
            "colorbar": {
             "outlinewidth": 0,
             "ticks": ""
            },
            "colorscale": [
             [
              0,
              "#0d0887"
             ],
             [
              0.1111111111111111,
              "#46039f"
             ],
             [
              0.2222222222222222,
              "#7201a8"
             ],
             [
              0.3333333333333333,
              "#9c179e"
             ],
             [
              0.4444444444444444,
              "#bd3786"
             ],
             [
              0.5555555555555556,
              "#d8576b"
             ],
             [
              0.6666666666666666,
              "#ed7953"
             ],
             [
              0.7777777777777778,
              "#fb9f3a"
             ],
             [
              0.8888888888888888,
              "#fdca26"
             ],
             [
              1,
              "#f0f921"
             ]
            ],
            "type": "histogram2dcontour"
           }
          ],
          "mesh3d": [
           {
            "colorbar": {
             "outlinewidth": 0,
             "ticks": ""
            },
            "type": "mesh3d"
           }
          ],
          "parcoords": [
           {
            "line": {
             "colorbar": {
              "outlinewidth": 0,
              "ticks": ""
             }
            },
            "type": "parcoords"
           }
          ],
          "pie": [
           {
            "automargin": true,
            "type": "pie"
           }
          ],
          "scatter": [
           {
            "marker": {
             "colorbar": {
              "outlinewidth": 0,
              "ticks": ""
             }
            },
            "type": "scatter"
           }
          ],
          "scatter3d": [
           {
            "line": {
             "colorbar": {
              "outlinewidth": 0,
              "ticks": ""
             }
            },
            "marker": {
             "colorbar": {
              "outlinewidth": 0,
              "ticks": ""
             }
            },
            "type": "scatter3d"
           }
          ],
          "scattercarpet": [
           {
            "marker": {
             "colorbar": {
              "outlinewidth": 0,
              "ticks": ""
             }
            },
            "type": "scattercarpet"
           }
          ],
          "scattergeo": [
           {
            "marker": {
             "colorbar": {
              "outlinewidth": 0,
              "ticks": ""
             }
            },
            "type": "scattergeo"
           }
          ],
          "scattergl": [
           {
            "marker": {
             "colorbar": {
              "outlinewidth": 0,
              "ticks": ""
             }
            },
            "type": "scattergl"
           }
          ],
          "scattermapbox": [
           {
            "marker": {
             "colorbar": {
              "outlinewidth": 0,
              "ticks": ""
             }
            },
            "type": "scattermapbox"
           }
          ],
          "scatterpolar": [
           {
            "marker": {
             "colorbar": {
              "outlinewidth": 0,
              "ticks": ""
             }
            },
            "type": "scatterpolar"
           }
          ],
          "scatterpolargl": [
           {
            "marker": {
             "colorbar": {
              "outlinewidth": 0,
              "ticks": ""
             }
            },
            "type": "scatterpolargl"
           }
          ],
          "scatterternary": [
           {
            "marker": {
             "colorbar": {
              "outlinewidth": 0,
              "ticks": ""
             }
            },
            "type": "scatterternary"
           }
          ],
          "surface": [
           {
            "colorbar": {
             "outlinewidth": 0,
             "ticks": ""
            },
            "colorscale": [
             [
              0,
              "#0d0887"
             ],
             [
              0.1111111111111111,
              "#46039f"
             ],
             [
              0.2222222222222222,
              "#7201a8"
             ],
             [
              0.3333333333333333,
              "#9c179e"
             ],
             [
              0.4444444444444444,
              "#bd3786"
             ],
             [
              0.5555555555555556,
              "#d8576b"
             ],
             [
              0.6666666666666666,
              "#ed7953"
             ],
             [
              0.7777777777777778,
              "#fb9f3a"
             ],
             [
              0.8888888888888888,
              "#fdca26"
             ],
             [
              1,
              "#f0f921"
             ]
            ],
            "type": "surface"
           }
          ],
          "table": [
           {
            "cells": {
             "fill": {
              "color": "#EBF0F8"
             },
             "line": {
              "color": "white"
             }
            },
            "header": {
             "fill": {
              "color": "#C8D4E3"
             },
             "line": {
              "color": "white"
             }
            },
            "type": "table"
           }
          ]
         },
         "layout": {
          "annotationdefaults": {
           "arrowcolor": "#2a3f5f",
           "arrowhead": 0,
           "arrowwidth": 1
          },
          "autotypenumbers": "strict",
          "coloraxis": {
           "colorbar": {
            "outlinewidth": 0,
            "ticks": ""
           }
          },
          "colorscale": {
           "diverging": [
            [
             0,
             "#8e0152"
            ],
            [
             0.1,
             "#c51b7d"
            ],
            [
             0.2,
             "#de77ae"
            ],
            [
             0.3,
             "#f1b6da"
            ],
            [
             0.4,
             "#fde0ef"
            ],
            [
             0.5,
             "#f7f7f7"
            ],
            [
             0.6,
             "#e6f5d0"
            ],
            [
             0.7,
             "#b8e186"
            ],
            [
             0.8,
             "#7fbc41"
            ],
            [
             0.9,
             "#4d9221"
            ],
            [
             1,
             "#276419"
            ]
           ],
           "sequential": [
            [
             0,
             "#0d0887"
            ],
            [
             0.1111111111111111,
             "#46039f"
            ],
            [
             0.2222222222222222,
             "#7201a8"
            ],
            [
             0.3333333333333333,
             "#9c179e"
            ],
            [
             0.4444444444444444,
             "#bd3786"
            ],
            [
             0.5555555555555556,
             "#d8576b"
            ],
            [
             0.6666666666666666,
             "#ed7953"
            ],
            [
             0.7777777777777778,
             "#fb9f3a"
            ],
            [
             0.8888888888888888,
             "#fdca26"
            ],
            [
             1,
             "#f0f921"
            ]
           ],
           "sequentialminus": [
            [
             0,
             "#0d0887"
            ],
            [
             0.1111111111111111,
             "#46039f"
            ],
            [
             0.2222222222222222,
             "#7201a8"
            ],
            [
             0.3333333333333333,
             "#9c179e"
            ],
            [
             0.4444444444444444,
             "#bd3786"
            ],
            [
             0.5555555555555556,
             "#d8576b"
            ],
            [
             0.6666666666666666,
             "#ed7953"
            ],
            [
             0.7777777777777778,
             "#fb9f3a"
            ],
            [
             0.8888888888888888,
             "#fdca26"
            ],
            [
             1,
             "#f0f921"
            ]
           ]
          },
          "colorway": [
           "#636efa",
           "#EF553B",
           "#00cc96",
           "#ab63fa",
           "#FFA15A",
           "#19d3f3",
           "#FF6692",
           "#B6E880",
           "#FF97FF",
           "#FECB52"
          ],
          "font": {
           "color": "#2a3f5f"
          },
          "geo": {
           "bgcolor": "white",
           "lakecolor": "white",
           "landcolor": "#E5ECF6",
           "showlakes": true,
           "showland": true,
           "subunitcolor": "white"
          },
          "hoverlabel": {
           "align": "left"
          },
          "hovermode": "closest",
          "mapbox": {
           "style": "light"
          },
          "paper_bgcolor": "white",
          "plot_bgcolor": "#E5ECF6",
          "polar": {
           "angularaxis": {
            "gridcolor": "white",
            "linecolor": "white",
            "ticks": ""
           },
           "bgcolor": "#E5ECF6",
           "radialaxis": {
            "gridcolor": "white",
            "linecolor": "white",
            "ticks": ""
           }
          },
          "scene": {
           "xaxis": {
            "backgroundcolor": "#E5ECF6",
            "gridcolor": "white",
            "gridwidth": 2,
            "linecolor": "white",
            "showbackground": true,
            "ticks": "",
            "zerolinecolor": "white"
           },
           "yaxis": {
            "backgroundcolor": "#E5ECF6",
            "gridcolor": "white",
            "gridwidth": 2,
            "linecolor": "white",
            "showbackground": true,
            "ticks": "",
            "zerolinecolor": "white"
           },
           "zaxis": {
            "backgroundcolor": "#E5ECF6",
            "gridcolor": "white",
            "gridwidth": 2,
            "linecolor": "white",
            "showbackground": true,
            "ticks": "",
            "zerolinecolor": "white"
           }
          },
          "shapedefaults": {
           "line": {
            "color": "#2a3f5f"
           }
          },
          "ternary": {
           "aaxis": {
            "gridcolor": "white",
            "linecolor": "white",
            "ticks": ""
           },
           "baxis": {
            "gridcolor": "white",
            "linecolor": "white",
            "ticks": ""
           },
           "bgcolor": "#E5ECF6",
           "caxis": {
            "gridcolor": "white",
            "linecolor": "white",
            "ticks": ""
           }
          },
          "title": {
           "x": 0.05
          },
          "xaxis": {
           "automargin": true,
           "gridcolor": "white",
           "linecolor": "white",
           "ticks": "",
           "title": {
            "standoff": 15
           },
           "zerolinecolor": "white",
           "zerolinewidth": 2
          },
          "yaxis": {
           "automargin": true,
           "gridcolor": "white",
           "linecolor": "white",
           "ticks": "",
           "title": {
            "standoff": 15
           },
           "zerolinecolor": "white",
           "zerolinewidth": 2
          }
         }
        },
        "xaxis": {
         "anchor": "y",
         "domain": [
          0,
          1
         ],
         "title": {
          "text": "user_id"
         }
        },
        "yaxis": {
         "anchor": "x",
         "domain": [
          0,
          1
         ],
         "title": {
          "text": "funnel_step"
         }
        }
       }
      },
      "text/html": [
       "<div>                            <div id=\"9b799986-3ed1-483c-8a34-7693e89aa9e9\" class=\"plotly-graph-div\" style=\"height:525px; width:100%;\"></div>            <script type=\"text/javascript\">                require([\"plotly\"], function(Plotly) {                    window.PLOTLYENV=window.PLOTLYENV || {};                                    if (document.getElementById(\"9b799986-3ed1-483c-8a34-7693e89aa9e9\")) {                    Plotly.newPlot(                        \"9b799986-3ed1-483c-8a34-7693e89aa9e9\",                        [{\"hovertemplate\":\"platform=android<br>user_id=%{x}<br>funnel_step=%{y}<extra></extra>\",\"legendgroup\":\"android\",\"marker\":{\"color\":\"#16B6B3\"},\"name\":\"android\",\"orientation\":\"h\",\"showlegend\":true,\"x\":[2558,3512,5713,8087],\"xaxis\":\"x\",\"y\":[\"first_deposit\",\"kyc_completed\",\"sign_up_completed\",\"sign_up_initiated\"],\"yaxis\":\"y\",\"type\":\"funnel\"},{\"hovertemplate\":\"platform=ios<br>user_id=%{x}<br>funnel_step=%{y}<extra></extra>\",\"legendgroup\":\"ios\",\"marker\":{\"color\":\"#2E282A\"},\"name\":\"ios\",\"orientation\":\"h\",\"showlegend\":true,\"x\":[4150,5688,9243,13069],\"xaxis\":\"x\",\"y\":[\"first_deposit\",\"kyc_completed\",\"sign_up_completed\",\"sign_up_initiated\"],\"yaxis\":\"y\",\"type\":\"funnel\"}],                        {\"template\":{\"data\":{\"bar\":[{\"error_x\":{\"color\":\"#2a3f5f\"},\"error_y\":{\"color\":\"#2a3f5f\"},\"marker\":{\"line\":{\"color\":\"#E5ECF6\",\"width\":0.5},\"pattern\":{\"fillmode\":\"overlay\",\"size\":10,\"solidity\":0.2}},\"type\":\"bar\"}],\"barpolar\":[{\"marker\":{\"line\":{\"color\":\"#E5ECF6\",\"width\":0.5},\"pattern\":{\"fillmode\":\"overlay\",\"size\":10,\"solidity\":0.2}},\"type\":\"barpolar\"}],\"carpet\":[{\"aaxis\":{\"endlinecolor\":\"#2a3f5f\",\"gridcolor\":\"white\",\"linecolor\":\"white\",\"minorgridcolor\":\"white\",\"startlinecolor\":\"#2a3f5f\"},\"baxis\":{\"endlinecolor\":\"#2a3f5f\",\"gridcolor\":\"white\",\"linecolor\":\"white\",\"minorgridcolor\":\"white\",\"startlinecolor\":\"#2a3f5f\"},\"type\":\"carpet\"}],\"choropleth\":[{\"colorbar\":{\"outlinewidth\":0,\"ticks\":\"\"},\"type\":\"choropleth\"}],\"contour\":[{\"colorbar\":{\"outlinewidth\":0,\"ticks\":\"\"},\"colorscale\":[[0.0,\"#0d0887\"],[0.1111111111111111,\"#46039f\"],[0.2222222222222222,\"#7201a8\"],[0.3333333333333333,\"#9c179e\"],[0.4444444444444444,\"#bd3786\"],[0.5555555555555556,\"#d8576b\"],[0.6666666666666666,\"#ed7953\"],[0.7777777777777778,\"#fb9f3a\"],[0.8888888888888888,\"#fdca26\"],[1.0,\"#f0f921\"]],\"type\":\"contour\"}],\"contourcarpet\":[{\"colorbar\":{\"outlinewidth\":0,\"ticks\":\"\"},\"type\":\"contourcarpet\"}],\"heatmap\":[{\"colorbar\":{\"outlinewidth\":0,\"ticks\":\"\"},\"colorscale\":[[0.0,\"#0d0887\"],[0.1111111111111111,\"#46039f\"],[0.2222222222222222,\"#7201a8\"],[0.3333333333333333,\"#9c179e\"],[0.4444444444444444,\"#bd3786\"],[0.5555555555555556,\"#d8576b\"],[0.6666666666666666,\"#ed7953\"],[0.7777777777777778,\"#fb9f3a\"],[0.8888888888888888,\"#fdca26\"],[1.0,\"#f0f921\"]],\"type\":\"heatmap\"}],\"heatmapgl\":[{\"colorbar\":{\"outlinewidth\":0,\"ticks\":\"\"},\"colorscale\":[[0.0,\"#0d0887\"],[0.1111111111111111,\"#46039f\"],[0.2222222222222222,\"#7201a8\"],[0.3333333333333333,\"#9c179e\"],[0.4444444444444444,\"#bd3786\"],[0.5555555555555556,\"#d8576b\"],[0.6666666666666666,\"#ed7953\"],[0.7777777777777778,\"#fb9f3a\"],[0.8888888888888888,\"#fdca26\"],[1.0,\"#f0f921\"]],\"type\":\"heatmapgl\"}],\"histogram\":[{\"marker\":{\"pattern\":{\"fillmode\":\"overlay\",\"size\":10,\"solidity\":0.2}},\"type\":\"histogram\"}],\"histogram2d\":[{\"colorbar\":{\"outlinewidth\":0,\"ticks\":\"\"},\"colorscale\":[[0.0,\"#0d0887\"],[0.1111111111111111,\"#46039f\"],[0.2222222222222222,\"#7201a8\"],[0.3333333333333333,\"#9c179e\"],[0.4444444444444444,\"#bd3786\"],[0.5555555555555556,\"#d8576b\"],[0.6666666666666666,\"#ed7953\"],[0.7777777777777778,\"#fb9f3a\"],[0.8888888888888888,\"#fdca26\"],[1.0,\"#f0f921\"]],\"type\":\"histogram2d\"}],\"histogram2dcontour\":[{\"colorbar\":{\"outlinewidth\":0,\"ticks\":\"\"},\"colorscale\":[[0.0,\"#0d0887\"],[0.1111111111111111,\"#46039f\"],[0.2222222222222222,\"#7201a8\"],[0.3333333333333333,\"#9c179e\"],[0.4444444444444444,\"#bd3786\"],[0.5555555555555556,\"#d8576b\"],[0.6666666666666666,\"#ed7953\"],[0.7777777777777778,\"#fb9f3a\"],[0.8888888888888888,\"#fdca26\"],[1.0,\"#f0f921\"]],\"type\":\"histogram2dcontour\"}],\"mesh3d\":[{\"colorbar\":{\"outlinewidth\":0,\"ticks\":\"\"},\"type\":\"mesh3d\"}],\"parcoords\":[{\"line\":{\"colorbar\":{\"outlinewidth\":0,\"ticks\":\"\"}},\"type\":\"parcoords\"}],\"pie\":[{\"automargin\":true,\"type\":\"pie\"}],\"scatter\":[{\"marker\":{\"colorbar\":{\"outlinewidth\":0,\"ticks\":\"\"}},\"type\":\"scatter\"}],\"scatter3d\":[{\"line\":{\"colorbar\":{\"outlinewidth\":0,\"ticks\":\"\"}},\"marker\":{\"colorbar\":{\"outlinewidth\":0,\"ticks\":\"\"}},\"type\":\"scatter3d\"}],\"scattercarpet\":[{\"marker\":{\"colorbar\":{\"outlinewidth\":0,\"ticks\":\"\"}},\"type\":\"scattercarpet\"}],\"scattergeo\":[{\"marker\":{\"colorbar\":{\"outlinewidth\":0,\"ticks\":\"\"}},\"type\":\"scattergeo\"}],\"scattergl\":[{\"marker\":{\"colorbar\":{\"outlinewidth\":0,\"ticks\":\"\"}},\"type\":\"scattergl\"}],\"scattermapbox\":[{\"marker\":{\"colorbar\":{\"outlinewidth\":0,\"ticks\":\"\"}},\"type\":\"scattermapbox\"}],\"scatterpolar\":[{\"marker\":{\"colorbar\":{\"outlinewidth\":0,\"ticks\":\"\"}},\"type\":\"scatterpolar\"}],\"scatterpolargl\":[{\"marker\":{\"colorbar\":{\"outlinewidth\":0,\"ticks\":\"\"}},\"type\":\"scatterpolargl\"}],\"scatterternary\":[{\"marker\":{\"colorbar\":{\"outlinewidth\":0,\"ticks\":\"\"}},\"type\":\"scatterternary\"}],\"surface\":[{\"colorbar\":{\"outlinewidth\":0,\"ticks\":\"\"},\"colorscale\":[[0.0,\"#0d0887\"],[0.1111111111111111,\"#46039f\"],[0.2222222222222222,\"#7201a8\"],[0.3333333333333333,\"#9c179e\"],[0.4444444444444444,\"#bd3786\"],[0.5555555555555556,\"#d8576b\"],[0.6666666666666666,\"#ed7953\"],[0.7777777777777778,\"#fb9f3a\"],[0.8888888888888888,\"#fdca26\"],[1.0,\"#f0f921\"]],\"type\":\"surface\"}],\"table\":[{\"cells\":{\"fill\":{\"color\":\"#EBF0F8\"},\"line\":{\"color\":\"white\"}},\"header\":{\"fill\":{\"color\":\"#C8D4E3\"},\"line\":{\"color\":\"white\"}},\"type\":\"table\"}]},\"layout\":{\"annotationdefaults\":{\"arrowcolor\":\"#2a3f5f\",\"arrowhead\":0,\"arrowwidth\":1},\"autotypenumbers\":\"strict\",\"coloraxis\":{\"colorbar\":{\"outlinewidth\":0,\"ticks\":\"\"}},\"colorscale\":{\"diverging\":[[0,\"#8e0152\"],[0.1,\"#c51b7d\"],[0.2,\"#de77ae\"],[0.3,\"#f1b6da\"],[0.4,\"#fde0ef\"],[0.5,\"#f7f7f7\"],[0.6,\"#e6f5d0\"],[0.7,\"#b8e186\"],[0.8,\"#7fbc41\"],[0.9,\"#4d9221\"],[1,\"#276419\"]],\"sequential\":[[0.0,\"#0d0887\"],[0.1111111111111111,\"#46039f\"],[0.2222222222222222,\"#7201a8\"],[0.3333333333333333,\"#9c179e\"],[0.4444444444444444,\"#bd3786\"],[0.5555555555555556,\"#d8576b\"],[0.6666666666666666,\"#ed7953\"],[0.7777777777777778,\"#fb9f3a\"],[0.8888888888888888,\"#fdca26\"],[1.0,\"#f0f921\"]],\"sequentialminus\":[[0.0,\"#0d0887\"],[0.1111111111111111,\"#46039f\"],[0.2222222222222222,\"#7201a8\"],[0.3333333333333333,\"#9c179e\"],[0.4444444444444444,\"#bd3786\"],[0.5555555555555556,\"#d8576b\"],[0.6666666666666666,\"#ed7953\"],[0.7777777777777778,\"#fb9f3a\"],[0.8888888888888888,\"#fdca26\"],[1.0,\"#f0f921\"]]},\"colorway\":[\"#636efa\",\"#EF553B\",\"#00cc96\",\"#ab63fa\",\"#FFA15A\",\"#19d3f3\",\"#FF6692\",\"#B6E880\",\"#FF97FF\",\"#FECB52\"],\"font\":{\"color\":\"#2a3f5f\"},\"geo\":{\"bgcolor\":\"white\",\"lakecolor\":\"white\",\"landcolor\":\"#E5ECF6\",\"showlakes\":true,\"showland\":true,\"subunitcolor\":\"white\"},\"hoverlabel\":{\"align\":\"left\"},\"hovermode\":\"closest\",\"mapbox\":{\"style\":\"light\"},\"paper_bgcolor\":\"white\",\"plot_bgcolor\":\"#E5ECF6\",\"polar\":{\"angularaxis\":{\"gridcolor\":\"white\",\"linecolor\":\"white\",\"ticks\":\"\"},\"bgcolor\":\"#E5ECF6\",\"radialaxis\":{\"gridcolor\":\"white\",\"linecolor\":\"white\",\"ticks\":\"\"}},\"scene\":{\"xaxis\":{\"backgroundcolor\":\"#E5ECF6\",\"gridcolor\":\"white\",\"gridwidth\":2,\"linecolor\":\"white\",\"showbackground\":true,\"ticks\":\"\",\"zerolinecolor\":\"white\"},\"yaxis\":{\"backgroundcolor\":\"#E5ECF6\",\"gridcolor\":\"white\",\"gridwidth\":2,\"linecolor\":\"white\",\"showbackground\":true,\"ticks\":\"\",\"zerolinecolor\":\"white\"},\"zaxis\":{\"backgroundcolor\":\"#E5ECF6\",\"gridcolor\":\"white\",\"gridwidth\":2,\"linecolor\":\"white\",\"showbackground\":true,\"ticks\":\"\",\"zerolinecolor\":\"white\"}},\"shapedefaults\":{\"line\":{\"color\":\"#2a3f5f\"}},\"ternary\":{\"aaxis\":{\"gridcolor\":\"white\",\"linecolor\":\"white\",\"ticks\":\"\"},\"baxis\":{\"gridcolor\":\"white\",\"linecolor\":\"white\",\"ticks\":\"\"},\"bgcolor\":\"#E5ECF6\",\"caxis\":{\"gridcolor\":\"white\",\"linecolor\":\"white\",\"ticks\":\"\"}},\"title\":{\"x\":0.05},\"xaxis\":{\"automargin\":true,\"gridcolor\":\"white\",\"linecolor\":\"white\",\"ticks\":\"\",\"title\":{\"standoff\":15},\"zerolinecolor\":\"white\",\"zerolinewidth\":2},\"yaxis\":{\"automargin\":true,\"gridcolor\":\"white\",\"linecolor\":\"white\",\"ticks\":\"\",\"title\":{\"standoff\":15},\"zerolinecolor\":\"white\",\"zerolinewidth\":2}}},\"xaxis\":{\"anchor\":\"y\",\"domain\":[0.0,1.0],\"title\":{\"text\":\"user_id\"}},\"yaxis\":{\"anchor\":\"x\",\"domain\":[0.0,1.0],\"title\":{\"text\":\"funnel_step\"}},\"legend\":{\"title\":{\"text\":\"platform\"},\"tracegroupgap\":0},\"margin\":{\"t\":60}},                        {\"responsive\": true}                    ).then(function(){\n",
       "                            \n",
       "var gd = document.getElementById('9b799986-3ed1-483c-8a34-7693e89aa9e9');\n",
       "var x = new MutationObserver(function (mutations, observer) {{\n",
       "        var display = window.getComputedStyle(gd).display;\n",
       "        if (!display || display === 'none') {{\n",
       "            console.log([gd, 'removed!']);\n",
       "            Plotly.purge(gd);\n",
       "            observer.disconnect();\n",
       "        }}\n",
       "}});\n",
       "\n",
       "// Listen for the removal of the full notebook cells\n",
       "var notebookContainer = gd.closest('#notebook-container');\n",
       "if (notebookContainer) {{\n",
       "    x.observe(notebookContainer, {childList: true});\n",
       "}}\n",
       "\n",
       "// Listen for the clearing of the current output cell\n",
       "var outputEl = gd.closest('.output');\n",
       "if (outputEl) {{\n",
       "    x.observe(outputEl, {childList: true});\n",
       "}}\n",
       "\n",
       "                        })                };                });            </script>        </div>"
      ]
     },
     "metadata": {},
     "output_type": "display_data"
    }
   ],
   "source": [
    "stages = [\"sign_up_initiateds\", \"sign_up_completed\", \"kyc_completed\", \"first_deposit\"]\n",
    "fig = px.funnel(platform, x='user_id', y='funnel_step', color='platform', color_discrete_map={\"android\": \"#16B6B3\", \n",
    "                                    \"ios\": \"#2E282A\"},)\n",
    "fig.show()"
   ]
  },
  {
   "cell_type": "markdown",
   "id": "322b727c",
   "metadata": {},
   "source": [
    "To understand the truth of difference between two groups - IOS and Android,- i am going to conduct mannwhitneyu test, but the sample would be limited only with those id, who achieved final stage"
   ]
  },
  {
   "cell_type": "code",
   "execution_count": 40,
   "id": "05c9a1a4",
   "metadata": {},
   "outputs": [],
   "source": [
    "final_achieved = df_combined.loc[df_combined['funnel_step'] == 'first_deposit']"
   ]
  },
  {
   "cell_type": "code",
   "execution_count": 41,
   "id": "9bb9e0d5",
   "metadata": {},
   "outputs": [],
   "source": [
    "final_achieved['time_diff_total'] = final_achieved['time_diff_total'].astype(int)"
   ]
  },
  {
   "cell_type": "code",
   "execution_count": 42,
   "id": "b7b4c788",
   "metadata": {},
   "outputs": [],
   "source": [
    "final_achieved_ios =  final_achieved.query(\"platform == 'ios'\")['time_diff_total']\n",
    "final_achieved_android =  final_achieved.query(\"platform == 'android'\")['time_diff_total']"
   ]
  },
  {
   "cell_type": "code",
   "execution_count": 43,
   "id": "7d3aa2a3",
   "metadata": {},
   "outputs": [
    {
     "data": {
      "image/png": "[encoded data removed]",
      "text/plain": [
       "<Figure size 432x288 with 1 Axes>"
      ]
     },
     "metadata": {},
     "output_type": "display_data"
    }
   ],
   "source": [
    "with plt.style.context('seaborn-whitegrid'):\n",
    "    plt.hist(final_achieved_ios, bins=20, alpha=0.5, label='ios')\n",
    "    plt.hist(final_achieved_android, bins=20, alpha=0.5, label='android')\n",
    "    plt.legend(loc='upper right')\n",
    "    plt.title('Total time spend spread')\n",
    "    plt.xlabel('Days')\n",
    "    plt.ylabel('Number of record')\n",
    "plt.show()"
   ]
  },
  {
   "cell_type": "markdown",
   "id": "ad18da7f",
   "metadata": {},
   "source": [
    "Easy to see, that there is no option to keep normal spreading in both samples. Pictures are very similar, except one point - there are much more records for IOS in group of time spent for achieving final stage about 25-30 days.\n",
    "\n",
    "lets check with mannwhitneyu test the difference between two samples, as it is only suitable method in our case"
   ]
  },
  {
   "cell_type": "code",
   "execution_count": 44,
   "id": "15abe2e4",
   "metadata": {},
   "outputs": [],
   "source": [
    "def mann_whitneyu_test(data1, data2):\n",
    "    alpha = 0.05  # critical level of statistical significance\n",
    "\n",
    "    results = st.mannwhitneyu(data1, data2)\n",
    "\n",
    "    print('p-value: ', results.pvalue)\n",
    "\n",
    "    if results.pvalue < alpha:\n",
    "        print('We reject the null hypothesis: the difference is statistically significant')\n",
    "    else:\n",
    "        print(\n",
    "            'Cannot reject null hypothesis, no difference can be made'\n",
    "        ) "
   ]
  },
  {
   "cell_type": "code",
   "execution_count": 45,
   "id": "21459993",
   "metadata": {},
   "outputs": [
    {
     "name": "stdout",
     "output_type": "stream",
     "text": [
      "p-value:  0.04202090786762243\n",
      "We reject the null hypothesis: the difference is statistically significant\n"
     ]
    }
   ],
   "source": [
    "mann_whitneyu_test(final_achieved_ios, final_achieved_android)"
   ]
  },
  {
   "cell_type": "markdown",
   "id": "a23bc27d",
   "metadata": {},
   "source": [
    "So, as we can see, the difference between two platforms is really significant in required time for achieving last stage"
   ]
  },
  {
   "cell_type": "markdown",
   "id": "f602497f",
   "metadata": {},
   "source": [
    "just as a point of interest, lets check age data"
   ]
  },
  {
   "cell_type": "code",
   "execution_count": 46,
   "id": "1c382342",
   "metadata": {},
   "outputs": [],
   "source": [
    "final_achieved_ios =  final_achieved.query(\"platform == 'ios'\")['age']\n",
    "final_achieved_android =  final_achieved.query(\"platform == 'android'\")['age']"
   ]
  },
  {
   "cell_type": "code",
   "execution_count": 47,
   "id": "3e876f65",
   "metadata": {},
   "outputs": [
    {
     "data": {
      "image/png": "[encoded data removed]",
      "text/plain": [
       "<Figure size 432x288 with 1 Axes>"
      ]
     },
     "metadata": {},
     "output_type": "display_data"
    }
   ],
   "source": [
    "with plt.style.context('seaborn-whitegrid'):\n",
    "    plt.hist(final_achieved_ios, bins=20, alpha=0.5, label='ios age')\n",
    "    plt.hist(final_achieved_android, bins=20, alpha=0.5, label='android age')\n",
    "    plt.legend(loc='upper right')\n",
    "    plt.title('Total time spend spread')\n",
    "    plt.xlabel('Age')\n",
    "    plt.ylabel('Number of record')\n",
    "plt.show()"
   ]
  },
  {
   "cell_type": "code",
   "execution_count": 48,
   "id": "7aadab44",
   "metadata": {},
   "outputs": [
    {
     "name": "stdout",
     "output_type": "stream",
     "text": [
      "p-value:  0.3596222973468816\n",
      "Cannot reject null hypothesis, no difference can be made\n"
     ]
    }
   ],
   "source": [
    "mann_whitneyu_test(final_achieved_ios, final_achieved_android)"
   ]
  },
  {
   "cell_type": "markdown",
   "id": "5838433f",
   "metadata": {},
   "source": [
    "Age, regarding platform, cannot show any significant diffrence between two platforms"
   ]
  },
  {
   "cell_type": "markdown",
   "id": "bf89cd22",
   "metadata": {},
   "source": [
    "#### channel category"
   ]
  },
  {
   "cell_type": "code",
   "execution_count": 49,
   "id": "f621bf84",
   "metadata": {},
   "outputs": [
    {
     "data": {
      "text/html": [
       "<div>\n",
       "<style scoped>\n",
       "    .dataframe tbody tr th:only-of-type {\n",
       "        vertical-align: middle;\n",
       "    }\n",
       "\n",
       "    .dataframe tbody tr th {\n",
       "        vertical-align: top;\n",
       "    }\n",
       "\n",
       "    .dataframe thead th {\n",
       "        text-align: right;\n",
       "    }\n",
       "</style>\n",
       "<table border=\"1\" class=\"dataframe\">\n",
       "  <thead>\n",
       "    <tr style=\"text-align: right;\">\n",
       "      <th></th>\n",
       "      <th></th>\n",
       "      <th>user_id</th>\n",
       "      <th>age</th>\n",
       "      <th>time_diff_total</th>\n",
       "      <th>diff_from_last_step</th>\n",
       "      <th>fully_completed</th>\n",
       "      <th>convertion</th>\n",
       "    </tr>\n",
       "    <tr>\n",
       "      <th>funnel_step</th>\n",
       "      <th>channel</th>\n",
       "      <th></th>\n",
       "      <th></th>\n",
       "      <th></th>\n",
       "      <th></th>\n",
       "      <th></th>\n",
       "      <th></th>\n",
       "    </tr>\n",
       "  </thead>\n",
       "  <tbody>\n",
       "    <tr>\n",
       "      <th rowspan=\"4\" valign=\"top\">sign_up_initiated</th>\n",
       "      <th>affiliate</th>\n",
       "      <td>6042</td>\n",
       "      <td>30.683217</td>\n",
       "      <td>0.000000</td>\n",
       "      <td>0.000000</td>\n",
       "      <td>1852</td>\n",
       "      <td>0.306521</td>\n",
       "    </tr>\n",
       "    <tr>\n",
       "      <th>paid_social</th>\n",
       "      <td>4666</td>\n",
       "      <td>31.355122</td>\n",
       "      <td>0.000000</td>\n",
       "      <td>0.000000</td>\n",
       "      <td>1457</td>\n",
       "      <td>0.312259</td>\n",
       "    </tr>\n",
       "    <tr>\n",
       "      <th>paid_search</th>\n",
       "      <td>2150</td>\n",
       "      <td>30.844651</td>\n",
       "      <td>0.000000</td>\n",
       "      <td>0.000000</td>\n",
       "      <td>684</td>\n",
       "      <td>0.318140</td>\n",
       "    </tr>\n",
       "    <tr>\n",
       "      <th>organic</th>\n",
       "      <td>8298</td>\n",
       "      <td>31.209207</td>\n",
       "      <td>0.000000</td>\n",
       "      <td>0.000000</td>\n",
       "      <td>2715</td>\n",
       "      <td>0.327187</td>\n",
       "    </tr>\n",
       "    <tr>\n",
       "      <th rowspan=\"4\" valign=\"top\">sign_up_completed</th>\n",
       "      <th>affiliate</th>\n",
       "      <td>4225</td>\n",
       "      <td>30.666272</td>\n",
       "      <td>0.703669</td>\n",
       "      <td>28.980592</td>\n",
       "      <td>1852</td>\n",
       "      <td>0.438343</td>\n",
       "    </tr>\n",
       "    <tr>\n",
       "      <th>paid_social</th>\n",
       "      <td>3276</td>\n",
       "      <td>31.499695</td>\n",
       "      <td>0.693834</td>\n",
       "      <td>28.766484</td>\n",
       "      <td>1457</td>\n",
       "      <td>0.444750</td>\n",
       "    </tr>\n",
       "    <tr>\n",
       "      <th>organic</th>\n",
       "      <td>5955</td>\n",
       "      <td>31.201008</td>\n",
       "      <td>0.671201</td>\n",
       "      <td>28.383039</td>\n",
       "      <td>2715</td>\n",
       "      <td>0.455919</td>\n",
       "    </tr>\n",
       "    <tr>\n",
       "      <th>paid_search</th>\n",
       "      <td>1500</td>\n",
       "      <td>30.973333</td>\n",
       "      <td>0.674667</td>\n",
       "      <td>28.384667</td>\n",
       "      <td>684</td>\n",
       "      <td>0.456000</td>\n",
       "    </tr>\n",
       "    <tr>\n",
       "      <th rowspan=\"4\" valign=\"top\">kyc_completed</th>\n",
       "      <th>paid_social</th>\n",
       "      <td>2021</td>\n",
       "      <td>31.430975</td>\n",
       "      <td>10.072736</td>\n",
       "      <td>224.645225</td>\n",
       "      <td>1457</td>\n",
       "      <td>0.720930</td>\n",
       "    </tr>\n",
       "    <tr>\n",
       "      <th>affiliate</th>\n",
       "      <td>2566</td>\n",
       "      <td>30.494544</td>\n",
       "      <td>10.096648</td>\n",
       "      <td>224.886984</td>\n",
       "      <td>1852</td>\n",
       "      <td>0.721746</td>\n",
       "    </tr>\n",
       "    <tr>\n",
       "      <th>paid_search</th>\n",
       "      <td>932</td>\n",
       "      <td>30.613734</td>\n",
       "      <td>10.122318</td>\n",
       "      <td>225.502146</td>\n",
       "      <td>684</td>\n",
       "      <td>0.733906</td>\n",
       "    </tr>\n",
       "    <tr>\n",
       "      <th>organic</th>\n",
       "      <td>3681</td>\n",
       "      <td>30.978267</td>\n",
       "      <td>10.146428</td>\n",
       "      <td>226.519967</td>\n",
       "      <td>2715</td>\n",
       "      <td>0.737571</td>\n",
       "    </tr>\n",
       "    <tr>\n",
       "      <th rowspan=\"4\" valign=\"top\">first_deposit</th>\n",
       "      <th>affiliate</th>\n",
       "      <td>1852</td>\n",
       "      <td>30.511339</td>\n",
       "      <td>25.361771</td>\n",
       "      <td>348.190605</td>\n",
       "      <td>1852</td>\n",
       "      <td>1.000000</td>\n",
       "    </tr>\n",
       "    <tr>\n",
       "      <th>organic</th>\n",
       "      <td>2715</td>\n",
       "      <td>30.918232</td>\n",
       "      <td>25.370902</td>\n",
       "      <td>347.358748</td>\n",
       "      <td>2715</td>\n",
       "      <td>1.000000</td>\n",
       "    </tr>\n",
       "    <tr>\n",
       "      <th>paid_search</th>\n",
       "      <td>684</td>\n",
       "      <td>30.795322</td>\n",
       "      <td>25.451754</td>\n",
       "      <td>351.799708</td>\n",
       "      <td>684</td>\n",
       "      <td>1.000000</td>\n",
       "    </tr>\n",
       "    <tr>\n",
       "      <th>paid_social</th>\n",
       "      <td>1457</td>\n",
       "      <td>31.728209</td>\n",
       "      <td>25.585450</td>\n",
       "      <td>352.207962</td>\n",
       "      <td>1457</td>\n",
       "      <td>1.000000</td>\n",
       "    </tr>\n",
       "  </tbody>\n",
       "</table>\n",
       "</div>"
      ],
      "text/plain": [
       "                               user_id        age  time_diff_total  \\\n",
       "funnel_step       channel                                            \n",
       "sign_up_initiated affiliate       6042  30.683217         0.000000   \n",
       "                  paid_social     4666  31.355122         0.000000   \n",
       "                  paid_search     2150  30.844651         0.000000   \n",
       "                  organic         8298  31.209207         0.000000   \n",
       "sign_up_completed affiliate       4225  30.666272         0.703669   \n",
       "                  paid_social     3276  31.499695         0.693834   \n",
       "                  organic         5955  31.201008         0.671201   \n",
       "                  paid_search     1500  30.973333         0.674667   \n",
       "kyc_completed     paid_social     2021  31.430975        10.072736   \n",
       "                  affiliate       2566  30.494544        10.096648   \n",
       "                  paid_search      932  30.613734        10.122318   \n",
       "                  organic         3681  30.978267        10.146428   \n",
       "first_deposit     affiliate       1852  30.511339        25.361771   \n",
       "                  organic         2715  30.918232        25.370902   \n",
       "                  paid_search      684  30.795322        25.451754   \n",
       "                  paid_social     1457  31.728209        25.585450   \n",
       "\n",
       "                               diff_from_last_step  fully_completed  \\\n",
       "funnel_step       channel                                             \n",
       "sign_up_initiated affiliate               0.000000             1852   \n",
       "                  paid_social             0.000000             1457   \n",
       "                  paid_search             0.000000              684   \n",
       "                  organic                 0.000000             2715   \n",
       "sign_up_completed affiliate              28.980592             1852   \n",
       "                  paid_social            28.766484             1457   \n",
       "                  organic                28.383039             2715   \n",
       "                  paid_search            28.384667              684   \n",
       "kyc_completed     paid_social           224.645225             1457   \n",
       "                  affiliate             224.886984             1852   \n",
       "                  paid_search           225.502146              684   \n",
       "                  organic               226.519967             2715   \n",
       "first_deposit     affiliate             348.190605             1852   \n",
       "                  organic               347.358748             2715   \n",
       "                  paid_search           351.799708              684   \n",
       "                  paid_social           352.207962             1457   \n",
       "\n",
       "                               convertion  \n",
       "funnel_step       channel                  \n",
       "sign_up_initiated affiliate      0.306521  \n",
       "                  paid_social    0.312259  \n",
       "                  paid_search    0.318140  \n",
       "                  organic        0.327187  \n",
       "sign_up_completed affiliate      0.438343  \n",
       "                  paid_social    0.444750  \n",
       "                  organic        0.455919  \n",
       "                  paid_search    0.456000  \n",
       "kyc_completed     paid_social    0.720930  \n",
       "                  affiliate      0.721746  \n",
       "                  paid_search    0.733906  \n",
       "                  organic        0.737571  \n",
       "first_deposit     affiliate      1.000000  \n",
       "                  organic        1.000000  \n",
       "                  paid_search    1.000000  \n",
       "                  paid_social    1.000000  "
      ]
     },
     "execution_count": 49,
     "metadata": {},
     "output_type": "execute_result"
    }
   ],
   "source": [
    "channel = df_combined.groupby(['funnel_step', 'channel']).agg({'user_id': 'nunique','age': 'mean', 'time_diff_total': \"mean\", 'diff_from_last_step': \"mean\", 'fully_completed': 'sum'})\n",
    "channel['convertion'] = channel['fully_completed'] / channel['user_id']\n",
    "channel.sort_values(by = 'convertion', ascending=True)"
   ]
  },
  {
   "cell_type": "markdown",
   "id": "6d1989b9",
   "metadata": {},
   "source": [
    "Here is pretty much the same:\n",
    "\n",
    "- convertion % is very similar in each channel\n",
    "- the most popular channel in absolut numbers - organic\t, list - paid_search\n",
    "- age and total spent time is also similar as it seems, lets check everything\n"
   ]
  },
  {
   "cell_type": "code",
   "execution_count": 50,
   "id": "17f768d7",
   "metadata": {},
   "outputs": [],
   "source": [
    "channel = channel.reset_index()"
   ]
  },
  {
   "cell_type": "code",
   "execution_count": 51,
   "id": "2bdc594b",
   "metadata": {},
   "outputs": [
    {
     "data": {
      "application/vnd.plotly.v1+json": {
       "config": {
        "plotlyServerURL": "https://plot.ly"
       },
       "data": [
        {
         "hovertemplate": "channel=affiliate<br>user_id=%{x}<br>funnel_step=%{y}<extra></extra>",
         "legendgroup": "affiliate",
         "marker": {
          "color": "#16B6B3"
         },
         "name": "affiliate",
         "orientation": "h",
         "showlegend": true,
         "type": "funnel",
         "x": [
          1852,
          2566,
          4225,
          6042
         ],
         "xaxis": "x",
         "y": [
          "first_deposit",
          "kyc_completed",
          "sign_up_completed",
          "sign_up_initiated"
         ],
         "yaxis": "y"
        },
        {
         "hovertemplate": "channel=organic<br>user_id=%{x}<br>funnel_step=%{y}<extra></extra>",
         "legendgroup": "organic",
         "marker": {
          "color": "#2E282A"
         },
         "name": "organic",
         "orientation": "h",
         "showlegend": true,
         "type": "funnel",
         "x": [
          2715,
          3681,
          5955,
          8298
         ],
         "xaxis": "x",
         "y": [
          "first_deposit",
          "kyc_completed",
          "sign_up_completed",
          "sign_up_initiated"
         ],
         "yaxis": "y"
        },
        {
         "hovertemplate": "channel=paid_search<br>user_id=%{x}<br>funnel_step=%{y}<extra></extra>",
         "legendgroup": "paid_search",
         "marker": {
          "color": "#042424"
         },
         "name": "paid_search",
         "orientation": "h",
         "showlegend": true,
         "type": "funnel",
         "x": [
          684,
          932,
          1500,
          2150
         ],
         "xaxis": "x",
         "y": [
          "first_deposit",
          "kyc_completed",
          "sign_up_completed",
          "sign_up_initiated"
         ],
         "yaxis": "y"
        },
        {
         "hovertemplate": "channel=paid_social<br>user_id=%{x}<br>funnel_step=%{y}<extra></extra>",
         "legendgroup": "paid_social",
         "marker": {
          "color": "#A09297"
         },
         "name": "paid_social",
         "orientation": "h",
         "showlegend": true,
         "type": "funnel",
         "x": [
          1457,
          2021,
          3276,
          4666
         ],
         "xaxis": "x",
         "y": [
          "first_deposit",
          "kyc_completed",
          "sign_up_completed",
          "sign_up_initiated"
         ],
         "yaxis": "y"
        }
       ],
       "layout": {
        "legend": {
         "title": {
          "text": "channel"
         },
         "tracegroupgap": 0
        },
        "margin": {
         "t": 60
        },
        "template": {
         "data": {
          "bar": [
           {
            "error_x": {
             "color": "#2a3f5f"
            },
            "error_y": {
             "color": "#2a3f5f"
            },
            "marker": {
             "line": {
              "color": "#E5ECF6",
              "width": 0.5
             },
             "pattern": {
              "fillmode": "overlay",
              "size": 10,
              "solidity": 0.2
             }
            },
            "type": "bar"
           }
          ],
          "barpolar": [
           {
            "marker": {
             "line": {
              "color": "#E5ECF6",
              "width": 0.5
             },
             "pattern": {
              "fillmode": "overlay",
              "size": 10,
              "solidity": 0.2
             }
            },
            "type": "barpolar"
           }
          ],
          "carpet": [
           {
            "aaxis": {
             "endlinecolor": "#2a3f5f",
             "gridcolor": "white",
             "linecolor": "white",
             "minorgridcolor": "white",
             "startlinecolor": "#2a3f5f"
            },
            "baxis": {
             "endlinecolor": "#2a3f5f",
             "gridcolor": "white",
             "linecolor": "white",
             "minorgridcolor": "white",
             "startlinecolor": "#2a3f5f"
            },
            "type": "carpet"
           }
          ],
          "choropleth": [
           {
            "colorbar": {
             "outlinewidth": 0,
             "ticks": ""
            },
            "type": "choropleth"
           }
          ],
          "contour": [
           {
            "colorbar": {
             "outlinewidth": 0,
             "ticks": ""
            },
            "colorscale": [
             [
              0,
              "#0d0887"
             ],
             [
              0.1111111111111111,
              "#46039f"
             ],
             [
              0.2222222222222222,
              "#7201a8"
             ],
             [
              0.3333333333333333,
              "#9c179e"
             ],
             [
              0.4444444444444444,
              "#bd3786"
             ],
             [
              0.5555555555555556,
              "#d8576b"
             ],
             [
              0.6666666666666666,
              "#ed7953"
             ],
             [
              0.7777777777777778,
              "#fb9f3a"
             ],
             [
              0.8888888888888888,
              "#fdca26"
             ],
             [
              1,
              "#f0f921"
             ]
            ],
            "type": "contour"
           }
          ],
          "contourcarpet": [
           {
            "colorbar": {
             "outlinewidth": 0,
             "ticks": ""
            },
            "type": "contourcarpet"
           }
          ],
          "heatmap": [
           {
            "colorbar": {
             "outlinewidth": 0,
             "ticks": ""
            },
            "colorscale": [
             [
              0,
              "#0d0887"
             ],
             [
              0.1111111111111111,
              "#46039f"
             ],
             [
              0.2222222222222222,
              "#7201a8"
             ],
             [
              0.3333333333333333,
              "#9c179e"
             ],
             [
              0.4444444444444444,
              "#bd3786"
             ],
             [
              0.5555555555555556,
              "#d8576b"
             ],
             [
              0.6666666666666666,
              "#ed7953"
             ],
             [
              0.7777777777777778,
              "#fb9f3a"
             ],
             [
              0.8888888888888888,
              "#fdca26"
             ],
             [
              1,
              "#f0f921"
             ]
            ],
            "type": "heatmap"
           }
          ],
          "heatmapgl": [
           {
            "colorbar": {
             "outlinewidth": 0,
             "ticks": ""
            },
            "colorscale": [
             [
              0,
              "#0d0887"
             ],
             [
              0.1111111111111111,
              "#46039f"
             ],
             [
              0.2222222222222222,
              "#7201a8"
             ],
             [
              0.3333333333333333,
              "#9c179e"
             ],
             [
              0.4444444444444444,
              "#bd3786"
             ],
             [
              0.5555555555555556,
              "#d8576b"
             ],
             [
              0.6666666666666666,
              "#ed7953"
             ],
             [
              0.7777777777777778,
              "#fb9f3a"
             ],
             [
              0.8888888888888888,
              "#fdca26"
             ],
             [
              1,
              "#f0f921"
             ]
            ],
            "type": "heatmapgl"
           }
          ],
          "histogram": [
           {
            "marker": {
             "pattern": {
              "fillmode": "overlay",
              "size": 10,
              "solidity": 0.2
             }
            },
            "type": "histogram"
           }
          ],
          "histogram2d": [
           {
            "colorbar": {
             "outlinewidth": 0,
             "ticks": ""
            },
            "colorscale": [
             [
              0,
              "#0d0887"
             ],
             [
              0.1111111111111111,
              "#46039f"
             ],
             [
              0.2222222222222222,
              "#7201a8"
             ],
             [
              0.3333333333333333,
              "#9c179e"
             ],
             [
              0.4444444444444444,
              "#bd3786"
             ],
             [
              0.5555555555555556,
              "#d8576b"
             ],
             [
              0.6666666666666666,
              "#ed7953"
             ],
             [
              0.7777777777777778,
              "#fb9f3a"
             ],
             [
              0.8888888888888888,
              "#fdca26"
             ],
             [
              1,
              "#f0f921"
             ]
            ],
            "type": "histogram2d"
           }
          ],
          "histogram2dcontour": [
           {
            "colorbar": {
             "outlinewidth": 0,
             "ticks": ""
            },
            "colorscale": [
             [
              0,
              "#0d0887"
             ],
             [
              0.1111111111111111,
              "#46039f"
             ],
             [
              0.2222222222222222,
              "#7201a8"
             ],
             [
              0.3333333333333333,
              "#9c179e"
             ],
             [
              0.4444444444444444,
              "#bd3786"
             ],
             [
              0.5555555555555556,
              "#d8576b"
             ],
             [
              0.6666666666666666,
              "#ed7953"
             ],
             [
              0.7777777777777778,
              "#fb9f3a"
             ],
             [
              0.8888888888888888,
              "#fdca26"
             ],
             [
              1,
              "#f0f921"
             ]
            ],
            "type": "histogram2dcontour"
           }
          ],
          "mesh3d": [
           {
            "colorbar": {
             "outlinewidth": 0,
             "ticks": ""
            },
            "type": "mesh3d"
           }
          ],
          "parcoords": [
           {
            "line": {
             "colorbar": {
              "outlinewidth": 0,
              "ticks": ""
             }
            },
            "type": "parcoords"
           }
          ],
          "pie": [
           {
            "automargin": true,
            "type": "pie"
           }
          ],
          "scatter": [
           {
            "marker": {
             "colorbar": {
              "outlinewidth": 0,
              "ticks": ""
             }
            },
            "type": "scatter"
           }
          ],
          "scatter3d": [
           {
            "line": {
             "colorbar": {
              "outlinewidth": 0,
              "ticks": ""
             }
            },
            "marker": {
             "colorbar": {
              "outlinewidth": 0,
              "ticks": ""
             }
            },
            "type": "scatter3d"
           }
          ],
          "scattercarpet": [
           {
            "marker": {
             "colorbar": {
              "outlinewidth": 0,
              "ticks": ""
             }
            },
            "type": "scattercarpet"
           }
          ],
          "scattergeo": [
           {
            "marker": {
             "colorbar": {
              "outlinewidth": 0,
              "ticks": ""
             }
            },
            "type": "scattergeo"
           }
          ],
          "scattergl": [
           {
            "marker": {
             "colorbar": {
              "outlinewidth": 0,
              "ticks": ""
             }
            },
            "type": "scattergl"
           }
          ],
          "scattermapbox": [
           {
            "marker": {
             "colorbar": {
              "outlinewidth": 0,
              "ticks": ""
             }
            },
            "type": "scattermapbox"
           }
          ],
          "scatterpolar": [
           {
            "marker": {
             "colorbar": {
              "outlinewidth": 0,
              "ticks": ""
             }
            },
            "type": "scatterpolar"
           }
          ],
          "scatterpolargl": [
           {
            "marker": {
             "colorbar": {
              "outlinewidth": 0,
              "ticks": ""
             }
            },
            "type": "scatterpolargl"
           }
          ],
          "scatterternary": [
           {
            "marker": {
             "colorbar": {
              "outlinewidth": 0,
              "ticks": ""
             }
            },
            "type": "scatterternary"
           }
          ],
          "surface": [
           {
            "colorbar": {
             "outlinewidth": 0,
             "ticks": ""
            },
            "colorscale": [
             [
              0,
              "#0d0887"
             ],
             [
              0.1111111111111111,
              "#46039f"
             ],
             [
              0.2222222222222222,
              "#7201a8"
             ],
             [
              0.3333333333333333,
              "#9c179e"
             ],
             [
              0.4444444444444444,
              "#bd3786"
             ],
             [
              0.5555555555555556,
              "#d8576b"
             ],
             [
              0.6666666666666666,
              "#ed7953"
             ],
             [
              0.7777777777777778,
              "#fb9f3a"
             ],
             [
              0.8888888888888888,
              "#fdca26"
             ],
             [
              1,
              "#f0f921"
             ]
            ],
            "type": "surface"
           }
          ],
          "table": [
           {
            "cells": {
             "fill": {
              "color": "#EBF0F8"
             },
             "line": {
              "color": "white"
             }
            },
            "header": {
             "fill": {
              "color": "#C8D4E3"
             },
             "line": {
              "color": "white"
             }
            },
            "type": "table"
           }
          ]
         },
         "layout": {
          "annotationdefaults": {
           "arrowcolor": "#2a3f5f",
           "arrowhead": 0,
           "arrowwidth": 1
          },
          "autotypenumbers": "strict",
          "coloraxis": {
           "colorbar": {
            "outlinewidth": 0,
            "ticks": ""
           }
          },
          "colorscale": {
           "diverging": [
            [
             0,
             "#8e0152"
            ],
            [
             0.1,
             "#c51b7d"
            ],
            [
             0.2,
             "#de77ae"
            ],
            [
             0.3,
             "#f1b6da"
            ],
            [
             0.4,
             "#fde0ef"
            ],
            [
             0.5,
             "#f7f7f7"
            ],
            [
             0.6,
             "#e6f5d0"
            ],
            [
             0.7,
             "#b8e186"
            ],
            [
             0.8,
             "#7fbc41"
            ],
            [
             0.9,
             "#4d9221"
            ],
            [
             1,
             "#276419"
            ]
           ],
           "sequential": [
            [
             0,
             "#0d0887"
            ],
            [
             0.1111111111111111,
             "#46039f"
            ],
            [
             0.2222222222222222,
             "#7201a8"
            ],
            [
             0.3333333333333333,
             "#9c179e"
            ],
            [
             0.4444444444444444,
             "#bd3786"
            ],
            [
             0.5555555555555556,
             "#d8576b"
            ],
            [
             0.6666666666666666,
             "#ed7953"
            ],
            [
             0.7777777777777778,
             "#fb9f3a"
            ],
            [
             0.8888888888888888,
             "#fdca26"
            ],
            [
             1,
             "#f0f921"
            ]
           ],
           "sequentialminus": [
            [
             0,
             "#0d0887"
            ],
            [
             0.1111111111111111,
             "#46039f"
            ],
            [
             0.2222222222222222,
             "#7201a8"
            ],
            [
             0.3333333333333333,
             "#9c179e"
            ],
            [
             0.4444444444444444,
             "#bd3786"
            ],
            [
             0.5555555555555556,
             "#d8576b"
            ],
            [
             0.6666666666666666,
             "#ed7953"
            ],
            [
             0.7777777777777778,
             "#fb9f3a"
            ],
            [
             0.8888888888888888,
             "#fdca26"
            ],
            [
             1,
             "#f0f921"
            ]
           ]
          },
          "colorway": [
           "#636efa",
           "#EF553B",
           "#00cc96",
           "#ab63fa",
           "#FFA15A",
           "#19d3f3",
           "#FF6692",
           "#B6E880",
           "#FF97FF",
           "#FECB52"
          ],
          "font": {
           "color": "#2a3f5f"
          },
          "geo": {
           "bgcolor": "white",
           "lakecolor": "white",
           "landcolor": "#E5ECF6",
           "showlakes": true,
           "showland": true,
           "subunitcolor": "white"
          },
          "hoverlabel": {
           "align": "left"
          },
          "hovermode": "closest",
          "mapbox": {
           "style": "light"
          },
          "paper_bgcolor": "white",
          "plot_bgcolor": "#E5ECF6",
          "polar": {
           "angularaxis": {
            "gridcolor": "white",
            "linecolor": "white",
            "ticks": ""
           },
           "bgcolor": "#E5ECF6",
           "radialaxis": {
            "gridcolor": "white",
            "linecolor": "white",
            "ticks": ""
           }
          },
          "scene": {
           "xaxis": {
            "backgroundcolor": "#E5ECF6",
            "gridcolor": "white",
            "gridwidth": 2,
            "linecolor": "white",
            "showbackground": true,
            "ticks": "",
            "zerolinecolor": "white"
           },
           "yaxis": {
            "backgroundcolor": "#E5ECF6",
            "gridcolor": "white",
            "gridwidth": 2,
            "linecolor": "white",
            "showbackground": true,
            "ticks": "",
            "zerolinecolor": "white"
           },
           "zaxis": {
            "backgroundcolor": "#E5ECF6",
            "gridcolor": "white",
            "gridwidth": 2,
            "linecolor": "white",
            "showbackground": true,
            "ticks": "",
            "zerolinecolor": "white"
           }
          },
          "shapedefaults": {
           "line": {
            "color": "#2a3f5f"
           }
          },
          "ternary": {
           "aaxis": {
            "gridcolor": "white",
            "linecolor": "white",
            "ticks": ""
           },
           "baxis": {
            "gridcolor": "white",
            "linecolor": "white",
            "ticks": ""
           },
           "bgcolor": "#E5ECF6",
           "caxis": {
            "gridcolor": "white",
            "linecolor": "white",
            "ticks": ""
           }
          },
          "title": {
           "x": 0.05
          },
          "xaxis": {
           "automargin": true,
           "gridcolor": "white",
           "linecolor": "white",
           "ticks": "",
           "title": {
            "standoff": 15
           },
           "zerolinecolor": "white",
           "zerolinewidth": 2
          },
          "yaxis": {
           "automargin": true,
           "gridcolor": "white",
           "linecolor": "white",
           "ticks": "",
           "title": {
            "standoff": 15
           },
           "zerolinecolor": "white",
           "zerolinewidth": 2
          }
         }
        },
        "xaxis": {
         "anchor": "y",
         "domain": [
          0,
          1
         ],
         "title": {
          "text": "user_id"
         }
        },
        "yaxis": {
         "anchor": "x",
         "domain": [
          0,
          1
         ],
         "title": {
          "text": "funnel_step"
         }
        }
       }
      },
      "text/html": [
       "<div>                            <div id=\"894550f5-7ab4-4ccb-bb0b-98e963c0204e\" class=\"plotly-graph-div\" style=\"height:525px; width:100%;\"></div>            <script type=\"text/javascript\">                require([\"plotly\"], function(Plotly) {                    window.PLOTLYENV=window.PLOTLYENV || {};                                    if (document.getElementById(\"894550f5-7ab4-4ccb-bb0b-98e963c0204e\")) {                    Plotly.newPlot(                        \"894550f5-7ab4-4ccb-bb0b-98e963c0204e\",                        [{\"hovertemplate\":\"channel=affiliate<br>user_id=%{x}<br>funnel_step=%{y}<extra></extra>\",\"legendgroup\":\"affiliate\",\"marker\":{\"color\":\"#16B6B3\"},\"name\":\"affiliate\",\"orientation\":\"h\",\"showlegend\":true,\"x\":[1852,2566,4225,6042],\"xaxis\":\"x\",\"y\":[\"first_deposit\",\"kyc_completed\",\"sign_up_completed\",\"sign_up_initiated\"],\"yaxis\":\"y\",\"type\":\"funnel\"},{\"hovertemplate\":\"channel=organic<br>user_id=%{x}<br>funnel_step=%{y}<extra></extra>\",\"legendgroup\":\"organic\",\"marker\":{\"color\":\"#2E282A\"},\"name\":\"organic\",\"orientation\":\"h\",\"showlegend\":true,\"x\":[2715,3681,5955,8298],\"xaxis\":\"x\",\"y\":[\"first_deposit\",\"kyc_completed\",\"sign_up_completed\",\"sign_up_initiated\"],\"yaxis\":\"y\",\"type\":\"funnel\"},{\"hovertemplate\":\"channel=paid_search<br>user_id=%{x}<br>funnel_step=%{y}<extra></extra>\",\"legendgroup\":\"paid_search\",\"marker\":{\"color\":\"#042424\"},\"name\":\"paid_search\",\"orientation\":\"h\",\"showlegend\":true,\"x\":[684,932,1500,2150],\"xaxis\":\"x\",\"y\":[\"first_deposit\",\"kyc_completed\",\"sign_up_completed\",\"sign_up_initiated\"],\"yaxis\":\"y\",\"type\":\"funnel\"},{\"hovertemplate\":\"channel=paid_social<br>user_id=%{x}<br>funnel_step=%{y}<extra></extra>\",\"legendgroup\":\"paid_social\",\"marker\":{\"color\":\"#A09297\"},\"name\":\"paid_social\",\"orientation\":\"h\",\"showlegend\":true,\"x\":[1457,2021,3276,4666],\"xaxis\":\"x\",\"y\":[\"first_deposit\",\"kyc_completed\",\"sign_up_completed\",\"sign_up_initiated\"],\"yaxis\":\"y\",\"type\":\"funnel\"}],                        {\"template\":{\"data\":{\"bar\":[{\"error_x\":{\"color\":\"#2a3f5f\"},\"error_y\":{\"color\":\"#2a3f5f\"},\"marker\":{\"line\":{\"color\":\"#E5ECF6\",\"width\":0.5},\"pattern\":{\"fillmode\":\"overlay\",\"size\":10,\"solidity\":0.2}},\"type\":\"bar\"}],\"barpolar\":[{\"marker\":{\"line\":{\"color\":\"#E5ECF6\",\"width\":0.5},\"pattern\":{\"fillmode\":\"overlay\",\"size\":10,\"solidity\":0.2}},\"type\":\"barpolar\"}],\"carpet\":[{\"aaxis\":{\"endlinecolor\":\"#2a3f5f\",\"gridcolor\":\"white\",\"linecolor\":\"white\",\"minorgridcolor\":\"white\",\"startlinecolor\":\"#2a3f5f\"},\"baxis\":{\"endlinecolor\":\"#2a3f5f\",\"gridcolor\":\"white\",\"linecolor\":\"white\",\"minorgridcolor\":\"white\",\"startlinecolor\":\"#2a3f5f\"},\"type\":\"carpet\"}],\"choropleth\":[{\"colorbar\":{\"outlinewidth\":0,\"ticks\":\"\"},\"type\":\"choropleth\"}],\"contour\":[{\"colorbar\":{\"outlinewidth\":0,\"ticks\":\"\"},\"colorscale\":[[0.0,\"#0d0887\"],[0.1111111111111111,\"#46039f\"],[0.2222222222222222,\"#7201a8\"],[0.3333333333333333,\"#9c179e\"],[0.4444444444444444,\"#bd3786\"],[0.5555555555555556,\"#d8576b\"],[0.6666666666666666,\"#ed7953\"],[0.7777777777777778,\"#fb9f3a\"],[0.8888888888888888,\"#fdca26\"],[1.0,\"#f0f921\"]],\"type\":\"contour\"}],\"contourcarpet\":[{\"colorbar\":{\"outlinewidth\":0,\"ticks\":\"\"},\"type\":\"contourcarpet\"}],\"heatmap\":[{\"colorbar\":{\"outlinewidth\":0,\"ticks\":\"\"},\"colorscale\":[[0.0,\"#0d0887\"],[0.1111111111111111,\"#46039f\"],[0.2222222222222222,\"#7201a8\"],[0.3333333333333333,\"#9c179e\"],[0.4444444444444444,\"#bd3786\"],[0.5555555555555556,\"#d8576b\"],[0.6666666666666666,\"#ed7953\"],[0.7777777777777778,\"#fb9f3a\"],[0.8888888888888888,\"#fdca26\"],[1.0,\"#f0f921\"]],\"type\":\"heatmap\"}],\"heatmapgl\":[{\"colorbar\":{\"outlinewidth\":0,\"ticks\":\"\"},\"colorscale\":[[0.0,\"#0d0887\"],[0.1111111111111111,\"#46039f\"],[0.2222222222222222,\"#7201a8\"],[0.3333333333333333,\"#9c179e\"],[0.4444444444444444,\"#bd3786\"],[0.5555555555555556,\"#d8576b\"],[0.6666666666666666,\"#ed7953\"],[0.7777777777777778,\"#fb9f3a\"],[0.8888888888888888,\"#fdca26\"],[1.0,\"#f0f921\"]],\"type\":\"heatmapgl\"}],\"histogram\":[{\"marker\":{\"pattern\":{\"fillmode\":\"overlay\",\"size\":10,\"solidity\":0.2}},\"type\":\"histogram\"}],\"histogram2d\":[{\"colorbar\":{\"outlinewidth\":0,\"ticks\":\"\"},\"colorscale\":[[0.0,\"#0d0887\"],[0.1111111111111111,\"#46039f\"],[0.2222222222222222,\"#7201a8\"],[0.3333333333333333,\"#9c179e\"],[0.4444444444444444,\"#bd3786\"],[0.5555555555555556,\"#d8576b\"],[0.6666666666666666,\"#ed7953\"],[0.7777777777777778,\"#fb9f3a\"],[0.8888888888888888,\"#fdca26\"],[1.0,\"#f0f921\"]],\"type\":\"histogram2d\"}],\"histogram2dcontour\":[{\"colorbar\":{\"outlinewidth\":0,\"ticks\":\"\"},\"colorscale\":[[0.0,\"#0d0887\"],[0.1111111111111111,\"#46039f\"],[0.2222222222222222,\"#7201a8\"],[0.3333333333333333,\"#9c179e\"],[0.4444444444444444,\"#bd3786\"],[0.5555555555555556,\"#d8576b\"],[0.6666666666666666,\"#ed7953\"],[0.7777777777777778,\"#fb9f3a\"],[0.8888888888888888,\"#fdca26\"],[1.0,\"#f0f921\"]],\"type\":\"histogram2dcontour\"}],\"mesh3d\":[{\"colorbar\":{\"outlinewidth\":0,\"ticks\":\"\"},\"type\":\"mesh3d\"}],\"parcoords\":[{\"line\":{\"colorbar\":{\"outlinewidth\":0,\"ticks\":\"\"}},\"type\":\"parcoords\"}],\"pie\":[{\"automargin\":true,\"type\":\"pie\"}],\"scatter\":[{\"marker\":{\"colorbar\":{\"outlinewidth\":0,\"ticks\":\"\"}},\"type\":\"scatter\"}],\"scatter3d\":[{\"line\":{\"colorbar\":{\"outlinewidth\":0,\"ticks\":\"\"}},\"marker\":{\"colorbar\":{\"outlinewidth\":0,\"ticks\":\"\"}},\"type\":\"scatter3d\"}],\"scattercarpet\":[{\"marker\":{\"colorbar\":{\"outlinewidth\":0,\"ticks\":\"\"}},\"type\":\"scattercarpet\"}],\"scattergeo\":[{\"marker\":{\"colorbar\":{\"outlinewidth\":0,\"ticks\":\"\"}},\"type\":\"scattergeo\"}],\"scattergl\":[{\"marker\":{\"colorbar\":{\"outlinewidth\":0,\"ticks\":\"\"}},\"type\":\"scattergl\"}],\"scattermapbox\":[{\"marker\":{\"colorbar\":{\"outlinewidth\":0,\"ticks\":\"\"}},\"type\":\"scattermapbox\"}],\"scatterpolar\":[{\"marker\":{\"colorbar\":{\"outlinewidth\":0,\"ticks\":\"\"}},\"type\":\"scatterpolar\"}],\"scatterpolargl\":[{\"marker\":{\"colorbar\":{\"outlinewidth\":0,\"ticks\":\"\"}},\"type\":\"scatterpolargl\"}],\"scatterternary\":[{\"marker\":{\"colorbar\":{\"outlinewidth\":0,\"ticks\":\"\"}},\"type\":\"scatterternary\"}],\"surface\":[{\"colorbar\":{\"outlinewidth\":0,\"ticks\":\"\"},\"colorscale\":[[0.0,\"#0d0887\"],[0.1111111111111111,\"#46039f\"],[0.2222222222222222,\"#7201a8\"],[0.3333333333333333,\"#9c179e\"],[0.4444444444444444,\"#bd3786\"],[0.5555555555555556,\"#d8576b\"],[0.6666666666666666,\"#ed7953\"],[0.7777777777777778,\"#fb9f3a\"],[0.8888888888888888,\"#fdca26\"],[1.0,\"#f0f921\"]],\"type\":\"surface\"}],\"table\":[{\"cells\":{\"fill\":{\"color\":\"#EBF0F8\"},\"line\":{\"color\":\"white\"}},\"header\":{\"fill\":{\"color\":\"#C8D4E3\"},\"line\":{\"color\":\"white\"}},\"type\":\"table\"}]},\"layout\":{\"annotationdefaults\":{\"arrowcolor\":\"#2a3f5f\",\"arrowhead\":0,\"arrowwidth\":1},\"autotypenumbers\":\"strict\",\"coloraxis\":{\"colorbar\":{\"outlinewidth\":0,\"ticks\":\"\"}},\"colorscale\":{\"diverging\":[[0,\"#8e0152\"],[0.1,\"#c51b7d\"],[0.2,\"#de77ae\"],[0.3,\"#f1b6da\"],[0.4,\"#fde0ef\"],[0.5,\"#f7f7f7\"],[0.6,\"#e6f5d0\"],[0.7,\"#b8e186\"],[0.8,\"#7fbc41\"],[0.9,\"#4d9221\"],[1,\"#276419\"]],\"sequential\":[[0.0,\"#0d0887\"],[0.1111111111111111,\"#46039f\"],[0.2222222222222222,\"#7201a8\"],[0.3333333333333333,\"#9c179e\"],[0.4444444444444444,\"#bd3786\"],[0.5555555555555556,\"#d8576b\"],[0.6666666666666666,\"#ed7953\"],[0.7777777777777778,\"#fb9f3a\"],[0.8888888888888888,\"#fdca26\"],[1.0,\"#f0f921\"]],\"sequentialminus\":[[0.0,\"#0d0887\"],[0.1111111111111111,\"#46039f\"],[0.2222222222222222,\"#7201a8\"],[0.3333333333333333,\"#9c179e\"],[0.4444444444444444,\"#bd3786\"],[0.5555555555555556,\"#d8576b\"],[0.6666666666666666,\"#ed7953\"],[0.7777777777777778,\"#fb9f3a\"],[0.8888888888888888,\"#fdca26\"],[1.0,\"#f0f921\"]]},\"colorway\":[\"#636efa\",\"#EF553B\",\"#00cc96\",\"#ab63fa\",\"#FFA15A\",\"#19d3f3\",\"#FF6692\",\"#B6E880\",\"#FF97FF\",\"#FECB52\"],\"font\":{\"color\":\"#2a3f5f\"},\"geo\":{\"bgcolor\":\"white\",\"lakecolor\":\"white\",\"landcolor\":\"#E5ECF6\",\"showlakes\":true,\"showland\":true,\"subunitcolor\":\"white\"},\"hoverlabel\":{\"align\":\"left\"},\"hovermode\":\"closest\",\"mapbox\":{\"style\":\"light\"},\"paper_bgcolor\":\"white\",\"plot_bgcolor\":\"#E5ECF6\",\"polar\":{\"angularaxis\":{\"gridcolor\":\"white\",\"linecolor\":\"white\",\"ticks\":\"\"},\"bgcolor\":\"#E5ECF6\",\"radialaxis\":{\"gridcolor\":\"white\",\"linecolor\":\"white\",\"ticks\":\"\"}},\"scene\":{\"xaxis\":{\"backgroundcolor\":\"#E5ECF6\",\"gridcolor\":\"white\",\"gridwidth\":2,\"linecolor\":\"white\",\"showbackground\":true,\"ticks\":\"\",\"zerolinecolor\":\"white\"},\"yaxis\":{\"backgroundcolor\":\"#E5ECF6\",\"gridcolor\":\"white\",\"gridwidth\":2,\"linecolor\":\"white\",\"showbackground\":true,\"ticks\":\"\",\"zerolinecolor\":\"white\"},\"zaxis\":{\"backgroundcolor\":\"#E5ECF6\",\"gridcolor\":\"white\",\"gridwidth\":2,\"linecolor\":\"white\",\"showbackground\":true,\"ticks\":\"\",\"zerolinecolor\":\"white\"}},\"shapedefaults\":{\"line\":{\"color\":\"#2a3f5f\"}},\"ternary\":{\"aaxis\":{\"gridcolor\":\"white\",\"linecolor\":\"white\",\"ticks\":\"\"},\"baxis\":{\"gridcolor\":\"white\",\"linecolor\":\"white\",\"ticks\":\"\"},\"bgcolor\":\"#E5ECF6\",\"caxis\":{\"gridcolor\":\"white\",\"linecolor\":\"white\",\"ticks\":\"\"}},\"title\":{\"x\":0.05},\"xaxis\":{\"automargin\":true,\"gridcolor\":\"white\",\"linecolor\":\"white\",\"ticks\":\"\",\"title\":{\"standoff\":15},\"zerolinecolor\":\"white\",\"zerolinewidth\":2},\"yaxis\":{\"automargin\":true,\"gridcolor\":\"white\",\"linecolor\":\"white\",\"ticks\":\"\",\"title\":{\"standoff\":15},\"zerolinecolor\":\"white\",\"zerolinewidth\":2}}},\"xaxis\":{\"anchor\":\"y\",\"domain\":[0.0,1.0],\"title\":{\"text\":\"user_id\"}},\"yaxis\":{\"anchor\":\"x\",\"domain\":[0.0,1.0],\"title\":{\"text\":\"funnel_step\"}},\"legend\":{\"title\":{\"text\":\"channel\"},\"tracegroupgap\":0},\"margin\":{\"t\":60}},                        {\"responsive\": true}                    ).then(function(){\n",
       "                            \n",
       "var gd = document.getElementById('894550f5-7ab4-4ccb-bb0b-98e963c0204e');\n",
       "var x = new MutationObserver(function (mutations, observer) {{\n",
       "        var display = window.getComputedStyle(gd).display;\n",
       "        if (!display || display === 'none') {{\n",
       "            console.log([gd, 'removed!']);\n",
       "            Plotly.purge(gd);\n",
       "            observer.disconnect();\n",
       "        }}\n",
       "}});\n",
       "\n",
       "// Listen for the removal of the full notebook cells\n",
       "var notebookContainer = gd.closest('#notebook-container');\n",
       "if (notebookContainer) {{\n",
       "    x.observe(notebookContainer, {childList: true});\n",
       "}}\n",
       "\n",
       "// Listen for the clearing of the current output cell\n",
       "var outputEl = gd.closest('.output');\n",
       "if (outputEl) {{\n",
       "    x.observe(outputEl, {childList: true});\n",
       "}}\n",
       "\n",
       "                        })                };                });            </script>        </div>"
      ]
     },
     "metadata": {},
     "output_type": "display_data"
    }
   ],
   "source": [
    "stages = [\"sign_up_initiateds\", \"sign_up_completed\", \"kyc_completed\", \"first_deposit\"]\n",
    "fig = px.funnel(channel, x='user_id', y='funnel_step', color='channel', color_discrete_map={\"affiliate\": \"#16B6B3\", \n",
    "                                    \"organic\": \"#2E282A\", \"paid_search\": \"#042424\", \"paid_social\": \"#A09297\"},)\n",
    "fig.show()"
   ]
  },
  {
   "cell_type": "code",
   "execution_count": 52,
   "id": "3ad82145",
   "metadata": {},
   "outputs": [],
   "source": [
    "final_achieved_affiliate =  final_achieved.query(\"channel == 'affiliate'\")['time_diff_total']\n",
    "final_achieved_paid_social =  final_achieved.query(\"channel == 'paid_social'\")['time_diff_total']\n",
    "final_achieved_paid_search =  final_achieved.query(\"channel == 'paid_search'\")['time_diff_total']\n",
    "final_achieved_organic =  final_achieved.query(\"channel == 'organic'\")['time_diff_total']"
   ]
  },
  {
   "cell_type": "code",
   "execution_count": 53,
   "id": "44987b37",
   "metadata": {},
   "outputs": [
    {
     "data": {
      "image/png": "[encoded data removed]",
      "text/plain": [
       "<Figure size 432x288 with 1 Axes>"
      ]
     },
     "metadata": {},
     "output_type": "display_data"
    }
   ],
   "source": [
    "with plt.style.context('seaborn-whitegrid'):\n",
    "    plt.hist(final_achieved_organic, bins=20, alpha=0.5, label='organic')\n",
    "    plt.hist(final_achieved_affiliate, bins=20, alpha=0.5, label='affiliate')\n",
    "    plt.hist(final_achieved_paid_social, bins=20, alpha=0.5, label='paid_social')\n",
    "    plt.hist(final_achieved_paid_search, bins=20, alpha=0.5, label='paid_search')\n",
    "    plt.legend(loc='upper right')\n",
    "    plt.title('Total time spend spread')\n",
    "    plt.xlabel('Days')\n",
    "    plt.ylabel('Number of record')\n",
    "plt.show()"
   ]
  },
  {
   "cell_type": "markdown",
   "id": "e6a4b99e",
   "metadata": {},
   "source": [
    "very hard to say something specific, lets check with test"
   ]
  },
  {
   "cell_type": "code",
   "execution_count": 54,
   "id": "0da337d0",
   "metadata": {},
   "outputs": [
    {
     "name": "stdout",
     "output_type": "stream",
     "text": [
      "p-value:  0.41799089047047605\n",
      "Cannot reject null hypothesis, no difference can be made\n"
     ]
    }
   ],
   "source": [
    "mann_whitneyu_test(final_achieved_organic, final_achieved_affiliate)"
   ]
  },
  {
   "cell_type": "code",
   "execution_count": 55,
   "id": "2a455060",
   "metadata": {},
   "outputs": [
    {
     "name": "stdout",
     "output_type": "stream",
     "text": [
      "p-value:  0.18341725510501833\n",
      "Cannot reject null hypothesis, no difference can be made\n"
     ]
    }
   ],
   "source": [
    "mann_whitneyu_test(final_achieved_organic, final_achieved_paid_social)"
   ]
  },
  {
   "cell_type": "code",
   "execution_count": 56,
   "id": "3c108478",
   "metadata": {},
   "outputs": [
    {
     "name": "stdout",
     "output_type": "stream",
     "text": [
      "p-value:  0.3206717748953666\n",
      "Cannot reject null hypothesis, no difference can be made\n"
     ]
    }
   ],
   "source": [
    "mann_whitneyu_test(final_achieved_organic, final_achieved_paid_search)"
   ]
  },
  {
   "cell_type": "code",
   "execution_count": 57,
   "id": "edcc70b5",
   "metadata": {},
   "outputs": [
    {
     "name": "stdout",
     "output_type": "stream",
     "text": [
      "p-value:  0.41799089047047605\n",
      "Cannot reject null hypothesis, no difference can be made\n"
     ]
    }
   ],
   "source": [
    "mann_whitneyu_test(final_achieved_organic, final_achieved_affiliate)"
   ]
  },
  {
   "cell_type": "code",
   "execution_count": 58,
   "id": "28aea959",
   "metadata": {},
   "outputs": [
    {
     "name": "stdout",
     "output_type": "stream",
     "text": [
      "p-value:  0.2519919260694743\n",
      "Cannot reject null hypothesis, no difference can be made\n"
     ]
    }
   ],
   "source": [
    "mann_whitneyu_test(final_achieved_affiliate, final_achieved_paid_social)"
   ]
  },
  {
   "cell_type": "code",
   "execution_count": 59,
   "id": "aad38b6f",
   "metadata": {},
   "outputs": [
    {
     "name": "stdout",
     "output_type": "stream",
     "text": [
      "p-value:  0.3827765167972971\n",
      "Cannot reject null hypothesis, no difference can be made\n"
     ]
    }
   ],
   "source": [
    "mann_whitneyu_test(final_achieved_affiliate, final_achieved_paid_search)"
   ]
  },
  {
   "cell_type": "code",
   "execution_count": 60,
   "id": "70f7b488",
   "metadata": {},
   "outputs": [
    {
     "name": "stdout",
     "output_type": "stream",
     "text": [
      "p-value:  0.4154144488904789\n",
      "Cannot reject null hypothesis, no difference can be made\n"
     ]
    }
   ],
   "source": [
    "mann_whitneyu_test(final_achieved_paid_social, final_achieved_paid_search)"
   ]
  },
  {
   "cell_type": "markdown",
   "id": "37efab78",
   "metadata": {},
   "source": [
    "So, as we can see, channel type does't cause a significant change it total time for achieving final stage of N26 customer"
   ]
  },
  {
   "cell_type": "code",
   "execution_count": 61,
   "id": "57924254",
   "metadata": {},
   "outputs": [],
   "source": [
    "final_achieved_affiliate =  final_achieved.query(\"channel == 'affiliate'\")['age']\n",
    "final_achieved_paid_social =  final_achieved.query(\"channel == 'paid_social'\")['age']\n",
    "final_achieved_paid_search =  final_achieved.query(\"channel == 'paid_search'\")['age']\n",
    "final_achieved_organic =  final_achieved.query(\"channel == 'organic'\")['age']"
   ]
  },
  {
   "cell_type": "code",
   "execution_count": 62,
   "id": "65a1570f",
   "metadata": {},
   "outputs": [
    {
     "data": {
      "image/png": "[encoded data removed]",
      "text/plain": [
       "<Figure size 432x288 with 1 Axes>"
      ]
     },
     "metadata": {},
     "output_type": "display_data"
    }
   ],
   "source": [
    "with plt.style.context('seaborn-whitegrid'):\n",
    "    \n",
    "    plt.hist(final_achieved_organic, bins=20, alpha=0.5, label='organic')\n",
    "    plt.hist(final_achieved_affiliate, bins=20, alpha=0.5, label='affiliate')\n",
    "    plt.hist(final_achieved_paid_social, bins=20, alpha=0.5, label='paid_social')\n",
    "    plt.hist(final_achieved_paid_search, bins=20, alpha=0.5, label='paid_search')\n",
    "    plt.legend(loc='upper right')\n",
    "    plt.title('Total time spend spread')\n",
    "    plt.xlabel('Age')\n",
    "    plt.ylabel('Number of record')\n",
    "plt.show()"
   ]
  },
  {
   "cell_type": "markdown",
   "id": "c4c5ee8a",
   "metadata": {},
   "source": [
    "lets just check with two datasets to prove the idea, that age doesn't affect in channel data too "
   ]
  },
  {
   "cell_type": "code",
   "execution_count": 63,
   "id": "c4726c9d",
   "metadata": {},
   "outputs": [
    {
     "name": "stdout",
     "output_type": "stream",
     "text": [
      "p-value:  0.07225744920018691\n",
      "Cannot reject null hypothesis, no difference can be made\n"
     ]
    }
   ],
   "source": [
    "mann_whitneyu_test(final_achieved_organic, final_achieved_affiliate)"
   ]
  },
  {
   "cell_type": "markdown",
   "id": "d99c35be",
   "metadata": {},
   "source": [
    "Further research i see as irrelevant. "
   ]
  },
  {
   "cell_type": "markdown",
   "id": "68cc7b5a",
   "metadata": {},
   "source": [
    "#### country category"
   ]
  },
  {
   "cell_type": "code",
   "execution_count": 64,
   "id": "347a736d",
   "metadata": {},
   "outputs": [
    {
     "data": {
      "text/html": [
       "<div>\n",
       "<style scoped>\n",
       "    .dataframe tbody tr th:only-of-type {\n",
       "        vertical-align: middle;\n",
       "    }\n",
       "\n",
       "    .dataframe tbody tr th {\n",
       "        vertical-align: top;\n",
       "    }\n",
       "\n",
       "    .dataframe thead th {\n",
       "        text-align: right;\n",
       "    }\n",
       "</style>\n",
       "<table border=\"1\" class=\"dataframe\">\n",
       "  <thead>\n",
       "    <tr style=\"text-align: right;\">\n",
       "      <th></th>\n",
       "      <th></th>\n",
       "      <th>user_id</th>\n",
       "      <th>age</th>\n",
       "      <th>time_diff_total</th>\n",
       "      <th>diff_from_last_step</th>\n",
       "      <th>fully_completed</th>\n",
       "      <th>convertion</th>\n",
       "    </tr>\n",
       "    <tr>\n",
       "      <th>funnel_step</th>\n",
       "      <th>market</th>\n",
       "      <th></th>\n",
       "      <th></th>\n",
       "      <th></th>\n",
       "      <th></th>\n",
       "      <th></th>\n",
       "      <th></th>\n",
       "    </tr>\n",
       "  </thead>\n",
       "  <tbody>\n",
       "    <tr>\n",
       "      <th rowspan=\"5\" valign=\"top\">first_deposit</th>\n",
       "      <th>AUT</th>\n",
       "      <td>983</td>\n",
       "      <td>30.833164</td>\n",
       "      <td>31.155646</td>\n",
       "      <td>452.016277</td>\n",
       "      <td>983</td>\n",
       "      <td>1.000000</td>\n",
       "    </tr>\n",
       "    <tr>\n",
       "      <th>DEU</th>\n",
       "      <td>3767</td>\n",
       "      <td>30.989116</td>\n",
       "      <td>26.712769</td>\n",
       "      <td>345.371383</td>\n",
       "      <td>3767</td>\n",
       "      <td>1.000000</td>\n",
       "    </tr>\n",
       "    <tr>\n",
       "      <th>ESP</th>\n",
       "      <td>375</td>\n",
       "      <td>30.682667</td>\n",
       "      <td>17.181333</td>\n",
       "      <td>251.992000</td>\n",
       "      <td>375</td>\n",
       "      <td>1.000000</td>\n",
       "    </tr>\n",
       "    <tr>\n",
       "      <th>FRA</th>\n",
       "      <td>1329</td>\n",
       "      <td>31.155756</td>\n",
       "      <td>17.714071</td>\n",
       "      <td>251.726862</td>\n",
       "      <td>1329</td>\n",
       "      <td>1.000000</td>\n",
       "    </tr>\n",
       "    <tr>\n",
       "      <th>GBR</th>\n",
       "      <td>254</td>\n",
       "      <td>30.649606</td>\n",
       "      <td>36.618110</td>\n",
       "      <td>658.811024</td>\n",
       "      <td>254</td>\n",
       "      <td>1.000000</td>\n",
       "    </tr>\n",
       "    <tr>\n",
       "      <th rowspan=\"5\" valign=\"top\">kyc_completed</th>\n",
       "      <th>AUT</th>\n",
       "      <td>1075</td>\n",
       "      <td>30.760930</td>\n",
       "      <td>12.306977</td>\n",
       "      <td>277.795349</td>\n",
       "      <td>983</td>\n",
       "      <td>0.914419</td>\n",
       "    </tr>\n",
       "    <tr>\n",
       "      <th>DEU</th>\n",
       "      <td>4173</td>\n",
       "      <td>30.827462</td>\n",
       "      <td>12.305056</td>\n",
       "      <td>278.071891</td>\n",
       "      <td>3767</td>\n",
       "      <td>0.902708</td>\n",
       "    </tr>\n",
       "    <tr>\n",
       "      <th>ESP</th>\n",
       "      <td>937</td>\n",
       "      <td>30.996798</td>\n",
       "      <td>6.551761</td>\n",
       "      <td>139.829242</td>\n",
       "      <td>375</td>\n",
       "      <td>0.400213</td>\n",
       "    </tr>\n",
       "    <tr>\n",
       "      <th>FRA</th>\n",
       "      <td>2703</td>\n",
       "      <td>31.098409</td>\n",
       "      <td>7.192009</td>\n",
       "      <td>155.791343</td>\n",
       "      <td>1329</td>\n",
       "      <td>0.491676</td>\n",
       "    </tr>\n",
       "    <tr>\n",
       "      <th>GBR</th>\n",
       "      <td>312</td>\n",
       "      <td>30.512821</td>\n",
       "      <td>9.262821</td>\n",
       "      <td>204.833333</td>\n",
       "      <td>254</td>\n",
       "      <td>0.814103</td>\n",
       "    </tr>\n",
       "    <tr>\n",
       "      <th rowspan=\"5\" valign=\"top\">sign_up_completed</th>\n",
       "      <th>AUT</th>\n",
       "      <td>2062</td>\n",
       "      <td>31.174103</td>\n",
       "      <td>0.693986</td>\n",
       "      <td>28.877789</td>\n",
       "      <td>983</td>\n",
       "      <td>0.476722</td>\n",
       "    </tr>\n",
       "    <tr>\n",
       "      <th>DEU</th>\n",
       "      <td>6965</td>\n",
       "      <td>31.048816</td>\n",
       "      <td>0.683417</td>\n",
       "      <td>28.637330</td>\n",
       "      <td>3767</td>\n",
       "      <td>0.540847</td>\n",
       "    </tr>\n",
       "    <tr>\n",
       "      <th>ESP</th>\n",
       "      <td>1610</td>\n",
       "      <td>31.351553</td>\n",
       "      <td>0.689441</td>\n",
       "      <td>28.534783</td>\n",
       "      <td>375</td>\n",
       "      <td>0.232919</td>\n",
       "    </tr>\n",
       "    <tr>\n",
       "      <th>FRA</th>\n",
       "      <td>3527</td>\n",
       "      <td>31.032889</td>\n",
       "      <td>0.682733</td>\n",
       "      <td>28.538418</td>\n",
       "      <td>1329</td>\n",
       "      <td>0.376807</td>\n",
       "    </tr>\n",
       "    <tr>\n",
       "      <th>GBR</th>\n",
       "      <td>792</td>\n",
       "      <td>31.003788</td>\n",
       "      <td>0.689394</td>\n",
       "      <td>28.635101</td>\n",
       "      <td>254</td>\n",
       "      <td>0.320707</td>\n",
       "    </tr>\n",
       "    <tr>\n",
       "      <th rowspan=\"5\" valign=\"top\">sign_up_initiated</th>\n",
       "      <th>AUT</th>\n",
       "      <td>3013</td>\n",
       "      <td>31.030534</td>\n",
       "      <td>0.000000</td>\n",
       "      <td>0.000000</td>\n",
       "      <td>983</td>\n",
       "      <td>0.326253</td>\n",
       "    </tr>\n",
       "    <tr>\n",
       "      <th>DEU</th>\n",
       "      <td>10125</td>\n",
       "      <td>31.067160</td>\n",
       "      <td>0.000000</td>\n",
       "      <td>0.000000</td>\n",
       "      <td>3767</td>\n",
       "      <td>0.372049</td>\n",
       "    </tr>\n",
       "    <tr>\n",
       "      <th>ESP</th>\n",
       "      <td>2033</td>\n",
       "      <td>31.292671</td>\n",
       "      <td>0.000000</td>\n",
       "      <td>0.000000</td>\n",
       "      <td>375</td>\n",
       "      <td>0.184456</td>\n",
       "    </tr>\n",
       "    <tr>\n",
       "      <th>FRA</th>\n",
       "      <td>4969</td>\n",
       "      <td>30.908030</td>\n",
       "      <td>0.000000</td>\n",
       "      <td>0.000000</td>\n",
       "      <td>1329</td>\n",
       "      <td>0.267458</td>\n",
       "    </tr>\n",
       "    <tr>\n",
       "      <th>GBR</th>\n",
       "      <td>1016</td>\n",
       "      <td>31.231299</td>\n",
       "      <td>0.000000</td>\n",
       "      <td>0.000000</td>\n",
       "      <td>254</td>\n",
       "      <td>0.250000</td>\n",
       "    </tr>\n",
       "  </tbody>\n",
       "</table>\n",
       "</div>"
      ],
      "text/plain": [
       "                          user_id        age  time_diff_total  \\\n",
       "funnel_step       market                                        \n",
       "first_deposit     AUT         983  30.833164        31.155646   \n",
       "                  DEU        3767  30.989116        26.712769   \n",
       "                  ESP         375  30.682667        17.181333   \n",
       "                  FRA        1329  31.155756        17.714071   \n",
       "                  GBR         254  30.649606        36.618110   \n",
       "kyc_completed     AUT        1075  30.760930        12.306977   \n",
       "                  DEU        4173  30.827462        12.305056   \n",
       "                  ESP         937  30.996798         6.551761   \n",
       "                  FRA        2703  31.098409         7.192009   \n",
       "                  GBR         312  30.512821         9.262821   \n",
       "sign_up_completed AUT        2062  31.174103         0.693986   \n",
       "                  DEU        6965  31.048816         0.683417   \n",
       "                  ESP        1610  31.351553         0.689441   \n",
       "                  FRA        3527  31.032889         0.682733   \n",
       "                  GBR         792  31.003788         0.689394   \n",
       "sign_up_initiated AUT        3013  31.030534         0.000000   \n",
       "                  DEU       10125  31.067160         0.000000   \n",
       "                  ESP        2033  31.292671         0.000000   \n",
       "                  FRA        4969  30.908030         0.000000   \n",
       "                  GBR        1016  31.231299         0.000000   \n",
       "\n",
       "                          diff_from_last_step  fully_completed  convertion  \n",
       "funnel_step       market                                                    \n",
       "first_deposit     AUT              452.016277              983    1.000000  \n",
       "                  DEU              345.371383             3767    1.000000  \n",
       "                  ESP              251.992000              375    1.000000  \n",
       "                  FRA              251.726862             1329    1.000000  \n",
       "                  GBR              658.811024              254    1.000000  \n",
       "kyc_completed     AUT              277.795349              983    0.914419  \n",
       "                  DEU              278.071891             3767    0.902708  \n",
       "                  ESP              139.829242              375    0.400213  \n",
       "                  FRA              155.791343             1329    0.491676  \n",
       "                  GBR              204.833333              254    0.814103  \n",
       "sign_up_completed AUT               28.877789              983    0.476722  \n",
       "                  DEU               28.637330             3767    0.540847  \n",
       "                  ESP               28.534783              375    0.232919  \n",
       "                  FRA               28.538418             1329    0.376807  \n",
       "                  GBR               28.635101              254    0.320707  \n",
       "sign_up_initiated AUT                0.000000              983    0.326253  \n",
       "                  DEU                0.000000             3767    0.372049  \n",
       "                  ESP                0.000000              375    0.184456  \n",
       "                  FRA                0.000000             1329    0.267458  \n",
       "                  GBR                0.000000              254    0.250000  "
      ]
     },
     "execution_count": 64,
     "metadata": {},
     "output_type": "execute_result"
    }
   ],
   "source": [
    "market = df_combined.groupby(['funnel_step', 'market']).agg({'user_id': 'nunique','age': 'mean', 'time_diff_total': \"mean\", 'diff_from_last_step': \"mean\", 'fully_completed': 'sum'})\n",
    "market['convertion'] = market['fully_completed'] / market['user_id']\n",
    "market"
   ]
  },
  {
   "cell_type": "markdown",
   "id": "31af5499",
   "metadata": {},
   "source": [
    "- first of all, the biggest market is Germany with over 10000 users on first stage, in this country conversion to the last stage is also the best - 37%\n",
    "- the smallest market is Great Brittain, with only 1016 initial users and 25% of converted to the last stage\n",
    "- the poorest in convertion is a market of Spain, with only 18.4% converted users\n",
    "- here total required time is very different: less time needed in France and Spain (about 17-18 days) to convert to final stage, more then anywhere else in GB - 37 days "
   ]
  },
  {
   "cell_type": "code",
   "execution_count": 65,
   "id": "60ba3965",
   "metadata": {},
   "outputs": [],
   "source": [
    "market = market.reset_index()"
   ]
  },
  {
   "cell_type": "code",
   "execution_count": 66,
   "id": "566f0127",
   "metadata": {},
   "outputs": [
    {
     "data": {
      "application/vnd.plotly.v1+json": {
       "config": {
        "plotlyServerURL": "https://plot.ly"
       },
       "data": [
        {
         "hovertemplate": "market=AUT<br>user_id=%{x}<br>funnel_step=%{y}<extra></extra>",
         "legendgroup": "AUT",
         "marker": {
          "color": "#16B6B3"
         },
         "name": "AUT",
         "orientation": "h",
         "showlegend": true,
         "type": "funnel",
         "x": [
          983,
          1075,
          2062,
          3013
         ],
         "xaxis": "x",
         "y": [
          "first_deposit",
          "kyc_completed",
          "sign_up_completed",
          "sign_up_initiated"
         ],
         "yaxis": "y"
        },
        {
         "hovertemplate": "market=DEU<br>user_id=%{x}<br>funnel_step=%{y}<extra></extra>",
         "legendgroup": "DEU",
         "marker": {
          "color": "#2E282A"
         },
         "name": "DEU",
         "orientation": "h",
         "showlegend": true,
         "type": "funnel",
         "x": [
          3767,
          4173,
          6965,
          10125
         ],
         "xaxis": "x",
         "y": [
          "first_deposit",
          "kyc_completed",
          "sign_up_completed",
          "sign_up_initiated"
         ],
         "yaxis": "y"
        },
        {
         "hovertemplate": "market=ESP<br>user_id=%{x}<br>funnel_step=%{y}<extra></extra>",
         "legendgroup": "ESP",
         "marker": {
          "color": "#94D1BE"
         },
         "name": "ESP",
         "orientation": "h",
         "showlegend": true,
         "type": "funnel",
         "x": [
          375,
          937,
          1610,
          2033
         ],
         "xaxis": "x",
         "y": [
          "first_deposit",
          "kyc_completed",
          "sign_up_completed",
          "sign_up_initiated"
         ],
         "yaxis": "y"
        },
        {
         "hovertemplate": "market=FRA<br>user_id=%{x}<br>funnel_step=%{y}<extra></extra>",
         "legendgroup": "FRA",
         "marker": {
          "color": "#A09297"
         },
         "name": "FRA",
         "orientation": "h",
         "showlegend": true,
         "type": "funnel",
         "x": [
          1329,
          2703,
          3527,
          4969
         ],
         "xaxis": "x",
         "y": [
          "first_deposit",
          "kyc_completed",
          "sign_up_completed",
          "sign_up_initiated"
         ],
         "yaxis": "y"
        },
        {
         "hovertemplate": "market=GBR<br>user_id=%{x}<br>funnel_step=%{y}<extra></extra>",
         "legendgroup": "GBR",
         "marker": {
          "color": "#9DB5B2"
         },
         "name": "GBR",
         "orientation": "h",
         "showlegend": true,
         "type": "funnel",
         "x": [
          254,
          312,
          792,
          1016
         ],
         "xaxis": "x",
         "y": [
          "first_deposit",
          "kyc_completed",
          "sign_up_completed",
          "sign_up_initiated"
         ],
         "yaxis": "y"
        }
       ],
       "layout": {
        "legend": {
         "title": {
          "text": "market"
         },
         "tracegroupgap": 0
        },
        "margin": {
         "t": 60
        },
        "template": {
         "data": {
          "bar": [
           {
            "error_x": {
             "color": "rgb(51,51,51)"
            },
            "error_y": {
             "color": "rgb(51,51,51)"
            },
            "marker": {
             "line": {
              "color": "rgb(237,237,237)",
              "width": 0.5
             },
             "pattern": {
              "fillmode": "overlay",
              "size": 10,
              "solidity": 0.2
             }
            },
            "type": "bar"
           }
          ],
          "barpolar": [
           {
            "marker": {
             "line": {
              "color": "rgb(237,237,237)",
              "width": 0.5
             },
             "pattern": {
              "fillmode": "overlay",
              "size": 10,
              "solidity": 0.2
             }
            },
            "type": "barpolar"
           }
          ],
          "carpet": [
           {
            "aaxis": {
             "endlinecolor": "rgb(51,51,51)",
             "gridcolor": "white",
             "linecolor": "white",
             "minorgridcolor": "white",
             "startlinecolor": "rgb(51,51,51)"
            },
            "baxis": {
             "endlinecolor": "rgb(51,51,51)",
             "gridcolor": "white",
             "linecolor": "white",
             "minorgridcolor": "white",
             "startlinecolor": "rgb(51,51,51)"
            },
            "type": "carpet"
           }
          ],
          "choropleth": [
           {
            "colorbar": {
             "outlinewidth": 0,
             "tickcolor": "rgb(237,237,237)",
             "ticklen": 6,
             "ticks": "inside"
            },
            "type": "choropleth"
           }
          ],
          "contour": [
           {
            "colorbar": {
             "outlinewidth": 0,
             "tickcolor": "rgb(237,237,237)",
             "ticklen": 6,
             "ticks": "inside"
            },
            "colorscale": [
             [
              0,
              "rgb(20,44,66)"
             ],
             [
              1,
              "rgb(90,179,244)"
             ]
            ],
            "type": "contour"
           }
          ],
          "contourcarpet": [
           {
            "colorbar": {
             "outlinewidth": 0,
             "tickcolor": "rgb(237,237,237)",
             "ticklen": 6,
             "ticks": "inside"
            },
            "type": "contourcarpet"
           }
          ],
          "heatmap": [
           {
            "colorbar": {
             "outlinewidth": 0,
             "tickcolor": "rgb(237,237,237)",
             "ticklen": 6,
             "ticks": "inside"
            },
            "colorscale": [
             [
              0,
              "rgb(20,44,66)"
             ],
             [
              1,
              "rgb(90,179,244)"
             ]
            ],
            "type": "heatmap"
           }
          ],
          "heatmapgl": [
           {
            "colorbar": {
             "outlinewidth": 0,
             "tickcolor": "rgb(237,237,237)",
             "ticklen": 6,
             "ticks": "inside"
            },
            "colorscale": [
             [
              0,
              "rgb(20,44,66)"
             ],
             [
              1,
              "rgb(90,179,244)"
             ]
            ],
            "type": "heatmapgl"
           }
          ],
          "histogram": [
           {
            "marker": {
             "pattern": {
              "fillmode": "overlay",
              "size": 10,
              "solidity": 0.2
             }
            },
            "type": "histogram"
           }
          ],
          "histogram2d": [
           {
            "colorbar": {
             "outlinewidth": 0,
             "tickcolor": "rgb(237,237,237)",
             "ticklen": 6,
             "ticks": "inside"
            },
            "colorscale": [
             [
              0,
              "rgb(20,44,66)"
             ],
             [
              1,
              "rgb(90,179,244)"
             ]
            ],
            "type": "histogram2d"
           }
          ],
          "histogram2dcontour": [
           {
            "colorbar": {
             "outlinewidth": 0,
             "tickcolor": "rgb(237,237,237)",
             "ticklen": 6,
             "ticks": "inside"
            },
            "colorscale": [
             [
              0,
              "rgb(20,44,66)"
             ],
             [
              1,
              "rgb(90,179,244)"
             ]
            ],
            "type": "histogram2dcontour"
           }
          ],
          "mesh3d": [
           {
            "colorbar": {
             "outlinewidth": 0,
             "tickcolor": "rgb(237,237,237)",
             "ticklen": 6,
             "ticks": "inside"
            },
            "type": "mesh3d"
           }
          ],
          "parcoords": [
           {
            "line": {
             "colorbar": {
              "outlinewidth": 0,
              "tickcolor": "rgb(237,237,237)",
              "ticklen": 6,
              "ticks": "inside"
             }
            },
            "type": "parcoords"
           }
          ],
          "pie": [
           {
            "automargin": true,
            "type": "pie"
           }
          ],
          "scatter": [
           {
            "marker": {
             "colorbar": {
              "outlinewidth": 0,
              "tickcolor": "rgb(237,237,237)",
              "ticklen": 6,
              "ticks": "inside"
             }
            },
            "type": "scatter"
           }
          ],
          "scatter3d": [
           {
            "line": {
             "colorbar": {
              "outlinewidth": 0,
              "tickcolor": "rgb(237,237,237)",
              "ticklen": 6,
              "ticks": "inside"
             }
            },
            "marker": {
             "colorbar": {
              "outlinewidth": 0,
              "tickcolor": "rgb(237,237,237)",
              "ticklen": 6,
              "ticks": "inside"
             }
            },
            "type": "scatter3d"
           }
          ],
          "scattercarpet": [
           {
            "marker": {
             "colorbar": {
              "outlinewidth": 0,
              "tickcolor": "rgb(237,237,237)",
              "ticklen": 6,
              "ticks": "inside"
             }
            },
            "type": "scattercarpet"
           }
          ],
          "scattergeo": [
           {
            "marker": {
             "colorbar": {
              "outlinewidth": 0,
              "tickcolor": "rgb(237,237,237)",
              "ticklen": 6,
              "ticks": "inside"
             }
            },
            "type": "scattergeo"
           }
          ],
          "scattergl": [
           {
            "marker": {
             "colorbar": {
              "outlinewidth": 0,
              "tickcolor": "rgb(237,237,237)",
              "ticklen": 6,
              "ticks": "inside"
             }
            },
            "type": "scattergl"
           }
          ],
          "scattermapbox": [
           {
            "marker": {
             "colorbar": {
              "outlinewidth": 0,
              "tickcolor": "rgb(237,237,237)",
              "ticklen": 6,
              "ticks": "inside"
             }
            },
            "type": "scattermapbox"
           }
          ],
          "scatterpolar": [
           {
            "marker": {
             "colorbar": {
              "outlinewidth": 0,
              "tickcolor": "rgb(237,237,237)",
              "ticklen": 6,
              "ticks": "inside"
             }
            },
            "type": "scatterpolar"
           }
          ],
          "scatterpolargl": [
           {
            "marker": {
             "colorbar": {
              "outlinewidth": 0,
              "tickcolor": "rgb(237,237,237)",
              "ticklen": 6,
              "ticks": "inside"
             }
            },
            "type": "scatterpolargl"
           }
          ],
          "scatterternary": [
           {
            "marker": {
             "colorbar": {
              "outlinewidth": 0,
              "tickcolor": "rgb(237,237,237)",
              "ticklen": 6,
              "ticks": "inside"
             }
            },
            "type": "scatterternary"
           }
          ],
          "surface": [
           {
            "colorbar": {
             "outlinewidth": 0,
             "tickcolor": "rgb(237,237,237)",
             "ticklen": 6,
             "ticks": "inside"
            },
            "colorscale": [
             [
              0,
              "rgb(20,44,66)"
             ],
             [
              1,
              "rgb(90,179,244)"
             ]
            ],
            "type": "surface"
           }
          ],
          "table": [
           {
            "cells": {
             "fill": {
              "color": "rgb(237,237,237)"
             },
             "line": {
              "color": "white"
             }
            },
            "header": {
             "fill": {
              "color": "rgb(217,217,217)"
             },
             "line": {
              "color": "white"
             }
            },
            "type": "table"
           }
          ]
         },
         "layout": {
          "annotationdefaults": {
           "arrowhead": 0,
           "arrowwidth": 1
          },
          "autotypenumbers": "strict",
          "coloraxis": {
           "colorbar": {
            "outlinewidth": 0,
            "tickcolor": "rgb(237,237,237)",
            "ticklen": 6,
            "ticks": "inside"
           }
          },
          "colorscale": {
           "sequential": [
            [
             0,
             "rgb(20,44,66)"
            ],
            [
             1,
             "rgb(90,179,244)"
            ]
           ],
           "sequentialminus": [
            [
             0,
             "rgb(20,44,66)"
            ],
            [
             1,
             "rgb(90,179,244)"
            ]
           ]
          },
          "colorway": [
           "#F8766D",
           "#A3A500",
           "#00BF7D",
           "#00B0F6",
           "#E76BF3"
          ],
          "font": {
           "color": "rgb(51,51,51)"
          },
          "geo": {
           "bgcolor": "white",
           "lakecolor": "white",
           "landcolor": "rgb(237,237,237)",
           "showlakes": true,
           "showland": true,
           "subunitcolor": "white"
          },
          "hoverlabel": {
           "align": "left"
          },
          "hovermode": "closest",
          "paper_bgcolor": "white",
          "plot_bgcolor": "rgb(237,237,237)",
          "polar": {
           "angularaxis": {
            "gridcolor": "white",
            "linecolor": "white",
            "showgrid": true,
            "tickcolor": "rgb(51,51,51)",
            "ticks": "outside"
           },
           "bgcolor": "rgb(237,237,237)",
           "radialaxis": {
            "gridcolor": "white",
            "linecolor": "white",
            "showgrid": true,
            "tickcolor": "rgb(51,51,51)",
            "ticks": "outside"
           }
          },
          "scene": {
           "xaxis": {
            "backgroundcolor": "rgb(237,237,237)",
            "gridcolor": "white",
            "gridwidth": 2,
            "linecolor": "white",
            "showbackground": true,
            "showgrid": true,
            "tickcolor": "rgb(51,51,51)",
            "ticks": "outside",
            "zerolinecolor": "white"
           },
           "yaxis": {
            "backgroundcolor": "rgb(237,237,237)",
            "gridcolor": "white",
            "gridwidth": 2,
            "linecolor": "white",
            "showbackground": true,
            "showgrid": true,
            "tickcolor": "rgb(51,51,51)",
            "ticks": "outside",
            "zerolinecolor": "white"
           },
           "zaxis": {
            "backgroundcolor": "rgb(237,237,237)",
            "gridcolor": "white",
            "gridwidth": 2,
            "linecolor": "white",
            "showbackground": true,
            "showgrid": true,
            "tickcolor": "rgb(51,51,51)",
            "ticks": "outside",
            "zerolinecolor": "white"
           }
          },
          "shapedefaults": {
           "fillcolor": "black",
           "line": {
            "width": 0
           },
           "opacity": 0.3
          },
          "ternary": {
           "aaxis": {
            "gridcolor": "white",
            "linecolor": "white",
            "showgrid": true,
            "tickcolor": "rgb(51,51,51)",
            "ticks": "outside"
           },
           "baxis": {
            "gridcolor": "white",
            "linecolor": "white",
            "showgrid": true,
            "tickcolor": "rgb(51,51,51)",
            "ticks": "outside"
           },
           "bgcolor": "rgb(237,237,237)",
           "caxis": {
            "gridcolor": "white",
            "linecolor": "white",
            "showgrid": true,
            "tickcolor": "rgb(51,51,51)",
            "ticks": "outside"
           }
          },
          "xaxis": {
           "automargin": true,
           "gridcolor": "white",
           "linecolor": "white",
           "showgrid": true,
           "tickcolor": "rgb(51,51,51)",
           "ticks": "outside",
           "title": {
            "standoff": 15
           },
           "zerolinecolor": "white"
          },
          "yaxis": {
           "automargin": true,
           "gridcolor": "white",
           "linecolor": "white",
           "showgrid": true,
           "tickcolor": "rgb(51,51,51)",
           "ticks": "outside",
           "title": {
            "standoff": 15
           },
           "zerolinecolor": "white"
          }
         }
        },
        "xaxis": {
         "anchor": "y",
         "domain": [
          0,
          1
         ],
         "title": {
          "text": "user_id"
         }
        },
        "yaxis": {
         "anchor": "x",
         "domain": [
          0,
          1
         ],
         "title": {
          "text": "funnel_step"
         }
        }
       }
      },
      "text/html": [
       "<div>                            <div id=\"6002606b-fa54-4765-ab6f-cadedb517fad\" class=\"plotly-graph-div\" style=\"height:525px; width:100%;\"></div>            <script type=\"text/javascript\">                require([\"plotly\"], function(Plotly) {                    window.PLOTLYENV=window.PLOTLYENV || {};                                    if (document.getElementById(\"6002606b-fa54-4765-ab6f-cadedb517fad\")) {                    Plotly.newPlot(                        \"6002606b-fa54-4765-ab6f-cadedb517fad\",                        [{\"hovertemplate\":\"market=AUT<br>user_id=%{x}<br>funnel_step=%{y}<extra></extra>\",\"legendgroup\":\"AUT\",\"marker\":{\"color\":\"#16B6B3\"},\"name\":\"AUT\",\"orientation\":\"h\",\"showlegend\":true,\"x\":[983,1075,2062,3013],\"xaxis\":\"x\",\"y\":[\"first_deposit\",\"kyc_completed\",\"sign_up_completed\",\"sign_up_initiated\"],\"yaxis\":\"y\",\"type\":\"funnel\"},{\"hovertemplate\":\"market=DEU<br>user_id=%{x}<br>funnel_step=%{y}<extra></extra>\",\"legendgroup\":\"DEU\",\"marker\":{\"color\":\"#2E282A\"},\"name\":\"DEU\",\"orientation\":\"h\",\"showlegend\":true,\"x\":[3767,4173,6965,10125],\"xaxis\":\"x\",\"y\":[\"first_deposit\",\"kyc_completed\",\"sign_up_completed\",\"sign_up_initiated\"],\"yaxis\":\"y\",\"type\":\"funnel\"},{\"hovertemplate\":\"market=ESP<br>user_id=%{x}<br>funnel_step=%{y}<extra></extra>\",\"legendgroup\":\"ESP\",\"marker\":{\"color\":\"#94D1BE\"},\"name\":\"ESP\",\"orientation\":\"h\",\"showlegend\":true,\"x\":[375,937,1610,2033],\"xaxis\":\"x\",\"y\":[\"first_deposit\",\"kyc_completed\",\"sign_up_completed\",\"sign_up_initiated\"],\"yaxis\":\"y\",\"type\":\"funnel\"},{\"hovertemplate\":\"market=FRA<br>user_id=%{x}<br>funnel_step=%{y}<extra></extra>\",\"legendgroup\":\"FRA\",\"marker\":{\"color\":\"#A09297\"},\"name\":\"FRA\",\"orientation\":\"h\",\"showlegend\":true,\"x\":[1329,2703,3527,4969],\"xaxis\":\"x\",\"y\":[\"first_deposit\",\"kyc_completed\",\"sign_up_completed\",\"sign_up_initiated\"],\"yaxis\":\"y\",\"type\":\"funnel\"},{\"hovertemplate\":\"market=GBR<br>user_id=%{x}<br>funnel_step=%{y}<extra></extra>\",\"legendgroup\":\"GBR\",\"marker\":{\"color\":\"#9DB5B2\"},\"name\":\"GBR\",\"orientation\":\"h\",\"showlegend\":true,\"x\":[254,312,792,1016],\"xaxis\":\"x\",\"y\":[\"first_deposit\",\"kyc_completed\",\"sign_up_completed\",\"sign_up_initiated\"],\"yaxis\":\"y\",\"type\":\"funnel\"}],                        {\"template\":{\"data\":{\"barpolar\":[{\"marker\":{\"line\":{\"color\":\"rgb(237,237,237)\",\"width\":0.5},\"pattern\":{\"fillmode\":\"overlay\",\"size\":10,\"solidity\":0.2}},\"type\":\"barpolar\"}],\"bar\":[{\"error_x\":{\"color\":\"rgb(51,51,51)\"},\"error_y\":{\"color\":\"rgb(51,51,51)\"},\"marker\":{\"line\":{\"color\":\"rgb(237,237,237)\",\"width\":0.5},\"pattern\":{\"fillmode\":\"overlay\",\"size\":10,\"solidity\":0.2}},\"type\":\"bar\"}],\"carpet\":[{\"aaxis\":{\"endlinecolor\":\"rgb(51,51,51)\",\"gridcolor\":\"white\",\"linecolor\":\"white\",\"minorgridcolor\":\"white\",\"startlinecolor\":\"rgb(51,51,51)\"},\"baxis\":{\"endlinecolor\":\"rgb(51,51,51)\",\"gridcolor\":\"white\",\"linecolor\":\"white\",\"minorgridcolor\":\"white\",\"startlinecolor\":\"rgb(51,51,51)\"},\"type\":\"carpet\"}],\"choropleth\":[{\"colorbar\":{\"outlinewidth\":0,\"tickcolor\":\"rgb(237,237,237)\",\"ticklen\":6,\"ticks\":\"inside\"},\"type\":\"choropleth\"}],\"contourcarpet\":[{\"colorbar\":{\"outlinewidth\":0,\"tickcolor\":\"rgb(237,237,237)\",\"ticklen\":6,\"ticks\":\"inside\"},\"type\":\"contourcarpet\"}],\"contour\":[{\"colorbar\":{\"outlinewidth\":0,\"tickcolor\":\"rgb(237,237,237)\",\"ticklen\":6,\"ticks\":\"inside\"},\"colorscale\":[[0,\"rgb(20,44,66)\"],[1,\"rgb(90,179,244)\"]],\"type\":\"contour\"}],\"heatmapgl\":[{\"colorbar\":{\"outlinewidth\":0,\"tickcolor\":\"rgb(237,237,237)\",\"ticklen\":6,\"ticks\":\"inside\"},\"colorscale\":[[0,\"rgb(20,44,66)\"],[1,\"rgb(90,179,244)\"]],\"type\":\"heatmapgl\"}],\"heatmap\":[{\"colorbar\":{\"outlinewidth\":0,\"tickcolor\":\"rgb(237,237,237)\",\"ticklen\":6,\"ticks\":\"inside\"},\"colorscale\":[[0,\"rgb(20,44,66)\"],[1,\"rgb(90,179,244)\"]],\"type\":\"heatmap\"}],\"histogram2dcontour\":[{\"colorbar\":{\"outlinewidth\":0,\"tickcolor\":\"rgb(237,237,237)\",\"ticklen\":6,\"ticks\":\"inside\"},\"colorscale\":[[0,\"rgb(20,44,66)\"],[1,\"rgb(90,179,244)\"]],\"type\":\"histogram2dcontour\"}],\"histogram2d\":[{\"colorbar\":{\"outlinewidth\":0,\"tickcolor\":\"rgb(237,237,237)\",\"ticklen\":6,\"ticks\":\"inside\"},\"colorscale\":[[0,\"rgb(20,44,66)\"],[1,\"rgb(90,179,244)\"]],\"type\":\"histogram2d\"}],\"histogram\":[{\"marker\":{\"pattern\":{\"fillmode\":\"overlay\",\"size\":10,\"solidity\":0.2}},\"type\":\"histogram\"}],\"mesh3d\":[{\"colorbar\":{\"outlinewidth\":0,\"tickcolor\":\"rgb(237,237,237)\",\"ticklen\":6,\"ticks\":\"inside\"},\"type\":\"mesh3d\"}],\"parcoords\":[{\"line\":{\"colorbar\":{\"outlinewidth\":0,\"tickcolor\":\"rgb(237,237,237)\",\"ticklen\":6,\"ticks\":\"inside\"}},\"type\":\"parcoords\"}],\"pie\":[{\"automargin\":true,\"type\":\"pie\"}],\"scatter3d\":[{\"line\":{\"colorbar\":{\"outlinewidth\":0,\"tickcolor\":\"rgb(237,237,237)\",\"ticklen\":6,\"ticks\":\"inside\"}},\"marker\":{\"colorbar\":{\"outlinewidth\":0,\"tickcolor\":\"rgb(237,237,237)\",\"ticklen\":6,\"ticks\":\"inside\"}},\"type\":\"scatter3d\"}],\"scattercarpet\":[{\"marker\":{\"colorbar\":{\"outlinewidth\":0,\"tickcolor\":\"rgb(237,237,237)\",\"ticklen\":6,\"ticks\":\"inside\"}},\"type\":\"scattercarpet\"}],\"scattergeo\":[{\"marker\":{\"colorbar\":{\"outlinewidth\":0,\"tickcolor\":\"rgb(237,237,237)\",\"ticklen\":6,\"ticks\":\"inside\"}},\"type\":\"scattergeo\"}],\"scattergl\":[{\"marker\":{\"colorbar\":{\"outlinewidth\":0,\"tickcolor\":\"rgb(237,237,237)\",\"ticklen\":6,\"ticks\":\"inside\"}},\"type\":\"scattergl\"}],\"scattermapbox\":[{\"marker\":{\"colorbar\":{\"outlinewidth\":0,\"tickcolor\":\"rgb(237,237,237)\",\"ticklen\":6,\"ticks\":\"inside\"}},\"type\":\"scattermapbox\"}],\"scatterpolargl\":[{\"marker\":{\"colorbar\":{\"outlinewidth\":0,\"tickcolor\":\"rgb(237,237,237)\",\"ticklen\":6,\"ticks\":\"inside\"}},\"type\":\"scatterpolargl\"}],\"scatterpolar\":[{\"marker\":{\"colorbar\":{\"outlinewidth\":0,\"tickcolor\":\"rgb(237,237,237)\",\"ticklen\":6,\"ticks\":\"inside\"}},\"type\":\"scatterpolar\"}],\"scatter\":[{\"marker\":{\"colorbar\":{\"outlinewidth\":0,\"tickcolor\":\"rgb(237,237,237)\",\"ticklen\":6,\"ticks\":\"inside\"}},\"type\":\"scatter\"}],\"scatterternary\":[{\"marker\":{\"colorbar\":{\"outlinewidth\":0,\"tickcolor\":\"rgb(237,237,237)\",\"ticklen\":6,\"ticks\":\"inside\"}},\"type\":\"scatterternary\"}],\"surface\":[{\"colorbar\":{\"outlinewidth\":0,\"tickcolor\":\"rgb(237,237,237)\",\"ticklen\":6,\"ticks\":\"inside\"},\"colorscale\":[[0,\"rgb(20,44,66)\"],[1,\"rgb(90,179,244)\"]],\"type\":\"surface\"}],\"table\":[{\"cells\":{\"fill\":{\"color\":\"rgb(237,237,237)\"},\"line\":{\"color\":\"white\"}},\"header\":{\"fill\":{\"color\":\"rgb(217,217,217)\"},\"line\":{\"color\":\"white\"}},\"type\":\"table\"}]},\"layout\":{\"annotationdefaults\":{\"arrowhead\":0,\"arrowwidth\":1},\"autotypenumbers\":\"strict\",\"coloraxis\":{\"colorbar\":{\"outlinewidth\":0,\"tickcolor\":\"rgb(237,237,237)\",\"ticklen\":6,\"ticks\":\"inside\"}},\"colorscale\":{\"sequential\":[[0,\"rgb(20,44,66)\"],[1,\"rgb(90,179,244)\"]],\"sequentialminus\":[[0,\"rgb(20,44,66)\"],[1,\"rgb(90,179,244)\"]]},\"colorway\":[\"#F8766D\",\"#A3A500\",\"#00BF7D\",\"#00B0F6\",\"#E76BF3\"],\"font\":{\"color\":\"rgb(51,51,51)\"},\"geo\":{\"bgcolor\":\"white\",\"lakecolor\":\"white\",\"landcolor\":\"rgb(237,237,237)\",\"showlakes\":true,\"showland\":true,\"subunitcolor\":\"white\"},\"hoverlabel\":{\"align\":\"left\"},\"hovermode\":\"closest\",\"paper_bgcolor\":\"white\",\"plot_bgcolor\":\"rgb(237,237,237)\",\"polar\":{\"angularaxis\":{\"gridcolor\":\"white\",\"linecolor\":\"white\",\"showgrid\":true,\"tickcolor\":\"rgb(51,51,51)\",\"ticks\":\"outside\"},\"bgcolor\":\"rgb(237,237,237)\",\"radialaxis\":{\"gridcolor\":\"white\",\"linecolor\":\"white\",\"showgrid\":true,\"tickcolor\":\"rgb(51,51,51)\",\"ticks\":\"outside\"}},\"scene\":{\"xaxis\":{\"backgroundcolor\":\"rgb(237,237,237)\",\"gridcolor\":\"white\",\"gridwidth\":2,\"linecolor\":\"white\",\"showbackground\":true,\"showgrid\":true,\"tickcolor\":\"rgb(51,51,51)\",\"ticks\":\"outside\",\"zerolinecolor\":\"white\"},\"yaxis\":{\"backgroundcolor\":\"rgb(237,237,237)\",\"gridcolor\":\"white\",\"gridwidth\":2,\"linecolor\":\"white\",\"showbackground\":true,\"showgrid\":true,\"tickcolor\":\"rgb(51,51,51)\",\"ticks\":\"outside\",\"zerolinecolor\":\"white\"},\"zaxis\":{\"backgroundcolor\":\"rgb(237,237,237)\",\"gridcolor\":\"white\",\"gridwidth\":2,\"linecolor\":\"white\",\"showbackground\":true,\"showgrid\":true,\"tickcolor\":\"rgb(51,51,51)\",\"ticks\":\"outside\",\"zerolinecolor\":\"white\"}},\"shapedefaults\":{\"fillcolor\":\"black\",\"line\":{\"width\":0},\"opacity\":0.3},\"ternary\":{\"aaxis\":{\"gridcolor\":\"white\",\"linecolor\":\"white\",\"showgrid\":true,\"tickcolor\":\"rgb(51,51,51)\",\"ticks\":\"outside\"},\"baxis\":{\"gridcolor\":\"white\",\"linecolor\":\"white\",\"showgrid\":true,\"tickcolor\":\"rgb(51,51,51)\",\"ticks\":\"outside\"},\"bgcolor\":\"rgb(237,237,237)\",\"caxis\":{\"gridcolor\":\"white\",\"linecolor\":\"white\",\"showgrid\":true,\"tickcolor\":\"rgb(51,51,51)\",\"ticks\":\"outside\"}},\"xaxis\":{\"automargin\":true,\"gridcolor\":\"white\",\"linecolor\":\"white\",\"showgrid\":true,\"tickcolor\":\"rgb(51,51,51)\",\"ticks\":\"outside\",\"title\":{\"standoff\":15},\"zerolinecolor\":\"white\"},\"yaxis\":{\"automargin\":true,\"gridcolor\":\"white\",\"linecolor\":\"white\",\"showgrid\":true,\"tickcolor\":\"rgb(51,51,51)\",\"ticks\":\"outside\",\"title\":{\"standoff\":15},\"zerolinecolor\":\"white\"}}},\"xaxis\":{\"anchor\":\"y\",\"domain\":[0.0,1.0],\"title\":{\"text\":\"user_id\"}},\"yaxis\":{\"anchor\":\"x\",\"domain\":[0.0,1.0],\"title\":{\"text\":\"funnel_step\"}},\"legend\":{\"title\":{\"text\":\"market\"},\"tracegroupgap\":0},\"margin\":{\"t\":60}},                        {\"responsive\": true}                    ).then(function(){\n",
       "                            \n",
       "var gd = document.getElementById('6002606b-fa54-4765-ab6f-cadedb517fad');\n",
       "var x = new MutationObserver(function (mutations, observer) {{\n",
       "        var display = window.getComputedStyle(gd).display;\n",
       "        if (!display || display === 'none') {{\n",
       "            console.log([gd, 'removed!']);\n",
       "            Plotly.purge(gd);\n",
       "            observer.disconnect();\n",
       "        }}\n",
       "}});\n",
       "\n",
       "// Listen for the removal of the full notebook cells\n",
       "var notebookContainer = gd.closest('#notebook-container');\n",
       "if (notebookContainer) {{\n",
       "    x.observe(notebookContainer, {childList: true});\n",
       "}}\n",
       "\n",
       "// Listen for the clearing of the current output cell\n",
       "var outputEl = gd.closest('.output');\n",
       "if (outputEl) {{\n",
       "    x.observe(outputEl, {childList: true});\n",
       "}}\n",
       "\n",
       "                        })                };                });            </script>        </div>"
      ]
     },
     "metadata": {},
     "output_type": "display_data"
    }
   ],
   "source": [
    "stages = [\"sign_up_initiateds\", \"sign_up_completed\", \"kyc_completed\", \"first_deposit\"]\n",
    "fig = px.funnel(market, x='user_id', y='funnel_step', color='market', color_discrete_map={\"AUT\": \"#16B6B3\", \n",
    "                                    \"DEU\": \"#2E282A\", \"ESP\": \"#94D1BE\", \"FRA\": \"#A09297\",  \"GBR\": \"#9DB5B2\"},)\n",
    "fig.update_layout(template='ggplot2')\n",
    "fig.show()"
   ]
  },
  {
   "cell_type": "markdown",
   "id": "5ef0be33",
   "metadata": {},
   "source": [
    "Lets go deeper"
   ]
  },
  {
   "cell_type": "code",
   "execution_count": 67,
   "id": "7b450e4f",
   "metadata": {},
   "outputs": [],
   "source": [
    "final_achieved_DEU =  final_achieved.query(\"market == 'DEU'\")['time_diff_total']\n",
    "final_achieved_FRA =  final_achieved.query(\"market == 'FRA'\")['time_diff_total']\n",
    "final_achieved_AUT =  final_achieved.query(\"market == 'AUT'\")['time_diff_total']\n",
    "final_achieved_ESP =  final_achieved.query(\"market == 'ESP'\")['time_diff_total']\n",
    "final_achieved_GBR =  final_achieved.query(\"market == 'GBR'\")['time_diff_total']"
   ]
  },
  {
   "cell_type": "code",
   "execution_count": 68,
   "id": "49ea3b20",
   "metadata": {},
   "outputs": [
    {
     "data": {
      "image/png": "[encoded data removed]",
      "text/plain": [
       "<Figure size 432x288 with 1 Axes>"
      ]
     },
     "metadata": {},
     "output_type": "display_data"
    }
   ],
   "source": [
    "with plt.style.context('seaborn-whitegrid'):\n",
    "    plt.hist(final_achieved_DEU, bins=20, alpha=0.5, label='DEU')\n",
    "    plt.hist(final_achieved_FRA, bins=20, alpha=0.5, label='FRA')\n",
    "    plt.hist(final_achieved_AUT, bins=20, alpha=0.5, label='AUT')\n",
    "    plt.hist(final_achieved_ESP, bins=20, alpha=0.5, label='ESP')\n",
    "    plt.hist(final_achieved_GBR, bins=20, alpha=0.5, label='GBR')\n",
    "    plt.legend(loc='upper right')\n",
    "    plt.title('Total time spend spread')\n",
    "    plt.xlabel('Days')\n",
    "    plt.ylabel('Number of record')\n",
    "plt.show()"
   ]
  },
  {
   "cell_type": "code",
   "execution_count": 69,
   "id": "844f6391",
   "metadata": {},
   "outputs": [],
   "source": [
    "final_achieved_DEU.name = 'DEU'\n",
    "final_achieved_FRA.name = 'FRA'\n",
    "final_achieved_AUT.name = 'AUT'\n",
    "final_achieved_ESP.name = 'ESP'\n",
    "final_achieved_GBR.name = 'GBR'"
   ]
  },
  {
   "cell_type": "code",
   "execution_count": 70,
   "id": "bc703991",
   "metadata": {},
   "outputs": [],
   "source": [
    "list_of_markets = [final_achieved_DEU, final_achieved_FRA, final_achieved_AUT, final_achieved_ESP, final_achieved_GBR]"
   ]
  },
  {
   "cell_type": "code",
   "execution_count": 71,
   "id": "67491453",
   "metadata": {},
   "outputs": [
    {
     "name": "stdout",
     "output_type": "stream",
     "text": [
      "comparing:  DEU and  FRA\n",
      "p-value:  0.0\n",
      "We reject the null hypothesis: the difference is statistically significant\n",
      "\n",
      "-----------\n",
      "\n",
      "comparing:  DEU and  AUT\n",
      "p-value:  6.202061044608665e-286\n",
      "We reject the null hypothesis: the difference is statistically significant\n",
      "\n",
      "-----------\n",
      "\n",
      "comparing:  DEU and  ESP\n",
      "p-value:  3.031701712512057e-179\n",
      "We reject the null hypothesis: the difference is statistically significant\n",
      "\n",
      "-----------\n",
      "\n",
      "comparing:  DEU and  GBR\n",
      "p-value:  2.4816062242354975e-150\n",
      "We reject the null hypothesis: the difference is statistically significant\n",
      "\n",
      "-----------\n",
      "\n",
      "comparing:  FRA and  DEU\n",
      "p-value:  0.0\n",
      "We reject the null hypothesis: the difference is statistically significant\n",
      "\n",
      "-----------\n",
      "\n",
      "comparing:  FRA and  AUT\n",
      "p-value:  0.0\n",
      "We reject the null hypothesis: the difference is statistically significant\n",
      "\n",
      "-----------\n",
      "\n",
      "comparing:  FRA and  ESP\n",
      "p-value:  0.011193727636373897\n",
      "We reject the null hypothesis: the difference is statistically significant\n",
      "\n",
      "-----------\n",
      "\n",
      "comparing:  FRA and  GBR\n",
      "p-value:  1.912306703881325e-140\n",
      "We reject the null hypothesis: the difference is statistically significant\n",
      "\n",
      "-----------\n",
      "\n",
      "comparing:  AUT and  DEU\n",
      "p-value:  6.20206104460796e-286\n",
      "We reject the null hypothesis: the difference is statistically significant\n",
      "\n",
      "-----------\n",
      "\n",
      "comparing:  AUT and  FRA\n",
      "p-value:  0.0\n",
      "We reject the null hypothesis: the difference is statistically significant\n",
      "\n",
      "-----------\n",
      "\n",
      "comparing:  AUT and  ESP\n",
      "p-value:  8.166742739901584e-168\n",
      "We reject the null hypothesis: the difference is statistically significant\n",
      "\n",
      "-----------\n",
      "\n",
      "comparing:  AUT and  GBR\n",
      "p-value:  5.893873080642013e-61\n",
      "We reject the null hypothesis: the difference is statistically significant\n",
      "\n",
      "-----------\n",
      "\n",
      "comparing:  ESP and  DEU\n",
      "p-value:  3.03170171251154e-179\n",
      "We reject the null hypothesis: the difference is statistically significant\n",
      "\n",
      "-----------\n",
      "\n",
      "comparing:  ESP and  FRA\n",
      "p-value:  0.011193727636373923\n",
      "We reject the null hypothesis: the difference is statistically significant\n",
      "\n",
      "-----------\n",
      "\n",
      "comparing:  ESP and  AUT\n",
      "p-value:  8.166742739901584e-168\n",
      "We reject the null hypothesis: the difference is statistically significant\n",
      "\n",
      "-----------\n",
      "\n",
      "comparing:  ESP and  GBR\n",
      "p-value:  1.140509160515427e-99\n",
      "We reject the null hypothesis: the difference is statistically significant\n",
      "\n",
      "-----------\n",
      "\n",
      "comparing:  GBR and  DEU\n",
      "p-value:  2.4816062242354975e-150\n",
      "We reject the null hypothesis: the difference is statistically significant\n",
      "\n",
      "-----------\n",
      "\n",
      "comparing:  GBR and  FRA\n",
      "p-value:  1.912306703881325e-140\n",
      "We reject the null hypothesis: the difference is statistically significant\n",
      "\n",
      "-----------\n",
      "\n",
      "comparing:  GBR and  AUT\n",
      "p-value:  5.893873080642013e-61\n",
      "We reject the null hypothesis: the difference is statistically significant\n",
      "\n",
      "-----------\n",
      "\n",
      "comparing:  GBR and  ESP\n",
      "p-value:  1.140509160515427e-99\n",
      "We reject the null hypothesis: the difference is statistically significant\n",
      "\n",
      "-----------\n",
      "\n"
     ]
    }
   ],
   "source": [
    "for i in list_of_markets:\n",
    "    for j in list_of_markets:\n",
    "        if i.name != j.name:\n",
    "            print('comparing: ', i.name, 'and ', j.name)\n",
    "            mann_whitneyu_test(i, j)\n",
    "            print()\n",
    "            print('-----------')\n",
    "            print()\n",
    "        else:\n",
    "            pass"
   ]
  },
  {
   "cell_type": "markdown",
   "id": "dd9b0957",
   "metadata": {},
   "source": [
    "The total amount of time needed to achieve final stage of making first deposit is really different in any country"
   ]
  },
  {
   "cell_type": "markdown",
   "id": "ac043929",
   "metadata": {},
   "source": [
    "age data across countries is very interesting too"
   ]
  },
  {
   "cell_type": "code",
   "execution_count": 72,
   "id": "23515a53",
   "metadata": {},
   "outputs": [],
   "source": [
    "final_achieved_DEU =  final_achieved.query(\"market == 'DEU'\")['age']\n",
    "final_achieved_FRA =  final_achieved.query(\"market == 'FRA'\")['age']\n",
    "final_achieved_AUT =  final_achieved.query(\"market == 'AUT'\")['age']\n",
    "final_achieved_ESP =  final_achieved.query(\"market == 'ESP'\")['age']\n",
    "final_achieved_GBR =  final_achieved.query(\"market == 'GBR'\")['age']"
   ]
  },
  {
   "cell_type": "code",
   "execution_count": 73,
   "id": "e68df20b",
   "metadata": {},
   "outputs": [
    {
     "data": {
      "image/png": "[encoded data removed]",
      "text/plain": [
       "<Figure size 432x288 with 1 Axes>"
      ]
     },
     "metadata": {},
     "output_type": "display_data"
    }
   ],
   "source": [
    "with plt.style.context('seaborn-whitegrid'):\n",
    "    plt.hist(final_achieved_DEU, bins=20, alpha=0.5, label='DEU')\n",
    "    plt.hist(final_achieved_FRA, bins=20, alpha=0.5, label='FRA')\n",
    "    plt.hist(final_achieved_AUT, bins=20, alpha=0.5, label='AUT')\n",
    "    plt.hist(final_achieved_ESP, bins=20, alpha=0.5, label='ESP')\n",
    "    plt.hist(final_achieved_GBR, bins=20, alpha=0.5, label='GBR')\n",
    "    plt.legend(loc='upper right')\n",
    "    plt.title('Total time spend spread')\n",
    "    plt.xlabel('Age')\n",
    "    plt.ylabel('Number of record')\n",
    "plt.show()"
   ]
  },
  {
   "cell_type": "markdown",
   "id": "5428d052",
   "metadata": {},
   "source": [
    "Still the same pictire, majority of users are in age from 20 to 35 years"
   ]
  },
  {
   "cell_type": "code",
   "execution_count": 74,
   "id": "3b04ac00",
   "metadata": {},
   "outputs": [],
   "source": [
    "final_achieved_DEU.name = 'DEU'\n",
    "final_achieved_FRA.name = 'FRA'\n",
    "final_achieved_AUT.name = 'AUT'\n",
    "final_achieved_ESP.name = 'ESP'\n",
    "final_achieved_GBR.name = 'GBR'\n",
    "list_of_markets = [final_achieved_DEU, final_achieved_FRA, final_achieved_AUT, final_achieved_ESP, final_achieved_GBR]"
   ]
  },
  {
   "cell_type": "code",
   "execution_count": 75,
   "id": "b5c9d514",
   "metadata": {},
   "outputs": [
    {
     "name": "stdout",
     "output_type": "stream",
     "text": [
      "comparing:  DEU and  FRA\n",
      "p-value:  0.41331190070216095\n",
      "Cannot reject null hypothesis, no difference can be made\n",
      "\n",
      "-----------\n",
      "\n",
      "comparing:  DEU and  AUT\n",
      "p-value:  0.25780235274500485\n",
      "Cannot reject null hypothesis, no difference can be made\n",
      "\n",
      "-----------\n",
      "\n",
      "comparing:  DEU and  ESP\n",
      "p-value:  0.2388798904031859\n",
      "Cannot reject null hypothesis, no difference can be made\n",
      "\n",
      "-----------\n",
      "\n",
      "comparing:  DEU and  GBR\n",
      "p-value:  0.4222572477225344\n",
      "Cannot reject null hypothesis, no difference can be made\n",
      "\n",
      "-----------\n",
      "\n",
      "comparing:  FRA and  DEU\n",
      "p-value:  0.41331190070216095\n",
      "Cannot reject null hypothesis, no difference can be made\n",
      "\n",
      "-----------\n",
      "\n",
      "comparing:  FRA and  AUT\n",
      "p-value:  0.35996465842735176\n",
      "Cannot reject null hypothesis, no difference can be made\n",
      "\n",
      "-----------\n",
      "\n",
      "comparing:  FRA and  ESP\n",
      "p-value:  0.21654073687520758\n",
      "Cannot reject null hypothesis, no difference can be made\n",
      "\n",
      "-----------\n",
      "\n",
      "comparing:  FRA and  GBR\n",
      "p-value:  0.38174118340138863\n",
      "Cannot reject null hypothesis, no difference can be made\n",
      "\n",
      "-----------\n",
      "\n",
      "comparing:  AUT and  DEU\n",
      "p-value:  0.25780235274500485\n",
      "Cannot reject null hypothesis, no difference can be made\n",
      "\n",
      "-----------\n",
      "\n",
      "comparing:  AUT and  FRA\n",
      "p-value:  0.35996465842735176\n",
      "Cannot reject null hypothesis, no difference can be made\n",
      "\n",
      "-----------\n",
      "\n",
      "comparing:  AUT and  ESP\n",
      "p-value:  0.15339349545819575\n",
      "Cannot reject null hypothesis, no difference can be made\n",
      "\n",
      "-----------\n",
      "\n",
      "comparing:  AUT and  GBR\n",
      "p-value:  0.30232500961874453\n",
      "Cannot reject null hypothesis, no difference can be made\n",
      "\n",
      "-----------\n",
      "\n",
      "comparing:  ESP and  DEU\n",
      "p-value:  0.2388798904031859\n",
      "Cannot reject null hypothesis, no difference can be made\n",
      "\n",
      "-----------\n",
      "\n",
      "comparing:  ESP and  FRA\n",
      "p-value:  0.21654073687520758\n",
      "Cannot reject null hypothesis, no difference can be made\n",
      "\n",
      "-----------\n",
      "\n",
      "comparing:  ESP and  AUT\n",
      "p-value:  0.15339349545819575\n",
      "Cannot reject null hypothesis, no difference can be made\n",
      "\n",
      "-----------\n",
      "\n",
      "comparing:  ESP and  GBR\n",
      "p-value:  0.3874887511217852\n",
      "Cannot reject null hypothesis, no difference can be made\n",
      "\n",
      "-----------\n",
      "\n",
      "comparing:  GBR and  DEU\n",
      "p-value:  0.4222572477225344\n",
      "Cannot reject null hypothesis, no difference can be made\n",
      "\n",
      "-----------\n",
      "\n",
      "comparing:  GBR and  FRA\n",
      "p-value:  0.38174118340138863\n",
      "Cannot reject null hypothesis, no difference can be made\n",
      "\n",
      "-----------\n",
      "\n",
      "comparing:  GBR and  AUT\n",
      "p-value:  0.30232500961874453\n",
      "Cannot reject null hypothesis, no difference can be made\n",
      "\n",
      "-----------\n",
      "\n",
      "comparing:  GBR and  ESP\n",
      "p-value:  0.3874887511217852\n",
      "Cannot reject null hypothesis, no difference can be made\n",
      "\n",
      "-----------\n",
      "\n"
     ]
    }
   ],
   "source": [
    "for i in list_of_markets:\n",
    "    for j in list_of_markets:\n",
    "        if i.name != j.name:\n",
    "            print('comparing: ', i.name, 'and ', j.name)\n",
    "            mann_whitneyu_test(i, j)\n",
    "            print()\n",
    "            print('-----------')\n",
    "            print()\n",
    "        else:\n",
    "            pass"
   ]
  },
  {
   "cell_type": "markdown",
   "id": "e60f7a97",
   "metadata": {},
   "source": [
    "Statistically significant differance cannot be observed, while talking about age"
   ]
  },
  {
   "cell_type": "markdown",
   "id": "99b66cdc",
   "metadata": {},
   "source": [
    "## Conclusion"
   ]
  },
  {
   "cell_type": "markdown",
   "id": "7646c7ff",
   "metadata": {},
   "source": [
    "If we talk about general data: \n",
    "    \n",
    "   - the biggest decrease in amount of users going to the next step is happenng on a stage of *KYC*, if the other steps are keeping more then 70% of previous amount, *KYC* keeps only 61.6% \n",
    "\n",
    "   - to the end stage (*First Deposit*) only 31.9% of initial amount comes\n",
    "\n",
    "   - step, which keeps the biggest amount of users is *First Deposit*, it keeps 73.1%"
   ]
  },
  {
   "cell_type": "markdown",
   "id": "fe2a72b6",
   "metadata": {},
   "source": [
    "There were 46 ID, whos path to the final stage does't include all 4 steps. They were deleted"
   ]
  },
  {
   "cell_type": "markdown",
   "id": "de67b340",
   "metadata": {},
   "source": [
    "If we talk about platform categories: \n",
    "- Values show approximately similar numbers of conversion to the final stage of **first_deposit** for both of kinds of devices: based od IOS and Android. \n",
    "\n",
    "- while the difference in samples of devices is significant, the diffrence in conversion for both of them is very close - around 31.6-31.8%\n",
    "\n",
    "- like already was mentioned, the situations with two platforms are very similar, it also can be referred to overall trends of going through stages with keeping the same amount of users (in %, of course) \n",
    "\n",
    "- even the age and required time is very similar, at least at first glance\n",
    "- there are much more records for IOS in group of time spent for achieving final stage about 25-30 days\n",
    "- the difference between two platforms is really significant statistically in required time for achieving last stage"
   ]
  },
  {
   "cell_type": "markdown",
   "id": "65b6fd23",
   "metadata": {},
   "source": [
    "As for the channel:\n",
    "- convertion % is very similar in each channel\n",
    "- the most popular channel in absolut numbers - organic , list - paid_search\n",
    "- age and total spent time is also similar as it seems\n",
    "- channel type does't cause a significant change it total time for achieving final stage of N26 customer"
   ]
  },
  {
   "cell_type": "markdown",
   "id": "e6159df0",
   "metadata": {},
   "source": [
    "As for the country: \n",
    "- first of all, the biggest market is Germany with over 10000 users on first stage, in this country conversion to the last stage is also the best - 37%\n",
    "- the smallest market is Great Brittain, with only 1016 initial users and 25% of converted to the last stage\n",
    "- the poorest in convertion is a market of Spain, with only 18.4% converted users\n",
    "- here total required time is very different: less time needed in France and Spain (about 17-18 days) to convert to final stage, more then anywhere else in GB - 37 days\n",
    "- The total amount of time needed to achieve final stage of making first deposit is really *statistically different* in any country"
   ]
  },
  {
   "cell_type": "markdown",
   "id": "081ca3b0",
   "metadata": {},
   "source": [
    "Age doen't vary very much in any categories\n",
    "\n",
    "but we can still see, that the majority of users are in age from 20 to 35"
   ]
  },
  {
   "cell_type": "markdown",
   "id": "7768051f",
   "metadata": {},
   "source": [
    "## Advices for future improvement"
   ]
  },
  {
   "cell_type": "markdown",
   "id": "23323946",
   "metadata": {},
   "source": [
    "Ios/Android non-equality is not a very big problem, as Iphone is really very popular phone and very used by the targer audience of N26 - 20-35 years olders.\n",
    "\n",
    "What is really needed to be improoved, it is time passing from first initiated signing in to first deposit, especially in GB, maybe there are some obstackles in delivering cards?\n",
    "\n",
    "The poorest convertion rate is in Spain. Why? this should be discovered by sociological team, because all-the-way takes less time then in other countries, this is illogical.\n",
    "\n",
    "Maybe success of Germany should be tryed to be translated in realities of other countries?\n",
    "\n",
    "Online bank is easy to understand for younger generation, how it is possible to invite more elderly people to spread the cover of population?"
   ]
  },
  {
   "cell_type": "markdown",
   "id": "9872a48d",
   "metadata": {},
   "source": [
    "# Task 2:"
   ]
  },
  {
   "cell_type": "markdown",
   "id": "dcaa6585",
   "metadata": {},
   "source": [
    "A Product Manager (PM) has approached you for advice on running an A/B test in the\n",
    "sign-up step of the funnel (between sign_up_initiated and sign_up_completed ). They want\n",
    "to test swapping the order of the first two steps in the sign-up form, but they don't have much\n",
    "experience in running tests. Write-up a short experimental design which the PM can use as\n",
    "the basis for the experiment. This should include your recommendations on:\n",
    "1. the experimental setup and success criteria\n",
    "2. the required sample size & how long the experiment should be run for\n",
    "3. how to measure and interpret the results\n",
    "4. any other considerations the PM should keep in mind"
   ]
  },
  {
   "cell_type": "markdown",
   "id": "9c288863",
   "metadata": {},
   "source": [
    "The first step is to crate a hypothesis: \n",
    "\n",
    "$$ H0:  p = p0 $$\n",
    "$$ Ha:  p \\neq po $$\n",
    "\n",
    "where we predict some changes effect on our experiment group. It can be range of any numbers, from 2 to 100% and more. But being more realistic, lets stay on *3%*, from 71% of convertion to next stage to 74% "
   ]
  },
  {
   "cell_type": "markdown",
   "id": "720aefce",
   "metadata": {},
   "source": [
    "then we need to understand required samples sizes:   \n",
    "  there is a specific formula for that, but lets be honest, not a lot of people wants to go very deep in it, lets just put it inside code to do everything instead of us. "
   ]
  },
  {
   "cell_type": "markdown",
   "id": "5765cb02",
   "metadata": {},
   "source": [
    "But before that, lets also notice, that there pretty stable values, that we also use in this calculation: \n",
    "1. confidence level $$ a = 0.05 $$\n",
    "2. power of test, which is normally set on level 0.8 $$ 1 - β $$"
   ]
  },
  {
   "cell_type": "code",
   "execution_count": 76,
   "id": "72871a22",
   "metadata": {},
   "outputs": [],
   "source": [
    "import statsmodels.stats.api as sms"
   ]
  },
  {
   "cell_type": "code",
   "execution_count": 77,
   "id": "f3bd40fa",
   "metadata": {},
   "outputs": [
    {
     "name": "stdout",
     "output_type": "stream",
     "text": [
      "3475\n"
     ]
    }
   ],
   "source": [
    "effect_size = sms.proportion_effectsize(0.71, 0.74)\n",
    "\n",
    "required_n = sms.NormalIndPower().solve_power(\n",
    "    effect_size,\n",
    "    power = 0.8,\n",
    "    alpha = 0.05,\n",
    "    ratio = 1)\n",
    "required_n = round(required_n)\n",
    "print(required_n)"
   ]
  },
  {
   "cell_type": "markdown",
   "id": "1eebee1c",
   "metadata": {},
   "source": [
    "3475 is perfect size for each group in A/B test."
   ]
  },
  {
   "cell_type": "markdown",
   "id": "c0c72616",
   "metadata": {},
   "source": [
    "then, after splitting our respondents into two groups: control and experiment, we should compare two groups results by testing our hypothesis, whether the difference is statiscally different or it is not. "
   ]
  },
  {
   "cell_type": "markdown",
   "id": "0f3076b7",
   "metadata": {},
   "source": [
    "Normally Z-Test is used for such kind of tasks, i wont go deep into explanation of it, just to know, that our task can be done via Python.  "
   ]
  },
  {
   "cell_type": "markdown",
   "id": "94b65a18",
   "metadata": {},
   "source": [
    "If the result of test (**p-value**) is above our level of confidence, then we cannot reject null hypothesis, which means that new design doesn't affect covertion rate, and the same works in opposite direction\n",
    "\n",
    " if  $$p-value  > a$$ H0 is not rejected "
   ]
  },
  {
   "cell_type": "markdown",
   "id": "26487de9",
   "metadata": {},
   "source": [
    "There are two simple rules for conducting a split test:\n",
    "\n",
    "1. Don't stop the test until you reach the minimum sample size that will make the results statistically significant.\n",
    "2. Do not stop the test until at least one complete business cycle has passed. For example, if the average time from the first entry to the first deposit in the application is three weeks, then allocate three weeks for the test."
   ]
  },
  {
   "cell_type": "code",
   "execution_count": null,
   "id": "8fb3914d",
   "metadata": {},
   "outputs": [],
   "source": []
  }
 ],
 "metadata": {
  "kernelspec": {
   "display_name": "Python 3",
   "language": "python",
   "name": "python3"
  },
  "language_info": {
   "codemirror_mode": {
    "name": "ipython",
    "version": 3
   },
   "file_extension": ".py",
   "mimetype": "text/x-python",
   "name": "python",
   "nbconvert_exporter": "python",
   "pygments_lexer": "ipython3",
   "version": "3.8.8"
  }
 },
 "nbformat": 4,
 "nbformat_minor": 5
}
